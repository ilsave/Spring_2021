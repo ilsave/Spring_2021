{
  "nbformat": 4,
  "nbformat_minor": 0,
  "metadata": {
    "colab": {
      "name": "Untitled0.ipynb",
      "provenance": [],
      "collapsed_sections": []
    },
    "kernelspec": {
      "name": "python3",
      "display_name": "Python 3"
    },
    "language_info": {
      "name": "python"
    }
  },
  "cells": [
    {
      "cell_type": "code",
      "metadata": {
        "id": "z_Yn12w4P5yF"
      },
      "source": [
        "import numpy as np\n",
        "# Подключаем модель нейронных сетей\n",
        "from tensorflow.keras.models import Sequential\n",
        "# Подключаем слои\n",
        "from tensorflow.keras.layers import Flatten, Dense, Dropout\n",
        "from tensorflow.keras import utils\n",
        "# Подключаем набор данных\n",
        "from tensorflow.keras.datasets import fashion_mnist\n",
        "# Подключаем модель сети согласно варианту\n",
        "from tensorflow.keras.applications import ResNet50V2\n",
        "from tensorflow.keras.preprocessing.image import img_to_array, array_to_img"
      ],
      "execution_count": 1,
      "outputs": []
    },
    {
      "cell_type": "code",
      "metadata": {
        "id": "P3L5wDJQP9-B",
        "colab": {
          "base_uri": "https://localhost:8080/"
        },
        "outputId": "79d94169-aa1c-48ac-e2e0-b354ba82e8bc"
      },
      "source": [
        "# Загружаем тренировочные и тестовые данные\n",
        "(x_train, y_train), (x_test, y_test) = fashion_mnist.load_data()"
      ],
      "execution_count": 2,
      "outputs": [
        {
          "output_type": "stream",
          "text": [
            "Downloading data from https://storage.googleapis.com/tensorflow/tf-keras-datasets/train-labels-idx1-ubyte.gz\n",
            "32768/29515 [=================================] - 0s 0us/step\n",
            "Downloading data from https://storage.googleapis.com/tensorflow/tf-keras-datasets/train-images-idx3-ubyte.gz\n",
            "26427392/26421880 [==============================] - 0s 0us/step\n",
            "Downloading data from https://storage.googleapis.com/tensorflow/tf-keras-datasets/t10k-labels-idx1-ubyte.gz\n",
            "8192/5148 [===============================================] - 0s 0us/step\n",
            "Downloading data from https://storage.googleapis.com/tensorflow/tf-keras-datasets/t10k-images-idx3-ubyte.gz\n",
            "4423680/4422102 [==============================] - 0s 0us/step\n"
          ],
          "name": "stdout"
        }
      ]
    },
    {
      "cell_type": "code",
      "metadata": {
        "id": "TwQ2S6BmQD1Y"
      },
      "source": [
        "# Преобразуем изображения в 3 канала\n",
        "x_train = np.dstack([x_train]*3)\n",
        "x_test = np.dstack([x_test]*3)\n",
        "# Измененяем формы изображений согласно тензорному формату\n",
        "x_train = x_train.reshape(-1,28,28,3)\n",
        "x_test = x_test.reshape(-1,28,28,3)\n",
        "# Измененяем размер изображений (48x48) в соответствии с требованиями модели сети\n",
        "x_train = np.asarray([img_to_array(array_to_img(im, scale=False).resize((48, 48))) for im in x_train])\n",
        "x_test = np.asarray([img_to_array(array_to_img(im, scale=False).resize((48, 48))) for im in x_test])"
      ],
      "execution_count": 3,
      "outputs": []
    },
    {
      "cell_type": "code",
      "metadata": {
        "id": "dbJaXpMGQS6a"
      },
      "source": [
        "# Нормализуем данные\n",
        "x_train = x_train.astype('float32')\n",
        "x_test = x_test.astype('float32')\n",
        "x_train /= 255\n",
        "x_test /= 255"
      ],
      "execution_count": 4,
      "outputs": []
    },
    {
      "cell_type": "code",
      "metadata": {
        "id": "151fVIv7QYKB"
      },
      "source": [
        "# Преобразуем метки в категории\n",
        "y_train = utils.to_categorical(y_train,10)\n",
        "y_test = utils.to_categorical(y_test,10)"
      ],
      "execution_count": 5,
      "outputs": []
    },
    {
      "cell_type": "code",
      "metadata": {
        "colab": {
          "base_uri": "https://localhost:8080/"
        },
        "id": "7Dvz6qlPQddl",
        "outputId": "e45b4bdc-425e-435a-f0c7-0469543ff920"
      },
      "source": [
        "# Создаем экземпляр модели сети\n",
        "mobileNet = ResNet50V2(weights='imagenet', include_top=False, input_shape=(48,48,3))\n",
        "# Без обучения сверточной части сети\n",
        "mobileNet.trainable = False\n",
        "\n",
        "# Добавляем слои\n",
        "model = Sequential()\n",
        "# Добавление сверточного слоя\n",
        "model.add(mobileNet)\n",
        "# Преобразование двумерного массива в одномерный\n",
        "model.add(Flatten())\n",
        "# Добавление полносвязного слоя\n",
        "# На вход 700 нейронов\n",
        "model.add(Dense(700, activation='relu'))\n",
        "# Слой регуляризации\n",
        "model.add(Dropout(0.5))\n",
        "# На выход 10 нейронов\n",
        "model.add(Dense(10, activation='softmax'))"
      ],
      "execution_count": 6,
      "outputs": [
        {
          "output_type": "stream",
          "text": [
            "Downloading data from https://storage.googleapis.com/tensorflow/keras-applications/resnet/resnet50v2_weights_tf_dim_ordering_tf_kernels_notop.h5\n",
            "94674944/94668760 [==============================] - 1s 0us/step\n"
          ],
          "name": "stdout"
        }
      ]
    },
    {
      "cell_type": "code",
      "metadata": {
        "id": "oDxD2xbhQrf9"
      },
      "source": [
        "# Компилируем модель\n",
        "model.compile(loss='categorical_crossentropy',\n",
        "              optimizer='SGD', \n",
        "              metrics=['accuracy'])"
      ],
      "execution_count": 7,
      "outputs": []
    },
    {
      "cell_type": "code",
      "metadata": {
        "colab": {
          "base_uri": "https://localhost:8080/"
        },
        "id": "B5DVFLKxQ48Z",
        "outputId": "e16d3085-f8af-4ed1-8fe0-1d2ac00ee5bb"
      },
      "source": [
        "# Выводим модели\n",
        "print(model.summary())"
      ],
      "execution_count": 8,
      "outputs": [
        {
          "output_type": "stream",
          "text": [
            "Model: \"sequential\"\n",
            "_________________________________________________________________\n",
            "Layer (type)                 Output Shape              Param #   \n",
            "=================================================================\n",
            "resnet50v2 (Functional)      (None, 2, 2, 2048)        23564800  \n",
            "_________________________________________________________________\n",
            "flatten (Flatten)            (None, 8192)              0         \n",
            "_________________________________________________________________\n",
            "dense (Dense)                (None, 700)               5735100   \n",
            "_________________________________________________________________\n",
            "dropout (Dropout)            (None, 700)               0         \n",
            "_________________________________________________________________\n",
            "dense_1 (Dense)              (None, 10)                7010      \n",
            "=================================================================\n",
            "Total params: 29,306,910\n",
            "Trainable params: 5,742,110\n",
            "Non-trainable params: 23,564,800\n",
            "_________________________________________________________________\n",
            "None\n"
          ],
          "name": "stdout"
        }
      ]
    },
    {
      "cell_type": "code",
      "metadata": {
        "colab": {
          "base_uri": "https://localhost:8080/"
        },
        "id": "xlspOWHFQ9hC",
        "outputId": "8e3a02f2-1401-4eab-df33-c94b93186f21"
      },
      "source": [
        "# Обучаем нейронную сеть\n",
        "model.fit(x_train, y_train, \n",
        "          batch_size=250, \n",
        "          epochs=12, \n",
        "          validation_split=0.1,\n",
        "          shuffle=True)"
      ],
      "execution_count": 9,
      "outputs": [
        {
          "output_type": "stream",
          "text": [
            "Epoch 1/12\n",
            "216/216 [==============================] - 400s 2s/step - loss: 1.2736 - accuracy: 0.6886 - val_loss: 0.5690 - val_accuracy: 0.7950\n",
            "Epoch 2/12\n",
            "216/216 [==============================] - 396s 2s/step - loss: 0.6277 - accuracy: 0.7764 - val_loss: 0.5120 - val_accuracy: 0.8152\n",
            "Epoch 3/12\n",
            "216/216 [==============================] - 395s 2s/step - loss: 0.5670 - accuracy: 0.7954 - val_loss: 0.4931 - val_accuracy: 0.8197\n",
            "Epoch 4/12\n",
            "216/216 [==============================] - 396s 2s/step - loss: 0.5301 - accuracy: 0.8087 - val_loss: 0.4634 - val_accuracy: 0.8278\n",
            "Epoch 5/12\n",
            "216/216 [==============================] - 396s 2s/step - loss: 0.5054 - accuracy: 0.8172 - val_loss: 0.4648 - val_accuracy: 0.8277\n",
            "Epoch 6/12\n",
            "216/216 [==============================] - 396s 2s/step - loss: 0.4893 - accuracy: 0.8213 - val_loss: 0.4455 - val_accuracy: 0.8342\n",
            "Epoch 7/12\n",
            "216/216 [==============================] - 396s 2s/step - loss: 0.4746 - accuracy: 0.8261 - val_loss: 0.4549 - val_accuracy: 0.8280\n",
            "Epoch 8/12\n",
            "216/216 [==============================] - 396s 2s/step - loss: 0.4575 - accuracy: 0.8334 - val_loss: 0.4423 - val_accuracy: 0.8333\n",
            "Epoch 9/12\n",
            "216/216 [==============================] - 395s 2s/step - loss: 0.4475 - accuracy: 0.8356 - val_loss: 0.4330 - val_accuracy: 0.8420\n",
            "Epoch 10/12\n",
            "216/216 [==============================] - 393s 2s/step - loss: 0.4392 - accuracy: 0.8387 - val_loss: 0.4228 - val_accuracy: 0.8412\n",
            "Epoch 11/12\n",
            "216/216 [==============================] - 393s 2s/step - loss: 0.4300 - accuracy: 0.8421 - val_loss: 0.4173 - val_accuracy: 0.8462\n",
            "Epoch 12/12\n",
            "216/216 [==============================] - 393s 2s/step - loss: 0.4210 - accuracy: 0.8455 - val_loss: 0.4098 - val_accuracy: 0.8487\n"
          ],
          "name": "stdout"
        },
        {
          "output_type": "execute_result",
          "data": {
            "text/plain": [
              "<tensorflow.python.keras.callbacks.History at 0x7f0d7476c410>"
            ]
          },
          "metadata": {
            "tags": []
          },
          "execution_count": 9
        }
      ]
    },
    {
      "cell_type": "code",
      "metadata": {
        "colab": {
          "base_uri": "https://localhost:8080/"
        },
        "id": "IZD2mN20RClC",
        "outputId": "b2f7e851-4a4b-4a90-c882-7bf78107b6f4"
      },
      "source": [
        "# Проверяем точность модели на тестовой выборке\n",
        "scores = model.evaluate(x_test, y_test, verbose=0)\n",
        "print('Доля верных ответов на тестовых данных, в процентах:', round(scores[1]*100, 4))"
      ],
      "execution_count": 10,
      "outputs": [
        {
          "output_type": "stream",
          "text": [
            "Доля верных ответов на тестовых данных, в процентах: 84.11\n"
          ],
          "name": "stdout"
        }
      ]
    },
    {
      "cell_type": "code",
      "metadata": {
        "id": "d-M0P_fxx2zM"
      },
      "source": [
        ""
      ],
      "execution_count": null,
      "outputs": []
    }
  ]
}