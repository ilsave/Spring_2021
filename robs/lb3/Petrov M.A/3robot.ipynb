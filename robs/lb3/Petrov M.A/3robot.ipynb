{
 "cells": [
  {
   "cell_type": "code",
   "execution_count": null,
   "metadata": {},
   "outputs": [],
   "source": [
    "# Подключение модулей\n",
    "from keras.models import Sequential\n",
    "from keras.layers.core import Activation, Flatten, Dense, Dropout\n",
    "from keras.layers.convolutional import Convolution2D, MaxPooling2D, ZeroPadding2D\n",
    "from tensorflow.python.keras.preprocessing.image import ImageDataGenerator\n",
    "from keras.applications.vgg16 import VGG16, preprocess_input\n",
    "from keras.datasets import cifar10\n",
    "from keras.utils import np_utils\n",
    "from keras.preprocessing.image import ImageDataGenerator\n",
    "from keras.optimizers import SGD, Adam\n",
    "import cv2, numpy as np\n",
    "import keras"
   ]
  },
  {
   "cell_type": "code",
   "execution_count": null,
   "metadata": {},
   "outputs": [],
   "source": [
    "#загрузили данные\n",
    "(x_train, y_train), (x_test, y_test) = cifar10.load_data()"
   ]
  },
  {
   "cell_type": "code",
   "execution_count": null,
   "metadata": {},
   "outputs": [],
   "source": [
    "# Размер изображений\n",
    "img_width, img_height = 32, 32\n",
    "# Размер мини-выборки\n",
    "batch_size = 100\n",
    "# Кол-во изображений для обучения\n",
    "nb_train_samples = 50000\n",
    "# Кол-во изображений для теста\n",
    "nb_test_samples = 10000"
   ]
  },
  {
   "cell_type": "code",
   "execution_count": null,
   "metadata": {},
   "outputs": [],
   "source": [
    "# normalize inputs from 0-255 to 0.0-1.0\n",
    "x_train = x_train.astype('float32')\n",
    "x_test = x_test.astype('float32')\n",
    "x_train = x_train / 255.0\n",
    "x_test = x_test / 255.0\n",
    "\n",
    "# one hot encode outputs\n",
    "# one hot encode outputs\n",
    "y_train = np_utils.to_categorical(y_train)\n",
    "y_test = np_utils.to_categorical(y_test)\n",
    "num_classes = y_test.shape[1]"
   ]
  },
  {
   "cell_type": "code",
   "execution_count": null,
   "metadata": {},
   "outputs": [],
   "source": [
    "# Создание экземпляра модели сети VGG16\n",
    "vgg16_net = VGG16(weights='imagenet', include_top=False, input_shape=(img_width, img_height, 3))\n",
    "# weights - веса предварительно обученной сети\n",
    "# include_top = false означает, что мы загружаем только сверточную часть сети, без квалификационной\n",
    "# input_shape - размер тензора\n",
    "\n",
    "# Сверточную часть сети обучать не надо\n",
    "vgg16_net.trainable = True\n",
    "trainable = False\n",
    "for layer in vgg16_net.layers:\n",
    "  if layer.name == 'block1_conv1':\n",
    "    trainable = True\n",
    "  layer.trainable = trainable\n",
    "\n",
    "vgg16_net.summary()"
   ]
  },
  {
   "cell_type": "code",
   "execution_count": null,
   "metadata": {},
   "outputs": [],
   "source": [
    "# Создание модели составной сети\n",
    "model = Sequential()\n",
    "# Добавляем сверточные слои\n",
    "model.add(vgg16_net)\n",
    "# Преобразуем двумерный массив vgg16 в одномерный\n",
    "model.add(Flatten())\n",
    "# Полносвязный слой\n",
    "model.add(Dense(256, activation='relu'))\n",
    "# Слой регуляризации (для предотвращения переобучения)\n",
    "model.add(Dropout(0.5))\n",
    "# Кол-во классов\n",
    "model.add(Dense(num_classes, activation='softmax'))\n",
    "model.summary()"
   ]
  },
  {
   "cell_type": "code",
   "execution_count": null,
   "metadata": {},
   "outputs": [],
   "source": [
    "# Компилируем составную сеть   'SGD'\n",
    "# opt = keras.optimizers.rmsprop(lr=0.0001, decay=1e-6)# Инициализировать оптимизатор RMSprop\n",
    "epochs = 20\n",
    "lrate = 0.001\n",
    "decay = lrate/epochs\n",
    "sgd = SGD(lr=lrate, momentum=0.9, decay=decay, nesterov=False) #Adam(lr=1e-5)\n",
    "model.compile(loss='categorical_crossentropy',\n",
    "              optimizer=sgd, \n",
    "              metrics=['accuracy'])"
   ]
  },
  {
   "cell_type": "code",
   "execution_count": null,
   "metadata": {},
   "outputs": [],
   "source": [
    "model.fit(x_train, y_train, validation_data=(x_test, y_test), epochs = epochs, batch_size=batch_size)"
   ]
  },
  {
   "cell_type": "code",
   "execution_count": null,
   "metadata": {},
   "outputs": [],
   "source": [
    "# Final evaluation of the model\n",
    "scores = model.evaluate(x_test, y_test, verbose=0)\n",
    "print(\"Accuracy: %.2f%%\" % (scores[1]*100))"
   ]
  }
 ],
 "metadata": {
  "kernelspec": {
   "display_name": "Python 3",
   "language": "python",
   "name": "python3"
  },
  "language_info": {
   "codemirror_mode": {
    "name": "ipython",
    "version": 3
   },
   "file_extension": ".py",
   "mimetype": "text/x-python",
   "name": "python",
   "nbconvert_exporter": "python",
   "pygments_lexer": "ipython3",
   "version": "3.8.2"
  }
 },
 "nbformat": 4,
 "nbformat_minor": 4
}
