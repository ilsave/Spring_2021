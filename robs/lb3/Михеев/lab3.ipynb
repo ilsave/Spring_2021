{
  "nbformat": 4,
  "nbformat_minor": 0,
  "metadata": {
    "colab": {
      "name": "lab3.ipynb",
      "provenance": [],
      "collapsed_sections": []
    },
    "kernelspec": {
      "name": "python3",
      "display_name": "Python 3"
    },
    "language_info": {
      "name": "python"
    },
    "accelerator": "GPU"
  },
  "cells": [
    {
      "cell_type": "code",
      "metadata": {
        "id": "oeDvZBbIOl8-"
      },
      "source": [
        "import keras\n",
        "import tensorflow as tf\n",
        "from tensorflow.python.keras.preprocessing.image import ImageDataGenerator\n",
        "from keras.applications.mobilenet import MobileNet, preprocess_input\n",
        "from keras.models import Sequential\n",
        "from keras.layers.core import Flatten, Dense, Dropout"
      ],
      "execution_count": null,
      "outputs": []
    },
    {
      "cell_type": "code",
      "metadata": {
        "colab": {
          "base_uri": "https://localhost:8080/"
        },
        "id": "L46vcvlQT-Qj",
        "outputId": "2ee27e1d-a025-44ea-d053-0c417bb455e1"
      },
      "source": [
        "# Подключение Google Диска\n",
        "from google.colab import drive\n",
        "drive.mount('/content/drive')"
      ],
      "execution_count": null,
      "outputs": [
        {
          "output_type": "stream",
          "text": [
            "Mounted at /content/drive\n"
          ],
          "name": "stdout"
        }
      ]
    },
    {
      "cell_type": "code",
      "metadata": {
        "id": "SoQ3yNR0UyzL",
        "colab": {
          "base_uri": "https://localhost:8080/"
        },
        "outputId": "f1c933a2-03d0-4785-d19e-39749e20a9ec"
      },
      "source": [
        "# Пути к наборам данных\n",
        "train_dir = '/content/drive/MyDrive/Keras/train'\n",
        "test_dir = '/content/drive/MyDrive/Keras/test' \n",
        "img_width, img_height = 500, 500\n",
        "# Размер выборки\n",
        "batch_size = 32\n",
        "nb_train_samples = 1034\n",
        "nb_test_samples = 133\n"
      ],
      "execution_count": null,
      "outputs": [
        {
          "output_type": "stream",
          "text": [
            "<built-in method format of str object at 0x7fd2e8cc1e70>\n",
            "<built-in method format of str object at 0x7fd2e8cc1ed0>\n"
          ],
          "name": "stdout"
        }
      ]
    },
    {
      "cell_type": "code",
      "metadata": {
        "colab": {
          "base_uri": "https://localhost:8080/"
        },
        "id": "Kc0UiwjpbZgb",
        "outputId": "d16eb801-3d76-459e-bd5a-9064b344ebbb"
      },
      "source": [
        "# Создание генератора изображений\n",
        "datagen = ImageDataGenerator(rescale=1. / 255)\n",
        "\n",
        "train_generator = datagen.flow_from_directory(\n",
        "    train_dir,\n",
        "    target_size=(img_width, img_height),\n",
        "    batch_size=batch_size,\n",
        "    class_mode='categorical')\n",
        "\n",
        "test_generator = datagen.flow_from_directory(\n",
        "    test_dir,\n",
        "    target_size=(img_width, img_height),\n",
        "    batch_size=batch_size,\n",
        "    class_mode='categorical')"
      ],
      "execution_count": null,
      "outputs": [
        {
          "output_type": "stream",
          "text": [
            "Found 1034 images belonging to 3 classes.\n",
            "Found 128 images belonging to 3 classes.\n"
          ],
          "name": "stdout"
        }
      ]
    },
    {
      "cell_type": "code",
      "metadata": {
        "colab": {
          "base_uri": "https://localhost:8080/"
        },
        "id": "8u_S5wwrb1Mg",
        "outputId": "20c3a43c-a0a2-4141-cc76-65bc8bc5a030"
      },
      "source": [
        "# Создание экземпляра модели сети MobileNet\n",
        "Mobile_Net = MobileNet(\n",
        "    weights='imagenet',\n",
        "    include_top=False,\n",
        "    input_shape=(img_width, img_height, 3)\n",
        ")\n",
        "\n",
        "# include_top : следует ли включать полностью подключенный уровень в верхнюю часть сети.\n",
        "# weights : «imagenet» (предварительное обучение в ImageNet) или путь к загружаемому файлу весов.   \n",
        "\n",
        "# Сверточная часть сети\n",
        "Mobile_Net.trainable = True\n",
        "trainable = False\n",
        "for layer in Mobile_Net.layers:\n",
        "  if layer.name == 'conv_dw_13':\n",
        "    trainable = True\n",
        "  layer.trainable = trainable\n",
        "\n",
        "Mobile_Net.summary()"
      ],
      "execution_count": null,
      "outputs": [
        {
          "output_type": "stream",
          "text": [
            "WARNING:tensorflow:`input_shape` is undefined or non-square, or `rows` is not in [128, 160, 192, 224]. Weights for input shape (224, 224) will be loaded as the default.\n",
            "Model: \"mobilenet_1.00_224\"\n",
            "_________________________________________________________________\n",
            "Layer (type)                 Output Shape              Param #   \n",
            "=================================================================\n",
            "input_15 (InputLayer)        [(None, 500, 500, 3)]     0         \n",
            "_________________________________________________________________\n",
            "conv1 (Conv2D)               (None, 250, 250, 32)      864       \n",
            "_________________________________________________________________\n",
            "conv1_bn (BatchNormalization (None, 250, 250, 32)      128       \n",
            "_________________________________________________________________\n",
            "conv1_relu (ReLU)            (None, 250, 250, 32)      0         \n",
            "_________________________________________________________________\n",
            "conv_dw_1 (DepthwiseConv2D)  (None, 250, 250, 32)      288       \n",
            "_________________________________________________________________\n",
            "conv_dw_1_bn (BatchNormaliza (None, 250, 250, 32)      128       \n",
            "_________________________________________________________________\n",
            "conv_dw_1_relu (ReLU)        (None, 250, 250, 32)      0         \n",
            "_________________________________________________________________\n",
            "conv_pw_1 (Conv2D)           (None, 250, 250, 64)      2048      \n",
            "_________________________________________________________________\n",
            "conv_pw_1_bn (BatchNormaliza (None, 250, 250, 64)      256       \n",
            "_________________________________________________________________\n",
            "conv_pw_1_relu (ReLU)        (None, 250, 250, 64)      0         \n",
            "_________________________________________________________________\n",
            "conv_pad_2 (ZeroPadding2D)   (None, 251, 251, 64)      0         \n",
            "_________________________________________________________________\n",
            "conv_dw_2 (DepthwiseConv2D)  (None, 125, 125, 64)      576       \n",
            "_________________________________________________________________\n",
            "conv_dw_2_bn (BatchNormaliza (None, 125, 125, 64)      256       \n",
            "_________________________________________________________________\n",
            "conv_dw_2_relu (ReLU)        (None, 125, 125, 64)      0         \n",
            "_________________________________________________________________\n",
            "conv_pw_2 (Conv2D)           (None, 125, 125, 128)     8192      \n",
            "_________________________________________________________________\n",
            "conv_pw_2_bn (BatchNormaliza (None, 125, 125, 128)     512       \n",
            "_________________________________________________________________\n",
            "conv_pw_2_relu (ReLU)        (None, 125, 125, 128)     0         \n",
            "_________________________________________________________________\n",
            "conv_dw_3 (DepthwiseConv2D)  (None, 125, 125, 128)     1152      \n",
            "_________________________________________________________________\n",
            "conv_dw_3_bn (BatchNormaliza (None, 125, 125, 128)     512       \n",
            "_________________________________________________________________\n",
            "conv_dw_3_relu (ReLU)        (None, 125, 125, 128)     0         \n",
            "_________________________________________________________________\n",
            "conv_pw_3 (Conv2D)           (None, 125, 125, 128)     16384     \n",
            "_________________________________________________________________\n",
            "conv_pw_3_bn (BatchNormaliza (None, 125, 125, 128)     512       \n",
            "_________________________________________________________________\n",
            "conv_pw_3_relu (ReLU)        (None, 125, 125, 128)     0         \n",
            "_________________________________________________________________\n",
            "conv_pad_4 (ZeroPadding2D)   (None, 126, 126, 128)     0         \n",
            "_________________________________________________________________\n",
            "conv_dw_4 (DepthwiseConv2D)  (None, 62, 62, 128)       1152      \n",
            "_________________________________________________________________\n",
            "conv_dw_4_bn (BatchNormaliza (None, 62, 62, 128)       512       \n",
            "_________________________________________________________________\n",
            "conv_dw_4_relu (ReLU)        (None, 62, 62, 128)       0         \n",
            "_________________________________________________________________\n",
            "conv_pw_4 (Conv2D)           (None, 62, 62, 256)       32768     \n",
            "_________________________________________________________________\n",
            "conv_pw_4_bn (BatchNormaliza (None, 62, 62, 256)       1024      \n",
            "_________________________________________________________________\n",
            "conv_pw_4_relu (ReLU)        (None, 62, 62, 256)       0         \n",
            "_________________________________________________________________\n",
            "conv_dw_5 (DepthwiseConv2D)  (None, 62, 62, 256)       2304      \n",
            "_________________________________________________________________\n",
            "conv_dw_5_bn (BatchNormaliza (None, 62, 62, 256)       1024      \n",
            "_________________________________________________________________\n",
            "conv_dw_5_relu (ReLU)        (None, 62, 62, 256)       0         \n",
            "_________________________________________________________________\n",
            "conv_pw_5 (Conv2D)           (None, 62, 62, 256)       65536     \n",
            "_________________________________________________________________\n",
            "conv_pw_5_bn (BatchNormaliza (None, 62, 62, 256)       1024      \n",
            "_________________________________________________________________\n",
            "conv_pw_5_relu (ReLU)        (None, 62, 62, 256)       0         \n",
            "_________________________________________________________________\n",
            "conv_pad_6 (ZeroPadding2D)   (None, 63, 63, 256)       0         \n",
            "_________________________________________________________________\n",
            "conv_dw_6 (DepthwiseConv2D)  (None, 31, 31, 256)       2304      \n",
            "_________________________________________________________________\n",
            "conv_dw_6_bn (BatchNormaliza (None, 31, 31, 256)       1024      \n",
            "_________________________________________________________________\n",
            "conv_dw_6_relu (ReLU)        (None, 31, 31, 256)       0         \n",
            "_________________________________________________________________\n",
            "conv_pw_6 (Conv2D)           (None, 31, 31, 512)       131072    \n",
            "_________________________________________________________________\n",
            "conv_pw_6_bn (BatchNormaliza (None, 31, 31, 512)       2048      \n",
            "_________________________________________________________________\n",
            "conv_pw_6_relu (ReLU)        (None, 31, 31, 512)       0         \n",
            "_________________________________________________________________\n",
            "conv_dw_7 (DepthwiseConv2D)  (None, 31, 31, 512)       4608      \n",
            "_________________________________________________________________\n",
            "conv_dw_7_bn (BatchNormaliza (None, 31, 31, 512)       2048      \n",
            "_________________________________________________________________\n",
            "conv_dw_7_relu (ReLU)        (None, 31, 31, 512)       0         \n",
            "_________________________________________________________________\n",
            "conv_pw_7 (Conv2D)           (None, 31, 31, 512)       262144    \n",
            "_________________________________________________________________\n",
            "conv_pw_7_bn (BatchNormaliza (None, 31, 31, 512)       2048      \n",
            "_________________________________________________________________\n",
            "conv_pw_7_relu (ReLU)        (None, 31, 31, 512)       0         \n",
            "_________________________________________________________________\n",
            "conv_dw_8 (DepthwiseConv2D)  (None, 31, 31, 512)       4608      \n",
            "_________________________________________________________________\n",
            "conv_dw_8_bn (BatchNormaliza (None, 31, 31, 512)       2048      \n",
            "_________________________________________________________________\n",
            "conv_dw_8_relu (ReLU)        (None, 31, 31, 512)       0         \n",
            "_________________________________________________________________\n",
            "conv_pw_8 (Conv2D)           (None, 31, 31, 512)       262144    \n",
            "_________________________________________________________________\n",
            "conv_pw_8_bn (BatchNormaliza (None, 31, 31, 512)       2048      \n",
            "_________________________________________________________________\n",
            "conv_pw_8_relu (ReLU)        (None, 31, 31, 512)       0         \n",
            "_________________________________________________________________\n",
            "conv_dw_9 (DepthwiseConv2D)  (None, 31, 31, 512)       4608      \n",
            "_________________________________________________________________\n",
            "conv_dw_9_bn (BatchNormaliza (None, 31, 31, 512)       2048      \n",
            "_________________________________________________________________\n",
            "conv_dw_9_relu (ReLU)        (None, 31, 31, 512)       0         \n",
            "_________________________________________________________________\n",
            "conv_pw_9 (Conv2D)           (None, 31, 31, 512)       262144    \n",
            "_________________________________________________________________\n",
            "conv_pw_9_bn (BatchNormaliza (None, 31, 31, 512)       2048      \n",
            "_________________________________________________________________\n",
            "conv_pw_9_relu (ReLU)        (None, 31, 31, 512)       0         \n",
            "_________________________________________________________________\n",
            "conv_dw_10 (DepthwiseConv2D) (None, 31, 31, 512)       4608      \n",
            "_________________________________________________________________\n",
            "conv_dw_10_bn (BatchNormaliz (None, 31, 31, 512)       2048      \n",
            "_________________________________________________________________\n",
            "conv_dw_10_relu (ReLU)       (None, 31, 31, 512)       0         \n",
            "_________________________________________________________________\n",
            "conv_pw_10 (Conv2D)          (None, 31, 31, 512)       262144    \n",
            "_________________________________________________________________\n",
            "conv_pw_10_bn (BatchNormaliz (None, 31, 31, 512)       2048      \n",
            "_________________________________________________________________\n",
            "conv_pw_10_relu (ReLU)       (None, 31, 31, 512)       0         \n",
            "_________________________________________________________________\n",
            "conv_dw_11 (DepthwiseConv2D) (None, 31, 31, 512)       4608      \n",
            "_________________________________________________________________\n",
            "conv_dw_11_bn (BatchNormaliz (None, 31, 31, 512)       2048      \n",
            "_________________________________________________________________\n",
            "conv_dw_11_relu (ReLU)       (None, 31, 31, 512)       0         \n",
            "_________________________________________________________________\n",
            "conv_pw_11 (Conv2D)          (None, 31, 31, 512)       262144    \n",
            "_________________________________________________________________\n",
            "conv_pw_11_bn (BatchNormaliz (None, 31, 31, 512)       2048      \n",
            "_________________________________________________________________\n",
            "conv_pw_11_relu (ReLU)       (None, 31, 31, 512)       0         \n",
            "_________________________________________________________________\n",
            "conv_pad_12 (ZeroPadding2D)  (None, 32, 32, 512)       0         \n",
            "_________________________________________________________________\n",
            "conv_dw_12 (DepthwiseConv2D) (None, 15, 15, 512)       4608      \n",
            "_________________________________________________________________\n",
            "conv_dw_12_bn (BatchNormaliz (None, 15, 15, 512)       2048      \n",
            "_________________________________________________________________\n",
            "conv_dw_12_relu (ReLU)       (None, 15, 15, 512)       0         \n",
            "_________________________________________________________________\n",
            "conv_pw_12 (Conv2D)          (None, 15, 15, 1024)      524288    \n",
            "_________________________________________________________________\n",
            "conv_pw_12_bn (BatchNormaliz (None, 15, 15, 1024)      4096      \n",
            "_________________________________________________________________\n",
            "conv_pw_12_relu (ReLU)       (None, 15, 15, 1024)      0         \n",
            "_________________________________________________________________\n",
            "conv_dw_13 (DepthwiseConv2D) (None, 15, 15, 1024)      9216      \n",
            "_________________________________________________________________\n",
            "conv_dw_13_bn (BatchNormaliz (None, 15, 15, 1024)      4096      \n",
            "_________________________________________________________________\n",
            "conv_dw_13_relu (ReLU)       (None, 15, 15, 1024)      0         \n",
            "_________________________________________________________________\n",
            "conv_pw_13 (Conv2D)          (None, 15, 15, 1024)      1048576   \n",
            "_________________________________________________________________\n",
            "conv_pw_13_bn (BatchNormaliz (None, 15, 15, 1024)      4096      \n",
            "_________________________________________________________________\n",
            "conv_pw_13_relu (ReLU)       (None, 15, 15, 1024)      0         \n",
            "=================================================================\n",
            "Total params: 3,228,864\n",
            "Trainable params: 1,061,888\n",
            "Non-trainable params: 2,166,976\n",
            "_________________________________________________________________\n"
          ],
          "name": "stdout"
        }
      ]
    },
    {
      "cell_type": "code",
      "metadata": {
        "colab": {
          "base_uri": "https://localhost:8080/"
        },
        "id": "QdwQDwlzcEtw",
        "outputId": "5f2e0c0d-f1e3-446f-bf9e-9266ac034f74"
      },
      "source": [
        "# Создание модели составной сети\n",
        "model = Sequential()\n",
        "# Добавляем сверточные слои\n",
        "model.add(Mobile_Net)\n",
        "# Преобразуем двумерный массив MobileNet в одномерный\n",
        "model.add(Flatten())\n",
        "# Полносвязный слой\n",
        "model.add(Dense(256, activation='relu'))\n",
        "# Слой регуляризации (для предотвращения переобучения)\n",
        "model.add(Dropout(0.5))\n",
        "# Кол-во классов\n",
        "model.add(Dense(3, activation='sigmoid'))\n",
        "model.summary()"
      ],
      "execution_count": null,
      "outputs": [
        {
          "output_type": "stream",
          "text": [
            "Model: \"sequential_13\"\n",
            "_________________________________________________________________\n",
            "Layer (type)                 Output Shape              Param #   \n",
            "=================================================================\n",
            "mobilenet_1.00_224 (Function (None, 15, 15, 1024)      3228864   \n",
            "_________________________________________________________________\n",
            "flatten_13 (Flatten)         (None, 230400)            0         \n",
            "_________________________________________________________________\n",
            "dense_26 (Dense)             (None, 256)               58982656  \n",
            "_________________________________________________________________\n",
            "dropout_13 (Dropout)         (None, 256)               0         \n",
            "_________________________________________________________________\n",
            "dense_27 (Dense)             (None, 3)                 771       \n",
            "=================================================================\n",
            "Total params: 62,212,291\n",
            "Trainable params: 60,045,315\n",
            "Non-trainable params: 2,166,976\n",
            "_________________________________________________________________\n"
          ],
          "name": "stdout"
        }
      ]
    },
    {
      "cell_type": "code",
      "metadata": {
        "colab": {
          "base_uri": "https://localhost:8080/"
        },
        "id": "8iZXF_cEcYbu",
        "outputId": "cc61d417-b9bd-45c8-80e1-f94a070d7f57"
      },
      "source": [
        "model.compile(loss='categorical_crossentropy',\n",
        "              optimizer='sgd', \n",
        "              metrics=['accuracy'])\n",
        "\n",
        "model.fit_generator(\n",
        "    train_generator,\n",
        "    steps_per_epoch=nb_train_samples // batch_size,\n",
        "    epochs=10,\n",
        "    validation_data=test_generator,\n",
        "    validation_steps=nb_test_samples // batch_size)\n"
      ],
      "execution_count": null,
      "outputs": [
        {
          "output_type": "stream",
          "text": [
            "/usr/local/lib/python3.7/dist-packages/keras/engine/training.py:1915: UserWarning: `Model.fit_generator` is deprecated and will be removed in a future version. Please use `Model.fit`, which supports generators.\n",
            "  warnings.warn('`Model.fit_generator` is deprecated and '\n"
          ],
          "name": "stderr"
        },
        {
          "output_type": "stream",
          "text": [
            "Epoch 1/10\n",
            "32/32 [==============================] - 18s 443ms/step - loss: 12.2961 - accuracy: 0.4837 - val_loss: 0.6538 - val_accuracy: 0.6406\n",
            "Epoch 2/10\n",
            "32/32 [==============================] - 12s 392ms/step - loss: 0.9419 - accuracy: 0.6122 - val_loss: 0.5435 - val_accuracy: 0.8125\n",
            "Epoch 3/10\n",
            "32/32 [==============================] - 12s 394ms/step - loss: 0.7603 - accuracy: 0.6871 - val_loss: 0.5528 - val_accuracy: 0.7422\n",
            "Epoch 4/10\n",
            "32/32 [==============================] - 12s 387ms/step - loss: 0.6305 - accuracy: 0.7253 - val_loss: 0.4330 - val_accuracy: 0.8594\n",
            "Epoch 5/10\n",
            "32/32 [==============================] - 12s 388ms/step - loss: 0.4621 - accuracy: 0.8237 - val_loss: 0.2303 - val_accuracy: 0.9375\n",
            "Epoch 6/10\n",
            "32/32 [==============================] - 12s 388ms/step - loss: 0.3329 - accuracy: 0.8755 - val_loss: 0.2548 - val_accuracy: 0.8906\n",
            "Epoch 7/10\n",
            "32/32 [==============================] - 12s 384ms/step - loss: 0.3406 - accuracy: 0.8794 - val_loss: 0.1898 - val_accuracy: 0.9453\n",
            "Epoch 8/10\n",
            "32/32 [==============================] - 13s 418ms/step - loss: 0.1864 - accuracy: 0.9352 - val_loss: 0.1875 - val_accuracy: 0.9219\n",
            "Epoch 9/10\n",
            "32/32 [==============================] - 12s 393ms/step - loss: 0.1709 - accuracy: 0.9413 - val_loss: 0.1150 - val_accuracy: 0.9766\n",
            "Epoch 10/10\n",
            "32/32 [==============================] - 12s 386ms/step - loss: 0.1704 - accuracy: 0.9359 - val_loss: 0.1430 - val_accuracy: 0.9453\n"
          ],
          "name": "stdout"
        },
        {
          "output_type": "execute_result",
          "data": {
            "text/plain": [
              "<keras.callbacks.History at 0x7f66d630dc50>"
            ]
          },
          "metadata": {
            "tags": []
          },
          "execution_count": 115
        }
      ]
    },
    {
      "cell_type": "code",
      "metadata": {
        "id": "tsGevfrxvyyS",
        "colab": {
          "base_uri": "https://localhost:8080/"
        },
        "outputId": "24020e22-934c-44ed-d3c6-3e5459ebc51a"
      },
      "source": [
        "scores = model.evaluate_generator(test_generator, nb_test_samples // batch_size)\n",
        "print('Точность работы на тестовых данных: %.2f%%' % (scores[1]*100))"
      ],
      "execution_count": null,
      "outputs": [
        {
          "output_type": "stream",
          "text": [
            "/usr/local/lib/python3.7/dist-packages/keras/engine/training.py:1948: UserWarning: `Model.evaluate_generator` is deprecated and will be removed in a future version. Please use `Model.evaluate`, which supports generators.\n",
            "  warnings.warn('`Model.evaluate_generator` is deprecated and '\n"
          ],
          "name": "stderr"
        },
        {
          "output_type": "stream",
          "text": [
            "Точность работы на тестовых данных: 95.31%\n"
          ],
          "name": "stdout"
        }
      ]
    }
  ]
}