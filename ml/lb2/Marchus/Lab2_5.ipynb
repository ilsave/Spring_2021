{
 "cells": [
  {
   "cell_type": "markdown",
   "metadata": {},
   "source": [
    "# ЛАБОРАТОРНАЯ РАБОТА №2\n",
    "## Предварительная обработка данных (Метеоритная защита Земли)\n",
    "Выполнил студент группы 19-ИВТ-3 Марчус К.Р.\n",
    "\n",
    "Вариант 5."
   ]
  },
  {
   "cell_type": "code",
   "execution_count": 53,
   "metadata": {},
   "outputs": [
    {
     "data": {
      "text/html": [
       "<div>\n",
       "<style scoped>\n",
       "    .dataframe tbody tr th:only-of-type {\n",
       "        vertical-align: middle;\n",
       "    }\n",
       "\n",
       "    .dataframe tbody tr th {\n",
       "        vertical-align: top;\n",
       "    }\n",
       "\n",
       "    .dataframe thead th {\n",
       "        text-align: right;\n",
       "    }\n",
       "</style>\n",
       "<table border=\"1\" class=\"dataframe\">\n",
       "  <thead>\n",
       "    <tr style=\"text-align: right;\">\n",
       "      <th></th>\n",
       "      <th>date</th>\n",
       "      <th>latitude</th>\n",
       "      <th>longitude</th>\n",
       "      <th>altitude</th>\n",
       "      <th>velocity</th>\n",
       "      <th>vx</th>\n",
       "      <th>vy</th>\n",
       "      <th>vz</th>\n",
       "      <th>radiated_energy</th>\n",
       "      <th>impact_energy</th>\n",
       "    </tr>\n",
       "  </thead>\n",
       "  <tbody>\n",
       "    <tr>\n",
       "      <th>0</th>\n",
       "      <td>2017-07-31 22:01:35</td>\n",
       "      <td>24.7N</td>\n",
       "      <td>118.5W</td>\n",
       "      <td>NaN</td>\n",
       "      <td>NaN</td>\n",
       "      <td>NaN</td>\n",
       "      <td>NaN</td>\n",
       "      <td>NaN</td>\n",
       "      <td>5.800000e+10</td>\n",
       "      <td>0.19</td>\n",
       "    </tr>\n",
       "    <tr>\n",
       "      <th>1</th>\n",
       "      <td>2017-07-23 06:12:38</td>\n",
       "      <td>6.6S</td>\n",
       "      <td>69.7W</td>\n",
       "      <td>38.0</td>\n",
       "      <td>17.2</td>\n",
       "      <td>-0.4</td>\n",
       "      <td>8.7</td>\n",
       "      <td>-14.8</td>\n",
       "      <td>3.500000e+10</td>\n",
       "      <td>0.12</td>\n",
       "    </tr>\n",
       "    <tr>\n",
       "      <th>2</th>\n",
       "      <td>2017-07-13 09:30:36</td>\n",
       "      <td>23.1N</td>\n",
       "      <td>60.7E</td>\n",
       "      <td>35.0</td>\n",
       "      <td>13.7</td>\n",
       "      <td>-10.0</td>\n",
       "      <td>-6.5</td>\n",
       "      <td>-6.8</td>\n",
       "      <td>7.300000e+10</td>\n",
       "      <td>0.23</td>\n",
       "    </tr>\n",
       "    <tr>\n",
       "      <th>3</th>\n",
       "      <td>2017-06-30 14:26:45</td>\n",
       "      <td>34.3S</td>\n",
       "      <td>134.5E</td>\n",
       "      <td>20.0</td>\n",
       "      <td>15.2</td>\n",
       "      <td>10.9</td>\n",
       "      <td>-9.7</td>\n",
       "      <td>4.2</td>\n",
       "      <td>9.400000e+10</td>\n",
       "      <td>0.29</td>\n",
       "    </tr>\n",
       "    <tr>\n",
       "      <th>4</th>\n",
       "      <td>2017-06-23 20:21:55</td>\n",
       "      <td>57.0N</td>\n",
       "      <td>143.7E</td>\n",
       "      <td>35.1</td>\n",
       "      <td>24.3</td>\n",
       "      <td>17.7</td>\n",
       "      <td>13.1</td>\n",
       "      <td>-10.3</td>\n",
       "      <td>1.840000e+11</td>\n",
       "      <td>0.52</td>\n",
       "    </tr>\n",
       "  </tbody>\n",
       "</table>\n",
       "</div>"
      ],
      "text/plain": [
       "                  date latitude longitude  altitude  velocity    vx    vy  \\\n",
       "0  2017-07-31 22:01:35    24.7N    118.5W       NaN       NaN   NaN   NaN   \n",
       "1  2017-07-23 06:12:38     6.6S     69.7W      38.0      17.2  -0.4   8.7   \n",
       "2  2017-07-13 09:30:36    23.1N     60.7E      35.0      13.7 -10.0  -6.5   \n",
       "3  2017-06-30 14:26:45    34.3S    134.5E      20.0      15.2  10.9  -9.7   \n",
       "4  2017-06-23 20:21:55    57.0N    143.7E      35.1      24.3  17.7  13.1   \n",
       "\n",
       "     vz  radiated_energy  impact_energy  \n",
       "0   NaN     5.800000e+10           0.19  \n",
       "1 -14.8     3.500000e+10           0.12  \n",
       "2  -6.8     7.300000e+10           0.23  \n",
       "3   4.2     9.400000e+10           0.29  \n",
       "4 -10.3     1.840000e+11           0.52  "
      ]
     },
     "execution_count": 53,
     "metadata": {},
     "output_type": "execute_result"
    }
   ],
   "source": [
    "import pandas as pd\n",
    "import numpy as np\n",
    "import scipy.stats as stats\n",
    "import matplotlib.pyplot as plt\n",
    "%matplotlib inline\n",
    "\n",
    "df = pd.read_csv('cneos_fireball_data.csv')\n",
    "df.columns = ['date', 'latitude', 'longitude', 'altitude', 'velocity', 'vx', 'vy', 'vz', 'radiated_energy', 'impact_energy']\n",
    "df.head()"
   ]
  },
  {
   "cell_type": "markdown",
   "metadata": {},
   "source": [
    "# ЗАДАНИЕ 1\n",
    "Определите местоположение появления метеорита с наибольшим количеством высвободившейся энергии."
   ]
  },
  {
   "cell_type": "code",
   "execution_count": 81,
   "metadata": {},
   "outputs": [
    {
     "name": "stdout",
     "output_type": "stream",
     "text": [
      "Koordinaty pojavlenija meteorita s naiboljshej energijej\n",
      "Longitude (deg.) =  61.1E\n",
      "Latitude (deg.) =  54.8N\n"
     ]
    }
   ],
   "source": [
    "most_radiated_energy_row = df.iloc[df.radiated_energy.idxmax()]\n",
    "print(\"Koordinaty pojavlenija meteorita s naiboljshej energijej\")\n",
    "print(\"Longitude (deg.) = \", most_radiated_energy_row.longitude)\n",
    "print(\"Latitude (deg.) = \", most_radiated_energy_row.latitude)"
   ]
  },
  {
   "cell_type": "markdown",
   "metadata": {},
   "source": [
    "# ЗАДАНИЕ 2\n",
    "Определите метеорит с максимальной и минимальной скоростью."
   ]
  },
  {
   "cell_type": "code",
   "execution_count": 65,
   "metadata": {},
   "outputs": [
    {
     "name": "stdout",
     "output_type": "stream",
     "text": [
      "Meteorit s maksimaljnoj skorostju:\n",
      "49.0\n",
      "\n",
      "Meteorit s minimaljnoj skorostju:\n",
      "9.8\n"
     ]
    }
   ],
   "source": [
    "print(\"Meteorit s maksimaljnoj skorostju:\")\n",
    "print(df.iloc[df.velocity.idxmax()].velocity)\n",
    "print(\"\\nMeteorit s minimaljnoj skorostju:\")\n",
    "print(df.iloc[df.velocity.idxmin()].velocity)"
   ]
  },
  {
   "cell_type": "markdown",
   "metadata": {},
   "source": [
    "# ЗАДАНИЕ 3\n",
    "Определите место максимальной концентрации метеоритов."
   ]
  },
  {
   "cell_type": "code",
   "execution_count": 79,
   "metadata": {},
   "outputs": [
    {
     "data": {
      "image/png": "[encoded data removed]",
      "text/plain": [
       "<Figure size 1080x1080 with 1 Axes>"
      ]
     },
     "metadata": {
      "needs_background": "light"
     },
     "output_type": "display_data"
    }
   ],
   "source": [
    "df_copy = df.dropna(subset=['latitude', 'longitude'])\n",
    "latitude = df_copy['latitude'].apply(\n",
    "    lambda lat: np.pi / 2 - np.radians(float(lat[:-1]) * (1 if lat[-1] == 'N' else -1)))\n",
    "lat_bins = np.linspace(0, np.pi, 20)\n",
    "lat_frequences, lat_bins = np.histogram(latitude, lat_bins)\n",
    "lat_bins = (lat_bins[1:] + lat_bins[:-1])/2\n",
    "\n",
    "longitude = df_copy['longitude'].apply(\n",
    "    lambda lon: np.radians(float(lon[:-1]) * (1 if lon[-1] == 'W' else -1)))\n",
    "lon_bins = np.linspace(-np.pi, np.pi, 20)\n",
    "lon_frequences, lon_bins = np.histogram(longitude, lon_bins)\n",
    "lon_bins = (lon_bins[1:] + lon_bins[:-1])/2\n",
    "\n",
    "fig = plt.figure(figsize=(15,15))\n",
    "ax = fig.gca()\n",
    "ax.set_xticks(lat_bins)\n",
    "ax.set_yticks(lon_bins)\n",
    "plt.scatter(latitude, longitude, marker='o')\n",
    "plt.grid()\n",
    "plt.show()"
   ]
  },
  {
   "cell_type": "markdown",
   "metadata": {},
   "source": [
    "# ЗАДАНИЕ 4\n",
    "Определите время года, в которое вероятность появления метеоритов максимальна. Постройте график."
   ]
  },
  {
   "cell_type": "code",
   "execution_count": 66,
   "metadata": {
    "scrolled": true
   },
   "outputs": [
    {
     "name": "stdout",
     "output_type": "stream",
     "text": [
      "Vremae goda s naiboljshej verojatnostju pojavlenija meteoritov(0.25312934631432543): osenj\n"
     ]
    },
    {
     "data": {
      "text/plain": [
       "<AxesSubplot:>"
      ]
     },
     "execution_count": 66,
     "metadata": {},
     "output_type": "execute_result"
    },
    {
     "data": {
      "image/png": "[encoded data removed]",
      "text/plain": [
       "<Figure size 432x288 with 1 Axes>"
      ]
     },
     "metadata": {
      "needs_background": "light"
     },
     "output_type": "display_data"
    }
   ],
   "source": [
    "from datetime import datetime\n",
    "df.date = pd.to_datetime(df.date)\n",
    "seasons = df.date.apply(lambda dt: (dt.month%12 + 3)//3).apply(lambda season: {1: 'zima', 2: 'vesna', 3: 'leto', 4: 'osenj'}[season]).value_counts().apply(lambda count: count/df.shape[0])\n",
    "print('Vremae goda s naiboljshej verojatnostju pojavlenija meteoritov({}): {}'.format(seasons.max(), seasons.idxmax()))\n",
    "seasons.plot(kind='bar')"
   ]
  },
  {
   "cell_type": "markdown",
   "metadata": {},
   "source": [
    "# ЗАДАНИЕ 5\n",
    "Удалите строки данных, в которых для метеоритов не указана скорость"
   ]
  },
  {
   "cell_type": "code",
   "execution_count": 117,
   "metadata": {},
   "outputs": [
    {
     "data": {
      "text/html": [
       "<div>\n",
       "<style scoped>\n",
       "    .dataframe tbody tr th:only-of-type {\n",
       "        vertical-align: middle;\n",
       "    }\n",
       "\n",
       "    .dataframe tbody tr th {\n",
       "        vertical-align: top;\n",
       "    }\n",
       "\n",
       "    .dataframe thead th {\n",
       "        text-align: right;\n",
       "    }\n",
       "</style>\n",
       "<table border=\"1\" class=\"dataframe\">\n",
       "  <thead>\n",
       "    <tr style=\"text-align: right;\">\n",
       "      <th></th>\n",
       "      <th>date</th>\n",
       "      <th>latitude</th>\n",
       "      <th>longitude</th>\n",
       "      <th>altitude</th>\n",
       "      <th>velocity</th>\n",
       "      <th>vx</th>\n",
       "      <th>vy</th>\n",
       "      <th>vz</th>\n",
       "      <th>radiated_energy</th>\n",
       "      <th>impact_energy</th>\n",
       "    </tr>\n",
       "  </thead>\n",
       "  <tbody>\n",
       "    <tr>\n",
       "      <th>0</th>\n",
       "      <td>2017-07-31 22:01:35</td>\n",
       "      <td>24.7N</td>\n",
       "      <td>118.5W</td>\n",
       "      <td>NaN</td>\n",
       "      <td>NaN</td>\n",
       "      <td>NaN</td>\n",
       "      <td>NaN</td>\n",
       "      <td>NaN</td>\n",
       "      <td>5.800000e+10</td>\n",
       "      <td>0.190</td>\n",
       "    </tr>\n",
       "    <tr>\n",
       "      <th>1</th>\n",
       "      <td>2017-07-23 06:12:38</td>\n",
       "      <td>6.6S</td>\n",
       "      <td>69.7W</td>\n",
       "      <td>38.0</td>\n",
       "      <td>17.2</td>\n",
       "      <td>-0.4</td>\n",
       "      <td>8.7</td>\n",
       "      <td>-14.8</td>\n",
       "      <td>3.500000e+10</td>\n",
       "      <td>0.120</td>\n",
       "    </tr>\n",
       "    <tr>\n",
       "      <th>2</th>\n",
       "      <td>2017-07-13 09:30:36</td>\n",
       "      <td>23.1N</td>\n",
       "      <td>60.7E</td>\n",
       "      <td>35.0</td>\n",
       "      <td>13.7</td>\n",
       "      <td>-10.0</td>\n",
       "      <td>-6.5</td>\n",
       "      <td>-6.8</td>\n",
       "      <td>7.300000e+10</td>\n",
       "      <td>0.230</td>\n",
       "    </tr>\n",
       "    <tr>\n",
       "      <th>3</th>\n",
       "      <td>2017-06-30 14:26:45</td>\n",
       "      <td>34.3S</td>\n",
       "      <td>134.5E</td>\n",
       "      <td>20.0</td>\n",
       "      <td>15.2</td>\n",
       "      <td>10.9</td>\n",
       "      <td>-9.7</td>\n",
       "      <td>4.2</td>\n",
       "      <td>9.400000e+10</td>\n",
       "      <td>0.290</td>\n",
       "    </tr>\n",
       "    <tr>\n",
       "      <th>4</th>\n",
       "      <td>2017-06-23 20:21:55</td>\n",
       "      <td>57.0N</td>\n",
       "      <td>143.7E</td>\n",
       "      <td>35.1</td>\n",
       "      <td>24.3</td>\n",
       "      <td>17.7</td>\n",
       "      <td>13.1</td>\n",
       "      <td>-10.3</td>\n",
       "      <td>1.840000e+11</td>\n",
       "      <td>0.520</td>\n",
       "    </tr>\n",
       "    <tr>\n",
       "      <th>...</th>\n",
       "      <td>...</td>\n",
       "      <td>...</td>\n",
       "      <td>...</td>\n",
       "      <td>...</td>\n",
       "      <td>...</td>\n",
       "      <td>...</td>\n",
       "      <td>...</td>\n",
       "      <td>...</td>\n",
       "      <td>...</td>\n",
       "      <td>...</td>\n",
       "    </tr>\n",
       "    <tr>\n",
       "      <th>714</th>\n",
       "      <td>1993-11-29 17:48:41</td>\n",
       "      <td>26.5N</td>\n",
       "      <td>78.3E</td>\n",
       "      <td>NaN</td>\n",
       "      <td>NaN</td>\n",
       "      <td>NaN</td>\n",
       "      <td>NaN</td>\n",
       "      <td>NaN</td>\n",
       "      <td>2.600000e+10</td>\n",
       "      <td>0.092</td>\n",
       "    </tr>\n",
       "    <tr>\n",
       "      <th>715</th>\n",
       "      <td>1993-10-31 03:39:27</td>\n",
       "      <td>51.3N</td>\n",
       "      <td>100.9W</td>\n",
       "      <td>NaN</td>\n",
       "      <td>NaN</td>\n",
       "      <td>NaN</td>\n",
       "      <td>NaN</td>\n",
       "      <td>NaN</td>\n",
       "      <td>4.000000e+10</td>\n",
       "      <td>0.130</td>\n",
       "    </tr>\n",
       "    <tr>\n",
       "      <th>716</th>\n",
       "      <td>1991-10-04 09:22:47</td>\n",
       "      <td>78.7N</td>\n",
       "      <td>6.3E</td>\n",
       "      <td>NaN</td>\n",
       "      <td>NaN</td>\n",
       "      <td>NaN</td>\n",
       "      <td>NaN</td>\n",
       "      <td>NaN</td>\n",
       "      <td>5.500000e+11</td>\n",
       "      <td>1.400</td>\n",
       "    </tr>\n",
       "    <tr>\n",
       "      <th>717</th>\n",
       "      <td>1990-10-01 03:51:47</td>\n",
       "      <td>7.5N</td>\n",
       "      <td>142.8E</td>\n",
       "      <td>NaN</td>\n",
       "      <td>NaN</td>\n",
       "      <td>NaN</td>\n",
       "      <td>NaN</td>\n",
       "      <td>NaN</td>\n",
       "      <td>2.500000e+12</td>\n",
       "      <td>5.200</td>\n",
       "    </tr>\n",
       "    <tr>\n",
       "      <th>718</th>\n",
       "      <td>1988-04-15 03:03:10</td>\n",
       "      <td>4.1S</td>\n",
       "      <td>124.3E</td>\n",
       "      <td>NaN</td>\n",
       "      <td>NaN</td>\n",
       "      <td>NaN</td>\n",
       "      <td>NaN</td>\n",
       "      <td>NaN</td>\n",
       "      <td>7.580000e+12</td>\n",
       "      <td>14.000</td>\n",
       "    </tr>\n",
       "  </tbody>\n",
       "</table>\n",
       "<p>719 rows × 10 columns</p>\n",
       "</div>"
      ],
      "text/plain": [
       "                   date latitude longitude  altitude  velocity    vx    vy  \\\n",
       "0   2017-07-31 22:01:35    24.7N    118.5W       NaN       NaN   NaN   NaN   \n",
       "1   2017-07-23 06:12:38     6.6S     69.7W      38.0      17.2  -0.4   8.7   \n",
       "2   2017-07-13 09:30:36    23.1N     60.7E      35.0      13.7 -10.0  -6.5   \n",
       "3   2017-06-30 14:26:45    34.3S    134.5E      20.0      15.2  10.9  -9.7   \n",
       "4   2017-06-23 20:21:55    57.0N    143.7E      35.1      24.3  17.7  13.1   \n",
       "..                  ...      ...       ...       ...       ...   ...   ...   \n",
       "714 1993-11-29 17:48:41    26.5N     78.3E       NaN       NaN   NaN   NaN   \n",
       "715 1993-10-31 03:39:27    51.3N    100.9W       NaN       NaN   NaN   NaN   \n",
       "716 1991-10-04 09:22:47    78.7N      6.3E       NaN       NaN   NaN   NaN   \n",
       "717 1990-10-01 03:51:47     7.5N    142.8E       NaN       NaN   NaN   NaN   \n",
       "718 1988-04-15 03:03:10     4.1S    124.3E       NaN       NaN   NaN   NaN   \n",
       "\n",
       "       vz  radiated_energy  impact_energy  \n",
       "0     NaN     5.800000e+10          0.190  \n",
       "1   -14.8     3.500000e+10          0.120  \n",
       "2    -6.8     7.300000e+10          0.230  \n",
       "3     4.2     9.400000e+10          0.290  \n",
       "4   -10.3     1.840000e+11          0.520  \n",
       "..    ...              ...            ...  \n",
       "714   NaN     2.600000e+10          0.092  \n",
       "715   NaN     4.000000e+10          0.130  \n",
       "716   NaN     5.500000e+11          1.400  \n",
       "717   NaN     2.500000e+12          5.200  \n",
       "718   NaN     7.580000e+12         14.000  \n",
       "\n",
       "[719 rows x 10 columns]"
      ]
     },
     "execution_count": 117,
     "metadata": {},
     "output_type": "execute_result"
    }
   ],
   "source": [
    "df.head(2048) #было"
   ]
  },
  {
   "cell_type": "code",
   "execution_count": 118,
   "metadata": {},
   "outputs": [
    {
     "data": {
      "text/html": [
       "<div>\n",
       "<style scoped>\n",
       "    .dataframe tbody tr th:only-of-type {\n",
       "        vertical-align: middle;\n",
       "    }\n",
       "\n",
       "    .dataframe tbody tr th {\n",
       "        vertical-align: top;\n",
       "    }\n",
       "\n",
       "    .dataframe thead th {\n",
       "        text-align: right;\n",
       "    }\n",
       "</style>\n",
       "<table border=\"1\" class=\"dataframe\">\n",
       "  <thead>\n",
       "    <tr style=\"text-align: right;\">\n",
       "      <th></th>\n",
       "      <th>date</th>\n",
       "      <th>latitude</th>\n",
       "      <th>longitude</th>\n",
       "      <th>altitude</th>\n",
       "      <th>velocity</th>\n",
       "      <th>vx</th>\n",
       "      <th>vy</th>\n",
       "      <th>vz</th>\n",
       "      <th>radiated_energy</th>\n",
       "      <th>impact_energy</th>\n",
       "    </tr>\n",
       "  </thead>\n",
       "  <tbody>\n",
       "    <tr>\n",
       "      <th>1</th>\n",
       "      <td>2017-07-23 06:12:38</td>\n",
       "      <td>6.6S</td>\n",
       "      <td>69.7W</td>\n",
       "      <td>38.0</td>\n",
       "      <td>17.2</td>\n",
       "      <td>-0.4</td>\n",
       "      <td>8.7</td>\n",
       "      <td>-14.8</td>\n",
       "      <td>3.500000e+10</td>\n",
       "      <td>0.12</td>\n",
       "    </tr>\n",
       "    <tr>\n",
       "      <th>2</th>\n",
       "      <td>2017-07-13 09:30:36</td>\n",
       "      <td>23.1N</td>\n",
       "      <td>60.7E</td>\n",
       "      <td>35.0</td>\n",
       "      <td>13.7</td>\n",
       "      <td>-10.0</td>\n",
       "      <td>-6.5</td>\n",
       "      <td>-6.8</td>\n",
       "      <td>7.300000e+10</td>\n",
       "      <td>0.23</td>\n",
       "    </tr>\n",
       "    <tr>\n",
       "      <th>3</th>\n",
       "      <td>2017-06-30 14:26:45</td>\n",
       "      <td>34.3S</td>\n",
       "      <td>134.5E</td>\n",
       "      <td>20.0</td>\n",
       "      <td>15.2</td>\n",
       "      <td>10.9</td>\n",
       "      <td>-9.7</td>\n",
       "      <td>4.2</td>\n",
       "      <td>9.400000e+10</td>\n",
       "      <td>0.29</td>\n",
       "    </tr>\n",
       "    <tr>\n",
       "      <th>4</th>\n",
       "      <td>2017-06-23 20:21:55</td>\n",
       "      <td>57.0N</td>\n",
       "      <td>143.7E</td>\n",
       "      <td>35.1</td>\n",
       "      <td>24.3</td>\n",
       "      <td>17.7</td>\n",
       "      <td>13.1</td>\n",
       "      <td>-10.3</td>\n",
       "      <td>1.840000e+11</td>\n",
       "      <td>0.52</td>\n",
       "    </tr>\n",
       "    <tr>\n",
       "      <th>5</th>\n",
       "      <td>2017-06-20 13:41:32</td>\n",
       "      <td>54.2S</td>\n",
       "      <td>133.0E</td>\n",
       "      <td>33.3</td>\n",
       "      <td>13.6</td>\n",
       "      <td>8.7</td>\n",
       "      <td>-5.7</td>\n",
       "      <td>8.8</td>\n",
       "      <td>6.360000e+11</td>\n",
       "      <td>1.60</td>\n",
       "    </tr>\n",
       "    <tr>\n",
       "      <th>...</th>\n",
       "      <td>...</td>\n",
       "      <td>...</td>\n",
       "      <td>...</td>\n",
       "      <td>...</td>\n",
       "      <td>...</td>\n",
       "      <td>...</td>\n",
       "      <td>...</td>\n",
       "      <td>...</td>\n",
       "      <td>...</td>\n",
       "      <td>...</td>\n",
       "    </tr>\n",
       "    <tr>\n",
       "      <th>450</th>\n",
       "      <td>2004-04-22 04:21:49</td>\n",
       "      <td>44.3S</td>\n",
       "      <td>83.3E</td>\n",
       "      <td>29.6</td>\n",
       "      <td>16.3</td>\n",
       "      <td>8.5</td>\n",
       "      <td>-12.1</td>\n",
       "      <td>-6.8</td>\n",
       "      <td>6.240000e+11</td>\n",
       "      <td>1.50</td>\n",
       "    </tr>\n",
       "    <tr>\n",
       "      <th>451</th>\n",
       "      <td>2004-04-06 03:24:49</td>\n",
       "      <td>12.0S</td>\n",
       "      <td>162.8E</td>\n",
       "      <td>35.0</td>\n",
       "      <td>25.6</td>\n",
       "      <td>10.5</td>\n",
       "      <td>-23.2</td>\n",
       "      <td>-2.9</td>\n",
       "      <td>4.330000e+11</td>\n",
       "      <td>1.10</td>\n",
       "    </tr>\n",
       "    <tr>\n",
       "      <th>462</th>\n",
       "      <td>2003-11-10 13:54:06</td>\n",
       "      <td>64.5S</td>\n",
       "      <td>136.2E</td>\n",
       "      <td>23.0</td>\n",
       "      <td>20.1</td>\n",
       "      <td>14.8</td>\n",
       "      <td>-8.7</td>\n",
       "      <td>10.4</td>\n",
       "      <td>5.180000e+11</td>\n",
       "      <td>1.30</td>\n",
       "    </tr>\n",
       "    <tr>\n",
       "      <th>467</th>\n",
       "      <td>2003-09-27 12:59:02</td>\n",
       "      <td>21.0N</td>\n",
       "      <td>86.6E</td>\n",
       "      <td>26.0</td>\n",
       "      <td>18.2</td>\n",
       "      <td>-1.0</td>\n",
       "      <td>-5.4</td>\n",
       "      <td>-17.3</td>\n",
       "      <td>2.150000e+12</td>\n",
       "      <td>4.60</td>\n",
       "    </tr>\n",
       "    <tr>\n",
       "      <th>626</th>\n",
       "      <td>1998-01-04 23:00:27</td>\n",
       "      <td>35.1S</td>\n",
       "      <td>33.4E</td>\n",
       "      <td>30.0</td>\n",
       "      <td>17.1</td>\n",
       "      <td>6.0</td>\n",
       "      <td>-10.6</td>\n",
       "      <td>12.0</td>\n",
       "      <td>7.400000e+10</td>\n",
       "      <td>0.23</td>\n",
       "    </tr>\n",
       "  </tbody>\n",
       "</table>\n",
       "<p>157 rows × 10 columns</p>\n",
       "</div>"
      ],
      "text/plain": [
       "                   date latitude longitude  altitude  velocity    vx    vy  \\\n",
       "1   2017-07-23 06:12:38     6.6S     69.7W      38.0      17.2  -0.4   8.7   \n",
       "2   2017-07-13 09:30:36    23.1N     60.7E      35.0      13.7 -10.0  -6.5   \n",
       "3   2017-06-30 14:26:45    34.3S    134.5E      20.0      15.2  10.9  -9.7   \n",
       "4   2017-06-23 20:21:55    57.0N    143.7E      35.1      24.3  17.7  13.1   \n",
       "5   2017-06-20 13:41:32    54.2S    133.0E      33.3      13.6   8.7  -5.7   \n",
       "..                  ...      ...       ...       ...       ...   ...   ...   \n",
       "450 2004-04-22 04:21:49    44.3S     83.3E      29.6      16.3   8.5 -12.1   \n",
       "451 2004-04-06 03:24:49    12.0S    162.8E      35.0      25.6  10.5 -23.2   \n",
       "462 2003-11-10 13:54:06    64.5S    136.2E      23.0      20.1  14.8  -8.7   \n",
       "467 2003-09-27 12:59:02    21.0N     86.6E      26.0      18.2  -1.0  -5.4   \n",
       "626 1998-01-04 23:00:27    35.1S     33.4E      30.0      17.1   6.0 -10.6   \n",
       "\n",
       "       vz  radiated_energy  impact_energy  \n",
       "1   -14.8     3.500000e+10           0.12  \n",
       "2    -6.8     7.300000e+10           0.23  \n",
       "3     4.2     9.400000e+10           0.29  \n",
       "4   -10.3     1.840000e+11           0.52  \n",
       "5     8.8     6.360000e+11           1.60  \n",
       "..    ...              ...            ...  \n",
       "450  -6.8     6.240000e+11           1.50  \n",
       "451  -2.9     4.330000e+11           1.10  \n",
       "462  10.4     5.180000e+11           1.30  \n",
       "467 -17.3     2.150000e+12           4.60  \n",
       "626  12.0     7.400000e+10           0.23  \n",
       "\n",
       "[157 rows x 10 columns]"
      ]
     },
     "execution_count": 118,
     "metadata": {},
     "output_type": "execute_result"
    }
   ],
   "source": [
    "df.dropna(subset=['vx', 'vy', 'vz']).head(2048) #стало"
   ]
  },
  {
   "cell_type": "markdown",
   "metadata": {},
   "source": [
    "# ЗАДАНИЕ 6\n",
    "Построить график, на котором по оси ОХ отложено время суток, по OY – частота появления метеоритов."
   ]
  },
  {
   "cell_type": "code",
   "execution_count": 122,
   "metadata": {},
   "outputs": [
    {
     "data": {
      "text/plain": [
       "<AxesSubplot:>"
      ]
     },
     "execution_count": 122,
     "metadata": {},
     "output_type": "execute_result"
    },
    {
     "data": {
      "image/png": "[encoded data removed]",
      "text/plain": [
       "<Figure size 1080x360 with 1 Axes>"
      ]
     },
     "metadata": {
      "needs_background": "light"
     },
     "output_type": "display_data"
    }
   ],
   "source": [
    "hours = df.date.apply(lambda date: date.hour).value_counts(sort=False)\n",
    "hours.plot(kind='bar', sort_columns=True, figsize=(15,5))"
   ]
  },
  {
   "cell_type": "markdown",
   "metadata": {},
   "source": [
    "# ЗАДАНИЕ 7\n",
    "Заполните строки в которых для метеоритов не указана скорость."
   ]
  },
  {
   "cell_type": "code",
   "execution_count": 60,
   "metadata": {},
   "outputs": [
    {
     "data": {
      "text/html": [
       "<div>\n",
       "<style scoped>\n",
       "    .dataframe tbody tr th:only-of-type {\n",
       "        vertical-align: middle;\n",
       "    }\n",
       "\n",
       "    .dataframe tbody tr th {\n",
       "        vertical-align: top;\n",
       "    }\n",
       "\n",
       "    .dataframe thead th {\n",
       "        text-align: right;\n",
       "    }\n",
       "</style>\n",
       "<table border=\"1\" class=\"dataframe\">\n",
       "  <thead>\n",
       "    <tr style=\"text-align: right;\">\n",
       "      <th></th>\n",
       "      <th>vx</th>\n",
       "      <th>vy</th>\n",
       "      <th>vz</th>\n",
       "    </tr>\n",
       "  </thead>\n",
       "  <tbody>\n",
       "    <tr>\n",
       "      <th>0</th>\n",
       "      <td>-15.3</td>\n",
       "      <td>-12.1</td>\n",
       "      <td>8.8</td>\n",
       "    </tr>\n",
       "    <tr>\n",
       "      <th>1</th>\n",
       "      <td>-0.4</td>\n",
       "      <td>8.7</td>\n",
       "      <td>-14.8</td>\n",
       "    </tr>\n",
       "    <tr>\n",
       "      <th>2</th>\n",
       "      <td>-10.0</td>\n",
       "      <td>-6.5</td>\n",
       "      <td>-6.8</td>\n",
       "    </tr>\n",
       "    <tr>\n",
       "      <th>3</th>\n",
       "      <td>10.9</td>\n",
       "      <td>-9.7</td>\n",
       "      <td>4.2</td>\n",
       "    </tr>\n",
       "    <tr>\n",
       "      <th>4</th>\n",
       "      <td>17.7</td>\n",
       "      <td>13.1</td>\n",
       "      <td>-10.3</td>\n",
       "    </tr>\n",
       "  </tbody>\n",
       "</table>\n",
       "</div>"
      ],
      "text/plain": [
       "     vx    vy    vz\n",
       "0 -15.3 -12.1   8.8\n",
       "1  -0.4   8.7 -14.8\n",
       "2 -10.0  -6.5  -6.8\n",
       "3  10.9  -9.7   4.2\n",
       "4  17.7  13.1 -10.3"
      ]
     },
     "execution_count": 60,
     "metadata": {},
     "output_type": "execute_result"
    }
   ],
   "source": [
    "df[['vx', 'vy', 'vz']].fillna(df.mode().iloc[0]).head()"
   ]
  },
  {
   "cell_type": "markdown",
   "metadata": {},
   "source": [
    "# ЗАДАНИЕ 8\n",
    "Определите месяц года, для которого появление метеоритов наиболее вероятно (постройте необходимые графики)."
   ]
  },
  {
   "cell_type": "code",
   "execution_count": 123,
   "metadata": {},
   "outputs": [
    {
     "name": "stdout",
     "output_type": "stream",
     "text": [
      "Mesaec v godu s naiboljshej verojatnostju pojavlenija meteoritov(0.09040333796940195): Nojabrj\n"
     ]
    },
    {
     "data": {
      "text/plain": [
       "<AxesSubplot:>"
      ]
     },
     "execution_count": 123,
     "metadata": {},
     "output_type": "execute_result"
    },
    {
     "data": {
      "image/png": "[encoded data removed]",
      "text/plain": [
       "<Figure size 1080x360 with 1 Axes>"
      ]
     },
     "metadata": {
      "needs_background": "light"
     },
     "output_type": "display_data"
    }
   ],
   "source": [
    "months_dict = {1: 'Janvarj', 2: 'Fevralj', 3: 'Mart', 4: 'Aprelj', 5: 'Maj', 6: 'Iune', 7: 'Iule', 8: 'Avgust', 9: 'Sentaebrj', 10: 'Oktaebrj', 11: 'Nojabrj', 12: 'Dekabrj'}\n",
    "months = df.date.apply(lambda date: months_dict[date.month]).value_counts().apply(lambda count: count/df.shape[0])\n",
    "print('Mesaec v godu s naiboljshej verojatnostju pojavlenija meteoritov({}): {}'.format(months.max(), months.idxmax()))\n",
    "months.plot(kind='bar', figsize=(15,5))"
   ]
  },
  {
   "cell_type": "markdown",
   "metadata": {},
   "source": [
    "# ЗАДАНИЕ 9\n",
    "Вычислите корреляцию Пирсона и Спирмена между признаками Altitude и Total Radiated Energy. Сравните полученные величины корреляции. Постройте гистограммы для указанных признаков. Оцените значение p-value."
   ]
  },
  {
   "cell_type": "code",
   "execution_count": 69,
   "metadata": {},
   "outputs": [
    {
     "name": "stdout",
     "output_type": "stream",
     "text": [
      "Pirson:\n",
      "Korrelaecija -  -0.08578656525823586\n",
      "p-znachenije -  0.13368269878711372\n",
      "\n",
      "Spirman:\n",
      "Korrelaecija -  -0.12671041939219074\n",
      "p-znachenije -  0.026415728610676672\n"
     ]
    }
   ],
   "source": [
    "df_copy = df.dropna(subset=['altitude', 'radiated_energy'])\n",
    "\n",
    "pearson_correlation, pearson_pvalue = stats.pearsonr(df_copy['altitude'], df_copy['radiated_energy'])\n",
    "print('Pirson:')\n",
    "print('Korrelaecija - ', pearson_correlation)\n",
    "print('p-znachenije - ', pearson_pvalue)\n",
    "\n",
    "spearman_correlation, spearman_pvalue = stats.spearmanr(df_copy['altitude'], df_copy['radiated_energy'])\n",
    "print('\\nSpirman:')\n",
    "print('Korrelaecija - ', spearman_correlation)\n",
    "print('p-znachenije - ', spearman_pvalue)"
   ]
  },
  {
   "cell_type": "code",
   "execution_count": 126,
   "metadata": {},
   "outputs": [
    {
     "data": {
      "text/plain": [
       "<AxesSubplot:>"
      ]
     },
     "execution_count": 126,
     "metadata": {},
     "output_type": "execute_result"
    },
    {
     "data": {
      "image/png": "[encoded data removed]",
      "text/plain": [
       "<Figure size 540x540 with 1 Axes>"
      ]
     },
     "metadata": {
      "needs_background": "light"
     },
     "output_type": "display_data"
    }
   ],
   "source": [
    "df_copy['altitude'].hist(figsize=(7.5,7.5))"
   ]
  },
  {
   "cell_type": "code",
   "execution_count": 127,
   "metadata": {},
   "outputs": [
    {
     "data": {
      "text/plain": [
       "<AxesSubplot:>"
      ]
     },
     "execution_count": 127,
     "metadata": {},
     "output_type": "execute_result"
    },
    {
     "data": {
      "image/png": "[encoded data removed]",
      "text/plain": [
       "<Figure size 540x540 with 1 Axes>"
      ]
     },
     "metadata": {
      "needs_background": "light"
     },
     "output_type": "display_data"
    }
   ],
   "source": [
    "df_copy['radiated_energy'].hist(figsize=(7.5,7.5))"
   ]
  },
  {
   "cell_type": "code",
   "execution_count": null,
   "metadata": {},
   "outputs": [],
   "source": []
  }
 ],
 "metadata": {
  "kernelspec": {
   "display_name": "Python 3",
   "language": "python",
   "name": "python3"
  },
  "language_info": {
   "codemirror_mode": {
    "name": "ipython",
    "version": 3
   },
   "file_extension": ".py",
   "mimetype": "text/x-python",
   "name": "python",
   "nbconvert_exporter": "python",
   "pygments_lexer": "ipython3",
   "version": "3.8.7"
  }
 },
 "nbformat": 4,
 "nbformat_minor": 4
}
