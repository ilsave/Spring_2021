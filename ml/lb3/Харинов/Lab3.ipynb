{
 "cells": [
  {
   "cell_type": "markdown",
   "metadata": {},
   "source": [
    "# Харинов Всеволод Витальевич"
   ]
  },
  {
   "cell_type": "markdown",
   "metadata": {},
   "source": [
    "## Лабораторная работа N3"
   ]
  },
  {
   "cell_type": "markdown",
   "metadata": {},
   "source": [
    "## Вариант N7"
   ]
  },
  {
   "cell_type": "code",
   "execution_count": 22,
   "metadata": {},
   "outputs": [],
   "source": [
    "import seaborn as sns\n",
    "import matplotlib.pyplot as plt\n",
    "import numpy as np\n",
    "import pandas as pd\n",
    "from pylab import rcParams\n",
    "from sklearn.preprocessing import StandardScaler\n",
    "\n",
    "%matplotlib inline"
   ]
  },
  {
   "cell_type": "markdown",
   "metadata": {},
   "source": [
    "## Задание 1\n",
    "Изучить набор данных. Создать описание набора данных на русском языке. Описать признаки, используемые в наборе данных"
   ]
  },
  {
   "cell_type": "markdown",
   "metadata": {},
   "source": [
    "# Описание DataFrame\n",
    "\n",
    "Эти данные являются результатами химического анализа вин, выращенных в одном и том же регионе Италии, но полученных из трех разных сортов. Анализ определил количество 13 компонентов, обнаруженных в каждом из трех типов вин.\n",
    "\n",
    "## Атрибуты\n",
    "- Алкоголь\n",
    "- Яблочная кислота\n",
    "- Зола\n",
    "- Щелочность золы\n",
    "- Магний\n",
    "- Общие фенолы\n",
    "- Флавоноиды\n",
    "- Нефлаваноидные фенолы\n",
    "- Проантоцианы\n",
    "- Интенсивность цвета\n",
    "- Оттенок\n",
    "- OD280/OD315 разбавленных вин\n",
    "- Пролин"
   ]
  },
  {
   "cell_type": "code",
   "execution_count": 3,
   "metadata": {},
   "outputs": [],
   "source": [
    "cols_name = ['Type', 'Alcohol', 'Malic acid', 'Ash', 'Alcalinity of ash', 'Magnesium',\\\n",
    "             'Total phenols', 'Flavanoids', 'Nonflavanoid phenols', 'Proanthocyanins',\\\n",
    "             'Color intensity', 'Hue', 'OD280/OD315 of diluted wines', 'Proline']"
   ]
  },
  {
   "cell_type": "code",
   "execution_count": 8,
   "metadata": {
    "scrolled": false
   },
   "outputs": [
    {
     "data": {
      "text/html": [
       "<div>\n",
       "<style scoped>\n",
       "    .dataframe tbody tr th:only-of-type {\n",
       "        vertical-align: middle;\n",
       "    }\n",
       "\n",
       "    .dataframe tbody tr th {\n",
       "        vertical-align: top;\n",
       "    }\n",
       "\n",
       "    .dataframe thead th {\n",
       "        text-align: right;\n",
       "    }\n",
       "</style>\n",
       "<table border=\"1\" class=\"dataframe\">\n",
       "  <thead>\n",
       "    <tr style=\"text-align: right;\">\n",
       "      <th></th>\n",
       "      <th>Type</th>\n",
       "      <th>Alcohol</th>\n",
       "      <th>Malic acid</th>\n",
       "      <th>Ash</th>\n",
       "      <th>Alcalinity of ash</th>\n",
       "      <th>Magnesium</th>\n",
       "      <th>Total phenols</th>\n",
       "      <th>Flavanoids</th>\n",
       "      <th>Nonflavanoid phenols</th>\n",
       "      <th>Proanthocyanins</th>\n",
       "      <th>Color intensity</th>\n",
       "      <th>Hue</th>\n",
       "      <th>OD280/OD315 of diluted wines</th>\n",
       "      <th>Proline</th>\n",
       "    </tr>\n",
       "  </thead>\n",
       "  <tbody>\n",
       "    <tr>\n",
       "      <th>0</th>\n",
       "      <td>1</td>\n",
       "      <td>14.23</td>\n",
       "      <td>1.71</td>\n",
       "      <td>2.43</td>\n",
       "      <td>15.6</td>\n",
       "      <td>127</td>\n",
       "      <td>2.80</td>\n",
       "      <td>3.06</td>\n",
       "      <td>0.28</td>\n",
       "      <td>2.29</td>\n",
       "      <td>5.64</td>\n",
       "      <td>1.04</td>\n",
       "      <td>3.92</td>\n",
       "      <td>1065</td>\n",
       "    </tr>\n",
       "    <tr>\n",
       "      <th>1</th>\n",
       "      <td>1</td>\n",
       "      <td>13.20</td>\n",
       "      <td>1.78</td>\n",
       "      <td>2.14</td>\n",
       "      <td>11.2</td>\n",
       "      <td>100</td>\n",
       "      <td>2.65</td>\n",
       "      <td>2.76</td>\n",
       "      <td>0.26</td>\n",
       "      <td>1.28</td>\n",
       "      <td>4.38</td>\n",
       "      <td>1.05</td>\n",
       "      <td>3.40</td>\n",
       "      <td>1050</td>\n",
       "    </tr>\n",
       "    <tr>\n",
       "      <th>2</th>\n",
       "      <td>1</td>\n",
       "      <td>13.16</td>\n",
       "      <td>2.36</td>\n",
       "      <td>2.67</td>\n",
       "      <td>18.6</td>\n",
       "      <td>101</td>\n",
       "      <td>2.80</td>\n",
       "      <td>3.24</td>\n",
       "      <td>0.30</td>\n",
       "      <td>2.81</td>\n",
       "      <td>5.68</td>\n",
       "      <td>1.03</td>\n",
       "      <td>3.17</td>\n",
       "      <td>1185</td>\n",
       "    </tr>\n",
       "    <tr>\n",
       "      <th>3</th>\n",
       "      <td>1</td>\n",
       "      <td>14.37</td>\n",
       "      <td>1.95</td>\n",
       "      <td>2.50</td>\n",
       "      <td>16.8</td>\n",
       "      <td>113</td>\n",
       "      <td>3.85</td>\n",
       "      <td>3.49</td>\n",
       "      <td>0.24</td>\n",
       "      <td>2.18</td>\n",
       "      <td>7.80</td>\n",
       "      <td>0.86</td>\n",
       "      <td>3.45</td>\n",
       "      <td>1480</td>\n",
       "    </tr>\n",
       "    <tr>\n",
       "      <th>4</th>\n",
       "      <td>1</td>\n",
       "      <td>13.24</td>\n",
       "      <td>2.59</td>\n",
       "      <td>2.87</td>\n",
       "      <td>21.0</td>\n",
       "      <td>118</td>\n",
       "      <td>2.80</td>\n",
       "      <td>2.69</td>\n",
       "      <td>0.39</td>\n",
       "      <td>1.82</td>\n",
       "      <td>4.32</td>\n",
       "      <td>1.04</td>\n",
       "      <td>2.93</td>\n",
       "      <td>735</td>\n",
       "    </tr>\n",
       "    <tr>\n",
       "      <th>...</th>\n",
       "      <td>...</td>\n",
       "      <td>...</td>\n",
       "      <td>...</td>\n",
       "      <td>...</td>\n",
       "      <td>...</td>\n",
       "      <td>...</td>\n",
       "      <td>...</td>\n",
       "      <td>...</td>\n",
       "      <td>...</td>\n",
       "      <td>...</td>\n",
       "      <td>...</td>\n",
       "      <td>...</td>\n",
       "      <td>...</td>\n",
       "      <td>...</td>\n",
       "    </tr>\n",
       "    <tr>\n",
       "      <th>173</th>\n",
       "      <td>3</td>\n",
       "      <td>13.71</td>\n",
       "      <td>5.65</td>\n",
       "      <td>2.45</td>\n",
       "      <td>20.5</td>\n",
       "      <td>95</td>\n",
       "      <td>1.68</td>\n",
       "      <td>0.61</td>\n",
       "      <td>0.52</td>\n",
       "      <td>1.06</td>\n",
       "      <td>7.70</td>\n",
       "      <td>0.64</td>\n",
       "      <td>1.74</td>\n",
       "      <td>740</td>\n",
       "    </tr>\n",
       "    <tr>\n",
       "      <th>174</th>\n",
       "      <td>3</td>\n",
       "      <td>13.40</td>\n",
       "      <td>3.91</td>\n",
       "      <td>2.48</td>\n",
       "      <td>23.0</td>\n",
       "      <td>102</td>\n",
       "      <td>1.80</td>\n",
       "      <td>0.75</td>\n",
       "      <td>0.43</td>\n",
       "      <td>1.41</td>\n",
       "      <td>7.30</td>\n",
       "      <td>0.70</td>\n",
       "      <td>1.56</td>\n",
       "      <td>750</td>\n",
       "    </tr>\n",
       "    <tr>\n",
       "      <th>175</th>\n",
       "      <td>3</td>\n",
       "      <td>13.27</td>\n",
       "      <td>4.28</td>\n",
       "      <td>2.26</td>\n",
       "      <td>20.0</td>\n",
       "      <td>120</td>\n",
       "      <td>1.59</td>\n",
       "      <td>0.69</td>\n",
       "      <td>0.43</td>\n",
       "      <td>1.35</td>\n",
       "      <td>10.20</td>\n",
       "      <td>0.59</td>\n",
       "      <td>1.56</td>\n",
       "      <td>835</td>\n",
       "    </tr>\n",
       "    <tr>\n",
       "      <th>176</th>\n",
       "      <td>3</td>\n",
       "      <td>13.17</td>\n",
       "      <td>2.59</td>\n",
       "      <td>2.37</td>\n",
       "      <td>20.0</td>\n",
       "      <td>120</td>\n",
       "      <td>1.65</td>\n",
       "      <td>0.68</td>\n",
       "      <td>0.53</td>\n",
       "      <td>1.46</td>\n",
       "      <td>9.30</td>\n",
       "      <td>0.60</td>\n",
       "      <td>1.62</td>\n",
       "      <td>840</td>\n",
       "    </tr>\n",
       "    <tr>\n",
       "      <th>177</th>\n",
       "      <td>3</td>\n",
       "      <td>14.13</td>\n",
       "      <td>4.10</td>\n",
       "      <td>2.74</td>\n",
       "      <td>24.5</td>\n",
       "      <td>96</td>\n",
       "      <td>2.05</td>\n",
       "      <td>0.76</td>\n",
       "      <td>0.56</td>\n",
       "      <td>1.35</td>\n",
       "      <td>9.20</td>\n",
       "      <td>0.61</td>\n",
       "      <td>1.60</td>\n",
       "      <td>560</td>\n",
       "    </tr>\n",
       "  </tbody>\n",
       "</table>\n",
       "<p>178 rows × 14 columns</p>\n",
       "</div>"
      ],
      "text/plain": [
       "     Type  Alcohol  Malic acid   Ash  Alcalinity of ash  Magnesium  \\\n",
       "0       1    14.23        1.71  2.43               15.6        127   \n",
       "1       1    13.20        1.78  2.14               11.2        100   \n",
       "2       1    13.16        2.36  2.67               18.6        101   \n",
       "3       1    14.37        1.95  2.50               16.8        113   \n",
       "4       1    13.24        2.59  2.87               21.0        118   \n",
       "..    ...      ...         ...   ...                ...        ...   \n",
       "173     3    13.71        5.65  2.45               20.5         95   \n",
       "174     3    13.40        3.91  2.48               23.0        102   \n",
       "175     3    13.27        4.28  2.26               20.0        120   \n",
       "176     3    13.17        2.59  2.37               20.0        120   \n",
       "177     3    14.13        4.10  2.74               24.5         96   \n",
       "\n",
       "     Total phenols  Flavanoids  Nonflavanoid phenols  Proanthocyanins  \\\n",
       "0             2.80        3.06                  0.28             2.29   \n",
       "1             2.65        2.76                  0.26             1.28   \n",
       "2             2.80        3.24                  0.30             2.81   \n",
       "3             3.85        3.49                  0.24             2.18   \n",
       "4             2.80        2.69                  0.39             1.82   \n",
       "..             ...         ...                   ...              ...   \n",
       "173           1.68        0.61                  0.52             1.06   \n",
       "174           1.80        0.75                  0.43             1.41   \n",
       "175           1.59        0.69                  0.43             1.35   \n",
       "176           1.65        0.68                  0.53             1.46   \n",
       "177           2.05        0.76                  0.56             1.35   \n",
       "\n",
       "     Color intensity   Hue  OD280/OD315 of diluted wines  Proline  \n",
       "0               5.64  1.04                          3.92     1065  \n",
       "1               4.38  1.05                          3.40     1050  \n",
       "2               5.68  1.03                          3.17     1185  \n",
       "3               7.80  0.86                          3.45     1480  \n",
       "4               4.32  1.04                          2.93      735  \n",
       "..               ...   ...                           ...      ...  \n",
       "173             7.70  0.64                          1.74      740  \n",
       "174             7.30  0.70                          1.56      750  \n",
       "175            10.20  0.59                          1.56      835  \n",
       "176             9.30  0.60                          1.62      840  \n",
       "177             9.20  0.61                          1.60      560  \n",
       "\n",
       "[178 rows x 14 columns]"
      ]
     },
     "execution_count": 8,
     "metadata": {},
     "output_type": "execute_result"
    }
   ],
   "source": [
    "df_wine = pd.read_csv('wine.data.csv', header=None)\n",
    "df_wine.columns = cols_name\n",
    "df_wine"
   ]
  },
  {
   "cell_type": "markdown",
   "metadata": {},
   "source": [
    "## Задание 2\n",
    "Удалите дубликаты строк в наборе данных; приведите размер набора данных до и после данной операции;"
   ]
  },
  {
   "cell_type": "code",
   "execution_count": 11,
   "metadata": {
    "scrolled": false
   },
   "outputs": [
    {
     "data": {
      "text/plain": [
       "(178, 14)"
      ]
     },
     "execution_count": 11,
     "metadata": {},
     "output_type": "execute_result"
    }
   ],
   "source": [
    "df_wine.shape"
   ]
  },
  {
   "cell_type": "code",
   "execution_count": 12,
   "metadata": {},
   "outputs": [],
   "source": [
    "df_wine.drop_duplicates(inplace=True)"
   ]
  },
  {
   "cell_type": "code",
   "execution_count": 13,
   "metadata": {},
   "outputs": [
    {
     "data": {
      "text/plain": [
       "(178, 14)"
      ]
     },
     "execution_count": 13,
     "metadata": {},
     "output_type": "execute_result"
    }
   ],
   "source": [
    "df_wine.shape"
   ]
  },
  {
   "cell_type": "markdown",
   "metadata": {},
   "source": [
    "## Задание 3\n",
    "Оцените сбалансированность данных по классам (постройте гистограмму). Используйте полученную информацию при выборе метрики оценки качества классификации (PR или ROC кривая)"
   ]
  },
  {
   "cell_type": "code",
   "execution_count": 16,
   "metadata": {},
   "outputs": [
    {
     "data": {
      "text/plain": [
       "<AxesSubplot:>"
      ]
     },
     "execution_count": 16,
     "metadata": {},
     "output_type": "execute_result"
    },
    {
     "data": {
      "image/png": "[encoded data removed]",
      "text/plain": [
       "<Figure size 432x288 with 1 Axes>"
      ]
     },
     "metadata": {
      "needs_background": "light"
     },
     "output_type": "display_data"
    }
   ],
   "source": [
    "df_wine['Type'].hist()"
   ]
  },
  {
   "cell_type": "markdown",
   "metadata": {},
   "source": [
    "Данные сбалансированны"
   ]
  },
  {
   "cell_type": "markdown",
   "metadata": {},
   "source": [
    "## Задание 4\n",
    "Выполните масштабирование количественных признаков; Постройте диаграммы BoxPlot для признаков до и после масштабирования. Выберите способ масштабирования (например, нормализацию или стандартизацию);"
   ]
  },
  {
   "cell_type": "code",
   "execution_count": 17,
   "metadata": {},
   "outputs": [
    {
     "data": {
      "text/plain": [
       "(array([ 1,  2,  3,  4,  5,  6,  7,  8,  9, 10, 11, 12, 13, 14]),\n",
       " [Text(1, 0, 'Type'),\n",
       "  Text(2, 0, 'Alcohol'),\n",
       "  Text(3, 0, 'Malic acid'),\n",
       "  Text(4, 0, 'Ash'),\n",
       "  Text(5, 0, 'Alcalinity of ash'),\n",
       "  Text(6, 0, 'Magnesium'),\n",
       "  Text(7, 0, 'Total phenols'),\n",
       "  Text(8, 0, 'Flavanoids'),\n",
       "  Text(9, 0, 'Nonflavanoid phenols'),\n",
       "  Text(10, 0, 'Proanthocyanins'),\n",
       "  Text(11, 0, 'Color intensity'),\n",
       "  Text(12, 0, 'Hue'),\n",
       "  Text(13, 0, 'OD280/OD315 of diluted wines'),\n",
       "  Text(14, 0, 'Proline')])"
      ]
     },
     "execution_count": 17,
     "metadata": {},
     "output_type": "execute_result"
    },
    {
     "data": {
      "image/png": "[encoded data removed]",
      "text/plain": [
       "<Figure size 864x864 with 1 Axes>"
      ]
     },
     "metadata": {
      "needs_background": "light"
     },
     "output_type": "display_data"
    }
   ],
   "source": [
    "rcParams['figure.figsize'] = 12, 12\n",
    "df_wine.boxplot()\n",
    "plt.xticks(rotation=60)"
   ]
  },
  {
   "cell_type": "code",
   "execution_count": 18,
   "metadata": {},
   "outputs": [
    {
     "data": {
      "text/plain": [
       "(array([ 1,  2,  3,  4,  5,  6,  7,  8,  9, 10, 11, 12, 13, 14]),\n",
       " [Text(1, 0, 'Alcohol'),\n",
       "  Text(2, 0, 'Malic acid'),\n",
       "  Text(3, 0, 'Ash'),\n",
       "  Text(4, 0, 'Alcalinity of ash'),\n",
       "  Text(5, 0, 'Magnesium'),\n",
       "  Text(6, 0, 'Total phenols'),\n",
       "  Text(7, 0, 'Flavanoids'),\n",
       "  Text(8, 0, 'Nonflavanoid phenols'),\n",
       "  Text(9, 0, 'Proanthocyanins'),\n",
       "  Text(10, 0, 'Color intensity'),\n",
       "  Text(11, 0, 'Hue'),\n",
       "  Text(12, 0, 'OD280/OD315 of diluted wines'),\n",
       "  Text(13, 0, 'Proline'),\n",
       "  Text(14, 0, 'Type')])"
      ]
     },
     "execution_count": 18,
     "metadata": {},
     "output_type": "execute_result"
    },
    {
     "data": {
      "image/png": "[encoded data removed]",
      "text/plain": [
       "<Figure size 864x864 with 1 Axes>"
      ]
     },
     "metadata": {
      "needs_background": "light"
     },
     "output_type": "display_data"
    }
   ],
   "source": [
    "scaler = StandardScaler()\n",
    "\n",
    "df_wine_scaled = scaler.fit_transform(df_wine[cols_name[1:]])\n",
    "df_wine_scaled = pd.DataFrame(df_wine_scaled, columns=df_wine.columns[1:])\n",
    "\n",
    "df_wine_scaled['Type'] = df_wine.Type\n",
    "df_wine_scaled.boxplot()\n",
    "plt.xticks(rotation=90)"
   ]
  },
  {
   "cell_type": "markdown",
   "metadata": {},
   "source": [
    "## Задание 5\n",
    "Выполните замену категориальных признаков"
   ]
  },
  {
   "cell_type": "code",
   "execution_count": 15,
   "metadata": {},
   "outputs": [
    {
     "name": "stdout",
     "output_type": "stream",
     "text": [
      "Numerical ['Type', 'Alcohol', 'Malic acid', 'Ash', 'Alcalinity of ash', 'Magnesium', 'Total phenols', 'Flavanoids', 'Nonflavanoid phenols', 'Proanthocyanins', 'Color intensity', 'Hue', 'OD280/OD315 of diluted wines', 'Proline']\n",
      "Categorial []\n"
     ]
    }
   ],
   "source": [
    "numerical = [i for i in df_wine.columns if df_wine[i].dtype.name != 'object']\n",
    "categorial = [i for i in df_wine.columns if df_wine[i].dtype.name == 'object']\n",
    "print(\"Numerical\",numerical)\n",
    "print(\"Categorial\",categorial)"
   ]
  },
  {
   "cell_type": "markdown",
   "metadata": {},
   "source": [
    "## Задание 6\n",
    "Оцените корреляцию между признаков и удалите те признаки, которые коррелируют с наибольшим числом других (удалять признаки нужно только для линейных методов классификации);"
   ]
  },
  {
   "cell_type": "code",
   "execution_count": 21,
   "metadata": {},
   "outputs": [
    {
     "data": {
      "text/plain": [
       "<AxesSubplot:>"
      ]
     },
     "execution_count": 21,
     "metadata": {},
     "output_type": "execute_result"
    },
    {
     "data": {
      "image/png": "[encoded data removed]",
      "text/plain": [
       "<Figure size 864x864 with 2 Axes>"
      ]
     },
     "metadata": {
      "needs_background": "light"
     },
     "output_type": "display_data"
    }
   ],
   "source": [
    "df_wine_scaled_corr = df_wine_scaled.corr()\n",
    "sns.heatmap(df_wine_scaled_corr, annot=True, fmt='.1f')"
   ]
  },
  {
   "cell_type": "code",
   "execution_count": 19,
   "metadata": {},
   "outputs": [
    {
     "name": "stdout",
     "output_type": "stream",
     "text": [
      "Alcohol                       :  -0.328222\n",
      "Malic acid                    :   0.437776\n",
      "Ash                           : weak corr!!!\n",
      "Alcalinity of ash             :   0.517859\n",
      "Magnesium                     : weak corr!!!\n",
      "Total phenols                 :  -0.719163\n",
      "Flavanoids                    :  -0.847498\n",
      "Nonflavanoid phenols          :   0.489109\n",
      "Proanthocyanins               :  -0.499130\n",
      "Color intensity               :   0.265668\n",
      "Hue                           :  -0.617369\n",
      "OD280/OD315 of diluted wines  :  -0.788230\n",
      "Proline                       :  -0.633717\n",
      "Type                          :   1.000000\n"
     ]
    }
   ],
   "source": [
    "for name, val in zip(df_wine_scaled.columns, df_wine_scaled.corr()['Type']):\n",
    "    print(f\"{name:<30}: \", end='')\n",
    "    print(f'{val:>10.6f}') if abs(val) > 0.25 else print('weak corr!!!')"
   ]
  },
  {
   "cell_type": "markdown",
   "metadata": {},
   "source": [
    "Данные столбцов 'Ash' и 'Magnesium' плохо коррелируют с целевой переменной 'Type'"
   ]
  },
  {
   "cell_type": "code",
   "execution_count": 20,
   "metadata": {},
   "outputs": [
    {
     "data": {
      "text/html": [
       "<div>\n",
       "<style scoped>\n",
       "    .dataframe tbody tr th:only-of-type {\n",
       "        vertical-align: middle;\n",
       "    }\n",
       "\n",
       "    .dataframe tbody tr th {\n",
       "        vertical-align: top;\n",
       "    }\n",
       "\n",
       "    .dataframe thead th {\n",
       "        text-align: right;\n",
       "    }\n",
       "</style>\n",
       "<table border=\"1\" class=\"dataframe\">\n",
       "  <thead>\n",
       "    <tr style=\"text-align: right;\">\n",
       "      <th></th>\n",
       "      <th>Alcohol</th>\n",
       "      <th>Malic acid</th>\n",
       "      <th>Alcalinity of ash</th>\n",
       "      <th>Total phenols</th>\n",
       "      <th>Flavanoids</th>\n",
       "      <th>Nonflavanoid phenols</th>\n",
       "      <th>Proanthocyanins</th>\n",
       "      <th>Color intensity</th>\n",
       "      <th>Hue</th>\n",
       "      <th>OD280/OD315 of diluted wines</th>\n",
       "      <th>Proline</th>\n",
       "      <th>Type</th>\n",
       "    </tr>\n",
       "  </thead>\n",
       "  <tbody>\n",
       "    <tr>\n",
       "      <th>0</th>\n",
       "      <td>1.518613</td>\n",
       "      <td>-0.562250</td>\n",
       "      <td>-1.169593</td>\n",
       "      <td>0.808997</td>\n",
       "      <td>1.034819</td>\n",
       "      <td>-0.659563</td>\n",
       "      <td>1.224884</td>\n",
       "      <td>0.251717</td>\n",
       "      <td>0.362177</td>\n",
       "      <td>1.847920</td>\n",
       "      <td>1.013009</td>\n",
       "      <td>1</td>\n",
       "    </tr>\n",
       "    <tr>\n",
       "      <th>1</th>\n",
       "      <td>0.246290</td>\n",
       "      <td>-0.499413</td>\n",
       "      <td>-2.490847</td>\n",
       "      <td>0.568648</td>\n",
       "      <td>0.733629</td>\n",
       "      <td>-0.820719</td>\n",
       "      <td>-0.544721</td>\n",
       "      <td>-0.293321</td>\n",
       "      <td>0.406051</td>\n",
       "      <td>1.113449</td>\n",
       "      <td>0.965242</td>\n",
       "      <td>1</td>\n",
       "    </tr>\n",
       "    <tr>\n",
       "      <th>2</th>\n",
       "      <td>0.196879</td>\n",
       "      <td>0.021231</td>\n",
       "      <td>-0.268738</td>\n",
       "      <td>0.808997</td>\n",
       "      <td>1.215533</td>\n",
       "      <td>-0.498407</td>\n",
       "      <td>2.135968</td>\n",
       "      <td>0.269020</td>\n",
       "      <td>0.318304</td>\n",
       "      <td>0.788587</td>\n",
       "      <td>1.395148</td>\n",
       "      <td>1</td>\n",
       "    </tr>\n",
       "    <tr>\n",
       "      <th>3</th>\n",
       "      <td>1.691550</td>\n",
       "      <td>-0.346811</td>\n",
       "      <td>-0.809251</td>\n",
       "      <td>2.491446</td>\n",
       "      <td>1.466525</td>\n",
       "      <td>-0.981875</td>\n",
       "      <td>1.032155</td>\n",
       "      <td>1.186068</td>\n",
       "      <td>-0.427544</td>\n",
       "      <td>1.184071</td>\n",
       "      <td>2.334574</td>\n",
       "      <td>1</td>\n",
       "    </tr>\n",
       "    <tr>\n",
       "      <th>4</th>\n",
       "      <td>0.295700</td>\n",
       "      <td>0.227694</td>\n",
       "      <td>0.451946</td>\n",
       "      <td>0.808997</td>\n",
       "      <td>0.663351</td>\n",
       "      <td>0.226796</td>\n",
       "      <td>0.401404</td>\n",
       "      <td>-0.319276</td>\n",
       "      <td>0.362177</td>\n",
       "      <td>0.449601</td>\n",
       "      <td>-0.037874</td>\n",
       "      <td>1</td>\n",
       "    </tr>\n",
       "    <tr>\n",
       "      <th>...</th>\n",
       "      <td>...</td>\n",
       "      <td>...</td>\n",
       "      <td>...</td>\n",
       "      <td>...</td>\n",
       "      <td>...</td>\n",
       "      <td>...</td>\n",
       "      <td>...</td>\n",
       "      <td>...</td>\n",
       "      <td>...</td>\n",
       "      <td>...</td>\n",
       "      <td>...</td>\n",
       "      <td>...</td>\n",
       "    </tr>\n",
       "    <tr>\n",
       "      <th>173</th>\n",
       "      <td>0.876275</td>\n",
       "      <td>2.974543</td>\n",
       "      <td>0.301803</td>\n",
       "      <td>-0.985614</td>\n",
       "      <td>-1.424900</td>\n",
       "      <td>1.274310</td>\n",
       "      <td>-0.930179</td>\n",
       "      <td>1.142811</td>\n",
       "      <td>-1.392758</td>\n",
       "      <td>-1.231206</td>\n",
       "      <td>-0.021952</td>\n",
       "      <td>3</td>\n",
       "    </tr>\n",
       "    <tr>\n",
       "      <th>174</th>\n",
       "      <td>0.493343</td>\n",
       "      <td>1.412609</td>\n",
       "      <td>1.052516</td>\n",
       "      <td>-0.793334</td>\n",
       "      <td>-1.284344</td>\n",
       "      <td>0.549108</td>\n",
       "      <td>-0.316950</td>\n",
       "      <td>0.969783</td>\n",
       "      <td>-1.129518</td>\n",
       "      <td>-1.485445</td>\n",
       "      <td>0.009893</td>\n",
       "      <td>3</td>\n",
       "    </tr>\n",
       "    <tr>\n",
       "      <th>175</th>\n",
       "      <td>0.332758</td>\n",
       "      <td>1.744744</td>\n",
       "      <td>0.151661</td>\n",
       "      <td>-1.129824</td>\n",
       "      <td>-1.344582</td>\n",
       "      <td>0.549108</td>\n",
       "      <td>-0.422075</td>\n",
       "      <td>2.224236</td>\n",
       "      <td>-1.612125</td>\n",
       "      <td>-1.485445</td>\n",
       "      <td>0.280575</td>\n",
       "      <td>3</td>\n",
       "    </tr>\n",
       "    <tr>\n",
       "      <th>176</th>\n",
       "      <td>0.209232</td>\n",
       "      <td>0.227694</td>\n",
       "      <td>0.151661</td>\n",
       "      <td>-1.033684</td>\n",
       "      <td>-1.354622</td>\n",
       "      <td>1.354888</td>\n",
       "      <td>-0.229346</td>\n",
       "      <td>1.834923</td>\n",
       "      <td>-1.568252</td>\n",
       "      <td>-1.400699</td>\n",
       "      <td>0.296498</td>\n",
       "      <td>3</td>\n",
       "    </tr>\n",
       "    <tr>\n",
       "      <th>177</th>\n",
       "      <td>1.395086</td>\n",
       "      <td>1.583165</td>\n",
       "      <td>1.502943</td>\n",
       "      <td>-0.392751</td>\n",
       "      <td>-1.274305</td>\n",
       "      <td>1.596623</td>\n",
       "      <td>-0.422075</td>\n",
       "      <td>1.791666</td>\n",
       "      <td>-1.524378</td>\n",
       "      <td>-1.428948</td>\n",
       "      <td>-0.595160</td>\n",
       "      <td>3</td>\n",
       "    </tr>\n",
       "  </tbody>\n",
       "</table>\n",
       "<p>178 rows × 12 columns</p>\n",
       "</div>"
      ],
      "text/plain": [
       "      Alcohol  Malic acid  Alcalinity of ash  Total phenols  Flavanoids  \\\n",
       "0    1.518613   -0.562250          -1.169593       0.808997    1.034819   \n",
       "1    0.246290   -0.499413          -2.490847       0.568648    0.733629   \n",
       "2    0.196879    0.021231          -0.268738       0.808997    1.215533   \n",
       "3    1.691550   -0.346811          -0.809251       2.491446    1.466525   \n",
       "4    0.295700    0.227694           0.451946       0.808997    0.663351   \n",
       "..        ...         ...                ...            ...         ...   \n",
       "173  0.876275    2.974543           0.301803      -0.985614   -1.424900   \n",
       "174  0.493343    1.412609           1.052516      -0.793334   -1.284344   \n",
       "175  0.332758    1.744744           0.151661      -1.129824   -1.344582   \n",
       "176  0.209232    0.227694           0.151661      -1.033684   -1.354622   \n",
       "177  1.395086    1.583165           1.502943      -0.392751   -1.274305   \n",
       "\n",
       "     Nonflavanoid phenols  Proanthocyanins  Color intensity       Hue  \\\n",
       "0               -0.659563         1.224884         0.251717  0.362177   \n",
       "1               -0.820719        -0.544721        -0.293321  0.406051   \n",
       "2               -0.498407         2.135968         0.269020  0.318304   \n",
       "3               -0.981875         1.032155         1.186068 -0.427544   \n",
       "4                0.226796         0.401404        -0.319276  0.362177   \n",
       "..                    ...              ...              ...       ...   \n",
       "173              1.274310        -0.930179         1.142811 -1.392758   \n",
       "174              0.549108        -0.316950         0.969783 -1.129518   \n",
       "175              0.549108        -0.422075         2.224236 -1.612125   \n",
       "176              1.354888        -0.229346         1.834923 -1.568252   \n",
       "177              1.596623        -0.422075         1.791666 -1.524378   \n",
       "\n",
       "     OD280/OD315 of diluted wines   Proline  Type  \n",
       "0                        1.847920  1.013009     1  \n",
       "1                        1.113449  0.965242     1  \n",
       "2                        0.788587  1.395148     1  \n",
       "3                        1.184071  2.334574     1  \n",
       "4                        0.449601 -0.037874     1  \n",
       "..                            ...       ...   ...  \n",
       "173                     -1.231206 -0.021952     3  \n",
       "174                     -1.485445  0.009893     3  \n",
       "175                     -1.485445  0.280575     3  \n",
       "176                     -1.400699  0.296498     3  \n",
       "177                     -1.428948 -0.595160     3  \n",
       "\n",
       "[178 rows x 12 columns]"
      ]
     },
     "execution_count": 20,
     "metadata": {},
     "output_type": "execute_result"
    }
   ],
   "source": [
    "df_wine_scaled_lin = df_wine_scaled.drop(axis=0, columns=['Ash', 'Magnesium'])\n",
    "df_wine_scaled_lin"
   ]
  },
  {
   "cell_type": "markdown",
   "metadata": {},
   "source": [
    "## Задание 7"
   ]
  },
  {
   "cell_type": "code",
   "execution_count": 7,
   "metadata": {},
   "outputs": [
    {
     "data": {
      "text/plain": [
       "Type                            178\n",
       "Alcohol                         178\n",
       "Malic acid                      178\n",
       "Ash                             178\n",
       "Alcalinity of ash               178\n",
       "Magnesium                       178\n",
       "Total phenols                   178\n",
       "Flavanoids                      178\n",
       "Nonflavanoid phenols            178\n",
       "Proanthocyanins                 178\n",
       "Color intensity                 178\n",
       "Hue                             178\n",
       "OD280/OD315 of diluted wines    178\n",
       "Proline                         178\n",
       "dtype: int64"
      ]
     },
     "execution_count": 7,
     "metadata": {},
     "output_type": "execute_result"
    }
   ],
   "source": [
    "df_wine.notnull().count()"
   ]
  },
  {
   "cell_type": "markdown",
   "metadata": {},
   "source": [
    "## Задание 8\n",
    "Решите поставленную задачу классификации в соответствии с заданием. "
   ]
  },
  {
   "cell_type": "code",
   "execution_count": 11,
   "metadata": {},
   "outputs": [],
   "source": [
    "from sklearn.model_selection import GridSearchCV, train_test_split\n",
    "from sklearn.neighbors import KNeighborsClassifier\n",
    "from sklearn.linear_model import Perceptron\n",
    "from sklearn.metrics import accuracy_score"
   ]
  },
  {
   "cell_type": "markdown",
   "metadata": {},
   "source": [
    "### Подготовка данных"
   ]
  },
  {
   "cell_type": "code",
   "execution_count": 36,
   "metadata": {},
   "outputs": [],
   "source": [
    "# разделим полученные данные на данные для обучения и теста\n",
    "X = np.array(df_wine_scaled_lin.drop('Type', axis=1))\n",
    "y = np.array(df_wine_scaled_lin['Type']) \n",
    "\n",
    "X_train, X_test, y_train, y_test = train_test_split(X, y, test_size = 0.3, random_state = 0)"
   ]
  },
  {
   "cell_type": "markdown",
   "metadata": {},
   "source": [
    "### KNeighborsClassifier"
   ]
  },
  {
   "cell_type": "code",
   "execution_count": 37,
   "metadata": {},
   "outputs": [
    {
     "data": {
      "text/plain": [
       "GridSearchCV(estimator=KNeighborsClassifier(),\n",
       "             param_grid={'n_neighbors': range(5, 12)})"
      ]
     },
     "execution_count": 37,
     "metadata": {},
     "output_type": "execute_result"
    }
   ],
   "source": [
    "knc = KNeighborsClassifier()\n",
    "params = {\n",
    "    'n_neighbors': range(5, 12),\n",
    "}\n",
    "\n",
    "knc_grid = GridSearchCV(knc, param_grid=params)\n",
    "knc_grid.fit(X_train, y_train)"
   ]
  },
  {
   "cell_type": "code",
   "execution_count": 38,
   "metadata": {},
   "outputs": [
    {
     "name": "stdout",
     "output_type": "stream",
     "text": [
      "best train score: 0.9593\t at neighbors: 7\n"
     ]
    }
   ],
   "source": [
    "best_nieghbors = knc_grid.best_estimator_.n_neighbors\n",
    "best_score = knc_grid.best_score_\n",
    "print(f'best train score: {best_score:.4f}\\t at neighbors: {best_nieghbors}')"
   ]
  },
  {
   "cell_type": "code",
   "execution_count": 39,
   "metadata": {},
   "outputs": [
    {
     "data": {
      "text/plain": [
       "KNeighborsClassifier(n_neighbors=7)"
      ]
     },
     "execution_count": 39,
     "metadata": {},
     "output_type": "execute_result"
    }
   ],
   "source": [
    "knc = KNeighborsClassifier(n_neighbors=best_nieghbors)\n",
    "knc.fit(X_train, y_train)"
   ]
  },
  {
   "cell_type": "code",
   "execution_count": 40,
   "metadata": {},
   "outputs": [
    {
     "name": "stdout",
     "output_type": "stream",
     "text": [
      "Точность на test: 0.98148\n",
      "Точность на train: 0.98387\n"
     ]
    }
   ],
   "source": [
    "print(f'Точность на test: {accuracy_score(y_test, knc.predict(X_test)):.5f}')\n",
    "print(f'Точность на train: {accuracy_score(y_train, knc.predict(X_train)):.5f}')"
   ]
  },
  {
   "cell_type": "markdown",
   "metadata": {},
   "source": [
    "Значения незначительно различаются (Предсказание на train немного больше чем на test)"
   ]
  },
  {
   "cell_type": "markdown",
   "metadata": {},
   "source": [
    "### Perceptron"
   ]
  },
  {
   "cell_type": "code",
   "execution_count": 41,
   "metadata": {},
   "outputs": [
    {
     "data": {
      "text/plain": [
       "GridSearchCV(estimator=Perceptron(),\n",
       "             param_grid={'alpha': array([1.0e-05, 6.0e-05, 1.1e-04, 1.6e-04, 2.1e-04, 2.6e-04, 3.1e-04,\n",
       "       3.6e-04, 4.1e-04, 4.6e-04, 5.1e-04, 5.6e-04, 6.1e-04, 6.6e-04,\n",
       "       7.1e-04, 7.6e-04, 8.1e-04, 8.6e-04, 9.1e-04, 9.6e-04])})"
      ]
     },
     "execution_count": 41,
     "metadata": {},
     "output_type": "execute_result"
    }
   ],
   "source": [
    "per = Perceptron()\n",
    "params = {\n",
    "    'alpha' : np.arange(0.00001, 0.001, 0.00005),\n",
    "}\n",
    "\n",
    "per_grid = GridSearchCV(per, param_grid=params)\n",
    "per_grid.fit(X_train, y_train)"
   ]
  },
  {
   "cell_type": "code",
   "execution_count": 42,
   "metadata": {},
   "outputs": [
    {
     "name": "stdout",
     "output_type": "stream",
     "text": [
      "best train score: 0.9433\t at alpha: 1e-05\n"
     ]
    }
   ],
   "source": [
    "best_alpha = per_grid.best_estimator_.alpha\n",
    "best_score = per_grid.best_score_\n",
    "\n",
    "print(f'best train score: {best_score:.4f}\\t at alpha: {best_alpha}')"
   ]
  },
  {
   "cell_type": "code",
   "execution_count": 43,
   "metadata": {},
   "outputs": [
    {
     "data": {
      "text/plain": [
       "Perceptron(alpha=1e-05)"
      ]
     },
     "execution_count": 43,
     "metadata": {},
     "output_type": "execute_result"
    }
   ],
   "source": [
    "per = Perceptron(alpha=best_alpha)\n",
    "per.fit(X_train, y_train)"
   ]
  },
  {
   "cell_type": "code",
   "execution_count": 44,
   "metadata": {},
   "outputs": [
    {
     "name": "stdout",
     "output_type": "stream",
     "text": [
      "Точность на test: 0.98148\n",
      "Точность на train: 0.98387\n"
     ]
    }
   ],
   "source": [
    "print(f'Точность на test: {accuracy_score(y_test, per.predict(X_test)):.5f}')\n",
    "print(f'Точность на train: {accuracy_score(y_train, per.predict(X_train)):.5f}')"
   ]
  },
  {
   "cell_type": "markdown",
   "metadata": {},
   "source": [
    "Видно, что точность предсказания на train отличается от test, что может говорить о наличии переобучения"
   ]
  },
  {
   "cell_type": "markdown",
   "metadata": {},
   "source": [
    "## Задание 9\n",
    "Сравните кривые для классификаторов, указанных в задании, сделайте выводы"
   ]
  },
  {
   "cell_type": "code",
   "execution_count": 45,
   "metadata": {},
   "outputs": [],
   "source": [
    "from sklearn.metrics import auc, roc_curve, precision_recall_curve, average_precision_score\n",
    "from sklearn.calibration import CalibratedClassifierCV\n",
    "import scikitplot as skplt"
   ]
  },
  {
   "cell_type": "code",
   "execution_count": 46,
   "metadata": {
    "scrolled": true
   },
   "outputs": [
    {
     "data": {
      "text/plain": [
       "array([[1.        , 0.        , 0.        ],\n",
       "       [0.        , 0.        , 1.        ],\n",
       "       [0.        , 1.        , 0.        ],\n",
       "       [1.        , 0.        , 0.        ],\n",
       "       [0.42857143, 0.57142857, 0.        ],\n",
       "       [0.14285714, 0.85714286, 0.        ],\n",
       "       [1.        , 0.        , 0.        ],\n",
       "       [0.        , 0.        , 1.        ],\n",
       "       [0.        , 1.        , 0.        ],\n",
       "       [0.        , 1.        , 0.        ],\n",
       "       [0.        , 0.        , 1.        ],\n",
       "       [0.        , 0.        , 1.        ],\n",
       "       [1.        , 0.        , 0.        ],\n",
       "       [0.28571429, 0.71428571, 0.        ],\n",
       "       [0.        , 0.        , 1.        ],\n",
       "       [0.        , 1.        , 0.        ],\n",
       "       [1.        , 0.        , 0.        ],\n",
       "       [1.        , 0.        , 0.        ],\n",
       "       [0.        , 0.57142857, 0.42857143],\n",
       "       [1.        , 0.        , 0.        ],\n",
       "       [0.57142857, 0.42857143, 0.        ],\n",
       "       [1.        , 0.        , 0.        ],\n",
       "       [0.85714286, 0.14285714, 0.        ],\n",
       "       [0.        , 1.        , 0.        ],\n",
       "       [0.        , 0.85714286, 0.14285714],\n",
       "       [0.        , 1.        , 0.        ],\n",
       "       [0.        , 1.        , 0.        ],\n",
       "       [0.        , 1.        , 0.        ],\n",
       "       [0.        , 1.        , 0.        ],\n",
       "       [0.        , 0.        , 1.        ],\n",
       "       [1.        , 0.        , 0.        ],\n",
       "       [1.        , 0.        , 0.        ],\n",
       "       [0.        , 1.        , 0.        ],\n",
       "       [1.        , 0.        , 0.        ],\n",
       "       [1.        , 0.        , 0.        ],\n",
       "       [1.        , 0.        , 0.        ],\n",
       "       [0.        , 0.        , 1.        ],\n",
       "       [0.        , 0.85714286, 0.14285714],\n",
       "       [0.        , 1.        , 0.        ],\n",
       "       [0.        , 0.        , 1.        ],\n",
       "       [0.85714286, 0.14285714, 0.        ],\n",
       "       [1.        , 0.        , 0.        ],\n",
       "       [0.14285714, 0.85714286, 0.        ],\n",
       "       [0.        , 1.        , 0.        ],\n",
       "       [0.        , 1.        , 0.        ],\n",
       "       [1.        , 0.        , 0.        ],\n",
       "       [0.        , 0.        , 1.        ],\n",
       "       [0.28571429, 0.71428571, 0.        ],\n",
       "       [0.        , 0.        , 1.        ],\n",
       "       [1.        , 0.        , 0.        ],\n",
       "       [0.        , 0.        , 1.        ],\n",
       "       [0.        , 0.14285714, 0.85714286],\n",
       "       [1.        , 0.        , 0.        ],\n",
       "       [0.        , 0.        , 1.        ]])"
      ]
     },
     "execution_count": 46,
     "metadata": {},
     "output_type": "execute_result"
    }
   ],
   "source": [
    "prob_knc = knc.predict_proba(X_test)\n",
    "prob_knc"
   ]
  },
  {
   "cell_type": "code",
   "execution_count": 47,
   "metadata": {
    "scrolled": true
   },
   "outputs": [
    {
     "data": {
      "text/plain": [
       "array([[9.99999495e-01, 1.80215651e-11, 5.05078019e-07],\n",
       "       [9.30585740e-13, 8.74568511e-19, 1.00000000e+00],\n",
       "       [1.15638689e-08, 9.99999961e-01, 2.76820262e-08],\n",
       "       [9.99979220e-01, 3.81578611e-11, 2.07804016e-05],\n",
       "       [2.55614182e-05, 9.99974396e-01, 4.26550988e-08],\n",
       "       [5.58166258e-03, 9.94403543e-01, 1.47946579e-05],\n",
       "       [9.99999560e-01, 3.10811967e-14, 4.39511703e-07],\n",
       "       [3.63032856e-11, 1.28904903e-13, 1.00000000e+00],\n",
       "       [1.03271235e-04, 9.99896713e-01, 1.57734611e-08],\n",
       "       [9.20388168e-08, 9.99999883e-01, 2.46034137e-08],\n",
       "       [4.90659456e-04, 3.79807519e-13, 9.99509341e-01],\n",
       "       [2.06441218e-09, 1.52086697e-09, 9.99999996e-01],\n",
       "       [9.99999955e-01, 1.04784905e-17, 4.49987373e-08],\n",
       "       [2.59516691e-04, 9.99740481e-01, 2.18852845e-09],\n",
       "       [3.80150381e-08, 7.31313091e-17, 9.99999962e-01],\n",
       "       [3.29543695e-09, 9.99999996e-01, 4.26094635e-10],\n",
       "       [9.99995686e-01, 2.23347745e-09, 4.31149112e-06],\n",
       "       [9.99978897e-01, 2.03722728e-22, 2.11025767e-05],\n",
       "       [3.14736794e-08, 5.66414462e-01, 4.33585506e-01],\n",
       "       [9.99999995e-01, 3.98310503e-09, 8.52548251e-10],\n",
       "       [3.17443308e-02, 9.68255669e-01, 1.20246563e-11],\n",
       "       [9.99854445e-01, 1.43293801e-04, 2.26157271e-06],\n",
       "       [4.14330507e-01, 5.85666668e-01, 2.82573628e-06],\n",
       "       [4.67519176e-03, 9.95324769e-01, 3.90438757e-08],\n",
       "       [2.09561886e-05, 9.99786011e-01, 1.93032898e-04],\n",
       "       [2.72945777e-09, 9.99999055e-01, 9.41951186e-07],\n",
       "       [1.11104846e-06, 9.99998280e-01, 6.08659191e-07],\n",
       "       [3.60360137e-10, 9.99990875e-01, 9.12451415e-06],\n",
       "       [1.93949249e-04, 9.99797105e-01, 8.94549896e-06],\n",
       "       [9.04925977e-08, 1.29292433e-18, 9.99999910e-01],\n",
       "       [9.99999991e-01, 2.61420269e-11, 8.84263862e-09],\n",
       "       [9.99999930e-01, 1.44999146e-11, 6.98720134e-08],\n",
       "       [2.27625582e-07, 9.99829999e-01, 1.69773761e-04],\n",
       "       [9.99938662e-01, 9.40406422e-16, 6.13375050e-05],\n",
       "       [9.99999982e-01, 1.72757150e-08, 2.35635938e-10],\n",
       "       [9.99996550e-01, 3.44849149e-06, 1.87631148e-09],\n",
       "       [1.31891750e-05, 4.12631365e-09, 9.99986807e-01],\n",
       "       [5.07596210e-07, 9.99983445e-01, 1.60474798e-05],\n",
       "       [3.32340323e-11, 9.99999926e-01, 7.38745055e-08],\n",
       "       [2.51603017e-08, 1.01040573e-15, 9.99999975e-01],\n",
       "       [7.29143429e-01, 2.70856570e-01, 1.00919039e-09],\n",
       "       [9.99988232e-01, 9.58142797e-09, 1.17583027e-05],\n",
       "       [5.56588962e-08, 9.99999944e-01, 5.83314726e-12],\n",
       "       [1.63010829e-06, 9.99998121e-01, 2.48792865e-07],\n",
       "       [9.33528914e-12, 9.99992911e-01, 7.08937773e-06],\n",
       "       [9.99999710e-01, 2.86797444e-07, 3.34898005e-09],\n",
       "       [2.08204343e-06, 3.39116165e-12, 9.99997918e-01],\n",
       "       [4.32038474e-07, 9.99996621e-01, 2.94663400e-06],\n",
       "       [3.78620677e-07, 5.68342115e-19, 9.99999621e-01],\n",
       "       [9.99952978e-01, 1.58069345e-13, 4.70216655e-05],\n",
       "       [4.54137363e-11, 7.20751501e-05, 9.99927925e-01],\n",
       "       [7.55156406e-06, 2.44311299e-09, 9.99992446e-01],\n",
       "       [9.99998149e-01, 1.85017498e-06, 3.63546470e-10],\n",
       "       [3.41869101e-07, 1.28989637e-26, 9.99999658e-01]])"
      ]
     },
     "execution_count": 47,
     "metadata": {},
     "output_type": "execute_result"
    }
   ],
   "source": [
    "prob_per = per._predict_proba_lr(X_test)\n",
    "prob_per"
   ]
  },
  {
   "cell_type": "code",
   "execution_count": 48,
   "metadata": {
    "scrolled": true
   },
   "outputs": [
    {
     "data": {
      "text/plain": [
       "(array([1, 3, 2, 1, 2, 2, 1, 3, 2, 2, 3, 3, 1, 2, 3, 2, 1, 1, 2, 1, 2, 1,\n",
       "        1, 2, 2, 2, 2, 2, 2, 3, 1, 1, 2, 1, 1, 1, 3, 2, 2, 3, 1, 1, 2, 2,\n",
       "        2, 1, 3, 2, 3, 1, 3, 3, 1, 3], dtype=int64),\n",
       " array([[1.        , 0.        , 0.        ],\n",
       "        [0.        , 0.        , 1.        ],\n",
       "        [0.        , 1.        , 0.        ],\n",
       "        [1.        , 0.        , 0.        ],\n",
       "        [0.42857143, 0.57142857, 0.        ],\n",
       "        [0.14285714, 0.85714286, 0.        ],\n",
       "        [1.        , 0.        , 0.        ],\n",
       "        [0.        , 0.        , 1.        ],\n",
       "        [0.        , 1.        , 0.        ],\n",
       "        [0.        , 1.        , 0.        ],\n",
       "        [0.        , 0.        , 1.        ],\n",
       "        [0.        , 0.        , 1.        ],\n",
       "        [1.        , 0.        , 0.        ],\n",
       "        [0.28571429, 0.71428571, 0.        ],\n",
       "        [0.        , 0.        , 1.        ],\n",
       "        [0.        , 1.        , 0.        ],\n",
       "        [1.        , 0.        , 0.        ],\n",
       "        [1.        , 0.        , 0.        ],\n",
       "        [0.        , 0.57142857, 0.42857143],\n",
       "        [1.        , 0.        , 0.        ],\n",
       "        [0.57142857, 0.42857143, 0.        ],\n",
       "        [1.        , 0.        , 0.        ],\n",
       "        [0.85714286, 0.14285714, 0.        ],\n",
       "        [0.        , 1.        , 0.        ],\n",
       "        [0.        , 0.85714286, 0.14285714],\n",
       "        [0.        , 1.        , 0.        ],\n",
       "        [0.        , 1.        , 0.        ],\n",
       "        [0.        , 1.        , 0.        ],\n",
       "        [0.        , 1.        , 0.        ],\n",
       "        [0.        , 0.        , 1.        ],\n",
       "        [1.        , 0.        , 0.        ],\n",
       "        [1.        , 0.        , 0.        ],\n",
       "        [0.        , 1.        , 0.        ],\n",
       "        [1.        , 0.        , 0.        ],\n",
       "        [1.        , 0.        , 0.        ],\n",
       "        [1.        , 0.        , 0.        ],\n",
       "        [0.        , 0.        , 1.        ],\n",
       "        [0.        , 0.85714286, 0.14285714],\n",
       "        [0.        , 1.        , 0.        ],\n",
       "        [0.        , 0.        , 1.        ],\n",
       "        [0.85714286, 0.14285714, 0.        ],\n",
       "        [1.        , 0.        , 0.        ],\n",
       "        [0.14285714, 0.85714286, 0.        ],\n",
       "        [0.        , 1.        , 0.        ],\n",
       "        [0.        , 1.        , 0.        ],\n",
       "        [1.        , 0.        , 0.        ],\n",
       "        [0.        , 0.        , 1.        ],\n",
       "        [0.28571429, 0.71428571, 0.        ],\n",
       "        [0.        , 0.        , 1.        ],\n",
       "        [1.        , 0.        , 0.        ],\n",
       "        [0.        , 0.        , 1.        ],\n",
       "        [0.        , 0.14285714, 0.85714286],\n",
       "        [1.        , 0.        , 0.        ],\n",
       "        [0.        , 0.        , 1.        ]]))"
      ]
     },
     "execution_count": 48,
     "metadata": {},
     "output_type": "execute_result"
    }
   ],
   "source": [
    "y_test, prob_knc"
   ]
  },
  {
   "cell_type": "code",
   "execution_count": 49,
   "metadata": {},
   "outputs": [],
   "source": [
    "from sklearn.preprocessing import label_binarize"
   ]
  },
  {
   "cell_type": "code",
   "execution_count": 50,
   "metadata": {
    "scrolled": true
   },
   "outputs": [
    {
     "data": {
      "text/plain": [
       "array([[1, 0, 0],\n",
       "       [0, 0, 1],\n",
       "       [0, 1, 0],\n",
       "       [1, 0, 0],\n",
       "       [0, 1, 0],\n",
       "       [0, 1, 0],\n",
       "       [1, 0, 0],\n",
       "       [0, 0, 1],\n",
       "       [0, 1, 0],\n",
       "       [0, 1, 0],\n",
       "       [0, 0, 1],\n",
       "       [0, 0, 1],\n",
       "       [1, 0, 0],\n",
       "       [0, 1, 0],\n",
       "       [0, 0, 1],\n",
       "       [0, 1, 0],\n",
       "       [1, 0, 0],\n",
       "       [1, 0, 0],\n",
       "       [0, 1, 0],\n",
       "       [1, 0, 0],\n",
       "       [0, 1, 0],\n",
       "       [1, 0, 0],\n",
       "       [1, 0, 0],\n",
       "       [0, 1, 0],\n",
       "       [0, 1, 0],\n",
       "       [0, 1, 0],\n",
       "       [0, 1, 0],\n",
       "       [0, 1, 0],\n",
       "       [0, 1, 0],\n",
       "       [0, 0, 1],\n",
       "       [1, 0, 0],\n",
       "       [1, 0, 0],\n",
       "       [0, 1, 0],\n",
       "       [1, 0, 0],\n",
       "       [1, 0, 0],\n",
       "       [1, 0, 0],\n",
       "       [0, 0, 1],\n",
       "       [0, 1, 0],\n",
       "       [0, 1, 0],\n",
       "       [0, 0, 1],\n",
       "       [1, 0, 0],\n",
       "       [1, 0, 0],\n",
       "       [0, 1, 0],\n",
       "       [0, 1, 0],\n",
       "       [0, 1, 0],\n",
       "       [1, 0, 0],\n",
       "       [0, 0, 1],\n",
       "       [0, 1, 0],\n",
       "       [0, 0, 1],\n",
       "       [1, 0, 0],\n",
       "       [0, 0, 1],\n",
       "       [0, 0, 1],\n",
       "       [1, 0, 0],\n",
       "       [0, 0, 1]])"
      ]
     },
     "execution_count": 50,
     "metadata": {},
     "output_type": "execute_result"
    }
   ],
   "source": [
    "y_test_bin = label_binarize(y_test, classes=[1, 2, 3])\n",
    "y_test_bin"
   ]
  },
  {
   "cell_type": "code",
   "execution_count": 51,
   "metadata": {},
   "outputs": [
    {
     "data": {
      "image/png": "[encoded data removed]",
      "text/plain": [
       "<Figure size 360x360 with 1 Axes>"
      ]
     },
     "metadata": {
      "needs_background": "light"
     },
     "output_type": "display_data"
    },
    {
     "data": {
      "image/png": "[encoded data removed]",
      "text/plain": [
       "<Figure size 360x360 with 1 Axes>"
      ]
     },
     "metadata": {
      "needs_background": "light"
     },
     "output_type": "display_data"
    },
    {
     "data": {
      "image/png": "[encoded data removed]",
      "text/plain": [
       "<Figure size 360x360 with 1 Axes>"
      ]
     },
     "metadata": {
      "needs_background": "light"
     },
     "output_type": "display_data"
    }
   ],
   "source": [
    "for i in range(prob_knc.shape[1]):\n",
    "    plt.figure(figsize=(5, 5)) # Размер изображения\n",
    "\n",
    "    tpr, fpr, thresholds = roc_curve(y_test_bin[:, i], -prob_knc[:, i], pos_label=True)\n",
    "    roc_auc = auc(fpr, tpr)\n",
    "    plt.plot(fpr, tpr, label=f'{name} ROC curve (area, = {roc_auc})')\n",
    "    \n",
    "    tpr, fpr, thresholds = roc_curve(y_test_bin[:, i], -prob_per[:, i], pos_label=True)\n",
    "    roc_auc = auc(fpr, tpr)\n",
    "    plt.plot(fpr, tpr, label=f'{name} ROC curve (area, = {roc_auc})')\n",
    "\n",
    "    plt.xlabel('False Positive Rate')\n",
    "    plt.ylabel('True Positive Rate')\n",
    "    \n",
    "    plt.legend(loc='lower right', fontsize='medium')\n",
    "    plt.show()"
   ]
  },
  {
   "cell_type": "code",
   "execution_count": 52,
   "metadata": {},
   "outputs": [
    {
     "data": {
      "image/png": "[encoded data removed]",
      "text/plain": [
       "<Figure size 360x360 with 1 Axes>"
      ]
     },
     "metadata": {
      "needs_background": "light"
     },
     "output_type": "display_data"
    },
    {
     "data": {
      "image/png": "[encoded data removed]",
      "text/plain": [
       "<Figure size 360x360 with 1 Axes>"
      ]
     },
     "metadata": {
      "needs_background": "light"
     },
     "output_type": "display_data"
    },
    {
     "data": {
      "image/png": "[encoded data removed]",
      "text/plain": [
       "<Figure size 360x360 with 1 Axes>"
      ]
     },
     "metadata": {
      "needs_background": "light"
     },
     "output_type": "display_data"
    }
   ],
   "source": [
    "for i in range(prob_knc.shape[1]):\n",
    "    plt.figure(figsize=(5, 5))\n",
    "\n",
    "    precision, recall, thresholds = precision_recall_curve(y_test_bin[:, i], prob_knc[:, i], pos_label=True)\n",
    "    aps_knn0 = average_precision_score(y_test_bin[:, i], prob_knc[:, i])\n",
    "    plt.plot(recall, precision, label='%s PR (area = %f)' % ('KNeighborsClassifier', aps_knn0)) \n",
    "\n",
    "    precision, recall, thresholds = precision_recall_curve(y_test_bin[:, i], prob_per[:, i])\n",
    "    aps_slf1 = average_precision_score(y_test_bin[:, i], prob_per[:,i])\n",
    "    plt.plot(recall, precision, label='%s PR (area = %f)' % ('PerceptronClassifier', aps_slf1))\n",
    "    \n",
    "    plt.xlabel('Recall')\n",
    "    plt.ylabel('Precision')\n",
    "\n",
    "    plt.ylim([-0.1, 1.1])\n",
    "    \n",
    "    plt.legend(loc='lower right', fontsize='medium')\n",
    "    plt.show()"
   ]
  },
  {
   "cell_type": "markdown",
   "metadata": {},
   "source": [
    "Исходя из представленных выше результатов работы моделей, можно определить, что обучение и предсказание моделей близка к \"идеальному\", у моделей одинаковые показатели качества работы на основании ROC и PR кривых."
   ]
  }
 ],
 "metadata": {
  "kernelspec": {
   "display_name": "Python 3",
   "language": "python",
   "name": "python3"
  },
  "language_info": {
   "codemirror_mode": {
    "name": "ipython",
    "version": 3
   },
   "file_extension": ".py",
   "mimetype": "text/x-python",
   "name": "python",
   "nbconvert_exporter": "python",
   "pygments_lexer": "ipython3",
   "version": "3.9.2"
  }
 },
 "nbformat": 4,
 "nbformat_minor": 4
}
