{
 "cells": [
  {
   "cell_type": "markdown",
   "id": "collected-browse",
   "metadata": {},
   "source": [
    "# Сипаков Вячеслав Всеволодович Лабораторная работа #3"
   ]
  },
  {
   "cell_type": "markdown",
   "id": "enormous-billion",
   "metadata": {},
   "source": [
    "## Набор данных: 5 - titanic\n",
    "## Классификаторы:\n",
    "#####     2 - классификатор K ближайших соседей (задаётся радиус для выбора ближайших объектов)\n",
    "#####     3 - линейный классификатор (персептрон)"
   ]
  },
  {
   "cell_type": "code",
   "execution_count": 1,
   "id": "departmental-things",
   "metadata": {},
   "outputs": [],
   "source": [
    "import numpy as np\n",
    "import pandas as pd\n",
    "import sklearn as sk\n",
    "import seaborn as sns\n",
    "import matplotlib.pyplot as plt\n",
    "from scipy import interp\n",
    "from sklearn.preprocessing import MinMaxScaler\n",
    "from sklearn.model_selection import train_test_split\n",
    "from sklearn.model_selection import GridSearchCV\n",
    "from sklearn.neighbors import RadiusNeighborsClassifier\n",
    "from sklearn.linear_model import Perceptron\n",
    "from sklearn.calibration import CalibratedClassifierCV\n",
    "from sklearn.metrics import precision_recall_curve, classification_report, average_precision_score, roc_curve, auc"
   ]
  },
  {
   "cell_type": "markdown",
   "id": "handed-engagement",
   "metadata": {},
   "source": [
    "#### 1. Изучить набор данных. Создать описание набора данных на русском языке. Описать признаки, используемые в наборе данных (включить полученные описания в отчёт)."
   ]
  },
  {
   "cell_type": "code",
   "execution_count": 2,
   "id": "ahead-emphasis",
   "metadata": {},
   "outputs": [
    {
     "data": {
      "text/html": [
       "<div>\n",
       "<style scoped>\n",
       "    .dataframe tbody tr th:only-of-type {\n",
       "        vertical-align: middle;\n",
       "    }\n",
       "\n",
       "    .dataframe tbody tr th {\n",
       "        vertical-align: top;\n",
       "    }\n",
       "\n",
       "    .dataframe thead th {\n",
       "        text-align: right;\n",
       "    }\n",
       "</style>\n",
       "<table border=\"1\" class=\"dataframe\">\n",
       "  <thead>\n",
       "    <tr style=\"text-align: right;\">\n",
       "      <th></th>\n",
       "      <th>pclass</th>\n",
       "      <th>survived</th>\n",
       "      <th>name</th>\n",
       "      <th>sex</th>\n",
       "      <th>age</th>\n",
       "      <th>sibsp</th>\n",
       "      <th>parch</th>\n",
       "      <th>ticket</th>\n",
       "      <th>fare</th>\n",
       "      <th>cabin</th>\n",
       "      <th>embarked</th>\n",
       "      <th>boat</th>\n",
       "      <th>body</th>\n",
       "      <th>home.dest</th>\n",
       "    </tr>\n",
       "  </thead>\n",
       "  <tbody>\n",
       "    <tr>\n",
       "      <th>0</th>\n",
       "      <td>1.0</td>\n",
       "      <td>1.0</td>\n",
       "      <td>Allen, Miss. Elisabeth Walton</td>\n",
       "      <td>female</td>\n",
       "      <td>29</td>\n",
       "      <td>0.0</td>\n",
       "      <td>0.0</td>\n",
       "      <td>24160</td>\n",
       "      <td>211,3375</td>\n",
       "      <td>B5</td>\n",
       "      <td>S</td>\n",
       "      <td>2</td>\n",
       "      <td>NaN</td>\n",
       "      <td>St Louis, MO</td>\n",
       "    </tr>\n",
       "    <tr>\n",
       "      <th>1</th>\n",
       "      <td>1.0</td>\n",
       "      <td>1.0</td>\n",
       "      <td>Allison, Master. Hudson Trevor</td>\n",
       "      <td>male</td>\n",
       "      <td>0,9167</td>\n",
       "      <td>1.0</td>\n",
       "      <td>2.0</td>\n",
       "      <td>113781</td>\n",
       "      <td>151,5500</td>\n",
       "      <td>C22 C26</td>\n",
       "      <td>S</td>\n",
       "      <td>11</td>\n",
       "      <td>NaN</td>\n",
       "      <td>Montreal, PQ / Chesterville, ON</td>\n",
       "    </tr>\n",
       "    <tr>\n",
       "      <th>2</th>\n",
       "      <td>1.0</td>\n",
       "      <td>0.0</td>\n",
       "      <td>Allison, Miss. Helen Loraine</td>\n",
       "      <td>female</td>\n",
       "      <td>2</td>\n",
       "      <td>1.0</td>\n",
       "      <td>2.0</td>\n",
       "      <td>113781</td>\n",
       "      <td>151,5500</td>\n",
       "      <td>C22 C26</td>\n",
       "      <td>S</td>\n",
       "      <td>NaN</td>\n",
       "      <td>NaN</td>\n",
       "      <td>Montreal, PQ / Chesterville, ON</td>\n",
       "    </tr>\n",
       "    <tr>\n",
       "      <th>3</th>\n",
       "      <td>1.0</td>\n",
       "      <td>0.0</td>\n",
       "      <td>Allison, Mr. Hudson Joshua Creighton</td>\n",
       "      <td>male</td>\n",
       "      <td>30</td>\n",
       "      <td>1.0</td>\n",
       "      <td>2.0</td>\n",
       "      <td>113781</td>\n",
       "      <td>151,5500</td>\n",
       "      <td>C22 C26</td>\n",
       "      <td>S</td>\n",
       "      <td>NaN</td>\n",
       "      <td>135.0</td>\n",
       "      <td>Montreal, PQ / Chesterville, ON</td>\n",
       "    </tr>\n",
       "    <tr>\n",
       "      <th>4</th>\n",
       "      <td>1.0</td>\n",
       "      <td>0.0</td>\n",
       "      <td>Allison, Mrs. Hudson J C (Bessie Waldo Daniels)</td>\n",
       "      <td>female</td>\n",
       "      <td>25</td>\n",
       "      <td>1.0</td>\n",
       "      <td>2.0</td>\n",
       "      <td>113781</td>\n",
       "      <td>151,5500</td>\n",
       "      <td>C22 C26</td>\n",
       "      <td>S</td>\n",
       "      <td>NaN</td>\n",
       "      <td>NaN</td>\n",
       "      <td>Montreal, PQ / Chesterville, ON</td>\n",
       "    </tr>\n",
       "    <tr>\n",
       "      <th>...</th>\n",
       "      <td>...</td>\n",
       "      <td>...</td>\n",
       "      <td>...</td>\n",
       "      <td>...</td>\n",
       "      <td>...</td>\n",
       "      <td>...</td>\n",
       "      <td>...</td>\n",
       "      <td>...</td>\n",
       "      <td>...</td>\n",
       "      <td>...</td>\n",
       "      <td>...</td>\n",
       "      <td>...</td>\n",
       "      <td>...</td>\n",
       "      <td>...</td>\n",
       "    </tr>\n",
       "    <tr>\n",
       "      <th>1305</th>\n",
       "      <td>3.0</td>\n",
       "      <td>0.0</td>\n",
       "      <td>Zabour, Miss. Thamine</td>\n",
       "      <td>female</td>\n",
       "      <td>NaN</td>\n",
       "      <td>1.0</td>\n",
       "      <td>0.0</td>\n",
       "      <td>2665</td>\n",
       "      <td>14,4542</td>\n",
       "      <td>NaN</td>\n",
       "      <td>C</td>\n",
       "      <td>NaN</td>\n",
       "      <td>NaN</td>\n",
       "      <td>NaN</td>\n",
       "    </tr>\n",
       "    <tr>\n",
       "      <th>1306</th>\n",
       "      <td>3.0</td>\n",
       "      <td>0.0</td>\n",
       "      <td>Zakarian, Mr. Mapriededer</td>\n",
       "      <td>male</td>\n",
       "      <td>26,5</td>\n",
       "      <td>0.0</td>\n",
       "      <td>0.0</td>\n",
       "      <td>2656</td>\n",
       "      <td>7,2250</td>\n",
       "      <td>NaN</td>\n",
       "      <td>C</td>\n",
       "      <td>NaN</td>\n",
       "      <td>304.0</td>\n",
       "      <td>NaN</td>\n",
       "    </tr>\n",
       "    <tr>\n",
       "      <th>1307</th>\n",
       "      <td>3.0</td>\n",
       "      <td>0.0</td>\n",
       "      <td>Zakarian, Mr. Ortin</td>\n",
       "      <td>male</td>\n",
       "      <td>27</td>\n",
       "      <td>0.0</td>\n",
       "      <td>0.0</td>\n",
       "      <td>2670</td>\n",
       "      <td>7,2250</td>\n",
       "      <td>NaN</td>\n",
       "      <td>C</td>\n",
       "      <td>NaN</td>\n",
       "      <td>NaN</td>\n",
       "      <td>NaN</td>\n",
       "    </tr>\n",
       "    <tr>\n",
       "      <th>1308</th>\n",
       "      <td>3.0</td>\n",
       "      <td>0.0</td>\n",
       "      <td>Zimmerman, Mr. Leo</td>\n",
       "      <td>male</td>\n",
       "      <td>29</td>\n",
       "      <td>0.0</td>\n",
       "      <td>0.0</td>\n",
       "      <td>315082</td>\n",
       "      <td>7,8750</td>\n",
       "      <td>NaN</td>\n",
       "      <td>S</td>\n",
       "      <td>NaN</td>\n",
       "      <td>NaN</td>\n",
       "      <td>NaN</td>\n",
       "    </tr>\n",
       "    <tr>\n",
       "      <th>1309</th>\n",
       "      <td>NaN</td>\n",
       "      <td>NaN</td>\n",
       "      <td>NaN</td>\n",
       "      <td>NaN</td>\n",
       "      <td>NaN</td>\n",
       "      <td>NaN</td>\n",
       "      <td>NaN</td>\n",
       "      <td>NaN</td>\n",
       "      <td>NaN</td>\n",
       "      <td>NaN</td>\n",
       "      <td>NaN</td>\n",
       "      <td>NaN</td>\n",
       "      <td>NaN</td>\n",
       "      <td>NaN</td>\n",
       "    </tr>\n",
       "  </tbody>\n",
       "</table>\n",
       "<p>1310 rows × 14 columns</p>\n",
       "</div>"
      ],
      "text/plain": [
       "      pclass  survived                                             name  \\\n",
       "0        1.0       1.0                    Allen, Miss. Elisabeth Walton   \n",
       "1        1.0       1.0                   Allison, Master. Hudson Trevor   \n",
       "2        1.0       0.0                     Allison, Miss. Helen Loraine   \n",
       "3        1.0       0.0             Allison, Mr. Hudson Joshua Creighton   \n",
       "4        1.0       0.0  Allison, Mrs. Hudson J C (Bessie Waldo Daniels)   \n",
       "...      ...       ...                                              ...   \n",
       "1305     3.0       0.0                            Zabour, Miss. Thamine   \n",
       "1306     3.0       0.0                        Zakarian, Mr. Mapriededer   \n",
       "1307     3.0       0.0                              Zakarian, Mr. Ortin   \n",
       "1308     3.0       0.0                               Zimmerman, Mr. Leo   \n",
       "1309     NaN       NaN                                              NaN   \n",
       "\n",
       "         sex     age  sibsp  parch  ticket      fare    cabin embarked boat  \\\n",
       "0     female      29    0.0    0.0   24160  211,3375       B5        S    2   \n",
       "1       male  0,9167    1.0    2.0  113781  151,5500  C22 C26        S   11   \n",
       "2     female       2    1.0    2.0  113781  151,5500  C22 C26        S  NaN   \n",
       "3       male      30    1.0    2.0  113781  151,5500  C22 C26        S  NaN   \n",
       "4     female      25    1.0    2.0  113781  151,5500  C22 C26        S  NaN   \n",
       "...      ...     ...    ...    ...     ...       ...      ...      ...  ...   \n",
       "1305  female     NaN    1.0    0.0    2665   14,4542      NaN        C  NaN   \n",
       "1306    male    26,5    0.0    0.0    2656    7,2250      NaN        C  NaN   \n",
       "1307    male      27    0.0    0.0    2670    7,2250      NaN        C  NaN   \n",
       "1308    male      29    0.0    0.0  315082    7,8750      NaN        S  NaN   \n",
       "1309     NaN     NaN    NaN    NaN     NaN       NaN      NaN      NaN  NaN   \n",
       "\n",
       "       body                        home.dest  \n",
       "0       NaN                     St Louis, MO  \n",
       "1       NaN  Montreal, PQ / Chesterville, ON  \n",
       "2       NaN  Montreal, PQ / Chesterville, ON  \n",
       "3     135.0  Montreal, PQ / Chesterville, ON  \n",
       "4       NaN  Montreal, PQ / Chesterville, ON  \n",
       "...     ...                              ...  \n",
       "1305    NaN                              NaN  \n",
       "1306  304.0                              NaN  \n",
       "1307    NaN                              NaN  \n",
       "1308    NaN                              NaN  \n",
       "1309    NaN                              NaN  \n",
       "\n",
       "[1310 rows x 14 columns]"
      ]
     },
     "execution_count": 2,
     "metadata": {},
     "output_type": "execute_result"
    }
   ],
   "source": [
    "df = pd.read_csv('!data/titanic3.csv', sep = ';')\n",
    "df"
   ]
  },
  {
   "cell_type": "code",
   "execution_count": 3,
   "id": "chicken-conspiracy",
   "metadata": {},
   "outputs": [
    {
     "name": "stdout",
     "output_type": "stream",
     "text": [
      "<class 'pandas.core.frame.DataFrame'>\n",
      "RangeIndex: 1310 entries, 0 to 1309\n",
      "Data columns (total 14 columns):\n",
      " #   Column     Non-Null Count  Dtype  \n",
      "---  ------     --------------  -----  \n",
      " 0   pclass     1309 non-null   float64\n",
      " 1   survived   1309 non-null   float64\n",
      " 2   name       1309 non-null   object \n",
      " 3   sex        1309 non-null   object \n",
      " 4   age        1046 non-null   object \n",
      " 5   sibsp      1309 non-null   float64\n",
      " 6   parch      1309 non-null   float64\n",
      " 7   ticket     1309 non-null   object \n",
      " 8   fare       1308 non-null   object \n",
      " 9   cabin      295 non-null    object \n",
      " 10  embarked   1307 non-null   object \n",
      " 11  boat       486 non-null    object \n",
      " 12  body       121 non-null    float64\n",
      " 13  home.dest  745 non-null    object \n",
      "dtypes: float64(5), object(9)\n",
      "memory usage: 143.4+ KB\n"
     ]
    }
   ],
   "source": [
    "df.info()"
   ]
  },
  {
   "cell_type": "markdown",
   "id": "welsh-bible",
   "metadata": {},
   "source": [
    "| Переменная | Описание | Тип значения |\n",
    "| --- | --- | --- |\n",
    "|pclass    | класс билета | число от 1 до 3\n",
    "survived  | выжил| 1 - да, 0 - нет\n",
    "name      |  имя| строка\n",
    "sex       | пол| 'male' - муж. 'female' - жен\n",
    "age       | возраст| число\n",
    "sibsp     | число братьев, сестер, супругов на борту| число\n",
    "parch     | число родителей, детей на борту | число\n",
    "ticket    | номер билета | число\n",
    "fare      | цена билета | число\n",
    "cabin     | номер каюты | число\n",
    "embarked  | порт погрузки| число\n",
    "boat      | номер спасательной шлюпки| число\n",
    "body      | идентификационный номер тела| число\n",
    "home.dest | дом.назначение| строка\n",
    "\n",
    "В качестве класса выберем \"survived\" - (выжил-не выжил)"
   ]
  },
  {
   "cell_type": "markdown",
   "id": "utility-description",
   "metadata": {},
   "source": [
    "#### 2. Удалите дубликаты строк в наборе данных; приведите размер набора данных до и после данной операции"
   ]
  },
  {
   "cell_type": "code",
   "execution_count": 4,
   "id": "received-flush",
   "metadata": {},
   "outputs": [
    {
     "name": "stdout",
     "output_type": "stream",
     "text": [
      "(1310, 14)\n",
      "(1310, 14)\n"
     ]
    }
   ],
   "source": [
    "print(df.shape)\n",
    "df = df.drop_duplicates()\n",
    "print(df.shape)"
   ]
  },
  {
   "cell_type": "markdown",
   "id": "protecting-binary",
   "metadata": {},
   "source": [
    "#### 3. Оцените сбалансированность данных по классам (постройте гистограмму). Используйте полученную информацию при выборе метрики оценки качества классификации (PR или ROC кривая)\n",
    "В качестве классов берем \"Выжил\" / \"Не выжил\""
   ]
  },
  {
   "cell_type": "code",
   "execution_count": 5,
   "id": "owned-bikini",
   "metadata": {},
   "outputs": [
    {
     "data": {
      "image/png": "[encoded data removed]",
      "text/plain": [
       "<Figure size 432x288 with 1 Axes>"
      ]
     },
     "metadata": {
      "needs_background": "light"
     },
     "output_type": "display_data"
    }
   ],
   "source": [
    "df['survived'].value_counts().plot(kind = 'barh')\n",
    "plt.show()"
   ]
  },
  {
   "cell_type": "markdown",
   "id": "fifty-little",
   "metadata": {},
   "source": [
    "Количество элементов в выборках отличается -> классы несбалансированы."
   ]
  },
  {
   "cell_type": "markdown",
   "id": "occupied-disposal",
   "metadata": {},
   "source": [
    "#### 4. Выполните масштабирование количественных признаков; Постройте диаграммы BoxPlot для признаков до и после масштабирования. Выберите способ масштабирования (например, нормализацию или стандартизацию)"
   ]
  },
  {
   "cell_type": "code",
   "execution_count": 6,
   "id": "dominican-belize",
   "metadata": {},
   "outputs": [
    {
     "name": "stdout",
     "output_type": "stream",
     "text": [
      "Numerical attributes:  ['survived', 'age', 'sibsp', 'parch', 'fare']\n",
      "Categorial attributes:  ['pclass', 'sex', 'embarked']\n"
     ]
    }
   ],
   "source": [
    "useless_attribs = ['body', 'boat', 'name', 'cabin', 'ticket', 'home.dest']\n",
    "df1 = df\n",
    "df1.drop(useless_attribs, axis = 1, inplace=True)\n",
    "def comma_to_dot(obj): # конвертация значений с запятой в значения с точкой\n",
    "    if type(obj) == str:\n",
    "        return float(obj.replace(',', '.'))\n",
    "    else:\n",
    "        return obj\n",
    "df1['age'] = df['age'].apply(lambda x: comma_to_dot(x))\n",
    "df1['fare'] = df['fare'].apply(lambda x: comma_to_dot(x))\n",
    "df1['pclass'] = df['pclass'].apply(lambda x: str(x))\n",
    "\n",
    "numerical_attributes = [i for i in df.columns if df1[i].dtype.name != 'object']\n",
    "categorial_attributes = [i for i in df.columns if df[i].dtype.name == 'object']\n",
    "print('Numerical attributes: ', numerical_attributes)\n",
    "print('Categorial attributes: ', categorial_attributes)"
   ]
  },
  {
   "cell_type": "code",
   "execution_count": 7,
   "id": "impressive-collective",
   "metadata": {},
   "outputs": [
    {
     "data": {
      "text/html": [
       "<div>\n",
       "<style scoped>\n",
       "    .dataframe tbody tr th:only-of-type {\n",
       "        vertical-align: middle;\n",
       "    }\n",
       "\n",
       "    .dataframe tbody tr th {\n",
       "        vertical-align: top;\n",
       "    }\n",
       "\n",
       "    .dataframe thead th {\n",
       "        text-align: right;\n",
       "    }\n",
       "</style>\n",
       "<table border=\"1\" class=\"dataframe\">\n",
       "  <thead>\n",
       "    <tr style=\"text-align: right;\">\n",
       "      <th></th>\n",
       "      <th>pclass</th>\n",
       "      <th>survived</th>\n",
       "      <th>sex</th>\n",
       "      <th>age</th>\n",
       "      <th>sibsp</th>\n",
       "      <th>parch</th>\n",
       "      <th>fare</th>\n",
       "      <th>embarked</th>\n",
       "    </tr>\n",
       "  </thead>\n",
       "  <tbody>\n",
       "    <tr>\n",
       "      <th>0</th>\n",
       "      <td>1.0</td>\n",
       "      <td>1.0</td>\n",
       "      <td>female</td>\n",
       "      <td>29.0000</td>\n",
       "      <td>0.0</td>\n",
       "      <td>0.0</td>\n",
       "      <td>211.3375</td>\n",
       "      <td>S</td>\n",
       "    </tr>\n",
       "    <tr>\n",
       "      <th>1</th>\n",
       "      <td>1.0</td>\n",
       "      <td>1.0</td>\n",
       "      <td>male</td>\n",
       "      <td>0.9167</td>\n",
       "      <td>1.0</td>\n",
       "      <td>2.0</td>\n",
       "      <td>151.5500</td>\n",
       "      <td>S</td>\n",
       "    </tr>\n",
       "    <tr>\n",
       "      <th>2</th>\n",
       "      <td>1.0</td>\n",
       "      <td>0.0</td>\n",
       "      <td>female</td>\n",
       "      <td>2.0000</td>\n",
       "      <td>1.0</td>\n",
       "      <td>2.0</td>\n",
       "      <td>151.5500</td>\n",
       "      <td>S</td>\n",
       "    </tr>\n",
       "    <tr>\n",
       "      <th>3</th>\n",
       "      <td>1.0</td>\n",
       "      <td>0.0</td>\n",
       "      <td>male</td>\n",
       "      <td>30.0000</td>\n",
       "      <td>1.0</td>\n",
       "      <td>2.0</td>\n",
       "      <td>151.5500</td>\n",
       "      <td>S</td>\n",
       "    </tr>\n",
       "    <tr>\n",
       "      <th>4</th>\n",
       "      <td>1.0</td>\n",
       "      <td>0.0</td>\n",
       "      <td>female</td>\n",
       "      <td>25.0000</td>\n",
       "      <td>1.0</td>\n",
       "      <td>2.0</td>\n",
       "      <td>151.5500</td>\n",
       "      <td>S</td>\n",
       "    </tr>\n",
       "    <tr>\n",
       "      <th>...</th>\n",
       "      <td>...</td>\n",
       "      <td>...</td>\n",
       "      <td>...</td>\n",
       "      <td>...</td>\n",
       "      <td>...</td>\n",
       "      <td>...</td>\n",
       "      <td>...</td>\n",
       "      <td>...</td>\n",
       "    </tr>\n",
       "    <tr>\n",
       "      <th>1305</th>\n",
       "      <td>3.0</td>\n",
       "      <td>0.0</td>\n",
       "      <td>female</td>\n",
       "      <td>NaN</td>\n",
       "      <td>1.0</td>\n",
       "      <td>0.0</td>\n",
       "      <td>14.4542</td>\n",
       "      <td>C</td>\n",
       "    </tr>\n",
       "    <tr>\n",
       "      <th>1306</th>\n",
       "      <td>3.0</td>\n",
       "      <td>0.0</td>\n",
       "      <td>male</td>\n",
       "      <td>26.5000</td>\n",
       "      <td>0.0</td>\n",
       "      <td>0.0</td>\n",
       "      <td>7.2250</td>\n",
       "      <td>C</td>\n",
       "    </tr>\n",
       "    <tr>\n",
       "      <th>1307</th>\n",
       "      <td>3.0</td>\n",
       "      <td>0.0</td>\n",
       "      <td>male</td>\n",
       "      <td>27.0000</td>\n",
       "      <td>0.0</td>\n",
       "      <td>0.0</td>\n",
       "      <td>7.2250</td>\n",
       "      <td>C</td>\n",
       "    </tr>\n",
       "    <tr>\n",
       "      <th>1308</th>\n",
       "      <td>3.0</td>\n",
       "      <td>0.0</td>\n",
       "      <td>male</td>\n",
       "      <td>29.0000</td>\n",
       "      <td>0.0</td>\n",
       "      <td>0.0</td>\n",
       "      <td>7.8750</td>\n",
       "      <td>S</td>\n",
       "    </tr>\n",
       "    <tr>\n",
       "      <th>1309</th>\n",
       "      <td>nan</td>\n",
       "      <td>NaN</td>\n",
       "      <td>NaN</td>\n",
       "      <td>NaN</td>\n",
       "      <td>NaN</td>\n",
       "      <td>NaN</td>\n",
       "      <td>NaN</td>\n",
       "      <td>NaN</td>\n",
       "    </tr>\n",
       "  </tbody>\n",
       "</table>\n",
       "<p>1310 rows × 8 columns</p>\n",
       "</div>"
      ],
      "text/plain": [
       "     pclass  survived     sex      age  sibsp  parch      fare embarked\n",
       "0       1.0       1.0  female  29.0000    0.0    0.0  211.3375        S\n",
       "1       1.0       1.0    male   0.9167    1.0    2.0  151.5500        S\n",
       "2       1.0       0.0  female   2.0000    1.0    2.0  151.5500        S\n",
       "3       1.0       0.0    male  30.0000    1.0    2.0  151.5500        S\n",
       "4       1.0       0.0  female  25.0000    1.0    2.0  151.5500        S\n",
       "...     ...       ...     ...      ...    ...    ...       ...      ...\n",
       "1305    3.0       0.0  female      NaN    1.0    0.0   14.4542        C\n",
       "1306    3.0       0.0    male  26.5000    0.0    0.0    7.2250        C\n",
       "1307    3.0       0.0    male  27.0000    0.0    0.0    7.2250        C\n",
       "1308    3.0       0.0    male  29.0000    0.0    0.0    7.8750        S\n",
       "1309    nan       NaN     NaN      NaN    NaN    NaN       NaN      NaN\n",
       "\n",
       "[1310 rows x 8 columns]"
      ]
     },
     "execution_count": 7,
     "metadata": {},
     "output_type": "execute_result"
    }
   ],
   "source": [
    "df1"
   ]
  },
  {
   "cell_type": "code",
   "execution_count": 8,
   "id": "conditional-bouquet",
   "metadata": {},
   "outputs": [
    {
     "data": {
      "image/png": "[encoded data removed]",
      "text/plain": [
       "<Figure size 1008x720 with 1 Axes>"
      ]
     },
     "metadata": {
      "needs_background": "light"
     },
     "output_type": "display_data"
    }
   ],
   "source": [
    "plt.figure(figsize=(14,10))\n",
    "sns.boxplot(data = df1[numerical_attributes])\n",
    "plt.show()"
   ]
  },
  {
   "cell_type": "code",
   "execution_count": 9,
   "id": "cleared-extreme",
   "metadata": {},
   "outputs": [
    {
     "data": {
      "text/html": [
       "<div>\n",
       "<style scoped>\n",
       "    .dataframe tbody tr th:only-of-type {\n",
       "        vertical-align: middle;\n",
       "    }\n",
       "\n",
       "    .dataframe tbody tr th {\n",
       "        vertical-align: top;\n",
       "    }\n",
       "\n",
       "    .dataframe thead th {\n",
       "        text-align: right;\n",
       "    }\n",
       "</style>\n",
       "<table border=\"1\" class=\"dataframe\">\n",
       "  <thead>\n",
       "    <tr style=\"text-align: right;\">\n",
       "      <th></th>\n",
       "      <th>pclass</th>\n",
       "      <th>survived</th>\n",
       "      <th>sex</th>\n",
       "      <th>age</th>\n",
       "      <th>sibsp</th>\n",
       "      <th>parch</th>\n",
       "      <th>fare</th>\n",
       "      <th>embarked</th>\n",
       "    </tr>\n",
       "  </thead>\n",
       "  <tbody>\n",
       "    <tr>\n",
       "      <th>0</th>\n",
       "      <td>1.0</td>\n",
       "      <td>1.0</td>\n",
       "      <td>female</td>\n",
       "      <td>0.361169</td>\n",
       "      <td>0.000</td>\n",
       "      <td>0.000000</td>\n",
       "      <td>0.412503</td>\n",
       "      <td>S</td>\n",
       "    </tr>\n",
       "    <tr>\n",
       "      <th>1</th>\n",
       "      <td>1.0</td>\n",
       "      <td>1.0</td>\n",
       "      <td>male</td>\n",
       "      <td>0.009395</td>\n",
       "      <td>0.125</td>\n",
       "      <td>0.222222</td>\n",
       "      <td>0.295806</td>\n",
       "      <td>S</td>\n",
       "    </tr>\n",
       "    <tr>\n",
       "      <th>2</th>\n",
       "      <td>1.0</td>\n",
       "      <td>0.0</td>\n",
       "      <td>female</td>\n",
       "      <td>0.022964</td>\n",
       "      <td>0.125</td>\n",
       "      <td>0.222222</td>\n",
       "      <td>0.295806</td>\n",
       "      <td>S</td>\n",
       "    </tr>\n",
       "    <tr>\n",
       "      <th>3</th>\n",
       "      <td>1.0</td>\n",
       "      <td>0.0</td>\n",
       "      <td>male</td>\n",
       "      <td>0.373695</td>\n",
       "      <td>0.125</td>\n",
       "      <td>0.222222</td>\n",
       "      <td>0.295806</td>\n",
       "      <td>S</td>\n",
       "    </tr>\n",
       "    <tr>\n",
       "      <th>4</th>\n",
       "      <td>1.0</td>\n",
       "      <td>0.0</td>\n",
       "      <td>female</td>\n",
       "      <td>0.311064</td>\n",
       "      <td>0.125</td>\n",
       "      <td>0.222222</td>\n",
       "      <td>0.295806</td>\n",
       "      <td>S</td>\n",
       "    </tr>\n",
       "    <tr>\n",
       "      <th>...</th>\n",
       "      <td>...</td>\n",
       "      <td>...</td>\n",
       "      <td>...</td>\n",
       "      <td>...</td>\n",
       "      <td>...</td>\n",
       "      <td>...</td>\n",
       "      <td>...</td>\n",
       "      <td>...</td>\n",
       "    </tr>\n",
       "    <tr>\n",
       "      <th>1301</th>\n",
       "      <td>3.0</td>\n",
       "      <td>0.0</td>\n",
       "      <td>female</td>\n",
       "      <td>0.179540</td>\n",
       "      <td>0.125</td>\n",
       "      <td>0.000000</td>\n",
       "      <td>0.028213</td>\n",
       "      <td>C</td>\n",
       "    </tr>\n",
       "    <tr>\n",
       "      <th>1302</th>\n",
       "      <td>3.0</td>\n",
       "      <td>0.0</td>\n",
       "      <td>female</td>\n",
       "      <td>0.348643</td>\n",
       "      <td>0.125</td>\n",
       "      <td>0.000000</td>\n",
       "      <td>0.028213</td>\n",
       "      <td>C</td>\n",
       "    </tr>\n",
       "    <tr>\n",
       "      <th>1303</th>\n",
       "      <td>3.0</td>\n",
       "      <td>0.0</td>\n",
       "      <td>male</td>\n",
       "      <td>0.329854</td>\n",
       "      <td>0.000</td>\n",
       "      <td>0.000000</td>\n",
       "      <td>0.014102</td>\n",
       "      <td>C</td>\n",
       "    </tr>\n",
       "    <tr>\n",
       "      <th>1304</th>\n",
       "      <td>3.0</td>\n",
       "      <td>0.0</td>\n",
       "      <td>male</td>\n",
       "      <td>0.336117</td>\n",
       "      <td>0.000</td>\n",
       "      <td>0.000000</td>\n",
       "      <td>0.014102</td>\n",
       "      <td>C</td>\n",
       "    </tr>\n",
       "    <tr>\n",
       "      <th>1305</th>\n",
       "      <td>3.0</td>\n",
       "      <td>0.0</td>\n",
       "      <td>male</td>\n",
       "      <td>0.361169</td>\n",
       "      <td>0.000</td>\n",
       "      <td>0.000000</td>\n",
       "      <td>0.015371</td>\n",
       "      <td>S</td>\n",
       "    </tr>\n",
       "  </tbody>\n",
       "</table>\n",
       "<p>1306 rows × 8 columns</p>\n",
       "</div>"
      ],
      "text/plain": [
       "     pclass  survived     sex       age  sibsp     parch      fare embarked\n",
       "0       1.0       1.0  female  0.361169  0.000  0.000000  0.412503        S\n",
       "1       1.0       1.0    male  0.009395  0.125  0.222222  0.295806        S\n",
       "2       1.0       0.0  female  0.022964  0.125  0.222222  0.295806        S\n",
       "3       1.0       0.0    male  0.373695  0.125  0.222222  0.295806        S\n",
       "4       1.0       0.0  female  0.311064  0.125  0.222222  0.295806        S\n",
       "...     ...       ...     ...       ...    ...       ...       ...      ...\n",
       "1301    3.0       0.0  female  0.179540  0.125  0.000000  0.028213        C\n",
       "1302    3.0       0.0  female  0.348643  0.125  0.000000  0.028213        C\n",
       "1303    3.0       0.0    male  0.329854  0.000  0.000000  0.014102        C\n",
       "1304    3.0       0.0    male  0.336117  0.000  0.000000  0.014102        C\n",
       "1305    3.0       0.0    male  0.361169  0.000  0.000000  0.015371        S\n",
       "\n",
       "[1306 rows x 8 columns]"
      ]
     },
     "execution_count": 9,
     "metadata": {},
     "output_type": "execute_result"
    }
   ],
   "source": [
    "df1['age'] = df1['age'].fillna(df1['age'].median()) # заполним пропущенные значения параметра age медианными\n",
    "\n",
    "df1 = df1.dropna().reset_index(drop = True)\n",
    "\n",
    "scaler = MinMaxScaler()\n",
    "df1[numerical_attributes] = scaler.fit_transform(df1[numerical_attributes])\n",
    "df1"
   ]
  },
  {
   "cell_type": "code",
   "execution_count": 10,
   "id": "affiliated-airline",
   "metadata": {},
   "outputs": [
    {
     "data": {
      "image/png": "[encoded data removed]",
      "text/plain": [
       "<Figure size 1008x720 with 1 Axes>"
      ]
     },
     "metadata": {
      "needs_background": "light"
     },
     "output_type": "display_data"
    }
   ],
   "source": [
    "plt.figure(figsize = (14,10))\n",
    "sns.boxplot(data = df1[numerical_attributes])\n",
    "plt.show()"
   ]
  },
  {
   "cell_type": "code",
   "execution_count": 11,
   "id": "convenient-folder",
   "metadata": {},
   "outputs": [
    {
     "name": "stdout",
     "output_type": "stream",
     "text": [
      "binary_attributes:\n",
      "sex :  ['female' 'male']\n",
      "nonbinary_attributes:\n",
      "pclass :  ['1.0' '2.0' '3.0']\n",
      "embarked :  ['S' 'C' 'Q']\n",
      "(1306, 12)\n"
     ]
    }
   ],
   "source": [
    "# выделим бинарные и небинарные признаки\n",
    "binary_attributes = [i for i in categorial_attributes if len(df1[i].unique()) == 2]\n",
    "nonbinary_attributes = [i for i in categorial_attributes if len(df1[i].unique()) > 2]\n",
    "\n",
    "print('binary_attributes:')\n",
    "for i in binary_attributes:\n",
    "    print(i,': ', df1[i].unique())\n",
    "    \n",
    "print('nonbinary_attributes:')\n",
    "for i in nonbinary_attributes:\n",
    "    print(i,': ', df1[i].unique())\n",
    "    \n",
    "# для бинарных заменим значения на 1 и 0\n",
    "for attr in binary_attributes:\n",
    "    for i, unique_item in enumerate(df1[attr].unique()):\n",
    "        df1[attr] = df1[attr].replace(to_replace=[unique_item], value = [i])\n",
    "        \n",
    "# для небинарных применим dummy-кодирование\n",
    "df1_nonbinary = pd.get_dummies(df1[nonbinary_attributes])\n",
    "df1.drop(nonbinary_attributes, axis = 1, inplace = True)\n",
    "df1 = pd.concat([df1_nonbinary, df1] , axis = 1)\n",
    "\n",
    "print(df1.shape)"
   ]
  },
  {
   "cell_type": "markdown",
   "id": "mechanical-density",
   "metadata": {},
   "source": [
    "#### 6. Оцените корреляцию между признаками и удалите те признаки, которые коррелируют с наибольшим числом других (удалять признаки нужно только для линейных методов классификации)"
   ]
  },
  {
   "cell_type": "code",
   "execution_count": 12,
   "id": "anticipated-negative",
   "metadata": {},
   "outputs": [
    {
     "data": {
      "image/png": "[encoded data removed]",
      "text/plain": [
       "<Figure size 432x288 with 2 Axes>"
      ]
     },
     "metadata": {
      "needs_background": "light"
     },
     "output_type": "display_data"
    }
   ],
   "source": [
    "df_corr = df1.drop('survived', axis = 1).corr()\n",
    "sns.heatmap(df_corr)\n",
    "plt.show()"
   ]
  },
  {
   "cell_type": "code",
   "execution_count": 13,
   "id": "experienced-journey",
   "metadata": {},
   "outputs": [
    {
     "data": {
      "text/html": [
       "<div>\n",
       "<style scoped>\n",
       "    .dataframe tbody tr th:only-of-type {\n",
       "        vertical-align: middle;\n",
       "    }\n",
       "\n",
       "    .dataframe tbody tr th {\n",
       "        vertical-align: top;\n",
       "    }\n",
       "\n",
       "    .dataframe thead th {\n",
       "        text-align: right;\n",
       "    }\n",
       "</style>\n",
       "<table border=\"1\" class=\"dataframe\">\n",
       "  <thead>\n",
       "    <tr style=\"text-align: right;\">\n",
       "      <th></th>\n",
       "      <th>pclass_1.0</th>\n",
       "      <th>pclass_2.0</th>\n",
       "      <th>pclass_3.0</th>\n",
       "      <th>embarked_C</th>\n",
       "      <th>embarked_Q</th>\n",
       "      <th>embarked_S</th>\n",
       "      <th>sex</th>\n",
       "      <th>age</th>\n",
       "      <th>sibsp</th>\n",
       "      <th>parch</th>\n",
       "      <th>fare</th>\n",
       "    </tr>\n",
       "  </thead>\n",
       "  <tbody>\n",
       "    <tr>\n",
       "      <th>pclass_1.0</th>\n",
       "      <td>1.000000</td>\n",
       "      <td>-0.296187</td>\n",
       "      <td>-0.621156</td>\n",
       "      <td>0.327767</td>\n",
       "      <td>-0.165809</td>\n",
       "      <td>-0.183808</td>\n",
       "      <td>-0.103873</td>\n",
       "      <td>0.368133</td>\n",
       "      <td>-0.033275</td>\n",
       "      <td>-0.012070</td>\n",
       "      <td>0.599391</td>\n",
       "    </tr>\n",
       "    <tr>\n",
       "      <th>pclass_2.0</th>\n",
       "      <td>-0.296187</td>\n",
       "      <td>1.000000</td>\n",
       "      <td>-0.564545</td>\n",
       "      <td>-0.135364</td>\n",
       "      <td>-0.122409</td>\n",
       "      <td>0.197470</td>\n",
       "      <td>-0.029691</td>\n",
       "      <td>-0.001146</td>\n",
       "      <td>-0.053019</td>\n",
       "      <td>-0.010592</td>\n",
       "      <td>-0.120768</td>\n",
       "    </tr>\n",
       "    <tr>\n",
       "      <th>pclass_3.0</th>\n",
       "      <td>-0.621156</td>\n",
       "      <td>-0.564545</td>\n",
       "      <td>1.000000</td>\n",
       "      <td>-0.172182</td>\n",
       "      <td>0.243725</td>\n",
       "      <td>-0.003181</td>\n",
       "      <td>0.114126</td>\n",
       "      <td>-0.317193</td>\n",
       "      <td>0.072258</td>\n",
       "      <td>0.019121</td>\n",
       "      <td>-0.418890</td>\n",
       "    </tr>\n",
       "    <tr>\n",
       "      <th>embarked_C</th>\n",
       "      <td>0.327767</td>\n",
       "      <td>-0.135364</td>\n",
       "      <td>-0.172182</td>\n",
       "      <td>1.000000</td>\n",
       "      <td>-0.164612</td>\n",
       "      <td>-0.778110</td>\n",
       "      <td>-0.067451</td>\n",
       "      <td>0.077591</td>\n",
       "      <td>-0.048985</td>\n",
       "      <td>-0.009161</td>\n",
       "      <td>0.287211</td>\n",
       "    </tr>\n",
       "    <tr>\n",
       "      <th>embarked_Q</th>\n",
       "      <td>-0.165809</td>\n",
       "      <td>-0.122409</td>\n",
       "      <td>0.243725</td>\n",
       "      <td>-0.164612</td>\n",
       "      <td>1.000000</td>\n",
       "      <td>-0.491473</td>\n",
       "      <td>-0.089284</td>\n",
       "      <td>-0.029903</td>\n",
       "      <td>-0.049051</td>\n",
       "      <td>-0.101308</td>\n",
       "      <td>-0.129705</td>\n",
       "    </tr>\n",
       "    <tr>\n",
       "      <th>embarked_S</th>\n",
       "      <td>-0.183808</td>\n",
       "      <td>0.197470</td>\n",
       "      <td>-0.003181</td>\n",
       "      <td>-0.778110</td>\n",
       "      <td>-0.491473</td>\n",
       "      <td>1.000000</td>\n",
       "      <td>0.116413</td>\n",
       "      <td>-0.049465</td>\n",
       "      <td>0.074487</td>\n",
       "      <td>0.072603</td>\n",
       "      <td>-0.170991</td>\n",
       "    </tr>\n",
       "    <tr>\n",
       "      <th>sex</th>\n",
       "      <td>-0.103873</td>\n",
       "      <td>-0.029691</td>\n",
       "      <td>0.114126</td>\n",
       "      <td>-0.067451</td>\n",
       "      <td>-0.089284</td>\n",
       "      <td>0.116413</td>\n",
       "      <td>1.000000</td>\n",
       "      <td>0.055929</td>\n",
       "      <td>-0.110529</td>\n",
       "      <td>-0.214179</td>\n",
       "      <td>-0.184034</td>\n",
       "    </tr>\n",
       "    <tr>\n",
       "      <th>age</th>\n",
       "      <td>0.368133</td>\n",
       "      <td>-0.001146</td>\n",
       "      <td>-0.317193</td>\n",
       "      <td>0.077591</td>\n",
       "      <td>-0.029903</td>\n",
       "      <td>-0.049465</td>\n",
       "      <td>0.055929</td>\n",
       "      <td>1.000000</td>\n",
       "      <td>-0.188884</td>\n",
       "      <td>-0.124578</td>\n",
       "      <td>0.177627</td>\n",
       "    </tr>\n",
       "    <tr>\n",
       "      <th>sibsp</th>\n",
       "      <td>-0.033275</td>\n",
       "      <td>-0.053019</td>\n",
       "      <td>0.072258</td>\n",
       "      <td>-0.048985</td>\n",
       "      <td>-0.049051</td>\n",
       "      <td>0.074487</td>\n",
       "      <td>-0.110529</td>\n",
       "      <td>-0.188884</td>\n",
       "      <td>1.000000</td>\n",
       "      <td>0.373281</td>\n",
       "      <td>0.161030</td>\n",
       "    </tr>\n",
       "    <tr>\n",
       "      <th>parch</th>\n",
       "      <td>-0.012070</td>\n",
       "      <td>-0.010592</td>\n",
       "      <td>0.019121</td>\n",
       "      <td>-0.009161</td>\n",
       "      <td>-0.101308</td>\n",
       "      <td>0.072603</td>\n",
       "      <td>-0.214179</td>\n",
       "      <td>-0.124578</td>\n",
       "      <td>0.373281</td>\n",
       "      <td>1.000000</td>\n",
       "      <td>0.222327</td>\n",
       "    </tr>\n",
       "    <tr>\n",
       "      <th>fare</th>\n",
       "      <td>0.599391</td>\n",
       "      <td>-0.120768</td>\n",
       "      <td>-0.418890</td>\n",
       "      <td>0.287211</td>\n",
       "      <td>-0.129705</td>\n",
       "      <td>-0.170991</td>\n",
       "      <td>-0.184034</td>\n",
       "      <td>0.177627</td>\n",
       "      <td>0.161030</td>\n",
       "      <td>0.222327</td>\n",
       "      <td>1.000000</td>\n",
       "    </tr>\n",
       "  </tbody>\n",
       "</table>\n",
       "</div>"
      ],
      "text/plain": [
       "            pclass_1.0  pclass_2.0  pclass_3.0  embarked_C  embarked_Q  \\\n",
       "pclass_1.0    1.000000   -0.296187   -0.621156    0.327767   -0.165809   \n",
       "pclass_2.0   -0.296187    1.000000   -0.564545   -0.135364   -0.122409   \n",
       "pclass_3.0   -0.621156   -0.564545    1.000000   -0.172182    0.243725   \n",
       "embarked_C    0.327767   -0.135364   -0.172182    1.000000   -0.164612   \n",
       "embarked_Q   -0.165809   -0.122409    0.243725   -0.164612    1.000000   \n",
       "embarked_S   -0.183808    0.197470   -0.003181   -0.778110   -0.491473   \n",
       "sex          -0.103873   -0.029691    0.114126   -0.067451   -0.089284   \n",
       "age           0.368133   -0.001146   -0.317193    0.077591   -0.029903   \n",
       "sibsp        -0.033275   -0.053019    0.072258   -0.048985   -0.049051   \n",
       "parch        -0.012070   -0.010592    0.019121   -0.009161   -0.101308   \n",
       "fare          0.599391   -0.120768   -0.418890    0.287211   -0.129705   \n",
       "\n",
       "            embarked_S       sex       age     sibsp     parch      fare  \n",
       "pclass_1.0   -0.183808 -0.103873  0.368133 -0.033275 -0.012070  0.599391  \n",
       "pclass_2.0    0.197470 -0.029691 -0.001146 -0.053019 -0.010592 -0.120768  \n",
       "pclass_3.0   -0.003181  0.114126 -0.317193  0.072258  0.019121 -0.418890  \n",
       "embarked_C   -0.778110 -0.067451  0.077591 -0.048985 -0.009161  0.287211  \n",
       "embarked_Q   -0.491473 -0.089284 -0.029903 -0.049051 -0.101308 -0.129705  \n",
       "embarked_S    1.000000  0.116413 -0.049465  0.074487  0.072603 -0.170991  \n",
       "sex           0.116413  1.000000  0.055929 -0.110529 -0.214179 -0.184034  \n",
       "age          -0.049465  0.055929  1.000000 -0.188884 -0.124578  0.177627  \n",
       "sibsp         0.074487 -0.110529 -0.188884  1.000000  0.373281  0.161030  \n",
       "parch         0.072603 -0.214179 -0.124578  0.373281  1.000000  0.222327  \n",
       "fare         -0.170991 -0.184034  0.177627  0.161030  0.222327  1.000000  "
      ]
     },
     "execution_count": 13,
     "metadata": {},
     "output_type": "execute_result"
    }
   ],
   "source": [
    "df_corr"
   ]
  },
  {
   "cell_type": "markdown",
   "id": "grand-harbor",
   "metadata": {},
   "source": [
    "#### 7. Заполните пропущенные значения в данных "
   ]
  },
  {
   "cell_type": "code",
   "execution_count": 14,
   "id": "robust-standing",
   "metadata": {},
   "outputs": [
    {
     "data": {
      "text/plain": [
       "pclass_1.0    1306\n",
       "pclass_2.0    1306\n",
       "pclass_3.0    1306\n",
       "embarked_C    1306\n",
       "embarked_Q    1306\n",
       "embarked_S    1306\n",
       "survived      1306\n",
       "sex           1306\n",
       "age           1306\n",
       "sibsp         1306\n",
       "parch         1306\n",
       "fare          1306\n",
       "dtype: int64"
      ]
     },
     "execution_count": 14,
     "metadata": {},
     "output_type": "execute_result"
    }
   ],
   "source": [
    "df1.count()"
   ]
  },
  {
   "cell_type": "markdown",
   "id": "immediate-anxiety",
   "metadata": {},
   "source": [
    "#### 8. Решите поставленную задачу классификации в соответствии с заданием. При подборе параметров классификатора используйте метод GridSearchCV и перекрёстную проверку (изучите возможные для изменения параметры классификации). Определите схему построения многоклассового классификатора, используемую по умолчанию (опишите используемую схему кодирования, обоснуйте свой выбор). Постройте, если это возможно, многоклассовую классификацию на основе схем «один-против-всех» и «все-против-всех». Оцените точность классификации для каждой их схем. Постройте кривые PR и ROC (для каждого из классов должны быть построены отдельные кривые, а также кривые для микро и макроусреднения метрик качества)"
   ]
  },
  {
   "cell_type": "code",
   "execution_count": 15,
   "id": "incorrect-atlantic",
   "metadata": {},
   "outputs": [],
   "source": [
    "# разделим полученные данные на данные для обучения и теста\n",
    "x, y = df1.drop('survived', axis = 1), df1['survived']\n",
    "x_train, x_test, y_train, y_test = train_test_split(x, y, test_size = 0.3, random_state = 123)"
   ]
  },
  {
   "cell_type": "markdown",
   "id": "suspended-guidance",
   "metadata": {},
   "source": [
    "##### Метод K ближайших соседей (радиус)"
   ]
  },
  {
   "cell_type": "code",
   "execution_count": 16,
   "id": "casual-university",
   "metadata": {},
   "outputs": [
    {
     "name": "stdout",
     "output_type": "stream",
     "text": [
      "best train score: 0.7900018014772112 \t at radius: 0.5\n",
      "test score:  0.8290816326530612\n"
     ]
    }
   ],
   "source": [
    "# промежуточная классификация\n",
    "rnc = RadiusNeighborsClassifier(outlier_label = 1)\n",
    "params = {'radius': np.arange(0, 5, 0.25)}\n",
    "\n",
    "rnc_grid = GridSearchCV(rnc, params)\n",
    "rnc_grid.fit(x_train, y_train)\n",
    "#print(rnc_grid)\n",
    "\n",
    "# поиск оптимального радиуса\n",
    "best_radius = rnc_grid.best_estimator_.radius\n",
    "best_score = rnc_grid.best_score_\n",
    "print('best train score:', best_score, '\\t at radius:', best_radius)\n",
    "\n",
    "# классификация с использованием оптимальных параметров\n",
    "rnc = RadiusNeighborsClassifier(outlier_label = 1, radius = best_radius)\n",
    "rnc.fit(x_train, y_train)\n",
    "best_score  = np.mean(y_test  == rnc.predict(x_test))\n",
    "print('test score: ', best_score)"
   ]
  },
  {
   "cell_type": "markdown",
   "id": "chief-composer",
   "metadata": {},
   "source": [
    "##### Линейный классификатор (персептрон)"
   ]
  },
  {
   "cell_type": "code",
   "execution_count": 17,
   "id": "closing-laser",
   "metadata": {},
   "outputs": [
    {
     "data": {
      "text/plain": [
       "{'alpha': 0.0001,\n",
       " 'class_weight': None,\n",
       " 'early_stopping': False,\n",
       " 'eta0': 1.0,\n",
       " 'fit_intercept': True,\n",
       " 'l1_ratio': 0.15,\n",
       " 'max_iter': 1000,\n",
       " 'n_iter_no_change': 5,\n",
       " 'n_jobs': None,\n",
       " 'penalty': None,\n",
       " 'random_state': 0,\n",
       " 'shuffle': True,\n",
       " 'tol': 0.001,\n",
       " 'validation_fraction': 0.1,\n",
       " 'verbose': 0,\n",
       " 'warm_start': False}"
      ]
     },
     "execution_count": 17,
     "metadata": {},
     "output_type": "execute_result"
    }
   ],
   "source": [
    "perc = Perceptron()\n",
    "perc.get_params()"
   ]
  },
  {
   "cell_type": "code",
   "execution_count": 18,
   "id": "commercial-convenience",
   "metadata": {},
   "outputs": [
    {
     "name": "stdout",
     "output_type": "stream",
     "text": [
      "best train score:  0.703614964270702 at alpha 0.10526315789473684\n",
      "test score:  0.7066326530612245\n"
     ]
    }
   ],
   "source": [
    "paramsearch = GridSearchCV(estimator = perc, param_grid = dict(alpha = np.linspace(0,2,20)[1:], max_iter = [int(50)]), n_jobs = int(10))\n",
    "paramsearch.fit(x_train, y_train)\n",
    "\n",
    "# поиск оптимальных параметров\n",
    "best_score = paramsearch.best_score_\n",
    "selected_alpha = paramsearch.best_estimator_.alpha\n",
    "print('best train score: ', best_score, 'at alpha', selected_alpha)\n",
    "best_n_iter = paramsearch.best_estimator_.max_iter\n",
    "best_n_jobs = paramsearch.best_estimator_.n_jobs\n",
    "\n",
    "# классификация с использованием оптимальных параметров\n",
    "dtc = Perceptron(alpha = selected_alpha, max_iter = best_n_iter, n_jobs = best_n_jobs)\n",
    "dtc.fit(x_train, y_train)\n",
    "test_score = np.mean(y_test == dtc.predict(x_test))\n",
    "print('test score: ', test_score)"
   ]
  },
  {
   "cell_type": "code",
   "execution_count": 19,
   "id": "royal-seventh",
   "metadata": {
    "tags": []
   },
   "outputs": [
    {
     "data": {
      "text/plain": [
       "<Figure size 720x576 with 0 Axes>"
      ]
     },
     "metadata": {},
     "output_type": "display_data"
    }
   ],
   "source": [
    "plt.figure(figsize = (10,8))\n",
    "y_test_invers = []\n",
    "for i, y in enumerate(y_test.reset_index(drop = True)):\n",
    "    y_test_invers.append(1 - y)\n",
    "    \n",
    "probas_rnc0 = rnc.fit(x_train, y_train).predict_proba (x_test)\n",
    "probas_rnc1 = rnc.fit(x_train, y_train).predict_proba (x_test)\n",
    "\n",
    "clf_isotonic = CalibratedClassifierCV(perc, cv = 10, method = 'isotonic')\n",
    "clf_isotonic.fit(x_train, y_train)\n",
    "probas_perc0 = clf_isotonic.predict_proba(x_test)\n",
    "clf_isotonic.fit(x_train, y_train)\n",
    "probas_perc1 = clf_isotonic.predict_proba(x_test)"
   ]
  },
  {
   "cell_type": "code",
   "execution_count": 20,
   "id": "headed-tyler",
   "metadata": {},
   "outputs": [
    {
     "data": {
      "image/png": "[encoded data removed]",
      "text/plain": [
       "<Figure size 720x576 with 1 Axes>"
      ]
     },
     "metadata": {
      "needs_background": "light"
     },
     "output_type": "display_data"
    }
   ],
   "source": [
    "plt.figure(figsize = (10,8))\n",
    "\n",
    "# K соседей (радиус)\n",
    "precision, recall, thresholds = precision_recall_curve(y_test_invers, probas_rnc1[:,0])\n",
    "aps_rnc1 = average_precision_score(y_test_invers,probas_rnc1[:,0])\n",
    "plt.plot(recall, precision, label = '%s PR (area = %f)' % ('RadiusNeighborsClassifier', aps_rnc1))\n",
    "\n",
    "# Персептрон\n",
    "precision, recall, thresholds = precision_recall_curve(y_test_invers, probas_perc1[:,0])\n",
    "aps_perc1 = average_precision_score(y_test_invers, probas_perc1[:,0])\n",
    "plt.plot(recall, precision, label = '%s PR (area = %f)' % ('PerceptronClassifier',  aps_perc1))\n",
    "\n",
    "# вывод графика\n",
    "plt.xlabel('Recall')\n",
    "plt.ylabel('Precision')\n",
    "plt.xlim([0.0, 1.0])\n",
    "plt.ylim([0.0, 1.0])\n",
    "plt.legend(loc = 4, fontsize = 'medium')\n",
    "plt.title('Not survived')\n",
    "plt.show()"
   ]
  },
  {
   "cell_type": "code",
   "execution_count": 21,
   "id": "noted-debut",
   "metadata": {},
   "outputs": [
    {
     "data": {
      "image/png": "[encoded data removed]",
      "text/plain": [
       "<Figure size 720x576 with 1 Axes>"
      ]
     },
     "metadata": {
      "needs_background": "light"
     },
     "output_type": "display_data"
    }
   ],
   "source": [
    "plt.figure(figsize = (10,8))\n",
    "\n",
    "# K соседей (радиус)\n",
    "precision, recall, thresholds = precision_recall_curve(y_test, probas_rnc0[:,1])\n",
    "aps_rnc0 = average_precision_score(y_test,probas_rnc0[:,1])\n",
    "plt.plot(recall, precision, label = '%s PR (area = %f)' % ('RadiusNeighborsClassifier', aps_rnc0))\n",
    "\n",
    "# Персептрон\n",
    "precision, recall, thresholds = precision_recall_curve(y_test, probas_perc1[:,1])\n",
    "aps_perc1 = average_precision_score(y_test,probas_perc1[:,1])\n",
    "plt.plot(recall, precision, label = '%s PR (area = %f)' % ('PerceptronClassifier',  aps_perc1))\n",
    "\n",
    "# вывод графика\n",
    "plt.xlabel('Recall')\n",
    "plt.ylabel('Precision')\n",
    "plt.xlim([0.0, 1.0])\n",
    "plt.ylim([0.0, 1.0])\n",
    "plt.legend(loc = 4, fontsize = 'medium')\n",
    "plt.title('Survived')\n",
    "plt.show()"
   ]
  },
  {
   "cell_type": "code",
   "execution_count": 22,
   "id": "academic-honolulu",
   "metadata": {},
   "outputs": [
    {
     "data": {
      "image/png": "[encoded data removed]",
      "text/plain": [
       "<Figure size 720x576 with 1 Axes>"
      ]
     },
     "metadata": {
      "needs_background": "light"
     },
     "output_type": "display_data"
    },
    {
     "data": {
      "image/png": "[encoded data removed]",
      "text/plain": [
       "<Figure size 720x576 with 1 Axes>"
      ]
     },
     "metadata": {
      "needs_background": "light"
     },
     "output_type": "display_data"
    }
   ],
   "source": [
    "### ROC графики\n",
    "\n",
    "## класс погибших\n",
    "plt.figure(figsize = (10,8))\n",
    "\n",
    "# K соседей (радиус)\n",
    "tpr, fpr, thresholds = roc_curve(y_test, probas_rnc0[:,0])\n",
    "roc_auc = auc(fpr, tpr)\n",
    "plt.plot(fpr, tpr, label = '%s ROC (area = %f)' % ('RadiusNeighborsClassifier', roc_auc)) \n",
    "\n",
    "# Персептрон\n",
    "tpr, fpr, thresholds = roc_curve(y_test, probas_perc0[:,0])\n",
    "roc_auc = auc(fpr, tpr)\n",
    "plt.plot(fpr, tpr, label = '%s ROC (area = %f)' % ('PerceptronClassifier', roc_auc))   \n",
    "\n",
    "# вывод графика\n",
    "plt.plot([0, 1], [0, 1], 'k--')\n",
    "plt.xlim([0.0, 1.0])\n",
    "plt.ylim([0.0, 1.0])\n",
    "plt.xlabel('False Positive Rate')\n",
    "plt.ylabel('True Positive Rate')\n",
    "plt.legend(loc = 4, fontsize = 'medium')\n",
    "plt.title('Not survived')\n",
    "plt.show()\n",
    "\n",
    "## класс выживших\n",
    "plt.figure(figsize = (10,8))\n",
    "\n",
    "# K соседей\n",
    "fpr, tpr, thresholds = roc_curve(y_test, probas_rnc1[:,1])\n",
    "roc_auc = auc(fpr, tpr)\n",
    "plt.plot(fpr, tpr, label = '%s ROC (area = %f)' % ('RadiusNeighborsClassifier', roc_auc))\n",
    "\n",
    "# PerceptronClassifier\n",
    "fpr, tpr, thresholds = roc_curve(y_test, probas_perc1[:,1])\n",
    "roc_auc = auc(fpr, tpr)\n",
    "plt.plot(fpr, tpr, label = '%s ROC (area = %f)' % ('PerceptronClassifier', roc_auc))\n",
    "\n",
    "# вывод графика\n",
    "plt.plot([0, 1], [0, 1], 'k--')\n",
    "plt.xlim([0.0, 1.0])\n",
    "plt.ylim([0.0, 1.0])\n",
    "plt.xlabel('False Positive Rate')\n",
    "plt.ylabel('True Positive Rate')\n",
    "plt.legend(loc = 4, fontsize = 'medium')\n",
    "plt.title('Survived')\n",
    "plt.show()"
   ]
  },
  {
   "cell_type": "markdown",
   "id": "billion-ribbon",
   "metadata": {},
   "source": [
    "#### 9. Сравните кривые для классификаторов, указанных в задании, сделайте выводы"
   ]
  },
  {
   "cell_type": "markdown",
   "id": "arbitrary-brake",
   "metadata": {},
   "source": [
    "Классификаторы персептрон и соседей в радиусе имеют примерно одинаковую площадь под кривыми PR и ROC, т. е. относительно равны по точности. Они решают задачу классификации в ~85% случаев, что является неплохим результатом."
   ]
  }
 ],
 "metadata": {
  "kernelspec": {
   "display_name": "Python 3",
   "language": "python",
   "name": "python3"
  },
  "language_info": {
   "codemirror_mode": {
    "name": "ipython",
    "version": 3
   },
   "file_extension": ".py",
   "mimetype": "text/x-python",
   "name": "python",
   "nbconvert_exporter": "python",
   "pygments_lexer": "ipython3",
   "version": "3.7.4"
  }
 },
 "nbformat": 4,
 "nbformat_minor": 5
}
