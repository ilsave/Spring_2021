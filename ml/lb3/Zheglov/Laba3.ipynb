{
 "cells": [
  {
   "cell_type": "markdown",
   "metadata": {},
   "source": [
    "### Жеглов Глеб \n",
    "#### 19-ИВТ-2\n",
    "### Вариант 11 \n",
    "#### 1 | 2, 4"
   ]
  },
  {
   "cell_type": "code",
   "execution_count": 1,
   "metadata": {},
   "outputs": [],
   "source": [
    "import pandas as pd\n",
    "import numpy as np\n",
    "import seaborn as sns\n",
    "import matplotlib.pyplot as plt\n",
    "from sklearn.preprocessing import MinMaxScaler\n",
    "from sklearn.model_selection import train_test_split\n",
    "from sklearn.model_selection import GridSearchCV\n",
    "from sklearn import preprocessing\n",
    "from sklearn.neighbors import KNeighborsClassifier\n",
    "from sklearn.neighbors import RadiusNeighborsClassifier\n",
    "from sklearn.tree import DecisionTreeClassifier\n",
    "from sklearn.metrics import accuracy_score, precision_recall_curve, average_precision_score, roc_curve, auc, plot_precision_recall_curve, plot_roc_curve\n",
    "import warnings\n",
    "warnings.simplefilter('ignore')\n"
   ]
  },
  {
   "cell_type": "code",
   "execution_count": 2,
   "metadata": {
    "scrolled": true
   },
   "outputs": [
    {
     "data": {
      "text/plain": [
       "9"
      ]
     },
     "execution_count": 2,
     "metadata": {},
     "output_type": "execute_result"
    }
   ],
   "source": [
    "test = pd.read_csv(\"test.csv\")\n",
    "np.max(test[\"CLASS\"])"
   ]
  },
  {
   "cell_type": "code",
   "execution_count": 3,
   "metadata": {},
   "outputs": [
    {
     "name": "stdout",
     "output_type": "stream",
     "text": [
      "        S1  C1  S2  C2  S3  C3  S4  C4  S5  C5  CLASS\n",
      "0        1   1   1  13   2   4   2   3   1  12      0\n",
      "1        3  12   3   2   3  11   4   5   2   5      1\n",
      "2        1   9   4   6   1   4   3   2   3   9      1\n",
      "3        1   4   3  13   2  13   2   1   3   6      1\n",
      "4        3  10   2   7   1   2   2  11   4   9      0\n",
      "...     ..  ..  ..  ..  ..  ..  ..  ..  ..  ..    ...\n",
      "999995   3   1   1  12   2   9   4   9   2   6      1\n",
      "999996   3   3   4   5   2   7   1   4   4   3      1\n",
      "999997   1  11   4   7   3   9   1  13   2   7      1\n",
      "999998   3  11   1   8   1   1   3  13   2   8      1\n",
      "999999   2   5   2   9   4   9   2   3   3   3      2\n",
      "\n",
      "[1000000 rows x 11 columns]\n"
     ]
    }
   ],
   "source": [
    "testing = pd.read_csv(\"poker-hand-testing.csv\")\n",
    "print(testing)"
   ]
  },
  {
   "cell_type": "code",
   "execution_count": 4,
   "metadata": {},
   "outputs": [
    {
     "name": "stdout",
     "output_type": "stream",
     "text": [
      "       S1  C1  S2  C2  S3  C3  S4  C4  S5  C5  CLASS\n",
      "0       1  10   1  11   1  13   1  12   1   1      9\n",
      "1       2  11   2  13   2  10   2  12   2   1      9\n",
      "2       3  12   3  11   3  13   3  10   3   1      9\n",
      "3       4  10   4  11   4   1   4  13   4  12      9\n",
      "4       4   1   4  13   4  12   4  11   4  10      9\n",
      "...    ..  ..  ..  ..  ..  ..  ..  ..  ..  ..    ...\n",
      "25005   3   9   2   6   4  11   4  12   2   4      0\n",
      "25006   4   1   4  10   3  13   3   4   1  10      1\n",
      "25007   2   1   2  10   4   4   4   1   4  13      1\n",
      "25008   2  12   4   3   1  10   1  12   4   9      1\n",
      "25009   1   7   3  11   3   3   4   8   3   7      1\n",
      "\n",
      "[25010 rows x 11 columns]\n"
     ]
    }
   ],
   "source": [
    "training = pd.read_csv(\"poker-hand-training-true.csv\")\n",
    "print(training)"
   ]
  },
  {
   "cell_type": "markdown",
   "metadata": {},
   "source": [
    "### 1. Изучить набор данных. Создать описание набора данных на русском языке. Описать признаки, используемые в наборе данных.\n",
    "#### Информация об атрибутах:\n",
    "**S1** - \"Масть первой карты\". Порядковый номер (1-4), соответствующий (Червы, Пики, Бубны, Трефы)\n",
    "\n",
    "**C1** - \"Ранг первой карты\". Числовое (1-13) представление (Туз, 2, 3, ... , Дама, Король)\n",
    "\n",
    "**S2** - \"Масть второй карты\". Порядковый номер (1-4), соответствующий (Червы, Пики, Бубны, Трефы)\n",
    "\n",
    "**C2** - \"Ранг второй карты\". Числовое (1-13) представление (Туз, 2, 3, ... , Дама, Король)\n",
    "\n",
    "**S3** - \"Масть третьей карты\". Порядковый номер (1-4), соответствующий (Червы, Пики, Бубны, Трефы)\n",
    "\n",
    "**C3** - \"Ранг третьей карты\". Числовое (1-13) представление (Туз, 2, 3, ... , Дама, Король)\n",
    "\n",
    "**S4** - \"Масть четвертой карты\". Порядковый номер (1-4), соответствующий (Червы, Пики, Бубны, Трефы)\n",
    "\n",
    "**C4** - \"Ранг четвертой карты\". Числовое (1-13) представление (Туз, 2, 3, ... , Дама, Король)\n",
    "\n",
    "**S5** - \"Масть пятой карты\". Порядковый номер (1-4), соответствующий (Червы, Пики, Бубны, Трефы)\n",
    "\n",
    "**C5** - \"Ранг пятой карты\". Числовое (1-13) представление (Туз, 2, 3, ... , Дама, Король)\n",
    "\n",
    "**CLASS** \"Покерная рука\". Порядковый номер (0-9)\n",
    "\n",
    "0. Старшая карта; не распознанная покерная рука\n",
    "1. Пара; две карты одного достоинства \n",
    "2. Две пары; две пары карт одного достоинства\n",
    "3. Сет; три карты одного достоинства\n",
    "4. Стрит; пять последовательно расположенных карт\n",
    "5. Флеш; пять карт одной масти\n",
    "6. Фулл хаус; три карты одного достоинства и две карты другого \n",
    "7. Каре; четыре карты одного достоинства\n",
    "8. Стрит флеш; стрит, в котором все пять карт одномастные\n",
    "9. Флеш рояль; стрит флеш от десятки до туза"
   ]
  },
  {
   "cell_type": "markdown",
   "metadata": {},
   "source": [
    "### 2. Удалите дубликаты строк в наборе данных; приведите размер набора данных до и после данной операции."
   ]
  },
  {
   "cell_type": "code",
   "execution_count": 5,
   "metadata": {},
   "outputs": [
    {
     "name": "stdout",
     "output_type": "stream",
     "text": [
      "       S1  C1  S2  C2  S3  C3  S4  C4  S5  C5  CLASS\n",
      "0       1   1   1  13   2   4   2   3   1  12      0\n",
      "1       3  12   3   2   3  11   4   5   2   5      1\n",
      "2       1   9   4   6   1   4   3   2   3   9      1\n",
      "3       1   4   3  13   2  13   2   1   3   6      1\n",
      "4       3  10   2   7   1   2   2  11   4   9      0\n",
      "...    ..  ..  ..  ..  ..  ..  ..  ..  ..  ..    ...\n",
      "25005   3   9   2   6   4  11   4  12   2   4      0\n",
      "25006   4   1   4  10   3  13   3   4   1  10      1\n",
      "25007   2   1   2  10   4   4   4   1   4  13      1\n",
      "25008   2  12   4   3   1  10   1  12   4   9      1\n",
      "25009   1   7   3  11   3   3   4   8   3   7      1\n",
      "\n",
      "[1025010 rows x 11 columns]\n"
     ]
    }
   ],
   "source": [
    "total = pd.concat([testing, training])\n",
    "print(total)"
   ]
  },
  {
   "cell_type": "code",
   "execution_count": 6,
   "metadata": {},
   "outputs": [
    {
     "name": "stdout",
     "output_type": "stream",
     "text": [
      "(1025010, 11)\n"
     ]
    }
   ],
   "source": [
    "print(total.shape)"
   ]
  },
  {
   "cell_type": "code",
   "execution_count": 7,
   "metadata": {},
   "outputs": [
    {
     "name": "stdout",
     "output_type": "stream",
     "text": [
      "(1022771, 11)\n"
     ]
    }
   ],
   "source": [
    "total.drop_duplicates(inplace=True)\n",
    "print(total.shape)"
   ]
  },
  {
   "cell_type": "markdown",
   "metadata": {},
   "source": [
    "Стёрто 2239 повторяющихся строк"
   ]
  },
  {
   "cell_type": "markdown",
   "metadata": {},
   "source": [
    "### 3. Оцените сбалансированность данных по классам (постройте гистограмму). Используйте полученную информацию при выборе метрики оценки качества классификации (PR или ROC кривая)"
   ]
  },
  {
   "cell_type": "code",
   "execution_count": 8,
   "metadata": {},
   "outputs": [
    {
     "data": {
      "image/png": "[encoded data removed]",
      "text/plain": [
       "<Figure size 432x288 with 1 Axes>"
      ]
     },
     "metadata": {
      "needs_background": "light"
     },
     "output_type": "display_data"
    }
   ],
   "source": [
    "sns.countplot(x = 'CLASS', data = total)\n",
    "plt.show()"
   ]
  },
  {
   "cell_type": "markdown",
   "metadata": {},
   "source": [
    "На гисторграмме видно, что классы не сбалансированы, следовательно будем использовать PR-кривую"
   ]
  },
  {
   "cell_type": "markdown",
   "metadata": {},
   "source": [
    "### 4. Выполните масштабирование количественных признаков; Постройте диаграммы BoxPlot для признаков до и после масштабирования. Выберите способ масштабирования (например, нормализацию или стандартизацию."
   ]
  },
  {
   "cell_type": "markdown",
   "metadata": {},
   "source": [
    "Выделяю категориальные и количественные(числовые) признаки"
   ]
  },
  {
   "cell_type": "code",
   "execution_count": 9,
   "metadata": {},
   "outputs": [],
   "source": [
    "numerical_columns = [i for i in total.columns[0:11] if total[i].dtype.name != 'object']\n",
    "categorial_columns = [i for i in total.columns[0:11] if total[i].dtype.name == 'object']"
   ]
  },
  {
   "cell_type": "code",
   "execution_count": 10,
   "metadata": {},
   "outputs": [
    {
     "name": "stdout",
     "output_type": "stream",
     "text": [
      "numerical:  ['S1', 'C1', 'S2', 'C2', 'S3', 'C3', 'S4', 'C4', 'S5', 'C5', 'CLASS']\n",
      "categorial:  []\n"
     ]
    }
   ],
   "source": [
    "print('numerical: ', numerical_columns)\n",
    "print('categorial: ', categorial_columns)"
   ]
  },
  {
   "cell_type": "code",
   "execution_count": 11,
   "metadata": {},
   "outputs": [
    {
     "data": {
      "text/plain": [
       "<AxesSubplot:>"
      ]
     },
     "execution_count": 11,
     "metadata": {},
     "output_type": "execute_result"
    },
    {
     "data": {
      "image/png": "[encoded data removed]",
      "text/plain": [
       "<Figure size 432x288 with 1 Axes>"
      ]
     },
     "metadata": {
      "needs_background": "light"
     },
     "output_type": "display_data"
    }
   ],
   "source": [
    "total_num = total.drop(columns = 'CLASS', axis = 1)\n",
    "sns.boxplot(data = total_num)"
   ]
  },
  {
   "cell_type": "markdown",
   "metadata": {},
   "source": [
    "Способ масштабирования - нормализация"
   ]
  },
  {
   "cell_type": "code",
   "execution_count": 12,
   "metadata": {},
   "outputs": [
    {
     "data": {
      "text/plain": [
       "<AxesSubplot:>"
      ]
     },
     "execution_count": 12,
     "metadata": {},
     "output_type": "execute_result"
    },
    {
     "data": {
      "image/png": "[encoded data removed]",
      "text/plain": [
       "<Figure size 432x288 with 1 Axes>"
      ]
     },
     "metadata": {
      "needs_background": "light"
     },
     "output_type": "display_data"
    }
   ],
   "source": [
    "scaler = MinMaxScaler()\n",
    "columns = total_num.columns\n",
    "total_num[columns] = scaler.fit_transform(total_num[columns])\n",
    "sns.boxplot(data = total_num)"
   ]
  },
  {
   "cell_type": "markdown",
   "metadata": {},
   "source": [
    "### 5. Выполните замену категориальных признаков; выберите и обоснуйте способ замены;"
   ]
  },
  {
   "cell_type": "markdown",
   "metadata": {},
   "source": [
    "### 6. Оцените корреляцию между признаков и удалите те признаки, которые коррелируют с наибольшим числом других"
   ]
  },
  {
   "cell_type": "code",
   "execution_count": 13,
   "metadata": {},
   "outputs": [
    {
     "data": {
      "text/plain": [
       "<AxesSubplot:>"
      ]
     },
     "execution_count": 13,
     "metadata": {},
     "output_type": "execute_result"
    },
    {
     "data": {
      "image/png": "[encoded data removed]",
      "text/plain": [
       "<Figure size 432x288 with 2 Axes>"
      ]
     },
     "metadata": {
      "needs_background": "light"
     },
     "output_type": "display_data"
    }
   ],
   "source": [
    "sns.heatmap(total.corr(), vmin = -0.02, vmax = 0.02)"
   ]
  },
  {
   "cell_type": "code",
   "execution_count": 14,
   "metadata": {},
   "outputs": [
    {
     "data": {
      "text/html": [
       "<div>\n",
       "<style scoped>\n",
       "    .dataframe tbody tr th:only-of-type {\n",
       "        vertical-align: middle;\n",
       "    }\n",
       "\n",
       "    .dataframe tbody tr th {\n",
       "        vertical-align: top;\n",
       "    }\n",
       "\n",
       "    .dataframe thead th {\n",
       "        text-align: right;\n",
       "    }\n",
       "</style>\n",
       "<table border=\"1\" class=\"dataframe\">\n",
       "  <thead>\n",
       "    <tr style=\"text-align: right;\">\n",
       "      <th></th>\n",
       "      <th>S1</th>\n",
       "      <th>C1</th>\n",
       "      <th>S2</th>\n",
       "      <th>C2</th>\n",
       "      <th>S3</th>\n",
       "      <th>C3</th>\n",
       "      <th>S4</th>\n",
       "      <th>C4</th>\n",
       "      <th>S5</th>\n",
       "      <th>C5</th>\n",
       "      <th>CLASS</th>\n",
       "    </tr>\n",
       "  </thead>\n",
       "  <tbody>\n",
       "    <tr>\n",
       "      <th>S1</th>\n",
       "      <td>1.000000</td>\n",
       "      <td>-0.001650</td>\n",
       "      <td>-0.021576</td>\n",
       "      <td>0.001395</td>\n",
       "      <td>-0.019326</td>\n",
       "      <td>0.000145</td>\n",
       "      <td>-0.019229</td>\n",
       "      <td>0.000109</td>\n",
       "      <td>-0.019076</td>\n",
       "      <td>0.001680</td>\n",
       "      <td>0.000261</td>\n",
       "    </tr>\n",
       "    <tr>\n",
       "      <th>C1</th>\n",
       "      <td>-0.001650</td>\n",
       "      <td>1.000000</td>\n",
       "      <td>-0.000598</td>\n",
       "      <td>-0.021307</td>\n",
       "      <td>-0.000155</td>\n",
       "      <td>-0.019565</td>\n",
       "      <td>-0.000086</td>\n",
       "      <td>-0.018635</td>\n",
       "      <td>0.000317</td>\n",
       "      <td>-0.020934</td>\n",
       "      <td>0.003888</td>\n",
       "    </tr>\n",
       "    <tr>\n",
       "      <th>S2</th>\n",
       "      <td>-0.021576</td>\n",
       "      <td>-0.000598</td>\n",
       "      <td>1.000000</td>\n",
       "      <td>0.000012</td>\n",
       "      <td>-0.019464</td>\n",
       "      <td>0.000774</td>\n",
       "      <td>-0.020514</td>\n",
       "      <td>0.000195</td>\n",
       "      <td>-0.020067</td>\n",
       "      <td>0.001375</td>\n",
       "      <td>-0.000309</td>\n",
       "    </tr>\n",
       "    <tr>\n",
       "      <th>C2</th>\n",
       "      <td>0.001395</td>\n",
       "      <td>-0.021307</td>\n",
       "      <td>0.000012</td>\n",
       "      <td>1.000000</td>\n",
       "      <td>-0.000513</td>\n",
       "      <td>-0.020950</td>\n",
       "      <td>0.001368</td>\n",
       "      <td>-0.020500</td>\n",
       "      <td>-0.000636</td>\n",
       "      <td>-0.017194</td>\n",
       "      <td>0.001552</td>\n",
       "    </tr>\n",
       "    <tr>\n",
       "      <th>S3</th>\n",
       "      <td>-0.019326</td>\n",
       "      <td>-0.000155</td>\n",
       "      <td>-0.019464</td>\n",
       "      <td>-0.000513</td>\n",
       "      <td>1.000000</td>\n",
       "      <td>0.001428</td>\n",
       "      <td>-0.019660</td>\n",
       "      <td>0.000680</td>\n",
       "      <td>-0.020807</td>\n",
       "      <td>-0.000111</td>\n",
       "      <td>0.001264</td>\n",
       "    </tr>\n",
       "    <tr>\n",
       "      <th>C3</th>\n",
       "      <td>0.000145</td>\n",
       "      <td>-0.019565</td>\n",
       "      <td>0.000774</td>\n",
       "      <td>-0.020950</td>\n",
       "      <td>0.001428</td>\n",
       "      <td>1.000000</td>\n",
       "      <td>-0.000263</td>\n",
       "      <td>-0.018915</td>\n",
       "      <td>0.001367</td>\n",
       "      <td>-0.020111</td>\n",
       "      <td>0.002228</td>\n",
       "    </tr>\n",
       "    <tr>\n",
       "      <th>S4</th>\n",
       "      <td>-0.019229</td>\n",
       "      <td>-0.000086</td>\n",
       "      <td>-0.020514</td>\n",
       "      <td>0.001368</td>\n",
       "      <td>-0.019660</td>\n",
       "      <td>-0.000263</td>\n",
       "      <td>1.000000</td>\n",
       "      <td>-0.000537</td>\n",
       "      <td>-0.019432</td>\n",
       "      <td>-0.000180</td>\n",
       "      <td>-0.001124</td>\n",
       "    </tr>\n",
       "    <tr>\n",
       "      <th>C4</th>\n",
       "      <td>0.000109</td>\n",
       "      <td>-0.018635</td>\n",
       "      <td>0.000195</td>\n",
       "      <td>-0.020500</td>\n",
       "      <td>0.000680</td>\n",
       "      <td>-0.018915</td>\n",
       "      <td>-0.000537</td>\n",
       "      <td>1.000000</td>\n",
       "      <td>0.000991</td>\n",
       "      <td>-0.020664</td>\n",
       "      <td>0.003213</td>\n",
       "    </tr>\n",
       "    <tr>\n",
       "      <th>S5</th>\n",
       "      <td>-0.019076</td>\n",
       "      <td>0.000317</td>\n",
       "      <td>-0.020067</td>\n",
       "      <td>-0.000636</td>\n",
       "      <td>-0.020807</td>\n",
       "      <td>0.001367</td>\n",
       "      <td>-0.019432</td>\n",
       "      <td>0.000991</td>\n",
       "      <td>1.000000</td>\n",
       "      <td>-0.000111</td>\n",
       "      <td>-0.001636</td>\n",
       "    </tr>\n",
       "    <tr>\n",
       "      <th>C5</th>\n",
       "      <td>0.001680</td>\n",
       "      <td>-0.020934</td>\n",
       "      <td>0.001375</td>\n",
       "      <td>-0.017194</td>\n",
       "      <td>-0.000111</td>\n",
       "      <td>-0.020111</td>\n",
       "      <td>-0.000180</td>\n",
       "      <td>-0.020664</td>\n",
       "      <td>-0.000111</td>\n",
       "      <td>1.000000</td>\n",
       "      <td>0.001476</td>\n",
       "    </tr>\n",
       "    <tr>\n",
       "      <th>CLASS</th>\n",
       "      <td>0.000261</td>\n",
       "      <td>0.003888</td>\n",
       "      <td>-0.000309</td>\n",
       "      <td>0.001552</td>\n",
       "      <td>0.001264</td>\n",
       "      <td>0.002228</td>\n",
       "      <td>-0.001124</td>\n",
       "      <td>0.003213</td>\n",
       "      <td>-0.001636</td>\n",
       "      <td>0.001476</td>\n",
       "      <td>1.000000</td>\n",
       "    </tr>\n",
       "  </tbody>\n",
       "</table>\n",
       "</div>"
      ],
      "text/plain": [
       "             S1        C1        S2        C2        S3        C3        S4  \\\n",
       "S1     1.000000 -0.001650 -0.021576  0.001395 -0.019326  0.000145 -0.019229   \n",
       "C1    -0.001650  1.000000 -0.000598 -0.021307 -0.000155 -0.019565 -0.000086   \n",
       "S2    -0.021576 -0.000598  1.000000  0.000012 -0.019464  0.000774 -0.020514   \n",
       "C2     0.001395 -0.021307  0.000012  1.000000 -0.000513 -0.020950  0.001368   \n",
       "S3    -0.019326 -0.000155 -0.019464 -0.000513  1.000000  0.001428 -0.019660   \n",
       "C3     0.000145 -0.019565  0.000774 -0.020950  0.001428  1.000000 -0.000263   \n",
       "S4    -0.019229 -0.000086 -0.020514  0.001368 -0.019660 -0.000263  1.000000   \n",
       "C4     0.000109 -0.018635  0.000195 -0.020500  0.000680 -0.018915 -0.000537   \n",
       "S5    -0.019076  0.000317 -0.020067 -0.000636 -0.020807  0.001367 -0.019432   \n",
       "C5     0.001680 -0.020934  0.001375 -0.017194 -0.000111 -0.020111 -0.000180   \n",
       "CLASS  0.000261  0.003888 -0.000309  0.001552  0.001264  0.002228 -0.001124   \n",
       "\n",
       "             C4        S5        C5     CLASS  \n",
       "S1     0.000109 -0.019076  0.001680  0.000261  \n",
       "C1    -0.018635  0.000317 -0.020934  0.003888  \n",
       "S2     0.000195 -0.020067  0.001375 -0.000309  \n",
       "C2    -0.020500 -0.000636 -0.017194  0.001552  \n",
       "S3     0.000680 -0.020807 -0.000111  0.001264  \n",
       "C3    -0.018915  0.001367 -0.020111  0.002228  \n",
       "S4    -0.000537 -0.019432 -0.000180 -0.001124  \n",
       "C4     1.000000  0.000991 -0.020664  0.003213  \n",
       "S5     0.000991  1.000000 -0.000111 -0.001636  \n",
       "C5    -0.020664 -0.000111  1.000000  0.001476  \n",
       "CLASS  0.003213 -0.001636  0.001476  1.000000  "
      ]
     },
     "execution_count": 14,
     "metadata": {},
     "output_type": "execute_result"
    }
   ],
   "source": [
    "total.corr()"
   ]
  },
  {
   "cell_type": "markdown",
   "metadata": {},
   "source": [
    "### 7. Заполните пропущенные значения в данных;"
   ]
  },
  {
   "cell_type": "code",
   "execution_count": 15,
   "metadata": {},
   "outputs": [
    {
     "data": {
      "text/plain": [
       "(1022771, 11)"
      ]
     },
     "execution_count": 15,
     "metadata": {},
     "output_type": "execute_result"
    }
   ],
   "source": [
    "total.shape"
   ]
  },
  {
   "cell_type": "code",
   "execution_count": 16,
   "metadata": {},
   "outputs": [
    {
     "data": {
      "text/plain": [
       "S1       1022771\n",
       "C1       1022771\n",
       "S2       1022771\n",
       "C2       1022771\n",
       "S3       1022771\n",
       "C3       1022771\n",
       "S4       1022771\n",
       "C4       1022771\n",
       "S5       1022771\n",
       "C5       1022771\n",
       "CLASS    1022771\n",
       "dtype: int64"
      ]
     },
     "execution_count": 16,
     "metadata": {},
     "output_type": "execute_result"
    }
   ],
   "source": [
    "total.count()"
   ]
  },
  {
   "cell_type": "markdown",
   "metadata": {},
   "source": [
    "### 8.\tРешите поставленную задачу классификации в соответствии с заданием. При подборе параметров классификатора используйте метод GridSearchCV и перекрёстную проверку (изучите возможные для изменения параметры классификации). Определите схему построения многоклассового классификатора, используемую по умолчанию (опишите используемую схему кодирования, обоснуйте свой выбор). Постройте, если это возможно, многоклассовую классификацию на основе схем «один-против-всех» и «все-против-всех». Оцените точность классификации для каждой их схем. Постройте кривые PR и ROC (для каждого из классов должны быть построены отдельные кривые, а также кривые для микро и макроусреднения метрик качества). Для линейного классификатора используйте регуляризацию. "
   ]
  },
  {
   "cell_type": "code",
   "execution_count": 17,
   "metadata": {},
   "outputs": [
    {
     "name": "stdout",
     "output_type": "stream",
     "text": [
      "(799, 10)\n",
      "(200, 10)\n"
     ]
    }
   ],
   "source": [
    "# разделим полученные данные на данные для обучения и теста\n",
    "x = test.drop('CLASS', axis = 1)\n",
    "y = test['CLASS']\n",
    "\n",
    "x_train, x_test, y_train, y_test = train_test_split(x, y, test_size = 0.2, random_state = 0)\n",
    "print(x_train.shape)\n",
    "print(x_test.shape)"
   ]
  },
  {
   "cell_type": "markdown",
   "metadata": {},
   "source": [
    "**Классификатор K ближайших соседей (задаётся радиус для выбора ближайших объектов)**"
   ]
  },
  {
   "cell_type": "code",
   "execution_count": 18,
   "metadata": {},
   "outputs": [
    {
     "name": "stdout",
     "output_type": "stream",
     "text": [
      "Accuracy: 0.5\n",
      "Best Accuracy: 0.5218946540880502  at radius: 8\n"
     ]
    }
   ],
   "source": [
    "rnc = RadiusNeighborsClassifier()\n",
    "params = {'radius': np.arange(1, 100)}\n",
    "\n",
    "rnc_grid = GridSearchCV(rnc, params)\n",
    "rnc_grid.fit(x_train, y_train)\n",
    "\n",
    "best_radius = rnc_grid.best_estimator_.radius\n",
    "best_accuracy = rnc_grid.best_score_\n",
    "\n",
    "rnc = RadiusNeighborsClassifier(radius=best_radius)\n",
    "rnc.fit(x_train, y_train)\n",
    "pred = rnc.predict(x_test)\n",
    "print(\"Accuracy:\", accuracy_score(y_test, pred))\n",
    "print('Best Accuracy:', best_accuracy, ' at radius:', best_radius)"
   ]
  },
  {
   "cell_type": "markdown",
   "metadata": {},
   "source": [
    "#### Многоклассовый классификатор"
   ]
  },
  {
   "cell_type": "code",
   "execution_count": 19,
   "metadata": {},
   "outputs": [],
   "source": [
    "from sklearn.datasets import fetch_openml\n",
    "from sklearn.model_selection import train_test_split\n",
    "from sklearn.ensemble import RandomForestClassifier\n",
    "from sklearn.multiclass import OneVsRestClassifier\n",
    "from sklearn.metrics import precision_recall_curve, roc_curve\n",
    "from sklearn.preprocessing import label_binarize"
   ]
  },
  {
   "cell_type": "markdown",
   "metadata": {},
   "source": [
    "1. общие настройки, обучение и прогнозирование\n",
    "\n"
   ]
  },
  {
   "cell_type": "code",
   "execution_count": 20,
   "metadata": {},
   "outputs": [],
   "source": [
    "n_classes = np.max(y)\n",
    "\n",
    "Y = label_binarize(y, classes=[*range(n_classes)])\n",
    "\n",
    "x_train, x_test, y_train, y_test = train_test_split(x,Y,random_state = 42)\n",
    "\n",
    "clf = OneVsRestClassifier(RadiusNeighborsClassifier(8))\n",
    "clf.fit(x_train, y_train)\n",
    "\n",
    "y_score = clf.predict_proba(x_test)"
   ]
  },
  {
   "cell_type": "markdown",
   "metadata": {},
   "source": [
    "2. кривая прецизионного отзыва\n",
    "\n"
   ]
  },
  {
   "cell_type": "markdown",
   "metadata": {},
   "source": [
    "**PR-кривая**"
   ]
  },
  {
   "cell_type": "code",
   "execution_count": 21,
   "metadata": {},
   "outputs": [
    {
     "data": {
      "image/png": "[encoded data removed]",
      "text/plain": [
       "<Figure size 432x288 with 1 Axes>"
      ]
     },
     "metadata": {
      "needs_background": "light"
     },
     "output_type": "display_data"
    }
   ],
   "source": [
    "# precision recall curve\n",
    "precision = dict()\n",
    "recall = dict()\n",
    "for i in range(n_classes):\n",
    "    precision[i], recall[i], _ = precision_recall_curve(y_test[:, i],\n",
    "                                                        y_score[:, i])\n",
    "    plt.plot(recall[i], precision[i], lw=2, label='class {}'.format(i))\n",
    "    \n",
    "plt.xlabel(\"recall\")\n",
    "plt.ylabel(\"precision\")\n",
    "plt.legend(loc=\"best\")\n",
    "plt.title(\"precision vs. recall curve\")\n",
    "plt.show()"
   ]
  },
  {
   "cell_type": "markdown",
   "metadata": {},
   "source": [
    "### 9. Сравните кривые для классификаторов, указанных в задании, сделайте выводы."
   ]
  },
  {
   "cell_type": "markdown",
   "metadata": {},
   "source": [
    "Точность классификатора k-ближайших соседей составила 0,52. В многоклассовом классификаторе pr-кривая даёт оценку для 0, 1, 6 классов около 0,5 у остальных классов ниже. Следовательно никакой классификатор не смог решить свою задачу"
   ]
  },
  {
   "cell_type": "code",
   "execution_count": null,
   "metadata": {},
   "outputs": [],
   "source": []
  }
 ],
 "metadata": {
  "kernelspec": {
   "display_name": "Python 3",
   "language": "python",
   "name": "python3"
  },
  "language_info": {
   "codemirror_mode": {
    "name": "ipython",
    "version": 3
   },
   "file_extension": ".py",
   "mimetype": "text/x-python",
   "name": "python",
   "nbconvert_exporter": "python",
   "pygments_lexer": "ipython3",
   "version": "3.8.7"
  }
 },
 "nbformat": 4,
 "nbformat_minor": 4
}
