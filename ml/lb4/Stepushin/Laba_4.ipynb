{
 "cells": [
  {
   "cell_type": "markdown",
   "metadata": {},
   "source": [
    "# Лабораторная работа № 4. Регрессионный анализ данных\n",
    "### Степушин С.В. 19-ИВТ-2\n",
    "### Вариатн - 19\n",
    "#### Набор данных - 4\n",
    "#### Классификаторы - 1,2\n",
    "### 1.\tИзучить набор данных. Создать описание набора данных на русском языке. "
   ]
  },
  {
   "cell_type": "markdown",
   "metadata": {},
   "source": [
    "#### Набор данных:\n",
    "\n",
    "Frequency: частота (в герцах)\n",
    "\n",
    "Angle of attack: угол атаки (в градусах)\n",
    "\n",
    "Chord length: длина хорды (в метрах)\n",
    "\n",
    "Free-stream velocity: скорость набегающего потока (в метрах в секунду)\n",
    "\n",
    "Suction side displacement thickness: толщина вытеснения на стороне всасывания (в метрах)\n",
    "\n",
    "Scaled sound pressure level: масштабируемый уровень звукового давления (в децибелах)"
   ]
  },
  {
   "cell_type": "code",
   "execution_count": 1,
   "metadata": {},
   "outputs": [],
   "source": [
    "import pandas as pd \n",
    "import matplotlib.pyplot as plt\n",
    "import numpy as np\n",
    "import sklearn as sk\n",
    "import seaborn as sns\n",
    "from sklearn.preprocessing import MinMaxScaler\n",
    "from sklearn.model_selection import (train_test_split)\n",
    "from sklearn.linear_model import Lasso, LinearRegression\n",
    "from sklearn.metrics import mean_squared_error, mean_absolute_error\n",
    "from scipy.stats import pearsonr, spearmanr\n",
    "nasa = pd.read_csv('airfoil_self_noise.dat.txt', sep='\\s+', names=[\"Frequency\",\"Angle of attack\",\n",
    "                                                                   \"Chord length\",\"Free-stream velocity\",\n",
    "                                                                   \"Suction side displacement thickness\",\n",
    "                                                                   \"Scaled sound pressure level\"])"
   ]
  },
  {
   "cell_type": "markdown",
   "metadata": {},
   "source": [
    "### 2.\tУдалите дубликаты строк в наборе данных; приведите размер набора данных до и после данной операции."
   ]
  },
  {
   "cell_type": "code",
   "execution_count": 2,
   "metadata": {},
   "outputs": [
    {
     "name": "stdout",
     "output_type": "stream",
     "text": [
      "Количество строк до очистки: 1503\n",
      "Количество строк после очистки: 1503\n"
     ]
    }
   ],
   "source": [
    "print(\"Количество строк до очистки:\" , len(nasa))\n",
    "print(\"Количество строк после очистки:\" , len(nasa.drop_duplicates()))"
   ]
  },
  {
   "cell_type": "markdown",
   "metadata": {},
   "source": [
    "### 3.Выполните масштабирование количественных признаков; Постройте диаграммы BoxPlot для признаков до и после масштабирования. Выберите способ масштабирования (например, нормализацию или стандартизацию)."
   ]
  },
  {
   "cell_type": "markdown",
   "metadata": {},
   "source": [
    "#### Диаграммы BoxPlot до мастштабирования:"
   ]
  },
  {
   "cell_type": "code",
   "execution_count": 3,
   "metadata": {},
   "outputs": [
    {
     "data": {
      "text/plain": [
       "<AxesSubplot:>"
      ]
     },
     "execution_count": 3,
     "metadata": {},
     "output_type": "execute_result"
    },
    {
     "data": {
      "image/png": "[encoded data removed]",
      "text/plain": [
       "<Figure size 432x288 with 1 Axes>"
      ]
     },
     "metadata": {
      "needs_background": "light"
     },
     "output_type": "display_data"
    }
   ],
   "source": [
    "nasa.boxplot()"
   ]
  },
  {
   "cell_type": "code",
   "execution_count": 4,
   "metadata": {},
   "outputs": [
    {
     "name": "stdout",
     "output_type": "stream",
     "text": [
      "Числовые:  ['Frequency', 'Angle of attack', 'Chord length', 'Free-stream velocity', 'Suction side displacement thickness', 'Scaled sound pressure level']\n",
      "Категориальные :  []\n"
     ]
    }
   ],
   "source": [
    "numerical_columns = [i for i in nasa.columns[0:6] if nasa[i].dtype.name != 'object']\n",
    "categorial_columns = [i for i in nasa.columns[0:6] if nasa[i].dtype.name == 'object']\n",
    "print(\"Числовые: \", numerical_columns)\n",
    "print(\"Категориальные : \", categorial_columns)"
   ]
  },
  {
   "cell_type": "markdown",
   "metadata": {},
   "source": [
    "В качестве способа масштабирования выберем нормализацию."
   ]
  },
  {
   "cell_type": "code",
   "execution_count": 5,
   "metadata": {},
   "outputs": [
    {
     "data": {
      "text/html": [
       "<div>\n",
       "<style scoped>\n",
       "    .dataframe tbody tr th:only-of-type {\n",
       "        vertical-align: middle;\n",
       "    }\n",
       "\n",
       "    .dataframe tbody tr th {\n",
       "        vertical-align: top;\n",
       "    }\n",
       "\n",
       "    .dataframe thead th {\n",
       "        text-align: right;\n",
       "    }\n",
       "</style>\n",
       "<table border=\"1\" class=\"dataframe\">\n",
       "  <thead>\n",
       "    <tr style=\"text-align: right;\">\n",
       "      <th></th>\n",
       "      <th>Frequency</th>\n",
       "      <th>Angle of attack</th>\n",
       "      <th>Chord length</th>\n",
       "      <th>Free-stream velocity</th>\n",
       "      <th>Suction side displacement thickness</th>\n",
       "      <th>Scaled sound pressure level</th>\n",
       "    </tr>\n",
       "  </thead>\n",
       "  <tbody>\n",
       "    <tr>\n",
       "      <th>0</th>\n",
       "      <td>0.030303</td>\n",
       "      <td>0.0</td>\n",
       "      <td>1.0</td>\n",
       "      <td>1.0</td>\n",
       "      <td>0.039005</td>\n",
       "      <td>0.606829</td>\n",
       "    </tr>\n",
       "    <tr>\n",
       "      <th>1</th>\n",
       "      <td>0.040404</td>\n",
       "      <td>0.0</td>\n",
       "      <td>1.0</td>\n",
       "      <td>1.0</td>\n",
       "      <td>0.039005</td>\n",
       "      <td>0.580238</td>\n",
       "    </tr>\n",
       "    <tr>\n",
       "      <th>2</th>\n",
       "      <td>0.053030</td>\n",
       "      <td>0.0</td>\n",
       "      <td>1.0</td>\n",
       "      <td>1.0</td>\n",
       "      <td>0.039005</td>\n",
       "      <td>0.600181</td>\n",
       "    </tr>\n",
       "    <tr>\n",
       "      <th>3</th>\n",
       "      <td>0.070707</td>\n",
       "      <td>0.0</td>\n",
       "      <td>1.0</td>\n",
       "      <td>1.0</td>\n",
       "      <td>0.039005</td>\n",
       "      <td>0.643790</td>\n",
       "    </tr>\n",
       "    <tr>\n",
       "      <th>4</th>\n",
       "      <td>0.090909</td>\n",
       "      <td>0.0</td>\n",
       "      <td>1.0</td>\n",
       "      <td>1.0</td>\n",
       "      <td>0.039005</td>\n",
       "      <td>0.640333</td>\n",
       "    </tr>\n",
       "  </tbody>\n",
       "</table>\n",
       "</div>"
      ],
      "text/plain": [
       "   Frequency  Angle of attack  Chord length  Free-stream velocity  \\\n",
       "0   0.030303              0.0           1.0                   1.0   \n",
       "1   0.040404              0.0           1.0                   1.0   \n",
       "2   0.053030              0.0           1.0                   1.0   \n",
       "3   0.070707              0.0           1.0                   1.0   \n",
       "4   0.090909              0.0           1.0                   1.0   \n",
       "\n",
       "   Suction side displacement thickness  Scaled sound pressure level  \n",
       "0                             0.039005                     0.606829  \n",
       "1                             0.039005                     0.580238  \n",
       "2                             0.039005                     0.600181  \n",
       "3                             0.039005                     0.643790  \n",
       "4                             0.039005                     0.640333  "
      ]
     },
     "execution_count": 5,
     "metadata": {},
     "output_type": "execute_result"
    }
   ],
   "source": [
    "normal = MinMaxScaler()\n",
    "nasa[numerical_columns] = normal.fit_transform(nasa[numerical_columns])\n",
    "nasa.head()"
   ]
  },
  {
   "cell_type": "markdown",
   "metadata": {},
   "source": [
    "#### Диаграммы BoxPlot после мастштабирования:"
   ]
  },
  {
   "cell_type": "code",
   "execution_count": 6,
   "metadata": {},
   "outputs": [
    {
     "data": {
      "text/plain": [
       "<AxesSubplot:>"
      ]
     },
     "execution_count": 6,
     "metadata": {},
     "output_type": "execute_result"
    },
    {
     "data": {
      "image/png": "[encoded data removed]",
      "text/plain": [
       "<Figure size 432x288 with 1 Axes>"
      ]
     },
     "metadata": {
      "needs_background": "light"
     },
     "output_type": "display_data"
    }
   ],
   "source": [
    "nasa.boxplot()"
   ]
  },
  {
   "cell_type": "markdown",
   "metadata": {},
   "source": [
    "### 4.\tВыполните замену категориальных признаков; выберите и обоснуйте способ замены\n",
    "В нашем случае замена не нужна, потому что категориальные признаки отсутствуют."
   ]
  },
  {
   "cell_type": "markdown",
   "metadata": {},
   "source": [
    "### 5.\tОцените корреляцию между признаков и удалите те признаки, которые коррелируют с наибольшим числом других"
   ]
  },
  {
   "cell_type": "code",
   "execution_count": 7,
   "metadata": {},
   "outputs": [
    {
     "data": {
      "image/png": "[encoded data removed]",
      "text/plain": [
       "<Figure size 432x288 with 2 Axes>"
      ]
     },
     "metadata": {
      "needs_background": "light"
     },
     "output_type": "display_data"
    }
   ],
   "source": [
    "sns.heatmap(nasa.corr());"
   ]
  },
  {
   "cell_type": "code",
   "execution_count": 8,
   "metadata": {},
   "outputs": [
    {
     "data": {
      "text/html": [
       "<div>\n",
       "<style scoped>\n",
       "    .dataframe tbody tr th:only-of-type {\n",
       "        vertical-align: middle;\n",
       "    }\n",
       "\n",
       "    .dataframe tbody tr th {\n",
       "        vertical-align: top;\n",
       "    }\n",
       "\n",
       "    .dataframe thead th {\n",
       "        text-align: right;\n",
       "    }\n",
       "</style>\n",
       "<table border=\"1\" class=\"dataframe\">\n",
       "  <thead>\n",
       "    <tr style=\"text-align: right;\">\n",
       "      <th></th>\n",
       "      <th>Frequency</th>\n",
       "      <th>Angle of attack</th>\n",
       "      <th>Chord length</th>\n",
       "      <th>Free-stream velocity</th>\n",
       "      <th>Suction side displacement thickness</th>\n",
       "      <th>Scaled sound pressure level</th>\n",
       "    </tr>\n",
       "  </thead>\n",
       "  <tbody>\n",
       "    <tr>\n",
       "      <th>Frequency</th>\n",
       "      <td>1.000000</td>\n",
       "      <td>-0.272765</td>\n",
       "      <td>-0.003661</td>\n",
       "      <td>0.133664</td>\n",
       "      <td>-0.230107</td>\n",
       "      <td>-0.390711</td>\n",
       "    </tr>\n",
       "    <tr>\n",
       "      <th>Angle of attack</th>\n",
       "      <td>-0.272765</td>\n",
       "      <td>1.000000</td>\n",
       "      <td>-0.504868</td>\n",
       "      <td>0.058760</td>\n",
       "      <td>0.753394</td>\n",
       "      <td>-0.156108</td>\n",
       "    </tr>\n",
       "    <tr>\n",
       "      <th>Chord length</th>\n",
       "      <td>-0.003661</td>\n",
       "      <td>-0.504868</td>\n",
       "      <td>1.000000</td>\n",
       "      <td>0.003787</td>\n",
       "      <td>-0.220842</td>\n",
       "      <td>-0.236162</td>\n",
       "    </tr>\n",
       "    <tr>\n",
       "      <th>Free-stream velocity</th>\n",
       "      <td>0.133664</td>\n",
       "      <td>0.058760</td>\n",
       "      <td>0.003787</td>\n",
       "      <td>1.000000</td>\n",
       "      <td>-0.003974</td>\n",
       "      <td>0.125103</td>\n",
       "    </tr>\n",
       "    <tr>\n",
       "      <th>Suction side displacement thickness</th>\n",
       "      <td>-0.230107</td>\n",
       "      <td>0.753394</td>\n",
       "      <td>-0.220842</td>\n",
       "      <td>-0.003974</td>\n",
       "      <td>1.000000</td>\n",
       "      <td>-0.312670</td>\n",
       "    </tr>\n",
       "    <tr>\n",
       "      <th>Scaled sound pressure level</th>\n",
       "      <td>-0.390711</td>\n",
       "      <td>-0.156108</td>\n",
       "      <td>-0.236162</td>\n",
       "      <td>0.125103</td>\n",
       "      <td>-0.312670</td>\n",
       "      <td>1.000000</td>\n",
       "    </tr>\n",
       "  </tbody>\n",
       "</table>\n",
       "</div>"
      ],
      "text/plain": [
       "                                     Frequency  Angle of attack  Chord length  \\\n",
       "Frequency                             1.000000        -0.272765     -0.003661   \n",
       "Angle of attack                      -0.272765         1.000000     -0.504868   \n",
       "Chord length                         -0.003661        -0.504868      1.000000   \n",
       "Free-stream velocity                  0.133664         0.058760      0.003787   \n",
       "Suction side displacement thickness  -0.230107         0.753394     -0.220842   \n",
       "Scaled sound pressure level          -0.390711        -0.156108     -0.236162   \n",
       "\n",
       "                                     Free-stream velocity  \\\n",
       "Frequency                                        0.133664   \n",
       "Angle of attack                                  0.058760   \n",
       "Chord length                                     0.003787   \n",
       "Free-stream velocity                             1.000000   \n",
       "Suction side displacement thickness             -0.003974   \n",
       "Scaled sound pressure level                      0.125103   \n",
       "\n",
       "                                     Suction side displacement thickness  \\\n",
       "Frequency                                                      -0.230107   \n",
       "Angle of attack                                                 0.753394   \n",
       "Chord length                                                   -0.220842   \n",
       "Free-stream velocity                                           -0.003974   \n",
       "Suction side displacement thickness                             1.000000   \n",
       "Scaled sound pressure level                                    -0.312670   \n",
       "\n",
       "                                     Scaled sound pressure level  \n",
       "Frequency                                              -0.390711  \n",
       "Angle of attack                                        -0.156108  \n",
       "Chord length                                           -0.236162  \n",
       "Free-stream velocity                                    0.125103  \n",
       "Suction side displacement thickness                    -0.312670  \n",
       "Scaled sound pressure level                             1.000000  "
      ]
     },
     "execution_count": 8,
     "metadata": {},
     "output_type": "execute_result"
    }
   ],
   "source": [
    "nasa.corr()"
   ]
  },
  {
   "cell_type": "markdown",
   "metadata": {},
   "source": [
    "Можно увидеть, что угол атаки сильно коррелирует с длиной хороды, скоростью набегающего потока и толщиной вытеснения. Поэтому удалим его."
   ]
  },
  {
   "cell_type": "code",
   "execution_count": 9,
   "metadata": {},
   "outputs": [],
   "source": [
    "nasa.drop('Angle of attack', axis=1, inplace=True)"
   ]
  },
  {
   "cell_type": "markdown",
   "metadata": {},
   "source": [
    "### 6. Заполните пропущенные значения в данных.\n",
    "Количество строк:"
   ]
  },
  {
   "cell_type": "code",
   "execution_count": 10,
   "metadata": {},
   "outputs": [
    {
     "data": {
      "text/plain": [
       "1503"
      ]
     },
     "execution_count": 10,
     "metadata": {},
     "output_type": "execute_result"
    }
   ],
   "source": [
    "len(nasa)"
   ]
  },
  {
   "cell_type": "markdown",
   "metadata": {},
   "source": [
    "Теперь посмотрим есть ли пропущенные значения."
   ]
  },
  {
   "cell_type": "code",
   "execution_count": 11,
   "metadata": {},
   "outputs": [
    {
     "data": {
      "text/plain": [
       "Frequency                              1503\n",
       "Chord length                           1503\n",
       "Free-stream velocity                   1503\n",
       "Suction side displacement thickness    1503\n",
       "Scaled sound pressure level            1503\n",
       "dtype: int64"
      ]
     },
     "execution_count": 11,
     "metadata": {},
     "output_type": "execute_result"
    }
   ],
   "source": [
    "nasa.count()"
   ]
  },
  {
   "cell_type": "markdown",
   "metadata": {},
   "source": [
    "#### Пропущенных значений нет."
   ]
  },
  {
   "cell_type": "markdown",
   "metadata": {},
   "source": [
    "### 7. Решите поставленную задачу регрессии в соответствии с заданием. При подборе параметров метода принятия решения (метода регрессии) используйте перекрёстную проверку (изучите возможные для изменения параметры метода регрессии).  Вычислите точность решения задачи, вычислив разницу между реальным значением и предсказанным. Вычислите коэффициент корреляции (Пирсона, Спирмена) между реальным значением и предсказанным с учётом p-value. \n",
    "Разделим полученные данные на данные для обучения и теста."
   ]
  },
  {
   "cell_type": "code",
   "execution_count": 12,
   "metadata": {},
   "outputs": [],
   "source": [
    "X = nasa.drop(['Frequency'], axis=1)\n",
    "Y = nasa['Frequency']\n",
    "X_train, X_test, Y_train, Y_test = train_test_split(X, Y, test_size = 0.3, random_state = 0)"
   ]
  },
  {
   "cell_type": "markdown",
   "metadata": {},
   "source": [
    "#### Линейная регрессия без использования регуляторов"
   ]
  },
  {
   "cell_type": "code",
   "execution_count": 13,
   "metadata": {},
   "outputs": [
    {
     "name": "stdout",
     "output_type": "stream",
     "text": [
      "968    -0.281785\n",
      "9      -0.076309\n",
      "1468    0.017243\n",
      "1150    0.300126\n",
      "880    -0.023869\n",
      "202     0.192739\n",
      "122     0.005069\n",
      "984     0.060965\n",
      "688     0.029720\n",
      "506    -0.000319\n",
      "278     0.029823\n",
      "1013   -0.193804\n",
      "997     0.033450\n",
      "432     0.070961\n",
      "82      0.036182\n",
      "Name: Frequency, dtype: float64\n"
     ]
    }
   ],
   "source": [
    "regres = LinearRegression()\n",
    "regres.fit(X_train,Y_train)\n",
    "regres_pred = regres.predict(X_test)\n",
    "print(regres_pred[:15] - Y_test[:15])"
   ]
  },
  {
   "cell_type": "code",
   "execution_count": 17,
   "metadata": {},
   "outputs": [
    {
     "name": "stdout",
     "output_type": "stream",
     "text": [
      "Погрешность: 0.015810885789199213\n",
      "Корреляция по Пирсону:  0.6276083991926913  p_value : 9.09592539810902e-51\n",
      "Корреляция по Спирмену:  0.5852230397519462  p_value : 8.435225225071943e-43\n"
     ]
    }
   ],
   "source": [
    "Person, p_value_Person = pearsonr(regres_pred, Y_test)\n",
    "Spirmen, p_value_Spirmen = spearmanr(regres_pred, Y_test)\n",
    "\n",
    "print('Погрешность:', mean_squared_error(regres_pred, Y_test))\n",
    "print(\"Корреляция по Пирсону: \", Person,\" p_value :\", p_value_Person)\n",
    "print(\"Корреляция по Спирмену: \", Spirmen,\" p_value :\", p_value_Spirmen)"
   ]
  },
  {
   "cell_type": "markdown",
   "metadata": {},
   "source": [
    "#### Линейная регрессия, LASSO регуляризатор"
   ]
  },
  {
   "cell_type": "code",
   "execution_count": 21,
   "metadata": {},
   "outputs": [],
   "source": [
    "lass = Lasso(alpha = 0.01)\n",
    "lass.fit(X_train, Y_train)\n",
    "pred_lass = lass.predict(X_test)"
   ]
  },
  {
   "cell_type": "code",
   "execution_count": 23,
   "metadata": {},
   "outputs": [
    {
     "name": "stdout",
     "output_type": "stream",
     "text": [
      "Погрешность: 0.015810885789199213\n",
      "Корреляция по Пирсону:  0.4249903535607463  p_value : 3.3172297547762667e-21\n",
      "Корреляция по Спирмену:  0.359134869668993  p_value : 3.55299979538712e-15\n"
     ]
    }
   ],
   "source": [
    "Person, p_value_Person = pearsonr(pred_lass, Y_test)\n",
    "Spirmen, p_value_Spirmen = spearmanr(pred_lass, Y_test)\n",
    "print('Погрешность:', mean_squared_error(regres_pred, Y_test))\n",
    "print(\"Корреляция по Пирсону: \", Person,\" p_value :\", p_value_Person)\n",
    "print(\"Корреляция по Спирмену: \", Spirmen,\" p_value :\", p_value_Spirmen)"
   ]
  },
  {
   "cell_type": "code",
   "execution_count": null,
   "metadata": {},
   "outputs": [],
   "source": []
  },
  {
   "cell_type": "code",
   "execution_count": null,
   "metadata": {},
   "outputs": [],
   "source": []
  }
 ],
 "metadata": {
  "kernelspec": {
   "display_name": "Python 3",
   "language": "python",
   "name": "python3"
  },
  "language_info": {
   "codemirror_mode": {
    "name": "ipython",
    "version": 3
   },
   "file_extension": ".py",
   "mimetype": "text/x-python",
   "name": "python",
   "nbconvert_exporter": "python",
   "pygments_lexer": "ipython3",
   "version": "3.8.7"
  }
 },
 "nbformat": 4,
 "nbformat_minor": 4
}
