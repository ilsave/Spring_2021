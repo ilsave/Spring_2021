{
 "cells": [
  {
   "cell_type": "markdown",
   "id": "molecular-drinking",
   "metadata": {},
   "source": [
    "# Сипаков Вячеслав Всеволодович 19-ИВТ-3 Вариант 22"
   ]
  },
  {
   "cell_type": "markdown",
   "id": "reserved-factor",
   "metadata": {},
   "source": [
    "#### 1. Изучить набор данных. Создать описание набора данных на русском языке. Описать признаки, используемые в наборе данных (включить полученные описания в отчёт)"
   ]
  },
  {
   "cell_type": "code",
   "execution_count": 1,
   "id": "automatic-tsunami",
   "metadata": {},
   "outputs": [],
   "source": [
    "%matplotlib inline\n",
    "import pandas as pd\n",
    "import matplotlib.pyplot as plt\n",
    "import numpy as np\n",
    "import seaborn as sns\n",
    "import sklearn as skl\n",
    "from sklearn import preprocessing\n",
    "from sklearn.linear_model import Lasso, Ridge\n",
    "from sklearn.model_selection import train_test_split, GridSearchCV\n",
    "from scipy.stats import pearsonr, spearmanr\n",
    "from sklearn.preprocessing import MinMaxScaler\n",
    "import scipy.stats as stats"
   ]
  },
  {
   "cell_type": "code",
   "execution_count": 2,
   "id": "anticipated-athletics",
   "metadata": {},
   "outputs": [
    {
     "data": {
      "text/html": [
       "<div>\n",
       "<style scoped>\n",
       "    .dataframe tbody tr th:only-of-type {\n",
       "        vertical-align: middle;\n",
       "    }\n",
       "\n",
       "    .dataframe tbody tr th {\n",
       "        vertical-align: top;\n",
       "    }\n",
       "\n",
       "    .dataframe thead th {\n",
       "        text-align: right;\n",
       "    }\n",
       "</style>\n",
       "<table border=\"1\" class=\"dataframe\">\n",
       "  <thead>\n",
       "    <tr style=\"text-align: right;\">\n",
       "      <th></th>\n",
       "      <th>frequency</th>\n",
       "      <th>angle</th>\n",
       "      <th>chord</th>\n",
       "      <th>velocity</th>\n",
       "      <th>thickness</th>\n",
       "      <th>noise</th>\n",
       "    </tr>\n",
       "  </thead>\n",
       "  <tbody>\n",
       "    <tr>\n",
       "      <th>0</th>\n",
       "      <td>800</td>\n",
       "      <td>0.0</td>\n",
       "      <td>0.3048</td>\n",
       "      <td>71.3</td>\n",
       "      <td>0.002663</td>\n",
       "      <td>126.201</td>\n",
       "    </tr>\n",
       "    <tr>\n",
       "      <th>1</th>\n",
       "      <td>1000</td>\n",
       "      <td>0.0</td>\n",
       "      <td>0.3048</td>\n",
       "      <td>71.3</td>\n",
       "      <td>0.002663</td>\n",
       "      <td>125.201</td>\n",
       "    </tr>\n",
       "    <tr>\n",
       "      <th>2</th>\n",
       "      <td>1250</td>\n",
       "      <td>0.0</td>\n",
       "      <td>0.3048</td>\n",
       "      <td>71.3</td>\n",
       "      <td>0.002663</td>\n",
       "      <td>125.951</td>\n",
       "    </tr>\n",
       "    <tr>\n",
       "      <th>3</th>\n",
       "      <td>1600</td>\n",
       "      <td>0.0</td>\n",
       "      <td>0.3048</td>\n",
       "      <td>71.3</td>\n",
       "      <td>0.002663</td>\n",
       "      <td>127.591</td>\n",
       "    </tr>\n",
       "    <tr>\n",
       "      <th>4</th>\n",
       "      <td>2000</td>\n",
       "      <td>0.0</td>\n",
       "      <td>0.3048</td>\n",
       "      <td>71.3</td>\n",
       "      <td>0.002663</td>\n",
       "      <td>127.461</td>\n",
       "    </tr>\n",
       "    <tr>\n",
       "      <th>...</th>\n",
       "      <td>...</td>\n",
       "      <td>...</td>\n",
       "      <td>...</td>\n",
       "      <td>...</td>\n",
       "      <td>...</td>\n",
       "      <td>...</td>\n",
       "    </tr>\n",
       "    <tr>\n",
       "      <th>1498</th>\n",
       "      <td>2500</td>\n",
       "      <td>15.6</td>\n",
       "      <td>0.1016</td>\n",
       "      <td>39.6</td>\n",
       "      <td>0.052849</td>\n",
       "      <td>110.264</td>\n",
       "    </tr>\n",
       "    <tr>\n",
       "      <th>1499</th>\n",
       "      <td>3150</td>\n",
       "      <td>15.6</td>\n",
       "      <td>0.1016</td>\n",
       "      <td>39.6</td>\n",
       "      <td>0.052849</td>\n",
       "      <td>109.254</td>\n",
       "    </tr>\n",
       "    <tr>\n",
       "      <th>1500</th>\n",
       "      <td>4000</td>\n",
       "      <td>15.6</td>\n",
       "      <td>0.1016</td>\n",
       "      <td>39.6</td>\n",
       "      <td>0.052849</td>\n",
       "      <td>106.604</td>\n",
       "    </tr>\n",
       "    <tr>\n",
       "      <th>1501</th>\n",
       "      <td>5000</td>\n",
       "      <td>15.6</td>\n",
       "      <td>0.1016</td>\n",
       "      <td>39.6</td>\n",
       "      <td>0.052849</td>\n",
       "      <td>106.224</td>\n",
       "    </tr>\n",
       "    <tr>\n",
       "      <th>1502</th>\n",
       "      <td>6300</td>\n",
       "      <td>15.6</td>\n",
       "      <td>0.1016</td>\n",
       "      <td>39.6</td>\n",
       "      <td>0.052849</td>\n",
       "      <td>104.204</td>\n",
       "    </tr>\n",
       "  </tbody>\n",
       "</table>\n",
       "<p>1503 rows × 6 columns</p>\n",
       "</div>"
      ],
      "text/plain": [
       "      frequency  angle   chord  velocity  thickness    noise\n",
       "0           800    0.0  0.3048      71.3   0.002663  126.201\n",
       "1          1000    0.0  0.3048      71.3   0.002663  125.201\n",
       "2          1250    0.0  0.3048      71.3   0.002663  125.951\n",
       "3          1600    0.0  0.3048      71.3   0.002663  127.591\n",
       "4          2000    0.0  0.3048      71.3   0.002663  127.461\n",
       "...         ...    ...     ...       ...        ...      ...\n",
       "1498       2500   15.6  0.1016      39.6   0.052849  110.264\n",
       "1499       3150   15.6  0.1016      39.6   0.052849  109.254\n",
       "1500       4000   15.6  0.1016      39.6   0.052849  106.604\n",
       "1501       5000   15.6  0.1016      39.6   0.052849  106.224\n",
       "1502       6300   15.6  0.1016      39.6   0.052849  104.204\n",
       "\n",
       "[1503 rows x 6 columns]"
      ]
     },
     "execution_count": 2,
     "metadata": {},
     "output_type": "execute_result"
    }
   ],
   "source": [
    "df = pd.read_csv('airfoil_self_noise.dat.txt', sep = '\\s+', names = ['frequency', 'angle', 'chord', 'velocity', 'thickness', 'noise'])\n",
    "df"
   ]
  },
  {
   "cell_type": "code",
   "execution_count": 3,
   "id": "personal-rescue",
   "metadata": {},
   "outputs": [
    {
     "name": "stdout",
     "output_type": "stream",
     "text": [
      "<class 'pandas.core.frame.DataFrame'>\n",
      "RangeIndex: 1503 entries, 0 to 1502\n",
      "Data columns (total 6 columns):\n",
      " #   Column     Non-Null Count  Dtype  \n",
      "---  ------     --------------  -----  \n",
      " 0   frequency  1503 non-null   int64  \n",
      " 1   angle      1503 non-null   float64\n",
      " 2   chord      1503 non-null   float64\n",
      " 3   velocity   1503 non-null   float64\n",
      " 4   thickness  1503 non-null   float64\n",
      " 5   noise      1503 non-null   float64\n",
      "dtypes: float64(5), int64(1)\n",
      "memory usage: 70.6 KB\n"
     ]
    }
   ],
   "source": [
    "df.info()"
   ]
  },
  {
   "cell_type": "markdown",
   "id": "adequate-clearing",
   "metadata": {},
   "source": [
    "| Переменная | Описание | Тип значения |\n",
    "| --- | --- | --- |\n",
    "|frequency| частота| число (в Гц)\n",
    "angle     |  угол атаки| число (в градусах)\n",
    "chord     | длина шнура| число (в метрах)\n",
    "velocity  | скорость потока| число (в м/c)\n",
    "thickness | толщина вытеснения на стороне всасывания| число (в м/c)\n",
    "noise     | уровень шума| число (в дБ)\n",
    "\n",
    "Нам нужно на основе других параметров определить параметр \"**noise**\" (уровень шума)"
   ]
  },
  {
   "cell_type": "markdown",
   "id": "olympic-highlight",
   "metadata": {},
   "source": [
    "#### 2. Удалите дубликаты строк в наборе данных; приведите размер набора данных до и после данной операции"
   ]
  },
  {
   "cell_type": "code",
   "execution_count": 4,
   "id": "preceding-xerox",
   "metadata": {},
   "outputs": [
    {
     "data": {
      "text/plain": [
       "(1503, 6)"
      ]
     },
     "execution_count": 4,
     "metadata": {},
     "output_type": "execute_result"
    }
   ],
   "source": [
    "df.shape\n"
   ]
  },
  {
   "cell_type": "code",
   "execution_count": 5,
   "id": "fewer-industry",
   "metadata": {},
   "outputs": [
    {
     "data": {
      "text/plain": [
       "(1503, 6)"
      ]
     },
     "execution_count": 5,
     "metadata": {},
     "output_type": "execute_result"
    }
   ],
   "source": [
    "df.drop_duplicates()\n",
    "df.shape"
   ]
  },
  {
   "cell_type": "markdown",
   "id": "meaningful-grocery",
   "metadata": {},
   "source": [
    "#### 3. Выполните масштабирование количественных признаков; Постройте диаграммы BoxPlot для признаков до и после масштабирования. Выберите способ масштабирования (например, нормализацию или стандартизацию)"
   ]
  },
  {
   "cell_type": "code",
   "execution_count": 6,
   "id": "frequent-switch",
   "metadata": {},
   "outputs": [
    {
     "data": {
      "image/png": "[encoded data removed]",
      "text/plain": [
       "<Figure size 1008x720 with 1 Axes>"
      ]
     },
     "metadata": {
      "needs_background": "light"
     },
     "output_type": "display_data"
    }
   ],
   "source": [
    "plt.figure(figsize = (14, 10))\n",
    "sns.boxplot(data = df)\n",
    "plt.show()"
   ]
  },
  {
   "cell_type": "code",
   "execution_count": 7,
   "id": "covered-barrel",
   "metadata": {},
   "outputs": [
    {
     "data": {
      "image/png": "[encoded data removed]",
      "text/plain": [
       "<Figure size 1008x720 with 1 Axes>"
      ]
     },
     "metadata": {
      "needs_background": "light"
     },
     "output_type": "display_data"
    }
   ],
   "source": [
    "#df['age'] = df['age'].fillna(df['age'].median()) # заполним пропущенные значения параметра age медианными\n",
    "\n",
    "df = df.dropna().reset_index(drop = True)\n",
    "\n",
    "scaler = MinMaxScaler() # нормализация\n",
    "\n",
    "column_names = ['frequency', 'angle', 'chord', 'velocity', 'thickness', 'noise']\n",
    "df = pd.DataFrame(scaler.fit_transform(df), columns = column_names)\n",
    "\n",
    "plt.figure(figsize = (14, 10))\n",
    "sns.boxplot(data = df)\n",
    "plt.show()"
   ]
  },
  {
   "cell_type": "markdown",
   "id": "external-house",
   "metadata": {},
   "source": [
    "#### 4. Выполните замену категориальных признаков; выберите и обоснуйте способ замены\n",
    "Категориальные признаки отсутствуют"
   ]
  },
  {
   "cell_type": "markdown",
   "id": "graphic-suite",
   "metadata": {},
   "source": [
    "#### 5. Оцените корреляцию между признаков и удалите те признаки, которые коррелируют с наибольшим числом других"
   ]
  },
  {
   "cell_type": "code",
   "execution_count": 8,
   "id": "ultimate-lucas",
   "metadata": {},
   "outputs": [
    {
     "data": {
      "image/png": "[encoded data removed]",
      "text/plain": [
       "<Figure size 432x288 with 2 Axes>"
      ]
     },
     "metadata": {
      "needs_background": "light"
     },
     "output_type": "display_data"
    }
   ],
   "source": [
    "df_corr = df.drop('noise', axis = 1).corr()\n",
    "sns.heatmap(df_corr)\n",
    "plt.show()"
   ]
  },
  {
   "cell_type": "markdown",
   "id": "quick-extra",
   "metadata": {},
   "source": [
    "Параметр *angle* коррелирует отрицательно с параметром *chord* и положительно с параметром *thickness*, поэтому удалим его."
   ]
  },
  {
   "cell_type": "code",
   "execution_count": 9,
   "id": "rising-construction",
   "metadata": {},
   "outputs": [
    {
     "data": {
      "text/html": [
       "<div>\n",
       "<style scoped>\n",
       "    .dataframe tbody tr th:only-of-type {\n",
       "        vertical-align: middle;\n",
       "    }\n",
       "\n",
       "    .dataframe tbody tr th {\n",
       "        vertical-align: top;\n",
       "    }\n",
       "\n",
       "    .dataframe thead th {\n",
       "        text-align: right;\n",
       "    }\n",
       "</style>\n",
       "<table border=\"1\" class=\"dataframe\">\n",
       "  <thead>\n",
       "    <tr style=\"text-align: right;\">\n",
       "      <th></th>\n",
       "      <th>frequency</th>\n",
       "      <th>chord</th>\n",
       "      <th>velocity</th>\n",
       "      <th>thickness</th>\n",
       "      <th>noise</th>\n",
       "    </tr>\n",
       "  </thead>\n",
       "  <tbody>\n",
       "    <tr>\n",
       "      <th>0</th>\n",
       "      <td>0.030303</td>\n",
       "      <td>1.000000</td>\n",
       "      <td>1.000000</td>\n",
       "      <td>0.039005</td>\n",
       "      <td>0.606829</td>\n",
       "    </tr>\n",
       "    <tr>\n",
       "      <th>1</th>\n",
       "      <td>0.040404</td>\n",
       "      <td>1.000000</td>\n",
       "      <td>1.000000</td>\n",
       "      <td>0.039005</td>\n",
       "      <td>0.580238</td>\n",
       "    </tr>\n",
       "    <tr>\n",
       "      <th>2</th>\n",
       "      <td>0.053030</td>\n",
       "      <td>1.000000</td>\n",
       "      <td>1.000000</td>\n",
       "      <td>0.039005</td>\n",
       "      <td>0.600181</td>\n",
       "    </tr>\n",
       "    <tr>\n",
       "      <th>3</th>\n",
       "      <td>0.070707</td>\n",
       "      <td>1.000000</td>\n",
       "      <td>1.000000</td>\n",
       "      <td>0.039005</td>\n",
       "      <td>0.643790</td>\n",
       "    </tr>\n",
       "    <tr>\n",
       "      <th>4</th>\n",
       "      <td>0.090909</td>\n",
       "      <td>1.000000</td>\n",
       "      <td>1.000000</td>\n",
       "      <td>0.039005</td>\n",
       "      <td>0.640333</td>\n",
       "    </tr>\n",
       "    <tr>\n",
       "      <th>...</th>\n",
       "      <td>...</td>\n",
       "      <td>...</td>\n",
       "      <td>...</td>\n",
       "      <td>...</td>\n",
       "      <td>...</td>\n",
       "    </tr>\n",
       "    <tr>\n",
       "      <th>1498</th>\n",
       "      <td>0.116162</td>\n",
       "      <td>0.272727</td>\n",
       "      <td>0.199495</td>\n",
       "      <td>0.904111</td>\n",
       "      <td>0.183051</td>\n",
       "    </tr>\n",
       "    <tr>\n",
       "      <th>1499</th>\n",
       "      <td>0.148990</td>\n",
       "      <td>0.272727</td>\n",
       "      <td>0.199495</td>\n",
       "      <td>0.904111</td>\n",
       "      <td>0.156194</td>\n",
       "    </tr>\n",
       "    <tr>\n",
       "      <th>1500</th>\n",
       "      <td>0.191919</td>\n",
       "      <td>0.272727</td>\n",
       "      <td>0.199495</td>\n",
       "      <td>0.904111</td>\n",
       "      <td>0.085729</td>\n",
       "    </tr>\n",
       "    <tr>\n",
       "      <th>1501</th>\n",
       "      <td>0.242424</td>\n",
       "      <td>0.272727</td>\n",
       "      <td>0.199495</td>\n",
       "      <td>0.904111</td>\n",
       "      <td>0.075624</td>\n",
       "    </tr>\n",
       "    <tr>\n",
       "      <th>1502</th>\n",
       "      <td>0.308081</td>\n",
       "      <td>0.272727</td>\n",
       "      <td>0.199495</td>\n",
       "      <td>0.904111</td>\n",
       "      <td>0.021911</td>\n",
       "    </tr>\n",
       "  </tbody>\n",
       "</table>\n",
       "<p>1503 rows × 5 columns</p>\n",
       "</div>"
      ],
      "text/plain": [
       "      frequency     chord  velocity  thickness     noise\n",
       "0      0.030303  1.000000  1.000000   0.039005  0.606829\n",
       "1      0.040404  1.000000  1.000000   0.039005  0.580238\n",
       "2      0.053030  1.000000  1.000000   0.039005  0.600181\n",
       "3      0.070707  1.000000  1.000000   0.039005  0.643790\n",
       "4      0.090909  1.000000  1.000000   0.039005  0.640333\n",
       "...         ...       ...       ...        ...       ...\n",
       "1498   0.116162  0.272727  0.199495   0.904111  0.183051\n",
       "1499   0.148990  0.272727  0.199495   0.904111  0.156194\n",
       "1500   0.191919  0.272727  0.199495   0.904111  0.085729\n",
       "1501   0.242424  0.272727  0.199495   0.904111  0.075624\n",
       "1502   0.308081  0.272727  0.199495   0.904111  0.021911\n",
       "\n",
       "[1503 rows x 5 columns]"
      ]
     },
     "execution_count": 9,
     "metadata": {},
     "output_type": "execute_result"
    }
   ],
   "source": [
    "df = df.drop('angle', axis = 1)\n",
    "df"
   ]
  },
  {
   "cell_type": "markdown",
   "id": "spectacular-terrain",
   "metadata": {},
   "source": [
    "#### 6. Заполните пропущенные значения в данных"
   ]
  },
  {
   "cell_type": "code",
   "execution_count": 10,
   "id": "leading-oxygen",
   "metadata": {},
   "outputs": [
    {
     "data": {
      "text/html": [
       "<div>\n",
       "<style scoped>\n",
       "    .dataframe tbody tr th:only-of-type {\n",
       "        vertical-align: middle;\n",
       "    }\n",
       "\n",
       "    .dataframe tbody tr th {\n",
       "        vertical-align: top;\n",
       "    }\n",
       "\n",
       "    .dataframe thead th {\n",
       "        text-align: right;\n",
       "    }\n",
       "</style>\n",
       "<table border=\"1\" class=\"dataframe\">\n",
       "  <thead>\n",
       "    <tr style=\"text-align: right;\">\n",
       "      <th></th>\n",
       "      <th>frequency</th>\n",
       "      <th>chord</th>\n",
       "      <th>velocity</th>\n",
       "      <th>thickness</th>\n",
       "      <th>noise</th>\n",
       "    </tr>\n",
       "  </thead>\n",
       "  <tbody>\n",
       "    <tr>\n",
       "      <th>0</th>\n",
       "      <td>0.030303</td>\n",
       "      <td>1.000000</td>\n",
       "      <td>1.000000</td>\n",
       "      <td>0.039005</td>\n",
       "      <td>0.606829</td>\n",
       "    </tr>\n",
       "    <tr>\n",
       "      <th>1</th>\n",
       "      <td>0.040404</td>\n",
       "      <td>1.000000</td>\n",
       "      <td>1.000000</td>\n",
       "      <td>0.039005</td>\n",
       "      <td>0.580238</td>\n",
       "    </tr>\n",
       "    <tr>\n",
       "      <th>2</th>\n",
       "      <td>0.053030</td>\n",
       "      <td>1.000000</td>\n",
       "      <td>1.000000</td>\n",
       "      <td>0.039005</td>\n",
       "      <td>0.600181</td>\n",
       "    </tr>\n",
       "    <tr>\n",
       "      <th>3</th>\n",
       "      <td>0.070707</td>\n",
       "      <td>1.000000</td>\n",
       "      <td>1.000000</td>\n",
       "      <td>0.039005</td>\n",
       "      <td>0.643790</td>\n",
       "    </tr>\n",
       "    <tr>\n",
       "      <th>4</th>\n",
       "      <td>0.090909</td>\n",
       "      <td>1.000000</td>\n",
       "      <td>1.000000</td>\n",
       "      <td>0.039005</td>\n",
       "      <td>0.640333</td>\n",
       "    </tr>\n",
       "    <tr>\n",
       "      <th>...</th>\n",
       "      <td>...</td>\n",
       "      <td>...</td>\n",
       "      <td>...</td>\n",
       "      <td>...</td>\n",
       "      <td>...</td>\n",
       "    </tr>\n",
       "    <tr>\n",
       "      <th>1498</th>\n",
       "      <td>0.116162</td>\n",
       "      <td>0.272727</td>\n",
       "      <td>0.199495</td>\n",
       "      <td>0.904111</td>\n",
       "      <td>0.183051</td>\n",
       "    </tr>\n",
       "    <tr>\n",
       "      <th>1499</th>\n",
       "      <td>0.148990</td>\n",
       "      <td>0.272727</td>\n",
       "      <td>0.199495</td>\n",
       "      <td>0.904111</td>\n",
       "      <td>0.156194</td>\n",
       "    </tr>\n",
       "    <tr>\n",
       "      <th>1500</th>\n",
       "      <td>0.191919</td>\n",
       "      <td>0.272727</td>\n",
       "      <td>0.199495</td>\n",
       "      <td>0.904111</td>\n",
       "      <td>0.085729</td>\n",
       "    </tr>\n",
       "    <tr>\n",
       "      <th>1501</th>\n",
       "      <td>0.242424</td>\n",
       "      <td>0.272727</td>\n",
       "      <td>0.199495</td>\n",
       "      <td>0.904111</td>\n",
       "      <td>0.075624</td>\n",
       "    </tr>\n",
       "    <tr>\n",
       "      <th>1502</th>\n",
       "      <td>0.308081</td>\n",
       "      <td>0.272727</td>\n",
       "      <td>0.199495</td>\n",
       "      <td>0.904111</td>\n",
       "      <td>0.021911</td>\n",
       "    </tr>\n",
       "  </tbody>\n",
       "</table>\n",
       "<p>1503 rows × 5 columns</p>\n",
       "</div>"
      ],
      "text/plain": [
       "      frequency     chord  velocity  thickness     noise\n",
       "0      0.030303  1.000000  1.000000   0.039005  0.606829\n",
       "1      0.040404  1.000000  1.000000   0.039005  0.580238\n",
       "2      0.053030  1.000000  1.000000   0.039005  0.600181\n",
       "3      0.070707  1.000000  1.000000   0.039005  0.643790\n",
       "4      0.090909  1.000000  1.000000   0.039005  0.640333\n",
       "...         ...       ...       ...        ...       ...\n",
       "1498   0.116162  0.272727  0.199495   0.904111  0.183051\n",
       "1499   0.148990  0.272727  0.199495   0.904111  0.156194\n",
       "1500   0.191919  0.272727  0.199495   0.904111  0.085729\n",
       "1501   0.242424  0.272727  0.199495   0.904111  0.075624\n",
       "1502   0.308081  0.272727  0.199495   0.904111  0.021911\n",
       "\n",
       "[1503 rows x 5 columns]"
      ]
     },
     "execution_count": 10,
     "metadata": {},
     "output_type": "execute_result"
    }
   ],
   "source": [
    "df = df.fillna(0)\n",
    "df"
   ]
  },
  {
   "cell_type": "markdown",
   "id": "lyric-granny",
   "metadata": {},
   "source": [
    "#### 7. Решите поставленную задачу регрессии в соответствии с заданием. При подборе параметров метода принятия решения (метода регрессии) используйте перекрёстную проверку (изучите возможные для изменения параметры метода регрессии).  Вычислите точность решения задачи, вычислив разницу между реальным значением и предсказанным. Вычислите коэффициент корреляции (Пирсона, Спирмена) между реальным значением и предсказанным с учётом p-value.\n",
    "* линейная регрессия, LASSO регуляризатор"
   ]
  },
  {
   "cell_type": "code",
   "execution_count": 11,
   "id": "unlimited-austin",
   "metadata": {},
   "outputs": [
    {
     "name": "stdout",
     "output_type": "stream",
     "text": [
      "Best alpha: 0.005\n"
     ]
    }
   ],
   "source": [
    "x, y = df.drop(['noise'], axis = 1), df['noise']\n",
    "x_train, x_test, y_train, y_test = train_test_split(x, y, test_size = 0.3, random_state = 666)\n",
    "\n",
    "lasso = Lasso()\n",
    "\n",
    "params = {'alpha': np.arange(0.005, 5, 0.05)}\n",
    "lasso_grid = GridSearchCV(lasso, params)\n",
    "lasso_grid.fit(x_train, y_train)\n",
    "best_alpha = lasso_grid.best_estimator_.alpha\n",
    "print('Best alpha:', best_alpha)"
   ]
  },
  {
   "cell_type": "code",
   "execution_count": 12,
   "id": "surprising-precipitation",
   "metadata": {},
   "outputs": [
    {
     "name": "stdout",
     "output_type": "stream",
     "text": [
      "Pearson correlation:\t 0.6354826558307112\n",
      "p-value:\t\t 2.189327282405986e-52\n",
      "\n",
      "Spearman correlation:\t 0.5947885314937267\n",
      "p_value:\t\t 1.701632341018516e-44\n",
      "\n",
      "Lasso predict error:\n",
      " 0.014640273780663404\n"
     ]
    }
   ],
   "source": [
    "lasso = Lasso(alpha = best_alpha)\n",
    "lasso.fit(x_train, y_train)\n",
    "lasso_predict = lasso.predict(x_test)\n",
    "\n",
    "pearson_corr, pearson_pvalue = pearsonr(lasso_predict, y_test)\n",
    "print('Pearson correlation:\\t', pearson_corr)\n",
    "print('p-value:\\t\\t', pearson_pvalue)\n",
    "\n",
    "spearman_corr, spearman_pvalue = spearmanr(lasso_predict, y_test)\n",
    "print('\\nSpearman correlation:\\t', spearman_corr)\n",
    "print('p_value:\\t\\t', spearman_pvalue)\n",
    "\n",
    "mean = np.mean(y_test[:] - lasso_predict[:])\n",
    "print('\\nLasso predict error:\\n', mean)"
   ]
  },
  {
   "cell_type": "markdown",
   "id": "rising-theater",
   "metadata": {},
   "source": [
    "* линейная регрессия, RIDGE регуляризатор"
   ]
  },
  {
   "cell_type": "code",
   "execution_count": 13,
   "id": "upset-terrain",
   "metadata": {},
   "outputs": [
    {
     "name": "stdout",
     "output_type": "stream",
     "text": [
      "Best alpha: 0.09999999999997833\n"
     ]
    }
   ],
   "source": [
    "ridge = Ridge()\n",
    "params = {'alpha': np.arange(-6, 5, 0.05)}\n",
    "ridge_grid = GridSearchCV(ridge, params)\n",
    "ridge_grid.fit(x_train, y_train)\n",
    "best_alpha = ridge_grid.best_estimator_.alpha\n",
    "print('Best alpha:', best_alpha)"
   ]
  },
  {
   "cell_type": "code",
   "execution_count": 14,
   "id": "specific-despite",
   "metadata": {},
   "outputs": [
    {
     "name": "stdout",
     "output_type": "stream",
     "text": [
      "Pearson correlation:\t 0.6323542837794667\n",
      "p-value:\t\t 9.748643534026995e-52\n",
      "\n",
      "Spearman correlation:\t 0.5917937436424651\n",
      "p_value:\t\t 5.857388658557746e-44\n",
      "\n",
      "Ridge predict error:\n",
      " 0.008306112034944503\n"
     ]
    }
   ],
   "source": [
    "ridge = Ridge(alpha = best_alpha)\n",
    "ridge.fit(x_train, y_train)\n",
    "ridge_predict = ridge.predict(x_test)\n",
    "pearson_corr, pearson_pvalue = pearsonr(ridge_predict, y_test)\n",
    "print('Pearson correlation:\\t', pearson_corr)\n",
    "print('p-value:\\t\\t', pearson_pvalue)\n",
    "\n",
    "spearman_corr, spearman_pvalue = spearmanr(ridge_predict, y_test)\n",
    "print('\\nSpearman correlation:\\t', spearman_corr)\n",
    "print('p_value:\\t\\t', spearman_pvalue)\n",
    "\n",
    "mean = np.mean(y_test[:] - ridge_predict[:])\n",
    "print('\\nRidge predict error:\\n', mean)"
   ]
  },
  {
   "cell_type": "code",
   "execution_count": null,
   "id": "usual-disorder",
   "metadata": {},
   "outputs": [],
   "source": []
  }
 ],
 "metadata": {
  "kernelspec": {
   "display_name": "Python 3",
   "language": "python",
   "name": "python3"
  },
  "language_info": {
   "codemirror_mode": {
    "name": "ipython",
    "version": 3
   },
   "file_extension": ".py",
   "mimetype": "text/x-python",
   "name": "python",
   "nbconvert_exporter": "python",
   "pygments_lexer": "ipython3",
   "version": "3.7.4"
  }
 },
 "nbformat": 4,
 "nbformat_minor": 5
}
