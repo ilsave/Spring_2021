{
 "cells": [
  {
   "cell_type": "markdown",
   "metadata": {},
   "source": [
    "### Жеглов Глеб \n",
    "#### 19-ИВТ-2\n",
    "### Вариант 11 \n",
    "#### 2 | 1, 2"
   ]
  },
  {
   "cell_type": "code",
   "execution_count": 1,
   "metadata": {},
   "outputs": [],
   "source": [
    "import warnings\n",
    "warnings.filterwarnings('ignore')\n",
    "import pandas as pd\n",
    "import matplotlib.pyplot as plt\n",
    "import seaborn as sns\n",
    "import sklearn as sk\n",
    "import numpy as np\n",
    "from sklearn import preprocessing\n",
    "from sklearn.preprocessing import MinMaxScaler\n",
    "from sklearn.model_selection import GridSearchCV, train_test_split\n",
    "from sklearn.linear_model import LinearRegression, Lasso, LassoCV\n",
    "from scipy.stats import pearsonr, spearmanr\n",
    "from sklearn.metrics import mean_squared_error, mean_absolute_error"
   ]
  },
  {
   "cell_type": "code",
   "execution_count": 2,
   "metadata": {},
   "outputs": [
    {
     "data": {
      "text/html": [
       "<div>\n",
       "<style scoped>\n",
       "    .dataframe tbody tr th:only-of-type {\n",
       "        vertical-align: middle;\n",
       "    }\n",
       "\n",
       "    .dataframe tbody tr th {\n",
       "        vertical-align: top;\n",
       "    }\n",
       "\n",
       "    .dataframe thead th {\n",
       "        text-align: right;\n",
       "    }\n",
       "</style>\n",
       "<table border=\"1\" class=\"dataframe\">\n",
       "  <thead>\n",
       "    <tr style=\"text-align: right;\">\n",
       "      <th></th>\n",
       "      <th>CO(GT)</th>\n",
       "      <th>PT08.S1(CO)</th>\n",
       "      <th>NMHC(GT)</th>\n",
       "      <th>C6H6(GT)</th>\n",
       "      <th>PT08.S2(NMHC)</th>\n",
       "      <th>NOx(GT)</th>\n",
       "      <th>PT08.S3(NOx)</th>\n",
       "      <th>NO2(GT)</th>\n",
       "      <th>PT08.S4(NO2)</th>\n",
       "      <th>PT08.S5(O3)</th>\n",
       "      <th>T</th>\n",
       "      <th>RH</th>\n",
       "      <th>AH</th>\n",
       "    </tr>\n",
       "  </thead>\n",
       "  <tbody>\n",
       "    <tr>\n",
       "      <th>0</th>\n",
       "      <td>2.6</td>\n",
       "      <td>1360</td>\n",
       "      <td>150</td>\n",
       "      <td>11.9</td>\n",
       "      <td>1046</td>\n",
       "      <td>166</td>\n",
       "      <td>1056</td>\n",
       "      <td>113</td>\n",
       "      <td>1692</td>\n",
       "      <td>1268</td>\n",
       "      <td>13.6</td>\n",
       "      <td>48.9</td>\n",
       "      <td>0.76</td>\n",
       "    </tr>\n",
       "    <tr>\n",
       "      <th>1</th>\n",
       "      <td>2.0</td>\n",
       "      <td>1292</td>\n",
       "      <td>112</td>\n",
       "      <td>9.4</td>\n",
       "      <td>955</td>\n",
       "      <td>103</td>\n",
       "      <td>1174</td>\n",
       "      <td>92</td>\n",
       "      <td>1559</td>\n",
       "      <td>972</td>\n",
       "      <td>13.3</td>\n",
       "      <td>47.7</td>\n",
       "      <td>0.73</td>\n",
       "    </tr>\n",
       "    <tr>\n",
       "      <th>2</th>\n",
       "      <td>2.2</td>\n",
       "      <td>1402</td>\n",
       "      <td>88</td>\n",
       "      <td>9.0</td>\n",
       "      <td>939</td>\n",
       "      <td>131</td>\n",
       "      <td>1140</td>\n",
       "      <td>114</td>\n",
       "      <td>1555</td>\n",
       "      <td>1074</td>\n",
       "      <td>11.9</td>\n",
       "      <td>54.0</td>\n",
       "      <td>0.75</td>\n",
       "    </tr>\n",
       "    <tr>\n",
       "      <th>3</th>\n",
       "      <td>2.2</td>\n",
       "      <td>1376</td>\n",
       "      <td>80</td>\n",
       "      <td>9.2</td>\n",
       "      <td>948</td>\n",
       "      <td>172</td>\n",
       "      <td>1092</td>\n",
       "      <td>122</td>\n",
       "      <td>1584</td>\n",
       "      <td>1203</td>\n",
       "      <td>11.0</td>\n",
       "      <td>60.0</td>\n",
       "      <td>0.79</td>\n",
       "    </tr>\n",
       "    <tr>\n",
       "      <th>4</th>\n",
       "      <td>1.6</td>\n",
       "      <td>1272</td>\n",
       "      <td>51</td>\n",
       "      <td>6.5</td>\n",
       "      <td>836</td>\n",
       "      <td>131</td>\n",
       "      <td>1205</td>\n",
       "      <td>116</td>\n",
       "      <td>1490</td>\n",
       "      <td>1110</td>\n",
       "      <td>11.2</td>\n",
       "      <td>59.6</td>\n",
       "      <td>0.79</td>\n",
       "    </tr>\n",
       "    <tr>\n",
       "      <th>...</th>\n",
       "      <td>...</td>\n",
       "      <td>...</td>\n",
       "      <td>...</td>\n",
       "      <td>...</td>\n",
       "      <td>...</td>\n",
       "      <td>...</td>\n",
       "      <td>...</td>\n",
       "      <td>...</td>\n",
       "      <td>...</td>\n",
       "      <td>...</td>\n",
       "      <td>...</td>\n",
       "      <td>...</td>\n",
       "      <td>...</td>\n",
       "    </tr>\n",
       "    <tr>\n",
       "      <th>9352</th>\n",
       "      <td>3.1</td>\n",
       "      <td>1314</td>\n",
       "      <td>-200</td>\n",
       "      <td>13.5</td>\n",
       "      <td>1101</td>\n",
       "      <td>472</td>\n",
       "      <td>539</td>\n",
       "      <td>190</td>\n",
       "      <td>1374</td>\n",
       "      <td>1729</td>\n",
       "      <td>21.9</td>\n",
       "      <td>29.3</td>\n",
       "      <td>0.76</td>\n",
       "    </tr>\n",
       "    <tr>\n",
       "      <th>9353</th>\n",
       "      <td>2.4</td>\n",
       "      <td>1163</td>\n",
       "      <td>-200</td>\n",
       "      <td>11.4</td>\n",
       "      <td>1027</td>\n",
       "      <td>353</td>\n",
       "      <td>604</td>\n",
       "      <td>179</td>\n",
       "      <td>1264</td>\n",
       "      <td>1269</td>\n",
       "      <td>24.3</td>\n",
       "      <td>23.7</td>\n",
       "      <td>0.71</td>\n",
       "    </tr>\n",
       "    <tr>\n",
       "      <th>9354</th>\n",
       "      <td>2.4</td>\n",
       "      <td>1142</td>\n",
       "      <td>-200</td>\n",
       "      <td>12.4</td>\n",
       "      <td>1063</td>\n",
       "      <td>293</td>\n",
       "      <td>603</td>\n",
       "      <td>175</td>\n",
       "      <td>1241</td>\n",
       "      <td>1092</td>\n",
       "      <td>26.9</td>\n",
       "      <td>18.3</td>\n",
       "      <td>0.64</td>\n",
       "    </tr>\n",
       "    <tr>\n",
       "      <th>9355</th>\n",
       "      <td>2.1</td>\n",
       "      <td>1003</td>\n",
       "      <td>-200</td>\n",
       "      <td>9.5</td>\n",
       "      <td>961</td>\n",
       "      <td>235</td>\n",
       "      <td>702</td>\n",
       "      <td>156</td>\n",
       "      <td>1041</td>\n",
       "      <td>770</td>\n",
       "      <td>28.3</td>\n",
       "      <td>13.5</td>\n",
       "      <td>0.51</td>\n",
       "    </tr>\n",
       "    <tr>\n",
       "      <th>9356</th>\n",
       "      <td>2.2</td>\n",
       "      <td>1071</td>\n",
       "      <td>-200</td>\n",
       "      <td>11.9</td>\n",
       "      <td>1047</td>\n",
       "      <td>265</td>\n",
       "      <td>654</td>\n",
       "      <td>168</td>\n",
       "      <td>1129</td>\n",
       "      <td>816</td>\n",
       "      <td>28.5</td>\n",
       "      <td>13.1</td>\n",
       "      <td>0.50</td>\n",
       "    </tr>\n",
       "  </tbody>\n",
       "</table>\n",
       "<p>9357 rows × 13 columns</p>\n",
       "</div>"
      ],
      "text/plain": [
       "      CO(GT)  PT08.S1(CO)  NMHC(GT)  C6H6(GT)  PT08.S2(NMHC)  NOx(GT)  \\\n",
       "0        2.6         1360       150      11.9           1046      166   \n",
       "1        2.0         1292       112       9.4            955      103   \n",
       "2        2.2         1402        88       9.0            939      131   \n",
       "3        2.2         1376        80       9.2            948      172   \n",
       "4        1.6         1272        51       6.5            836      131   \n",
       "...      ...          ...       ...       ...            ...      ...   \n",
       "9352     3.1         1314      -200      13.5           1101      472   \n",
       "9353     2.4         1163      -200      11.4           1027      353   \n",
       "9354     2.4         1142      -200      12.4           1063      293   \n",
       "9355     2.1         1003      -200       9.5            961      235   \n",
       "9356     2.2         1071      -200      11.9           1047      265   \n",
       "\n",
       "      PT08.S3(NOx)  NO2(GT)  PT08.S4(NO2)  PT08.S5(O3)     T    RH    AH  \n",
       "0             1056      113          1692         1268  13.6  48.9  0.76  \n",
       "1             1174       92          1559          972  13.3  47.7  0.73  \n",
       "2             1140      114          1555         1074  11.9  54.0  0.75  \n",
       "3             1092      122          1584         1203  11.0  60.0  0.79  \n",
       "4             1205      116          1490         1110  11.2  59.6  0.79  \n",
       "...            ...      ...           ...          ...   ...   ...   ...  \n",
       "9352           539      190          1374         1729  21.9  29.3  0.76  \n",
       "9353           604      179          1264         1269  24.3  23.7  0.71  \n",
       "9354           603      175          1241         1092  26.9  18.3  0.64  \n",
       "9355           702      156          1041          770  28.3  13.5  0.51  \n",
       "9356           654      168          1129          816  28.5  13.1  0.50  \n",
       "\n",
       "[9357 rows x 13 columns]"
      ]
     },
     "execution_count": 2,
     "metadata": {},
     "output_type": "execute_result"
    }
   ],
   "source": [
    "AirQuality = pd.read_csv (\"AirQualityUCI.csv\", sep=';')\n",
    "AirQuality"
   ]
  },
  {
   "cell_type": "markdown",
   "metadata": {},
   "source": [
    "### 1. Изучить набор данных. Создать описание набора данных на русском языке. Описать признаки, используемые в наборе данных.\n",
    "#### Информация об атрибутах:\n",
    "\n",
    "**1. CO(GT)** Истинная почасовая усредненная концентрация CO в мг/м^3 (эталонный анализатор)\n",
    "\n",
    "**2. PT08.S1(CO)** (оксид олова) Почасовая усредненная реакция датчика (номинально нацеленная на CO)\n",
    "\n",
    "**3. NMHC(GT** Истинная почасовая усредненная общая концентрация неметанических углеводородов в мкг/м^3 (эталонный анализатор)\n",
    "\n",
    "**4. C6H6(GT)** Истинная почасовая усредненная концентрация бензола в мкг/м^3 (эталонный анализатор)\n",
    "\n",
    "**5. PT08.S2(NMHC)** (titania) Почасовая усредненная реакция датчика (номинально нацеленная на NMHC)\n",
    "\n",
    "**6. NOx(GT)** Истинная почасовая усредненная концентрация NOx в ppb (эталонный анализатор)\n",
    "\n",
    "**7. PT08.S3(NOx)** (оксида вольфрама) Осредненный отклик датчика (номинально Nох таргетированный)\n",
    "\n",
    "**8. NO2(GT)** (tungsten oxide) Усредненный по часам отклик датчика (номинально NOx)\n",
    "\n",
    "**10. PT08.S4(NO2)** (оксида вольфрама) Осредненный отклик датчика (номинально NО2 таргетированный)\n",
    "\n",
    "**11. PT08.S5(O3)** (оксида индия) Почасовой усредненный отклик датчика (номинально О3 целевых)\n",
    "\n",
    "**12. T** Температура в ° C\n",
    "\n",
    "**13. RH** Относительная влажность (%)\n",
    "\n",
    "**14. AH** Абсолютная влажность\n"
   ]
  },
  {
   "cell_type": "markdown",
   "metadata": {},
   "source": [
    "### 2. Удалите дубликаты строк в наборе данных; приведите размер набора данных до и после данной операции."
   ]
  },
  {
   "cell_type": "code",
   "execution_count": 3,
   "metadata": {},
   "outputs": [
    {
     "data": {
      "text/plain": [
       "(9357, 13)"
      ]
     },
     "execution_count": 3,
     "metadata": {},
     "output_type": "execute_result"
    }
   ],
   "source": [
    "AirQuality.shape"
   ]
  },
  {
   "cell_type": "code",
   "execution_count": 4,
   "metadata": {},
   "outputs": [
    {
     "data": {
      "text/plain": [
       "(9326, 13)"
      ]
     },
     "execution_count": 4,
     "metadata": {},
     "output_type": "execute_result"
    }
   ],
   "source": [
    "AirQuality.drop_duplicates(inplace = True)\n",
    "AirQuality.shape"
   ]
  },
  {
   "cell_type": "markdown",
   "metadata": {},
   "source": [
    "Повторяющиеся строчки отсутствуют "
   ]
  },
  {
   "cell_type": "markdown",
   "metadata": {},
   "source": [
    "### 3. Выполните масштабирование количественных признаков; Постройте диаграммы BoxPlot для признаков до и после масштабирования. Выберите способ масштабирования (например, нормализацию или стандартизацию."
   ]
  },
  {
   "cell_type": "markdown",
   "metadata": {},
   "source": [
    "Выделяю категориальные и количественные(числовые) признаки"
   ]
  },
  {
   "cell_type": "code",
   "execution_count": 5,
   "metadata": {},
   "outputs": [],
   "source": [
    "numerical_columns = [i for i in AirQuality.columns[0:13] if AirQuality[i].dtype.name != 'object']\n",
    "categorial_columns = [i for i in AirQuality.columns[0:13] if AirQuality[i].dtype.name == 'object']"
   ]
  },
  {
   "cell_type": "code",
   "execution_count": 6,
   "metadata": {},
   "outputs": [
    {
     "name": "stdout",
     "output_type": "stream",
     "text": [
      "numerical:  ['CO(GT)', 'PT08.S1(CO)', 'NMHC(GT)', 'C6H6(GT)', 'PT08.S2(NMHC)', 'NOx(GT)', 'PT08.S3(NOx)', 'NO2(GT)', 'PT08.S4(NO2)', 'PT08.S5(O3)', 'T', 'RH', 'AH']\n",
      "categorial:  []\n"
     ]
    }
   ],
   "source": [
    "print('numerical: ', numerical_columns)\n",
    "print('categorial: ', categorial_columns)"
   ]
  },
  {
   "cell_type": "code",
   "execution_count": 7,
   "metadata": {},
   "outputs": [
    {
     "data": {
      "text/plain": [
       "<AxesSubplot:>"
      ]
     },
     "execution_count": 7,
     "metadata": {},
     "output_type": "execute_result"
    },
    {
     "data": {
      "image/png": "[encoded data removed]",
      "text/plain": [
       "<Figure size 1152x648 with 1 Axes>"
      ]
     },
     "metadata": {
      "needs_background": "light"
     },
     "output_type": "display_data"
    }
   ],
   "source": [
    "plt.figure(figsize=(16,9))\n",
    "sns.boxplot(data = AirQuality[numerical_columns])"
   ]
  },
  {
   "cell_type": "markdown",
   "metadata": {},
   "source": [
    "Способ масштабирования - нормализация"
   ]
  },
  {
   "cell_type": "code",
   "execution_count": 8,
   "metadata": {},
   "outputs": [
    {
     "data": {
      "text/plain": [
       "<AxesSubplot:>"
      ]
     },
     "execution_count": 8,
     "metadata": {},
     "output_type": "execute_result"
    },
    {
     "data": {
      "image/png": "[encoded data removed]",
      "text/plain": [
       "<Figure size 1152x648 with 1 Axes>"
      ]
     },
     "metadata": {
      "needs_background": "light"
     },
     "output_type": "display_data"
    }
   ],
   "source": [
    "scaler = preprocessing.MinMaxScaler()\n",
    "AirQuality[numerical_columns] = scaler.fit_transform(AirQuality[numerical_columns])\n",
    "plt.figure(figsize=(16,9))\n",
    "sns.boxplot(data = AirQuality[numerical_columns])"
   ]
  },
  {
   "cell_type": "markdown",
   "metadata": {},
   "source": [
    "### 4. Выполните замену категориальных признаков; выберите и обоснуйте способ замены;"
   ]
  },
  {
   "cell_type": "markdown",
   "metadata": {},
   "source": [
    "### 5. Оцените корреляцию между признаков и удалите те признаки, которые коррелируют с наибольшим числом других"
   ]
  },
  {
   "cell_type": "code",
   "execution_count": 9,
   "metadata": {},
   "outputs": [
    {
     "data": {
      "text/plain": [
       "<AxesSubplot:>"
      ]
     },
     "execution_count": 9,
     "metadata": {},
     "output_type": "execute_result"
    },
    {
     "data": {
      "image/png": "[encoded data removed]",
      "text/plain": [
       "<Figure size 432x288 with 2 Axes>"
      ]
     },
     "metadata": {
      "needs_background": "light"
     },
     "output_type": "display_data"
    }
   ],
   "source": [
    "sns.heatmap(AirQuality.corr())"
   ]
  },
  {
   "cell_type": "markdown",
   "metadata": {},
   "source": [
    "### 6. Заполните пропущенные значения в данных;"
   ]
  },
  {
   "cell_type": "code",
   "execution_count": 10,
   "metadata": {},
   "outputs": [
    {
     "data": {
      "text/plain": [
       "(9326, 13)"
      ]
     },
     "execution_count": 10,
     "metadata": {},
     "output_type": "execute_result"
    }
   ],
   "source": [
    "AirQuality.shape"
   ]
  },
  {
   "cell_type": "code",
   "execution_count": 11,
   "metadata": {},
   "outputs": [
    {
     "data": {
      "text/plain": [
       "CO(GT)           9326\n",
       "PT08.S1(CO)      9326\n",
       "NMHC(GT)         9326\n",
       "C6H6(GT)         9326\n",
       "PT08.S2(NMHC)    9326\n",
       "NOx(GT)          9326\n",
       "PT08.S3(NOx)     9326\n",
       "NO2(GT)          9326\n",
       "PT08.S4(NO2)     9326\n",
       "PT08.S5(O3)      9326\n",
       "T                9326\n",
       "RH               9326\n",
       "AH               9326\n",
       "dtype: int64"
      ]
     },
     "execution_count": 11,
     "metadata": {},
     "output_type": "execute_result"
    }
   ],
   "source": [
    "AirQuality.count()"
   ]
  },
  {
   "cell_type": "markdown",
   "metadata": {},
   "source": [
    "### 7. Решите поставленную задачу регрессии в соответствии с заданием. При подборе параметров метода принятия решения (метода регрессии) используйте перекрёстную проверку (изучите возможные для изменения параметры метода регрессии). Вычислите точность решения задачи, вычислив разницу между реальным значением и предсказанным. Вычислите коэффициент корреляции (Пирсона, Спирмена) между реальным значением и предсказанным с учётом p-value.¶"
   ]
  },
  {
   "cell_type": "markdown",
   "metadata": {},
   "source": [
    "Поделим данные для обучения и теста"
   ]
  },
  {
   "cell_type": "code",
   "execution_count": 12,
   "metadata": {},
   "outputs": [
    {
     "name": "stdout",
     "output_type": "stream",
     "text": [
      "(6528, 12)\n",
      "(2798, 12)\n"
     ]
    }
   ],
   "source": [
    "X = AirQuality.drop(['CO(GT)'], axis=1)\n",
    "Y = AirQuality['CO(GT)']\n",
    "X_train, X_test, Y_train, Y_test = train_test_split(X, Y, test_size = 0.3, random_state = 0)\n",
    "\n",
    "print(X_train.shape)\n",
    "print(X_test.shape)"
   ]
  },
  {
   "cell_type": "markdown",
   "metadata": {},
   "source": [
    "#### Линейная регрессия без использования регуляризаторов"
   ]
  },
  {
   "cell_type": "code",
   "execution_count": 13,
   "metadata": {},
   "outputs": [],
   "source": [
    "reg = LinearRegression(n_jobs=-1)\n",
    "reg.fit(X_train, Y_train)\n",
    "reg_pred = reg.predict(X_test)"
   ]
  },
  {
   "cell_type": "code",
   "execution_count": 14,
   "metadata": {},
   "outputs": [
    {
     "name": "stdout",
     "output_type": "stream",
     "text": [
      "Средняя квадратичная ошибка =  0.06734\n",
      "Корень из средней квадратичной ошибки =  0.25950\n",
      "Cредняя абсолютная ошибка =  0.16469\n",
      "\n",
      "Коэффициент корреляции Пирсона: 0.698291\n",
      "p-value: 0.0\n",
      "\n",
      "Коэффициент корреляции Спирмена: 0.646044\n",
      "p-value: 0.0\n"
     ]
    }
   ],
   "source": [
    "print('Средняя квадратичная ошибка = %8.5f' %mean_squared_error(reg_pred, Y_test))\n",
    "print('Корень из средней квадратичной ошибки = %8.5f' %mean_squared_error(reg_pred, Y_test, squared=False))\n",
    "print('Cредняя абсолютная ошибка = %8.5f' %mean_absolute_error(reg_pred, Y_test))\n",
    "print()\n",
    "\n",
    "print('Коэффициент корреляции Пирсона: %8.6f' %pearsonr(reg_pred, Y_test)[0])\n",
    "print('p-value:', pearsonr(reg_pred, Y_test)[1])\n",
    "print()\n",
    "\n",
    "print('Коэффициент корреляции Спирмена: %8.6f' %spearmanr(reg_pred, Y_test)[0])\n",
    "print('p-value:', spearmanr(reg_pred, Y_test)[1])"
   ]
  },
  {
   "cell_type": "markdown",
   "metadata": {},
   "source": [
    "#### Линейная регрессия, LASSO регуляризатор"
   ]
  },
  {
   "cell_type": "code",
   "execution_count": 15,
   "metadata": {},
   "outputs": [
    {
     "name": "stdout",
     "output_type": "stream",
     "text": [
      "Лучшее значение альфа: 0.001\n"
     ]
    }
   ],
   "source": [
    "lasso = LassoCV(alphas = np.arange(0.001, 10, 0.05), n_jobs=-1)\n",
    "lasso.fit(X_train, Y_train)\n",
    "print('Лучшее значение альфа:', lasso.alpha_)\n",
    "lasso_pred = lasso.predict(X_test)"
   ]
  },
  {
   "cell_type": "code",
   "execution_count": 16,
   "metadata": {},
   "outputs": [
    {
     "name": "stdout",
     "output_type": "stream",
     "text": [
      "Средняя квадратичная ошибка =  0.06846\n",
      "Корень из средней квадратичной ошибки =  0.26164\n",
      "Cредняя абсолютная ошибка =  0.16844\n",
      "\n",
      "Коэффициент корреляции Пирсона: 0.692388\n",
      "p-value: 0.0\n",
      "\n",
      "Коэффициент корреляции Спирмена: 0.682186\n",
      "p-value: 0.0\n"
     ]
    }
   ],
   "source": [
    "print('Средняя квадратичная ошибка = %8.5f' %mean_squared_error(lasso_pred, Y_test))\n",
    "print('Корень из средней квадратичной ошибки = %8.5f' %mean_squared_error(lasso_pred, Y_test, squared=False))\n",
    "print('Cредняя абсолютная ошибка = %8.5f' %mean_absolute_error(lasso_pred, Y_test))\n",
    "print()\n",
    "\n",
    "print('Коэффициент корреляции Пирсона: %8.6f' %pearsonr(lasso_pred, Y_test)[0])\n",
    "print('p-value:', pearsonr(lasso_pred, Y_test)[1])\n",
    "print()\n",
    "print('Коэффициент корреляции Спирмена: %8.6f' %spearmanr(lasso_pred, Y_test)[0])\n",
    "print('p-value:', spearmanr(lasso_pred, Y_test)[1])"
   ]
  },
  {
   "cell_type": "markdown",
   "metadata": {},
   "source": [
    "Вывод: Значение p-value получилось крайне мало, примерно равно 0. Предсказанные и тестовые значения корреллируют, значение по Пирсону и Спрмену примерно равны ~ 0,69. Следовательно линейная регрессия справилась со своей задачей"
   ]
  },
  {
   "cell_type": "code",
   "execution_count": null,
   "metadata": {},
   "outputs": [],
   "source": []
  }
 ],
 "metadata": {
  "kernelspec": {
   "display_name": "Python 3",
   "language": "python",
   "name": "python3"
  },
  "language_info": {
   "codemirror_mode": {
    "name": "ipython",
    "version": 3
   },
   "file_extension": ".py",
   "mimetype": "text/x-python",
   "name": "python",
   "nbconvert_exporter": "python",
   "pygments_lexer": "ipython3",
   "version": "3.8.7"
  }
 },
 "nbformat": 4,
 "nbformat_minor": 4
}
