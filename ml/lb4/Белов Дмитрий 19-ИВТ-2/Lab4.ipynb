{
 "cells": [
  {
   "cell_type": "markdown",
   "metadata": {},
   "source": [
    "# Белов Дмитрий Алексеевич \n",
    "# 19-ИВТ-2\n",
    "## Лабораторная работа №4\n",
    "## Вариант 4"
   ]
  },
  {
   "cell_type": "code",
   "execution_count": 67,
   "metadata": {},
   "outputs": [],
   "source": [
    "import numpy as np\n",
    "import pandas as pd\n",
    "import sklearn as sk\n",
    "import seaborn as sns\n",
    "import matplotlib.pyplot as plt\n",
    "\n",
    "from sklearn.preprocessing import MinMaxScaler, OneHotEncoder\n",
    "from sklearn.model_selection import GridSearchCV, train_test_split\n",
    "from sklearn.linear_model import LinearRegression, Lasso\n",
    "\n",
    "from scipy.stats import pearsonr, spearmanr"
   ]
  },
  {
   "cell_type": "markdown",
   "metadata": {},
   "source": [
    "# Задание 1\n",
    "### 1.\tИзучить набор данных. Создать описание набора данных на русском языке. Описать признаки, используемые в наборе данных (включить полученные описания в отчёт)."
   ]
  },
  {
   "cell_type": "code",
   "execution_count": 68,
   "metadata": {},
   "outputs": [
    {
     "data": {
      "text/html": [
       "<div>\n",
       "<style scoped>\n",
       "    .dataframe tbody tr th:only-of-type {\n",
       "        vertical-align: middle;\n",
       "    }\n",
       "\n",
       "    .dataframe tbody tr th {\n",
       "        vertical-align: top;\n",
       "    }\n",
       "\n",
       "    .dataframe thead th {\n",
       "        text-align: right;\n",
       "    }\n",
       "</style>\n",
       "<table border=\"1\" class=\"dataframe\">\n",
       "  <thead>\n",
       "    <tr style=\"text-align: right;\">\n",
       "      <th></th>\n",
       "      <th>Frequency</th>\n",
       "      <th>Angle_of_attack</th>\n",
       "      <th>Chord_length</th>\n",
       "      <th>Free_stream_velocity</th>\n",
       "      <th>Suction_side_displacement_thickness</th>\n",
       "      <th>Scaled_sound_pressure_level</th>\n",
       "    </tr>\n",
       "  </thead>\n",
       "  <tbody>\n",
       "    <tr>\n",
       "      <th>0</th>\n",
       "      <td>800</td>\n",
       "      <td>0.0</td>\n",
       "      <td>0.3048</td>\n",
       "      <td>71.3</td>\n",
       "      <td>0.002663</td>\n",
       "      <td>126.201</td>\n",
       "    </tr>\n",
       "    <tr>\n",
       "      <th>1</th>\n",
       "      <td>1000</td>\n",
       "      <td>0.0</td>\n",
       "      <td>0.3048</td>\n",
       "      <td>71.3</td>\n",
       "      <td>0.002663</td>\n",
       "      <td>125.201</td>\n",
       "    </tr>\n",
       "    <tr>\n",
       "      <th>2</th>\n",
       "      <td>1250</td>\n",
       "      <td>0.0</td>\n",
       "      <td>0.3048</td>\n",
       "      <td>71.3</td>\n",
       "      <td>0.002663</td>\n",
       "      <td>125.951</td>\n",
       "    </tr>\n",
       "    <tr>\n",
       "      <th>3</th>\n",
       "      <td>1600</td>\n",
       "      <td>0.0</td>\n",
       "      <td>0.3048</td>\n",
       "      <td>71.3</td>\n",
       "      <td>0.002663</td>\n",
       "      <td>127.591</td>\n",
       "    </tr>\n",
       "    <tr>\n",
       "      <th>4</th>\n",
       "      <td>2000</td>\n",
       "      <td>0.0</td>\n",
       "      <td>0.3048</td>\n",
       "      <td>71.3</td>\n",
       "      <td>0.002663</td>\n",
       "      <td>127.461</td>\n",
       "    </tr>\n",
       "    <tr>\n",
       "      <th>...</th>\n",
       "      <td>...</td>\n",
       "      <td>...</td>\n",
       "      <td>...</td>\n",
       "      <td>...</td>\n",
       "      <td>...</td>\n",
       "      <td>...</td>\n",
       "    </tr>\n",
       "    <tr>\n",
       "      <th>1498</th>\n",
       "      <td>2500</td>\n",
       "      <td>15.6</td>\n",
       "      <td>0.1016</td>\n",
       "      <td>39.6</td>\n",
       "      <td>0.052849</td>\n",
       "      <td>110.264</td>\n",
       "    </tr>\n",
       "    <tr>\n",
       "      <th>1499</th>\n",
       "      <td>3150</td>\n",
       "      <td>15.6</td>\n",
       "      <td>0.1016</td>\n",
       "      <td>39.6</td>\n",
       "      <td>0.052849</td>\n",
       "      <td>109.254</td>\n",
       "    </tr>\n",
       "    <tr>\n",
       "      <th>1500</th>\n",
       "      <td>4000</td>\n",
       "      <td>15.6</td>\n",
       "      <td>0.1016</td>\n",
       "      <td>39.6</td>\n",
       "      <td>0.052849</td>\n",
       "      <td>106.604</td>\n",
       "    </tr>\n",
       "    <tr>\n",
       "      <th>1501</th>\n",
       "      <td>5000</td>\n",
       "      <td>15.6</td>\n",
       "      <td>0.1016</td>\n",
       "      <td>39.6</td>\n",
       "      <td>0.052849</td>\n",
       "      <td>106.224</td>\n",
       "    </tr>\n",
       "    <tr>\n",
       "      <th>1502</th>\n",
       "      <td>6300</td>\n",
       "      <td>15.6</td>\n",
       "      <td>0.1016</td>\n",
       "      <td>39.6</td>\n",
       "      <td>0.052849</td>\n",
       "      <td>104.204</td>\n",
       "    </tr>\n",
       "  </tbody>\n",
       "</table>\n",
       "<p>1503 rows × 6 columns</p>\n",
       "</div>"
      ],
      "text/plain": [
       "      Frequency  Angle_of_attack  Chord_length  Free_stream_velocity  \\\n",
       "0           800              0.0        0.3048                  71.3   \n",
       "1          1000              0.0        0.3048                  71.3   \n",
       "2          1250              0.0        0.3048                  71.3   \n",
       "3          1600              0.0        0.3048                  71.3   \n",
       "4          2000              0.0        0.3048                  71.3   \n",
       "...         ...              ...           ...                   ...   \n",
       "1498       2500             15.6        0.1016                  39.6   \n",
       "1499       3150             15.6        0.1016                  39.6   \n",
       "1500       4000             15.6        0.1016                  39.6   \n",
       "1501       5000             15.6        0.1016                  39.6   \n",
       "1502       6300             15.6        0.1016                  39.6   \n",
       "\n",
       "      Suction_side_displacement_thickness  Scaled_sound_pressure_level  \n",
       "0                                0.002663                      126.201  \n",
       "1                                0.002663                      125.201  \n",
       "2                                0.002663                      125.951  \n",
       "3                                0.002663                      127.591  \n",
       "4                                0.002663                      127.461  \n",
       "...                                   ...                          ...  \n",
       "1498                             0.052849                      110.264  \n",
       "1499                             0.052849                      109.254  \n",
       "1500                             0.052849                      106.604  \n",
       "1501                             0.052849                      106.224  \n",
       "1502                             0.052849                      104.204  \n",
       "\n",
       "[1503 rows x 6 columns]"
      ]
     },
     "execution_count": 68,
     "metadata": {},
     "output_type": "execute_result"
    }
   ],
   "source": [
    "df = pd.read_csv('airfoil_self_noise.dat.txt', sep='\\s+', names=[\"Frequency\",\n",
    "                                                        \"Angle_of_attack\",\n",
    "                                                        \"Chord_length\",\n",
    "                                                        \"Free_stream_velocity\",\n",
    "                                                        \"Suction_side_displacement_thickness\",\n",
    "                                                        \"Scaled_sound_pressure_level\",])\n",
    "df"
   ]
  },
  {
   "cell_type": "code",
   "execution_count": 69,
   "metadata": {},
   "outputs": [
    {
     "name": "stdout",
     "output_type": "stream",
     "text": [
      "<class 'pandas.core.frame.DataFrame'>\n",
      "RangeIndex: 1503 entries, 0 to 1502\n",
      "Data columns (total 6 columns):\n",
      " #   Column                               Non-Null Count  Dtype  \n",
      "---  ------                               --------------  -----  \n",
      " 0   Frequency                            1503 non-null   int64  \n",
      " 1   Angle_of_attack                      1503 non-null   float64\n",
      " 2   Chord_length                         1503 non-null   float64\n",
      " 3   Free_stream_velocity                 1503 non-null   float64\n",
      " 4   Suction_side_displacement_thickness  1503 non-null   float64\n",
      " 5   Scaled_sound_pressure_level          1503 non-null   float64\n",
      "dtypes: float64(5), int64(1)\n",
      "memory usage: 70.6 KB\n"
     ]
    }
   ],
   "source": [
    "df.info()"
   ]
  },
  {
   "cell_type": "code",
   "execution_count": 70,
   "metadata": {},
   "outputs": [
    {
     "data": {
      "text/html": [
       "<div>\n",
       "<style scoped>\n",
       "    .dataframe tbody tr th:only-of-type {\n",
       "        vertical-align: middle;\n",
       "    }\n",
       "\n",
       "    .dataframe tbody tr th {\n",
       "        vertical-align: top;\n",
       "    }\n",
       "\n",
       "    .dataframe thead th {\n",
       "        text-align: right;\n",
       "    }\n",
       "</style>\n",
       "<table border=\"1\" class=\"dataframe\">\n",
       "  <thead>\n",
       "    <tr style=\"text-align: right;\">\n",
       "      <th></th>\n",
       "      <th>Признак</th>\n",
       "      <th>Описание</th>\n",
       "      <th>Тип</th>\n",
       "    </tr>\n",
       "  </thead>\n",
       "  <tbody>\n",
       "    <tr>\n",
       "      <th>0</th>\n",
       "      <td>Frequency</td>\n",
       "      <td>Частота</td>\n",
       "      <td>дискретный</td>\n",
       "    </tr>\n",
       "    <tr>\n",
       "      <th>1</th>\n",
       "      <td>Angle of attack</td>\n",
       "      <td>Угол атаки</td>\n",
       "      <td>вещественный</td>\n",
       "    </tr>\n",
       "    <tr>\n",
       "      <th>2</th>\n",
       "      <td>Chord length</td>\n",
       "      <td>Длина аккорда</td>\n",
       "      <td>вещественный</td>\n",
       "    </tr>\n",
       "    <tr>\n",
       "      <th>3</th>\n",
       "      <td>Free-stream velocity</td>\n",
       "      <td>Скорость свободного потока</td>\n",
       "      <td>вещественный</td>\n",
       "    </tr>\n",
       "    <tr>\n",
       "      <th>4</th>\n",
       "      <td>Suction side displacement thickness</td>\n",
       "      <td>Толщина смещения со стороны всасывания</td>\n",
       "      <td>вещественный</td>\n",
       "    </tr>\n",
       "    <tr>\n",
       "      <th>5</th>\n",
       "      <td>Scaled sound pressure level</td>\n",
       "      <td>Масштабированный уровень звукового давления</td>\n",
       "      <td>вещественный</td>\n",
       "    </tr>\n",
       "  </tbody>\n",
       "</table>\n",
       "</div>"
      ],
      "text/plain": [
       "                               Признак  \\\n",
       "0                           Frequency    \n",
       "1                      Angle of attack   \n",
       "2                         Chord length   \n",
       "3                 Free-stream velocity   \n",
       "4  Suction side displacement thickness   \n",
       "5          Scaled sound pressure level   \n",
       "\n",
       "                                      Описание           Тип  \n",
       "0                                      Частота    дискретный  \n",
       "1                                   Угол атаки  вещественный  \n",
       "2                                Длина аккорда  вещественный  \n",
       "3                   Скорость свободного потока  вещественный  \n",
       "4       Толщина смещения со стороны всасывания  вещественный  \n",
       "5  Масштабированный уровень звукового давления  вещественный  "
      ]
     },
     "execution_count": 70,
     "metadata": {},
     "output_type": "execute_result"
    }
   ],
   "source": [
    "tabledata = [[\"Frequency \", \"Частота\", \"дискретный\"], #создание новой таблицы\n",
    "             [\"Angle of attack\", \"Угол атаки\",\"вещественный\"],\n",
    "             [\"Chord length\", \"Длина аккорда\",\"вещественный\"],\n",
    "             [\"Free-stream velocity\", \"Скорость свободного потока\",\"вещественный\"],\n",
    "             [\"Suction side displacement thickness\", \"Толщина смещения со стороны всасывания\",\"вещественный\"],\n",
    "             [\"Scaled sound pressure level\", \"Масштабированный уровень звукового давления\",\"вещественный\"],] \n",
    "tabledata\n",
    "pd.DataFrame(tabledata, columns=[\" Признак\",\"Описание\", \"Тип\"]) #название колонок"
   ]
  },
  {
   "cell_type": "markdown",
   "metadata": {},
   "source": [
    "# Задание 2\n",
    "### Удалите дубликаты строк в наборе данных; приведите размер набора данных до и после данной операции."
   ]
  },
  {
   "cell_type": "code",
   "execution_count": 71,
   "metadata": {},
   "outputs": [
    {
     "data": {
      "text/plain": [
       "(1503, 6)"
      ]
     },
     "execution_count": 71,
     "metadata": {},
     "output_type": "execute_result"
    }
   ],
   "source": [
    "df.shape #shape - размера, формы и размеров фреймов данных и серий."
   ]
  },
  {
   "cell_type": "code",
   "execution_count": 72,
   "metadata": {},
   "outputs": [
    {
     "data": {
      "text/plain": [
       "(1503, 6)"
      ]
     },
     "execution_count": 72,
     "metadata": {},
     "output_type": "execute_result"
    }
   ],
   "source": [
    "df.drop_duplicates(inplace=True) #drop_duplicates - помогает удалить дубликаты из фрейма данных.inplace=True - удаляет строки с дубликатами, если True.\n",
    "df.shape"
   ]
  },
  {
   "cell_type": "markdown",
   "metadata": {},
   "source": [
    "# Задание 3\n",
    "### Выполните масштабирование количественных признаков; Постройте диаграммы BoxPlot для признаков до и после масштабирования. Выберите способ масштабирования (например, нормализацию или стандартизацию)"
   ]
  },
  {
   "cell_type": "markdown",
   "metadata": {},
   "source": [
    "#### Разделим признаки на категориальные и количественные"
   ]
  },
  {
   "cell_type": "code",
   "execution_count": 73,
   "metadata": {},
   "outputs": [
    {
     "data": {
      "text/plain": [
       "Frequency                                21\n",
       "Angle_of_attack                          27\n",
       "Chord_length                              6\n",
       "Free_stream_velocity                      4\n",
       "Suction_side_displacement_thickness     105\n",
       "Scaled_sound_pressure_level            1456\n",
       "dtype: int64"
      ]
     },
     "execution_count": 73,
     "metadata": {},
     "output_type": "execute_result"
    }
   ],
   "source": [
    "df.nunique() #nunique() используется для подсчета уникальных значений."
   ]
  },
  {
   "cell_type": "markdown",
   "metadata": {},
   "source": [
    "#### Chord length  и  Free-stream velocity  - категориальные признаки"
   ]
  },
  {
   "cell_type": "code",
   "execution_count": 74,
   "metadata": {},
   "outputs": [],
   "source": [
    "df.Chord_length = df.Chord_length.apply(lambda x: str(x)) #присваем сторокой тип столбцу Chord length\n",
    "df.Free_stream_velocity = df.Free_stream_velocity.apply(lambda x: str(x)) #присваем сторокой тип столбцу Free-stream velocity\n",
    "\n",
    "numerical_columns = df.columns[df.dtypes != 'object'] #разделяем на количественные признаки\n",
    "categorical_columns = df.columns[df.dtypes == 'object'] #разделяем на категориальные признаки"
   ]
  },
  {
   "cell_type": "code",
   "execution_count": 75,
   "metadata": {},
   "outputs": [
    {
     "data": {
      "image/png": "[encoded data removed]",
      "text/plain": [
       "<Figure size 720x360 with 1 Axes>"
      ]
     },
     "metadata": {
      "needs_background": "light"
     },
     "output_type": "display_data"
    }
   ],
   "source": [
    "plt.figure(figsize=(10,5)) #создаем фигуру размером 10 на 5\n",
    "sns.boxplot(data=df[numerical_columns]) #выбираем нужные колонки\n",
    "plt.show() #вывод боксплота"
   ]
  },
  {
   "cell_type": "code",
   "execution_count": 76,
   "metadata": {},
   "outputs": [
    {
     "data": {
      "text/html": [
       "<div>\n",
       "<style scoped>\n",
       "    .dataframe tbody tr th:only-of-type {\n",
       "        vertical-align: middle;\n",
       "    }\n",
       "\n",
       "    .dataframe tbody tr th {\n",
       "        vertical-align: top;\n",
       "    }\n",
       "\n",
       "    .dataframe thead th {\n",
       "        text-align: right;\n",
       "    }\n",
       "</style>\n",
       "<table border=\"1\" class=\"dataframe\">\n",
       "  <thead>\n",
       "    <tr style=\"text-align: right;\">\n",
       "      <th></th>\n",
       "      <th>Frequency</th>\n",
       "      <th>Angle_of_attack</th>\n",
       "      <th>Chord_length</th>\n",
       "      <th>Free_stream_velocity</th>\n",
       "      <th>Suction_side_displacement_thickness</th>\n",
       "      <th>Scaled_sound_pressure_level</th>\n",
       "    </tr>\n",
       "  </thead>\n",
       "  <tbody>\n",
       "    <tr>\n",
       "      <th>0</th>\n",
       "      <td>0.030303</td>\n",
       "      <td>0.0</td>\n",
       "      <td>0.3048</td>\n",
       "      <td>71.3</td>\n",
       "      <td>0.039005</td>\n",
       "      <td>0.606829</td>\n",
       "    </tr>\n",
       "    <tr>\n",
       "      <th>1</th>\n",
       "      <td>0.040404</td>\n",
       "      <td>0.0</td>\n",
       "      <td>0.3048</td>\n",
       "      <td>71.3</td>\n",
       "      <td>0.039005</td>\n",
       "      <td>0.580238</td>\n",
       "    </tr>\n",
       "    <tr>\n",
       "      <th>2</th>\n",
       "      <td>0.053030</td>\n",
       "      <td>0.0</td>\n",
       "      <td>0.3048</td>\n",
       "      <td>71.3</td>\n",
       "      <td>0.039005</td>\n",
       "      <td>0.600181</td>\n",
       "    </tr>\n",
       "    <tr>\n",
       "      <th>3</th>\n",
       "      <td>0.070707</td>\n",
       "      <td>0.0</td>\n",
       "      <td>0.3048</td>\n",
       "      <td>71.3</td>\n",
       "      <td>0.039005</td>\n",
       "      <td>0.643790</td>\n",
       "    </tr>\n",
       "    <tr>\n",
       "      <th>4</th>\n",
       "      <td>0.090909</td>\n",
       "      <td>0.0</td>\n",
       "      <td>0.3048</td>\n",
       "      <td>71.3</td>\n",
       "      <td>0.039005</td>\n",
       "      <td>0.640333</td>\n",
       "    </tr>\n",
       "  </tbody>\n",
       "</table>\n",
       "</div>"
      ],
      "text/plain": [
       "   Frequency  Angle_of_attack Chord_length Free_stream_velocity  \\\n",
       "0   0.030303              0.0       0.3048                 71.3   \n",
       "1   0.040404              0.0       0.3048                 71.3   \n",
       "2   0.053030              0.0       0.3048                 71.3   \n",
       "3   0.070707              0.0       0.3048                 71.3   \n",
       "4   0.090909              0.0       0.3048                 71.3   \n",
       "\n",
       "   Suction_side_displacement_thickness  Scaled_sound_pressure_level  \n",
       "0                             0.039005                     0.606829  \n",
       "1                             0.039005                     0.580238  \n",
       "2                             0.039005                     0.600181  \n",
       "3                             0.039005                     0.643790  \n",
       "4                             0.039005                     0.640333  "
      ]
     },
     "execution_count": 76,
     "metadata": {},
     "output_type": "execute_result"
    }
   ],
   "source": [
    "scaler = MinMaxScaler() #Диапазон по умолчанию для функции, возвращаемой MinMaxScaler, составляет от 0 до 1.\n",
    "df[numerical_columns] = scaler.fit_transform(df[numerical_columns]) #Применяем функцию к набору данных с помощью функции fit_transform().\n",
    "df.head() #вывод таблицы"
   ]
  },
  {
   "cell_type": "code",
   "execution_count": 77,
   "metadata": {},
   "outputs": [
    {
     "data": {
      "image/png": "[encoded data removed]",
      "text/plain": [
       "<Figure size 720x360 with 1 Axes>"
      ]
     },
     "metadata": {
      "needs_background": "light"
     },
     "output_type": "display_data"
    }
   ],
   "source": [
    "plt.figure(figsize=(10,5)) #вывод таблицы после маштабирования\n",
    "sns.boxplot(data=df[numerical_columns])\n",
    "plt.show() "
   ]
  },
  {
   "cell_type": "markdown",
   "metadata": {},
   "source": [
    "# Задание 4\n",
    "###  Выполните замену категориальных признаков;выберите и обоснуйте способ замены;"
   ]
  },
  {
   "cell_type": "code",
   "execution_count": 78,
   "metadata": {},
   "outputs": [
    {
     "name": "stdout",
     "output_type": "stream",
     "text": [
      "Chord_length unique values - ['0.3048' '0.2286' '0.1524' '0.0508' '0.0254' '0.1016']\n",
      "Free_stream_velocity unique values - ['71.3' '55.5' '39.6' '31.7']\n"
     ]
    }
   ],
   "source": [
    "print(\"Chord_length unique values - {}\".format(df.Chord_length.unique())) #Выводим ункальные значения в столбце Chord_length\n",
    "print(\"Free_stream_velocity unique values - {}\".format(df.Free_stream_velocity.unique())) #Выводим ункальные значения в столбце Free_stream_velocity"
   ]
  },
  {
   "cell_type": "markdown",
   "metadata": {},
   "source": [
    "#### Уникальных значений мало, поэтмому можно применить dummy-кодирование"
   ]
  },
  {
   "cell_type": "code",
   "execution_count": 79,
   "metadata": {},
   "outputs": [
    {
     "data": {
      "text/html": [
       "<div>\n",
       "<style scoped>\n",
       "    .dataframe tbody tr th:only-of-type {\n",
       "        vertical-align: middle;\n",
       "    }\n",
       "\n",
       "    .dataframe tbody tr th {\n",
       "        vertical-align: top;\n",
       "    }\n",
       "\n",
       "    .dataframe thead th {\n",
       "        text-align: right;\n",
       "    }\n",
       "</style>\n",
       "<table border=\"1\" class=\"dataframe\">\n",
       "  <thead>\n",
       "    <tr style=\"text-align: right;\">\n",
       "      <th></th>\n",
       "      <th>Free_stream_velocity_31.7</th>\n",
       "      <th>Free_stream_velocity_39.6</th>\n",
       "      <th>Free_stream_velocity_55.5</th>\n",
       "      <th>Free_stream_velocity_71.3</th>\n",
       "      <th>Chord_length_0.0254</th>\n",
       "      <th>Chord_length_0.0508</th>\n",
       "      <th>Chord_length_0.1016</th>\n",
       "      <th>Chord_length_0.1524</th>\n",
       "      <th>Chord_length_0.2286</th>\n",
       "      <th>Chord_length_0.3048</th>\n",
       "      <th>Frequency</th>\n",
       "      <th>Angle_of_attack</th>\n",
       "      <th>Suction_side_displacement_thickness</th>\n",
       "      <th>Scaled_sound_pressure_level</th>\n",
       "    </tr>\n",
       "  </thead>\n",
       "  <tbody>\n",
       "    <tr>\n",
       "      <th>0</th>\n",
       "      <td>0.0</td>\n",
       "      <td>0.0</td>\n",
       "      <td>0.0</td>\n",
       "      <td>1.0</td>\n",
       "      <td>0.0</td>\n",
       "      <td>0.0</td>\n",
       "      <td>0.0</td>\n",
       "      <td>0.0</td>\n",
       "      <td>0.0</td>\n",
       "      <td>1.0</td>\n",
       "      <td>0.030303</td>\n",
       "      <td>0.0</td>\n",
       "      <td>0.039005</td>\n",
       "      <td>0.606829</td>\n",
       "    </tr>\n",
       "    <tr>\n",
       "      <th>1</th>\n",
       "      <td>0.0</td>\n",
       "      <td>0.0</td>\n",
       "      <td>0.0</td>\n",
       "      <td>1.0</td>\n",
       "      <td>0.0</td>\n",
       "      <td>0.0</td>\n",
       "      <td>0.0</td>\n",
       "      <td>0.0</td>\n",
       "      <td>0.0</td>\n",
       "      <td>1.0</td>\n",
       "      <td>0.040404</td>\n",
       "      <td>0.0</td>\n",
       "      <td>0.039005</td>\n",
       "      <td>0.580238</td>\n",
       "    </tr>\n",
       "    <tr>\n",
       "      <th>2</th>\n",
       "      <td>0.0</td>\n",
       "      <td>0.0</td>\n",
       "      <td>0.0</td>\n",
       "      <td>1.0</td>\n",
       "      <td>0.0</td>\n",
       "      <td>0.0</td>\n",
       "      <td>0.0</td>\n",
       "      <td>0.0</td>\n",
       "      <td>0.0</td>\n",
       "      <td>1.0</td>\n",
       "      <td>0.053030</td>\n",
       "      <td>0.0</td>\n",
       "      <td>0.039005</td>\n",
       "      <td>0.600181</td>\n",
       "    </tr>\n",
       "    <tr>\n",
       "      <th>3</th>\n",
       "      <td>0.0</td>\n",
       "      <td>0.0</td>\n",
       "      <td>0.0</td>\n",
       "      <td>1.0</td>\n",
       "      <td>0.0</td>\n",
       "      <td>0.0</td>\n",
       "      <td>0.0</td>\n",
       "      <td>0.0</td>\n",
       "      <td>0.0</td>\n",
       "      <td>1.0</td>\n",
       "      <td>0.070707</td>\n",
       "      <td>0.0</td>\n",
       "      <td>0.039005</td>\n",
       "      <td>0.643790</td>\n",
       "    </tr>\n",
       "    <tr>\n",
       "      <th>4</th>\n",
       "      <td>0.0</td>\n",
       "      <td>0.0</td>\n",
       "      <td>0.0</td>\n",
       "      <td>1.0</td>\n",
       "      <td>0.0</td>\n",
       "      <td>0.0</td>\n",
       "      <td>0.0</td>\n",
       "      <td>0.0</td>\n",
       "      <td>0.0</td>\n",
       "      <td>1.0</td>\n",
       "      <td>0.090909</td>\n",
       "      <td>0.0</td>\n",
       "      <td>0.039005</td>\n",
       "      <td>0.640333</td>\n",
       "    </tr>\n",
       "  </tbody>\n",
       "</table>\n",
       "</div>"
      ],
      "text/plain": [
       "   Free_stream_velocity_31.7  Free_stream_velocity_39.6  \\\n",
       "0                        0.0                        0.0   \n",
       "1                        0.0                        0.0   \n",
       "2                        0.0                        0.0   \n",
       "3                        0.0                        0.0   \n",
       "4                        0.0                        0.0   \n",
       "\n",
       "   Free_stream_velocity_55.5  Free_stream_velocity_71.3  Chord_length_0.0254  \\\n",
       "0                        0.0                        1.0                  0.0   \n",
       "1                        0.0                        1.0                  0.0   \n",
       "2                        0.0                        1.0                  0.0   \n",
       "3                        0.0                        1.0                  0.0   \n",
       "4                        0.0                        1.0                  0.0   \n",
       "\n",
       "   Chord_length_0.0508  Chord_length_0.1016  Chord_length_0.1524  \\\n",
       "0                  0.0                  0.0                  0.0   \n",
       "1                  0.0                  0.0                  0.0   \n",
       "2                  0.0                  0.0                  0.0   \n",
       "3                  0.0                  0.0                  0.0   \n",
       "4                  0.0                  0.0                  0.0   \n",
       "\n",
       "   Chord_length_0.2286  Chord_length_0.3048  Frequency  Angle_of_attack  \\\n",
       "0                  0.0                  1.0   0.030303              0.0   \n",
       "1                  0.0                  1.0   0.040404              0.0   \n",
       "2                  0.0                  1.0   0.053030              0.0   \n",
       "3                  0.0                  1.0   0.070707              0.0   \n",
       "4                  0.0                  1.0   0.090909              0.0   \n",
       "\n",
       "   Suction_side_displacement_thickness  Scaled_sound_pressure_level  \n",
       "0                             0.039005                     0.606829  \n",
       "1                             0.039005                     0.580238  \n",
       "2                             0.039005                     0.600181  \n",
       "3                             0.039005                     0.643790  \n",
       "4                             0.039005                     0.640333  "
      ]
     },
     "execution_count": 79,
     "metadata": {},
     "output_type": "execute_result"
    }
   ],
   "source": [
    "onehot_encoder = OneHotEncoder(sparse=False)\n",
    "for column in categorical_columns:\n",
    "    headers = [float(item) for item in df[column].unique()]\n",
    "    headers.sort()\n",
    "    df_categorical = pd.DataFrame(onehot_encoder.fit_transform(df[column].values.reshape(-1,1)),\n",
    "                                columns=[\"{}_{}\".format(column,i) for i in headers])\n",
    "    df.drop(column, axis=1, inplace=True)\n",
    "    df = pd.concat([df_categorical, df] , axis=1)\n",
    "df.head()\n",
    "#get_dummies() используется для разделения каждой строки в ряду вызывающих в переданном разделителе.\n",
    "# Если текстовое значение в исходном фрейме данных с тем же индексом содержит строку (имя столбца / разделенные значения), то значение в этой позиции равно 1, в противном случае — 0."
   ]
  },
  {
   "cell_type": "markdown",
   "metadata": {},
   "source": [
    "# Задание 5\n",
    "### Оцените корреляцию между признаков и удалите те признаки, которые коррелируют с наибольшим числом других (удалять признаки нужно только для линейных методов классификации);"
   ]
  },
  {
   "cell_type": "code",
   "execution_count": 86,
   "metadata": {},
   "outputs": [
    {
     "data": {
      "image/png": "[encoded data removed]",
      "text/plain": [
       "<Figure size 432x288 with 2 Axes>"
      ]
     },
     "metadata": {
      "needs_background": "light"
     },
     "output_type": "display_data"
    }
   ],
   "source": [
    "df_corr = df.drop('Scaled_sound_pressure_level', axis=1).corr()\n",
    "sns.heatmap(df_corr) #создание тепловой карты\n",
    "plt.show() #вывод карты"
   ]
  },
  {
   "cell_type": "markdown",
   "metadata": {},
   "source": [
    "# Задание 6\n",
    "### Заполните пропущенные значения в данных;"
   ]
  },
  {
   "cell_type": "code",
   "execution_count": 87,
   "metadata": {},
   "outputs": [
    {
     "data": {
      "text/plain": [
       "Free_stream_velocity_31.7              14\n",
       "Free_stream_velocity_39.6              14\n",
       "Free_stream_velocity_55.5              14\n",
       "Free_stream_velocity_71.3              14\n",
       "Chord_length_0.0254                    14\n",
       "Chord_length_0.0508                    14\n",
       "Chord_length_0.1016                    14\n",
       "Chord_length_0.1524                    14\n",
       "Chord_length_0.2286                    14\n",
       "Chord_length_0.3048                    14\n",
       "Frequency                              14\n",
       "Angle_of_attack                        14\n",
       "Suction_side_displacement_thickness    14\n",
       "Scaled_sound_pressure_level            14\n",
       "dtype: int64"
      ]
     },
     "execution_count": 87,
     "metadata": {},
     "output_type": "execute_result"
    }
   ],
   "source": [
    "df.notnull().count() #вывод ненулевых значений и их подсчет"
   ]
  },
  {
   "cell_type": "markdown",
   "metadata": {},
   "source": [
    "# Задание 7\n",
    "### Решите поставленную задачу регрессии в соответствии с заданием. При подборе параметров метода принятия решения (метода регрессии) используйтеперекрёстную проверку (изучите возможные для изменения параметры метода регрессии). Вычислите точность решения задачи, вычислив разницу между реальным значением и предсказанным. Вычислите коэффициент корреляции (Пирсона, Спирмена) между реальным значением и предсказаннымс учётом p-value."
   ]
  },
  {
   "cell_type": "markdown",
   "metadata": {},
   "source": [
    "#### линейная регрессия, LASSO регуляризатор"
   ]
  },
  {
   "cell_type": "code",
   "execution_count": 109,
   "metadata": {},
   "outputs": [
    {
     "data": {
      "text/plain": [
       "Lasso(alpha=0.1)"
      ]
     },
     "execution_count": 109,
     "metadata": {},
     "output_type": "execute_result"
    }
   ],
   "source": [
    "from  sklearn import linear_model\n",
    "#разделяем данных на “атрибуты” и “метки”. Атрибуты являются независимыми переменными, а метки-зависимыми переменными, значения которых должны быть предсказаны.\n",
    "X, y = df.drop(['Scaled_sound_pressure_level'], axis=1), df['Scaled_sound_pressure_level']\n",
    "#разделяем эти данные на обучающие и тестовые наборы. Мы сделаем это с помощью встроенного метода Scikit-Learn train_test_split()\n",
    "X_train, X_test, y_train, y_test = train_test_split(X, y, test_size = 0.3, random_state = 123) #разбивает 70% данных на обучающий набор, а 30% – на тестовый. Переменная test_size – это то место, где мы фактически указываем долю тестового набора.\n",
    "#обучение алгоритма\n",
    "reg = linear_model.Lasso (alpha = 0.1)\n",
    "reg.fit (X_train, y_train)"
   ]
  },
  {
   "cell_type": "code",
   "execution_count": 110,
   "metadata": {},
   "outputs": [
    {
     "name": "stdout",
     "output_type": "stream",
     "text": [
      "[0.04828068 0.04828068 0.04828068 0.04828068 0.04828068]\n"
     ]
    }
   ],
   "source": [
    "#выводим реальные значения\n",
    "xt = reg.predict(X_test)\n",
    "print(xt[:10])"
   ]
  },
  {
   "cell_type": "code",
   "execution_count": 111,
   "metadata": {},
   "outputs": [
    {
     "name": "stdout",
     "output_type": "stream",
     "text": [
      "Chord_length_0.1524         -0.126936\n",
      "Frequency                   -0.390711\n",
      "Chord_length_0.0254          0.150810\n",
      "Free_stream_velocity_31.7   -0.038819\n",
      "Chord_length_0.0508          0.097720\n",
      "Name: Scaled_sound_pressure_level, dtype: float64\n"
     ]
    }
   ],
   "source": [
    "#выводим предсказанные значения\n",
    "print(y_test[:10])"
   ]
  },
  {
   "cell_type": "code",
   "execution_count": 112,
   "metadata": {},
   "outputs": [
    {
     "name": "stdout",
     "output_type": "stream",
     "text": [
      "Chord_length_0.1524          0.175216\n",
      "Frequency                    0.438992\n",
      "Chord_length_0.0254         -0.102529\n",
      "Free_stream_velocity_31.7    0.087100\n",
      "Chord_length_0.0508         -0.049439\n",
      "Name: Scaled_sound_pressure_level, dtype: float64\n"
     ]
    }
   ],
   "source": [
    "#Вычислияем точность решения задачи, вычислив разницу между реальным значением и предсказанным.\n",
    "print(xt[:10]-y_test[:10])"
   ]
  },
  {
   "cell_type": "code",
   "execution_count": 113,
   "metadata": {},
   "outputs": [
    {
     "data": {
      "text/plain": [
       "array([ 0., -0.,  0.,  0.,  0.,  0.,  0., -0.,  0., -0., -0., -0., -0.])"
      ]
     },
     "execution_count": 113,
     "metadata": {},
     "output_type": "execute_result"
    }
   ],
   "source": [
    "#выводим значение для перехвата,вычисленное алгоритмом линейной регрессии для нашего набора данных\n",
    "reg.coef_"
   ]
  },
  {
   "cell_type": "code",
   "execution_count": 114,
   "metadata": {},
   "outputs": [
    {
     "data": {
      "text/plain": [
       "0.04828067799973887"
      ]
     },
     "execution_count": 114,
     "metadata": {},
     "output_type": "execute_result"
    }
   ],
   "source": [
    "#выводи значения для наклона,вычисленное алгоритмом линейной регрессии для нашего набора данных\n",
    "reg.intercept_"
   ]
  },
  {
   "cell_type": "markdown",
   "metadata": {},
   "source": [
    "#### линейная регрессия без использования регуляризаторов"
   ]
  },
  {
   "cell_type": "code",
   "execution_count": 101,
   "metadata": {},
   "outputs": [
    {
     "data": {
      "text/plain": [
       "LinearRegression()"
      ]
     },
     "execution_count": 101,
     "metadata": {},
     "output_type": "execute_result"
    }
   ],
   "source": [
    "#разделяем данных на “атрибуты” и “метки”. Атрибуты являются независимыми переменными, а метки-зависимыми переменными, значения которых должны быть предсказаны.\n",
    "X, y = df.drop(['Scaled_sound_pressure_level'], axis=1), df['Scaled_sound_pressure_level']\n",
    "#разделяем эти данные на обучающие и тестовые наборы. Мы сделаем это с помощью встроенного метода Scikit-Learn train_test_split()\n",
    "X_train, X_test, y_train, y_test = train_test_split(X, y, test_size = 0.3, random_state = 123) ##разбивает 70% данных на обучающий набор, а 30% – на тестовый. Переменная test_size – это то место, где мы фактически указываем долю тестового набора.\n",
    "#обучение алгоритма\n",
    "reg = linear_model.LinearRegression()\n",
    "reg.fit(X_train,y_train)"
   ]
  },
  {
   "cell_type": "code",
   "execution_count": 102,
   "metadata": {},
   "outputs": [
    {
     "data": {
      "text/plain": [
       "array([ 0.29649969, -0.21020456, -0.12715933,  0.06859581,  0.16496397,\n",
       "        0.46314186, -0.01643679,  0.24305685, -0.41640852, -0.4870218 ,\n",
       "       -1.12397916, -0.63832232, -0.47211619])"
      ]
     },
     "execution_count": 102,
     "metadata": {},
     "output_type": "execute_result"
    }
   ],
   "source": [
    "##выводим значение для перехвата,вычисленное алгоритмом линейной регрессии для нашего набора данны\n",
    "reg.coef_"
   ]
  },
  {
   "cell_type": "code",
   "execution_count": 103,
   "metadata": {},
   "outputs": [
    {
     "data": {
      "text/plain": [
       "0.16337547500389804"
      ]
     },
     "execution_count": 103,
     "metadata": {},
     "output_type": "execute_result"
    }
   ],
   "source": [
    "#выводи значения для наклона,вычисленное алгоритмом линейной регрессии для нашего набора данных\n",
    "reg.intercept_"
   ]
  },
  {
   "cell_type": "code",
   "execution_count": 107,
   "metadata": {},
   "outputs": [
    {
     "name": "stdout",
     "output_type": "stream",
     "text": [
      "Pearson’s correlation coefficient:  0.6873671039470632 \n",
      "p-value:  0.19970560621955213\n",
      "Spearman’s correlation coefficient:  0.3 \n",
      "p-value:  0.6238376647810728\n"
     ]
    }
   ],
   "source": [
    "corr['pearson'], pvalue_pearson = pearsonr(reg_pred, y_test) #коэффициент корреляции Пирсона между реальным значением и предсказанным значением\n",
    "corr['spearman'], pvalue_spearman = spearmanr(reg_pred, y_test) #коэффициент корреляции Спирмена между реальным значением и предсказанным значением\n",
    "print('Pearson’s correlation coefficient: ', corr['pearson'], '\\np-value: ', pvalue_pearson) #коэффициент корреляции Пирсона между реальным значением и предсказанным значением c учетом p-value\n",
    "print('Spearman’s correlation coefficient: ', corr['spearman'], '\\np-value: ', pvalue_spearman) #коэффициент корреляции Спирмена между реальным значением и предсказанным значением c учетом p-value"
   ]
  },
  {
   "cell_type": "code",
   "execution_count": null,
   "metadata": {},
   "outputs": [],
   "source": []
  }
 ],
 "metadata": {
  "kernelspec": {
   "display_name": "Python 3",
   "language": "python",
   "name": "python3"
  },
  "language_info": {
   "codemirror_mode": {
    "name": "ipython",
    "version": 3
   },
   "file_extension": ".py",
   "mimetype": "text/x-python",
   "name": "python",
   "nbconvert_exporter": "python",
   "pygments_lexer": "ipython3",
   "version": "3.8.5"
  }
 },
 "nbformat": 4,
 "nbformat_minor": 4
}
