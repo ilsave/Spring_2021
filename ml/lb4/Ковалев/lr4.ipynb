{
 "cells": [
  {
   "cell_type": "markdown",
   "metadata": {},
   "source": [
    "# Лабораторная работа №4. Регрессионный анализ данных"
   ]
  },
  {
   "cell_type": "markdown",
   "metadata": {},
   "source": [
    "## Ковалев Егор 19-ИВТ-3\n",
    "## Вариант 9\n",
    "### Цель лабораторной работы – получение навыков работы с методами регрессии\n",
    "Задания:\n",
    "\n",
    "1.\tИзучить набор данных. Создать описание набора данных на русском языке. Описать признаки, используемые в наборе данных (включить полученные описания в отчёт).\n",
    "2.\tУдалите дубликаты строк в наборе данных; приведите размер набора данных до и после данной операции;\n",
    "3.\tВыполните масштабирование количественных признаков; Постройте диаграммы BoxPlot для признаков до и после масштабирования. Выберите способ масштабирования (например, нормализацию или стандартизацию);\n",
    "4.\tВыполните замену категориальных признаков; выберите и обоснуйте способ замены;\n",
    "5.\tОцените корреляцию между признаков и удалите те признаки, которые коррелируют с наибольшим числом других;\n",
    "6.\tЗаполните пропущенные значения в данных;\n",
    "7.\tРешите поставленную задачу регрессии в соответствии с заданием. При подборе параметров метода принятия решения (метода регрессии) используйте перекрёстную проверку (изучите возможные для изменения параметры метода регрессии).  Вычислите точность решения задачи, вычислив разницу между реальным значением и предсказанным. Вычислите коэффициент корреляции (Пирсона, Спирмена) между реальным значением и предсказанным с учётом p-value. \n",
    "\n"
   ]
  },
  {
   "cell_type": "code",
   "execution_count": 1,
   "metadata": {},
   "outputs": [],
   "source": [
    "import numpy as np\n",
    "import pandas as pd\n",
    "import sklearn as sk\n",
    "import seaborn as sn\n",
    "import matplotlib.pyplot as plt\n",
    "\n",
    "from pylab import rcParams\n",
    "from scipy import interp\n",
    "from sklearn.preprocessing import MinMaxScaler, LabelEncoder\n",
    "from sklearn.tree import DecisionTreeClassifier\n",
    "from sklearn.model_selection import StratifiedKFold\n",
    "from sklearn.neighbors import RadiusNeighborsClassifier\n",
    "from sklearn.model_selection import train_test_split, cross_val_score, GridSearchCV\n",
    "from sklearn.metrics import (auc, roc_curve, \n",
    "                             precision_recall_curve, \n",
    "                             average_precision_score)\n",
    "from sklearn.multiclass import OneVsRestClassifier\n",
    "from sklearn import svm\n",
    "from sklearn.preprocessing import label_binarize\n",
    "from sklearn.preprocessing import StandardScaler\n",
    "\n",
    "%matplotlib inline"
   ]
  },
  {
   "cell_type": "code",
   "execution_count": 2,
   "metadata": {},
   "outputs": [
    {
     "data": {
      "text/html": [
       "<div>\n",
       "<style scoped>\n",
       "    .dataframe tbody tr th:only-of-type {\n",
       "        vertical-align: middle;\n",
       "    }\n",
       "\n",
       "    .dataframe tbody tr th {\n",
       "        vertical-align: top;\n",
       "    }\n",
       "\n",
       "    .dataframe thead th {\n",
       "        text-align: right;\n",
       "    }\n",
       "</style>\n",
       "<table border=\"1\" class=\"dataframe\">\n",
       "  <thead>\n",
       "    <tr style=\"text-align: right;\">\n",
       "      <th></th>\n",
       "      <th>id</th>\n",
       "      <th>date</th>\n",
       "      <th>price</th>\n",
       "      <th>bedrooms</th>\n",
       "      <th>bathrooms</th>\n",
       "      <th>sqft_living</th>\n",
       "      <th>sqft_lot</th>\n",
       "      <th>floors</th>\n",
       "      <th>waterfront</th>\n",
       "      <th>view</th>\n",
       "      <th>...</th>\n",
       "      <th>grade</th>\n",
       "      <th>sqft_above</th>\n",
       "      <th>sqft_basement</th>\n",
       "      <th>yr_built</th>\n",
       "      <th>yr_renovated</th>\n",
       "      <th>zipcode</th>\n",
       "      <th>lat</th>\n",
       "      <th>long</th>\n",
       "      <th>sqft_living15</th>\n",
       "      <th>sqft_lot15</th>\n",
       "    </tr>\n",
       "  </thead>\n",
       "  <tbody>\n",
       "    <tr>\n",
       "      <th>0</th>\n",
       "      <td>7129300520</td>\n",
       "      <td>20141013T000000</td>\n",
       "      <td>221900.0</td>\n",
       "      <td>3</td>\n",
       "      <td>1.00</td>\n",
       "      <td>1180</td>\n",
       "      <td>5650</td>\n",
       "      <td>1.0</td>\n",
       "      <td>0</td>\n",
       "      <td>0</td>\n",
       "      <td>...</td>\n",
       "      <td>7</td>\n",
       "      <td>1180</td>\n",
       "      <td>0</td>\n",
       "      <td>1955</td>\n",
       "      <td>0</td>\n",
       "      <td>98178</td>\n",
       "      <td>47.5112</td>\n",
       "      <td>-122.257</td>\n",
       "      <td>1340</td>\n",
       "      <td>5650</td>\n",
       "    </tr>\n",
       "    <tr>\n",
       "      <th>1</th>\n",
       "      <td>6414100192</td>\n",
       "      <td>20141209T000000</td>\n",
       "      <td>538000.0</td>\n",
       "      <td>3</td>\n",
       "      <td>2.25</td>\n",
       "      <td>2570</td>\n",
       "      <td>7242</td>\n",
       "      <td>2.0</td>\n",
       "      <td>0</td>\n",
       "      <td>0</td>\n",
       "      <td>...</td>\n",
       "      <td>7</td>\n",
       "      <td>2170</td>\n",
       "      <td>400</td>\n",
       "      <td>1951</td>\n",
       "      <td>1991</td>\n",
       "      <td>98125</td>\n",
       "      <td>47.7210</td>\n",
       "      <td>-122.319</td>\n",
       "      <td>1690</td>\n",
       "      <td>7639</td>\n",
       "    </tr>\n",
       "    <tr>\n",
       "      <th>2</th>\n",
       "      <td>5631500400</td>\n",
       "      <td>20150225T000000</td>\n",
       "      <td>180000.0</td>\n",
       "      <td>2</td>\n",
       "      <td>1.00</td>\n",
       "      <td>770</td>\n",
       "      <td>10000</td>\n",
       "      <td>1.0</td>\n",
       "      <td>0</td>\n",
       "      <td>0</td>\n",
       "      <td>...</td>\n",
       "      <td>6</td>\n",
       "      <td>770</td>\n",
       "      <td>0</td>\n",
       "      <td>1933</td>\n",
       "      <td>0</td>\n",
       "      <td>98028</td>\n",
       "      <td>47.7379</td>\n",
       "      <td>-122.233</td>\n",
       "      <td>2720</td>\n",
       "      <td>8062</td>\n",
       "    </tr>\n",
       "    <tr>\n",
       "      <th>3</th>\n",
       "      <td>2487200875</td>\n",
       "      <td>20141209T000000</td>\n",
       "      <td>604000.0</td>\n",
       "      <td>4</td>\n",
       "      <td>3.00</td>\n",
       "      <td>1960</td>\n",
       "      <td>5000</td>\n",
       "      <td>1.0</td>\n",
       "      <td>0</td>\n",
       "      <td>0</td>\n",
       "      <td>...</td>\n",
       "      <td>7</td>\n",
       "      <td>1050</td>\n",
       "      <td>910</td>\n",
       "      <td>1965</td>\n",
       "      <td>0</td>\n",
       "      <td>98136</td>\n",
       "      <td>47.5208</td>\n",
       "      <td>-122.393</td>\n",
       "      <td>1360</td>\n",
       "      <td>5000</td>\n",
       "    </tr>\n",
       "    <tr>\n",
       "      <th>4</th>\n",
       "      <td>1954400510</td>\n",
       "      <td>20150218T000000</td>\n",
       "      <td>510000.0</td>\n",
       "      <td>3</td>\n",
       "      <td>2.00</td>\n",
       "      <td>1680</td>\n",
       "      <td>8080</td>\n",
       "      <td>1.0</td>\n",
       "      <td>0</td>\n",
       "      <td>0</td>\n",
       "      <td>...</td>\n",
       "      <td>8</td>\n",
       "      <td>1680</td>\n",
       "      <td>0</td>\n",
       "      <td>1987</td>\n",
       "      <td>0</td>\n",
       "      <td>98074</td>\n",
       "      <td>47.6168</td>\n",
       "      <td>-122.045</td>\n",
       "      <td>1800</td>\n",
       "      <td>7503</td>\n",
       "    </tr>\n",
       "    <tr>\n",
       "      <th>...</th>\n",
       "      <td>...</td>\n",
       "      <td>...</td>\n",
       "      <td>...</td>\n",
       "      <td>...</td>\n",
       "      <td>...</td>\n",
       "      <td>...</td>\n",
       "      <td>...</td>\n",
       "      <td>...</td>\n",
       "      <td>...</td>\n",
       "      <td>...</td>\n",
       "      <td>...</td>\n",
       "      <td>...</td>\n",
       "      <td>...</td>\n",
       "      <td>...</td>\n",
       "      <td>...</td>\n",
       "      <td>...</td>\n",
       "      <td>...</td>\n",
       "      <td>...</td>\n",
       "      <td>...</td>\n",
       "      <td>...</td>\n",
       "      <td>...</td>\n",
       "    </tr>\n",
       "    <tr>\n",
       "      <th>21608</th>\n",
       "      <td>263000018</td>\n",
       "      <td>20140521T000000</td>\n",
       "      <td>360000.0</td>\n",
       "      <td>3</td>\n",
       "      <td>2.50</td>\n",
       "      <td>1530</td>\n",
       "      <td>1131</td>\n",
       "      <td>3.0</td>\n",
       "      <td>0</td>\n",
       "      <td>0</td>\n",
       "      <td>...</td>\n",
       "      <td>8</td>\n",
       "      <td>1530</td>\n",
       "      <td>0</td>\n",
       "      <td>2009</td>\n",
       "      <td>0</td>\n",
       "      <td>98103</td>\n",
       "      <td>47.6993</td>\n",
       "      <td>-122.346</td>\n",
       "      <td>1530</td>\n",
       "      <td>1509</td>\n",
       "    </tr>\n",
       "    <tr>\n",
       "      <th>21609</th>\n",
       "      <td>6600060120</td>\n",
       "      <td>20150223T000000</td>\n",
       "      <td>400000.0</td>\n",
       "      <td>4</td>\n",
       "      <td>2.50</td>\n",
       "      <td>2310</td>\n",
       "      <td>5813</td>\n",
       "      <td>2.0</td>\n",
       "      <td>0</td>\n",
       "      <td>0</td>\n",
       "      <td>...</td>\n",
       "      <td>8</td>\n",
       "      <td>2310</td>\n",
       "      <td>0</td>\n",
       "      <td>2014</td>\n",
       "      <td>0</td>\n",
       "      <td>98146</td>\n",
       "      <td>47.5107</td>\n",
       "      <td>-122.362</td>\n",
       "      <td>1830</td>\n",
       "      <td>7200</td>\n",
       "    </tr>\n",
       "    <tr>\n",
       "      <th>21610</th>\n",
       "      <td>1523300141</td>\n",
       "      <td>20140623T000000</td>\n",
       "      <td>402101.0</td>\n",
       "      <td>2</td>\n",
       "      <td>0.75</td>\n",
       "      <td>1020</td>\n",
       "      <td>1350</td>\n",
       "      <td>2.0</td>\n",
       "      <td>0</td>\n",
       "      <td>0</td>\n",
       "      <td>...</td>\n",
       "      <td>7</td>\n",
       "      <td>1020</td>\n",
       "      <td>0</td>\n",
       "      <td>2009</td>\n",
       "      <td>0</td>\n",
       "      <td>98144</td>\n",
       "      <td>47.5944</td>\n",
       "      <td>-122.299</td>\n",
       "      <td>1020</td>\n",
       "      <td>2007</td>\n",
       "    </tr>\n",
       "    <tr>\n",
       "      <th>21611</th>\n",
       "      <td>291310100</td>\n",
       "      <td>20150116T000000</td>\n",
       "      <td>400000.0</td>\n",
       "      <td>3</td>\n",
       "      <td>2.50</td>\n",
       "      <td>1600</td>\n",
       "      <td>2388</td>\n",
       "      <td>2.0</td>\n",
       "      <td>0</td>\n",
       "      <td>0</td>\n",
       "      <td>...</td>\n",
       "      <td>8</td>\n",
       "      <td>1600</td>\n",
       "      <td>0</td>\n",
       "      <td>2004</td>\n",
       "      <td>0</td>\n",
       "      <td>98027</td>\n",
       "      <td>47.5345</td>\n",
       "      <td>-122.069</td>\n",
       "      <td>1410</td>\n",
       "      <td>1287</td>\n",
       "    </tr>\n",
       "    <tr>\n",
       "      <th>21612</th>\n",
       "      <td>1523300157</td>\n",
       "      <td>20141015T000000</td>\n",
       "      <td>325000.0</td>\n",
       "      <td>2</td>\n",
       "      <td>0.75</td>\n",
       "      <td>1020</td>\n",
       "      <td>1076</td>\n",
       "      <td>2.0</td>\n",
       "      <td>0</td>\n",
       "      <td>0</td>\n",
       "      <td>...</td>\n",
       "      <td>7</td>\n",
       "      <td>1020</td>\n",
       "      <td>0</td>\n",
       "      <td>2008</td>\n",
       "      <td>0</td>\n",
       "      <td>98144</td>\n",
       "      <td>47.5941</td>\n",
       "      <td>-122.299</td>\n",
       "      <td>1020</td>\n",
       "      <td>1357</td>\n",
       "    </tr>\n",
       "  </tbody>\n",
       "</table>\n",
       "<p>21613 rows × 21 columns</p>\n",
       "</div>"
      ],
      "text/plain": [
       "               id             date     price  bedrooms  bathrooms  \\\n",
       "0      7129300520  20141013T000000  221900.0         3       1.00   \n",
       "1      6414100192  20141209T000000  538000.0         3       2.25   \n",
       "2      5631500400  20150225T000000  180000.0         2       1.00   \n",
       "3      2487200875  20141209T000000  604000.0         4       3.00   \n",
       "4      1954400510  20150218T000000  510000.0         3       2.00   \n",
       "...           ...              ...       ...       ...        ...   \n",
       "21608   263000018  20140521T000000  360000.0         3       2.50   \n",
       "21609  6600060120  20150223T000000  400000.0         4       2.50   \n",
       "21610  1523300141  20140623T000000  402101.0         2       0.75   \n",
       "21611   291310100  20150116T000000  400000.0         3       2.50   \n",
       "21612  1523300157  20141015T000000  325000.0         2       0.75   \n",
       "\n",
       "       sqft_living  sqft_lot  floors  waterfront  view  ...  grade  \\\n",
       "0             1180      5650     1.0           0     0  ...      7   \n",
       "1             2570      7242     2.0           0     0  ...      7   \n",
       "2              770     10000     1.0           0     0  ...      6   \n",
       "3             1960      5000     1.0           0     0  ...      7   \n",
       "4             1680      8080     1.0           0     0  ...      8   \n",
       "...            ...       ...     ...         ...   ...  ...    ...   \n",
       "21608         1530      1131     3.0           0     0  ...      8   \n",
       "21609         2310      5813     2.0           0     0  ...      8   \n",
       "21610         1020      1350     2.0           0     0  ...      7   \n",
       "21611         1600      2388     2.0           0     0  ...      8   \n",
       "21612         1020      1076     2.0           0     0  ...      7   \n",
       "\n",
       "       sqft_above  sqft_basement  yr_built  yr_renovated  zipcode      lat  \\\n",
       "0            1180              0      1955             0    98178  47.5112   \n",
       "1            2170            400      1951          1991    98125  47.7210   \n",
       "2             770              0      1933             0    98028  47.7379   \n",
       "3            1050            910      1965             0    98136  47.5208   \n",
       "4            1680              0      1987             0    98074  47.6168   \n",
       "...           ...            ...       ...           ...      ...      ...   \n",
       "21608        1530              0      2009             0    98103  47.6993   \n",
       "21609        2310              0      2014             0    98146  47.5107   \n",
       "21610        1020              0      2009             0    98144  47.5944   \n",
       "21611        1600              0      2004             0    98027  47.5345   \n",
       "21612        1020              0      2008             0    98144  47.5941   \n",
       "\n",
       "          long  sqft_living15  sqft_lot15  \n",
       "0     -122.257           1340        5650  \n",
       "1     -122.319           1690        7639  \n",
       "2     -122.233           2720        8062  \n",
       "3     -122.393           1360        5000  \n",
       "4     -122.045           1800        7503  \n",
       "...        ...            ...         ...  \n",
       "21608 -122.346           1530        1509  \n",
       "21609 -122.362           1830        7200  \n",
       "21610 -122.299           1020        2007  \n",
       "21611 -122.069           1410        1287  \n",
       "21612 -122.299           1020        1357  \n",
       "\n",
       "[21613 rows x 21 columns]"
      ]
     },
     "execution_count": 2,
     "metadata": {},
     "output_type": "execute_result"
    }
   ],
   "source": [
    "df_house = pd.read_csv(\"kc_house_data.csv\")\n",
    "df_house"
   ]
  },
  {
   "cell_type": "markdown",
   "metadata": {},
   "source": [
    "## Задание 1"
   ]
  },
  {
   "cell_type": "markdown",
   "metadata": {},
   "source": [
    "Этот набор данных содержит цены продажи домов в округе Кинг, включая Сиэтл. Он включает в себя дома, проданные в период с мая 2014 по май 2015 года.\n",
    "\n",
    "Это отличный набор данных для оценки простых регрессионных моделей.\n",
    "\n",
    "    id - Уникальный идентификатор для каждого проданного дома\n",
    "    дата - Дата продажи дома\n",
    "    цена - Цена каждого проданного дома\n",
    "    спальни - Количество спален\n",
    "    ванные комнаты - Количество ванных комнат, где .5 приходится на комнату с туалетом, но без душа\n",
    "    sqft_living - Квадратные метры квартир внутренняя жилая площадь\n",
    "    sqft_lot - Квадратные метры земельных площадей\n",
    "    этажи - Количество этажей\n",
    "    прибрежный - фиктивная переменная, находится ли квартира была с видом на набережную или нет\n",
    "    вид - индекс от 0 до 4 насколько хорош тот или иной вид имущества\n",
    "    состояние - индекс от 1 до 5 при условии, квартиры,\n",
    "    класс - индекс от 1 до 13, где 1-3 дотягивает строительства и дизайна, 7 имеет средний уровень проектирования и строительства, и 11-13 имеют высокий уровень качества строительства и дизайна.\n",
    "    sqft_above - Площадь внутреннего жилого пространства, находящегося над уровнем земли\n",
    "    sqft_basement - Площадь внутреннего жилого пространства, которое находится ниже уровня\n",
    "    земли yr_built - Год, когда дом был первоначально построен\n",
    "    yr_renovated - Год последней реконструкции дома\n",
    "    zipcode - Какая площадь zipcode находится в доме\n",
    "    lat - Lattitude\n",
    "    long - Longitude\n",
    "    sqft_living15 - Площадь внутреннего жилого пространства для ближайших 15 соседей\n",
    "    sqft_lot15 - Площадь земельных участков ближайших 15 соседей"
   ]
  },
  {
   "cell_type": "markdown",
   "metadata": {},
   "source": [
    "## Задание 2"
   ]
  },
  {
   "cell_type": "code",
   "execution_count": 3,
   "metadata": {},
   "outputs": [
    {
     "name": "stdout",
     "output_type": "stream",
     "text": [
      "Number of rows before deleting clones:  21613\n"
     ]
    }
   ],
   "source": [
    "print(\"Number of rows before deleting clones: \", df_house.shape[0])"
   ]
  },
  {
   "cell_type": "code",
   "execution_count": 4,
   "metadata": {},
   "outputs": [],
   "source": [
    "df_house.drop_duplicates(keep = 'first', inplace = True)"
   ]
  },
  {
   "cell_type": "code",
   "execution_count": 5,
   "metadata": {},
   "outputs": [
    {
     "name": "stdout",
     "output_type": "stream",
     "text": [
      "Number of rows after deleting clones:  21613\n"
     ]
    }
   ],
   "source": [
    "print(\"Number of rows after deleting clones: \", df_house.shape[0])"
   ]
  },
  {
   "cell_type": "markdown",
   "metadata": {},
   "source": [
    "## Задание 3"
   ]
  },
  {
   "cell_type": "code",
   "execution_count": 6,
   "metadata": {},
   "outputs": [],
   "source": [
    "rcParams[\"figure.figsize\"]=10, 7"
   ]
  },
  {
   "cell_type": "code",
   "execution_count": 7,
   "metadata": {},
   "outputs": [
    {
     "data": {
      "text/plain": [
       "(array([ 1,  2,  3,  4,  5,  6,  7,  8,  9, 10, 11, 12, 13, 14, 15, 16, 17,\n",
       "        18, 19, 20]),\n",
       " [Text(1, 0, 'id'),\n",
       "  Text(2, 0, 'price'),\n",
       "  Text(3, 0, 'bedrooms'),\n",
       "  Text(4, 0, 'bathrooms'),\n",
       "  Text(5, 0, 'sqft_living'),\n",
       "  Text(6, 0, 'sqft_lot'),\n",
       "  Text(7, 0, 'floors'),\n",
       "  Text(8, 0, 'waterfront'),\n",
       "  Text(9, 0, 'view'),\n",
       "  Text(10, 0, 'condition'),\n",
       "  Text(11, 0, 'grade'),\n",
       "  Text(12, 0, 'sqft_above'),\n",
       "  Text(13, 0, 'sqft_basement'),\n",
       "  Text(14, 0, 'yr_built'),\n",
       "  Text(15, 0, 'yr_renovated'),\n",
       "  Text(16, 0, 'zipcode'),\n",
       "  Text(17, 0, 'lat'),\n",
       "  Text(18, 0, 'long'),\n",
       "  Text(19, 0, 'sqft_living15'),\n",
       "  Text(20, 0, 'sqft_lot15')])"
      ]
     },
     "execution_count": 7,
     "metadata": {},
     "output_type": "execute_result"
    },
    {
     "data": {
      "image/png": "[encoded data removed]",
      "text/plain": [
       "<Figure size 720x504 with 1 Axes>"
      ]
     },
     "metadata": {
      "needs_background": "light"
     },
     "output_type": "display_data"
    }
   ],
   "source": [
    "df_house.boxplot()\n",
    "plt.xticks(rotation=60)"
   ]
  },
  {
   "cell_type": "code",
   "execution_count": 8,
   "metadata": {},
   "outputs": [
    {
     "data": {
      "text/plain": [
       "['bedrooms',\n",
       " 'bathrooms',\n",
       " 'sqft_living',\n",
       " 'sqft_lot',\n",
       " 'floors',\n",
       " 'waterfront',\n",
       " 'view',\n",
       " 'condition',\n",
       " 'grade',\n",
       " 'sqft_above',\n",
       " 'sqft_basement',\n",
       " 'yr_built',\n",
       " 'yr_renovated',\n",
       " 'zipcode',\n",
       " 'lat',\n",
       " 'long',\n",
       " 'sqft_living15',\n",
       " 'sqft_lot15']"
      ]
     },
     "execution_count": 8,
     "metadata": {},
     "output_type": "execute_result"
    }
   ],
   "source": [
    "numerical = []\n",
    "for i in df_house.columns:\n",
    "    if (df_house[i].dtype == np.float64 or df_house[i].dtype == np.int64):\n",
    "        numerical.append(df_house[i].name)\n",
    "numerical = numerical[2:]\n",
    "numerical"
   ]
  },
  {
   "cell_type": "code",
   "execution_count": 9,
   "metadata": {},
   "outputs": [
    {
     "data": {
      "image/png": "[encoded data removed]",
      "text/plain": [
       "<Figure size 720x504 with 1 Axes>"
      ]
     },
     "metadata": {
      "needs_background": "light"
     },
     "output_type": "display_data"
    }
   ],
   "source": [
    "sn.boxplot(data = df_house[numerical], width=1, orient = 'v')\n",
    "plt.show()"
   ]
  },
  {
   "cell_type": "code",
   "execution_count": 10,
   "metadata": {},
   "outputs": [
    {
     "data": {
      "text/plain": [
       "<AxesSubplot:>"
      ]
     },
     "execution_count": 10,
     "metadata": {},
     "output_type": "execute_result"
    },
    {
     "data": {
      "image/png": "[encoded data removed]",
      "text/plain": [
       "<Figure size 720x504 with 1 Axes>"
      ]
     },
     "metadata": {
      "needs_background": "light"
     },
     "output_type": "display_data"
    }
   ],
   "source": [
    "# Нормализация\n",
    "scaler = MinMaxScaler()\n",
    "df_house[numerical] = scaler.fit_transform(df_house[numerical].values.astype(float))\n",
    "sn.boxplot(data = df_house[numerical], width=1, orient = 'v')"
   ]
  },
  {
   "cell_type": "markdown",
   "metadata": {},
   "source": [
    "## Задание 4"
   ]
  },
  {
   "cell_type": "code",
   "execution_count": 11,
   "metadata": {},
   "outputs": [
    {
     "data": {
      "text/plain": [
       "['id', 'date']"
      ]
     },
     "execution_count": 11,
     "metadata": {},
     "output_type": "execute_result"
    }
   ],
   "source": [
    "categorical = ['id']\n",
    "for i in df_house.columns:\n",
    "    if (df_house[i].dtype != np.float64 and df_house[i].dtype != np.int64):\n",
    "        categorical.append(df_house[i].name)\n",
    "categorical"
   ]
  },
  {
   "cell_type": "code",
   "execution_count": 12,
   "metadata": {},
   "outputs": [
    {
     "data": {
      "text/html": [
       "<div>\n",
       "<style scoped>\n",
       "    .dataframe tbody tr th:only-of-type {\n",
       "        vertical-align: middle;\n",
       "    }\n",
       "\n",
       "    .dataframe tbody tr th {\n",
       "        vertical-align: top;\n",
       "    }\n",
       "\n",
       "    .dataframe thead th {\n",
       "        text-align: right;\n",
       "    }\n",
       "</style>\n",
       "<table border=\"1\" class=\"dataframe\">\n",
       "  <thead>\n",
       "    <tr style=\"text-align: right;\">\n",
       "      <th></th>\n",
       "      <th>id</th>\n",
       "      <th>date</th>\n",
       "      <th>price</th>\n",
       "      <th>bedrooms</th>\n",
       "      <th>bathrooms</th>\n",
       "      <th>sqft_living</th>\n",
       "      <th>sqft_lot</th>\n",
       "      <th>floors</th>\n",
       "      <th>waterfront</th>\n",
       "      <th>view</th>\n",
       "      <th>...</th>\n",
       "      <th>grade</th>\n",
       "      <th>sqft_above</th>\n",
       "      <th>sqft_basement</th>\n",
       "      <th>yr_built</th>\n",
       "      <th>yr_renovated</th>\n",
       "      <th>zipcode</th>\n",
       "      <th>lat</th>\n",
       "      <th>long</th>\n",
       "      <th>sqft_living15</th>\n",
       "      <th>sqft_lot15</th>\n",
       "    </tr>\n",
       "  </thead>\n",
       "  <tbody>\n",
       "    <tr>\n",
       "      <th>0</th>\n",
       "      <td>15339</td>\n",
       "      <td>164</td>\n",
       "      <td>221900.0</td>\n",
       "      <td>0.090909</td>\n",
       "      <td>0.12500</td>\n",
       "      <td>0.067170</td>\n",
       "      <td>0.003108</td>\n",
       "      <td>0.0</td>\n",
       "      <td>0.0</td>\n",
       "      <td>0.0</td>\n",
       "      <td>...</td>\n",
       "      <td>0.500000</td>\n",
       "      <td>0.097588</td>\n",
       "      <td>0.000000</td>\n",
       "      <td>0.478261</td>\n",
       "      <td>0.000000</td>\n",
       "      <td>0.893939</td>\n",
       "      <td>0.571498</td>\n",
       "      <td>0.217608</td>\n",
       "      <td>0.161934</td>\n",
       "      <td>0.005742</td>\n",
       "    </tr>\n",
       "    <tr>\n",
       "      <th>1</th>\n",
       "      <td>14466</td>\n",
       "      <td>220</td>\n",
       "      <td>538000.0</td>\n",
       "      <td>0.090909</td>\n",
       "      <td>0.28125</td>\n",
       "      <td>0.172075</td>\n",
       "      <td>0.004072</td>\n",
       "      <td>0.4</td>\n",
       "      <td>0.0</td>\n",
       "      <td>0.0</td>\n",
       "      <td>...</td>\n",
       "      <td>0.500000</td>\n",
       "      <td>0.206140</td>\n",
       "      <td>0.082988</td>\n",
       "      <td>0.443478</td>\n",
       "      <td>0.988089</td>\n",
       "      <td>0.626263</td>\n",
       "      <td>0.908959</td>\n",
       "      <td>0.166113</td>\n",
       "      <td>0.222165</td>\n",
       "      <td>0.008027</td>\n",
       "    </tr>\n",
       "    <tr>\n",
       "      <th>2</th>\n",
       "      <td>13503</td>\n",
       "      <td>290</td>\n",
       "      <td>180000.0</td>\n",
       "      <td>0.060606</td>\n",
       "      <td>0.12500</td>\n",
       "      <td>0.036226</td>\n",
       "      <td>0.005743</td>\n",
       "      <td>0.0</td>\n",
       "      <td>0.0</td>\n",
       "      <td>0.0</td>\n",
       "      <td>...</td>\n",
       "      <td>0.416667</td>\n",
       "      <td>0.052632</td>\n",
       "      <td>0.000000</td>\n",
       "      <td>0.286957</td>\n",
       "      <td>0.000000</td>\n",
       "      <td>0.136364</td>\n",
       "      <td>0.936143</td>\n",
       "      <td>0.237542</td>\n",
       "      <td>0.399415</td>\n",
       "      <td>0.008513</td>\n",
       "    </tr>\n",
       "    <tr>\n",
       "      <th>3</th>\n",
       "      <td>6371</td>\n",
       "      <td>220</td>\n",
       "      <td>604000.0</td>\n",
       "      <td>0.121212</td>\n",
       "      <td>0.37500</td>\n",
       "      <td>0.126038</td>\n",
       "      <td>0.002714</td>\n",
       "      <td>0.0</td>\n",
       "      <td>0.0</td>\n",
       "      <td>0.0</td>\n",
       "      <td>...</td>\n",
       "      <td>0.500000</td>\n",
       "      <td>0.083333</td>\n",
       "      <td>0.188797</td>\n",
       "      <td>0.565217</td>\n",
       "      <td>0.000000</td>\n",
       "      <td>0.681818</td>\n",
       "      <td>0.586939</td>\n",
       "      <td>0.104651</td>\n",
       "      <td>0.165376</td>\n",
       "      <td>0.004996</td>\n",
       "    </tr>\n",
       "    <tr>\n",
       "      <th>4</th>\n",
       "      <td>4955</td>\n",
       "      <td>283</td>\n",
       "      <td>510000.0</td>\n",
       "      <td>0.090909</td>\n",
       "      <td>0.25000</td>\n",
       "      <td>0.104906</td>\n",
       "      <td>0.004579</td>\n",
       "      <td>0.0</td>\n",
       "      <td>0.0</td>\n",
       "      <td>0.0</td>\n",
       "      <td>...</td>\n",
       "      <td>0.583333</td>\n",
       "      <td>0.152412</td>\n",
       "      <td>0.000000</td>\n",
       "      <td>0.756522</td>\n",
       "      <td>0.000000</td>\n",
       "      <td>0.368687</td>\n",
       "      <td>0.741354</td>\n",
       "      <td>0.393688</td>\n",
       "      <td>0.241094</td>\n",
       "      <td>0.007871</td>\n",
       "    </tr>\n",
       "    <tr>\n",
       "      <th>...</th>\n",
       "      <td>...</td>\n",
       "      <td>...</td>\n",
       "      <td>...</td>\n",
       "      <td>...</td>\n",
       "      <td>...</td>\n",
       "      <td>...</td>\n",
       "      <td>...</td>\n",
       "      <td>...</td>\n",
       "      <td>...</td>\n",
       "      <td>...</td>\n",
       "      <td>...</td>\n",
       "      <td>...</td>\n",
       "      <td>...</td>\n",
       "      <td>...</td>\n",
       "      <td>...</td>\n",
       "      <td>...</td>\n",
       "      <td>...</td>\n",
       "      <td>...</td>\n",
       "      <td>...</td>\n",
       "      <td>...</td>\n",
       "      <td>...</td>\n",
       "    </tr>\n",
       "    <tr>\n",
       "      <th>21608</th>\n",
       "      <td>574</td>\n",
       "      <td>19</td>\n",
       "      <td>360000.0</td>\n",
       "      <td>0.090909</td>\n",
       "      <td>0.31250</td>\n",
       "      <td>0.093585</td>\n",
       "      <td>0.000370</td>\n",
       "      <td>0.8</td>\n",
       "      <td>0.0</td>\n",
       "      <td>0.0</td>\n",
       "      <td>...</td>\n",
       "      <td>0.583333</td>\n",
       "      <td>0.135965</td>\n",
       "      <td>0.000000</td>\n",
       "      <td>0.947826</td>\n",
       "      <td>0.000000</td>\n",
       "      <td>0.515152</td>\n",
       "      <td>0.874055</td>\n",
       "      <td>0.143688</td>\n",
       "      <td>0.194631</td>\n",
       "      <td>0.000986</td>\n",
       "    </tr>\n",
       "    <tr>\n",
       "      <th>21609</th>\n",
       "      <td>14564</td>\n",
       "      <td>288</td>\n",
       "      <td>400000.0</td>\n",
       "      <td>0.121212</td>\n",
       "      <td>0.31250</td>\n",
       "      <td>0.152453</td>\n",
       "      <td>0.003206</td>\n",
       "      <td>0.4</td>\n",
       "      <td>0.0</td>\n",
       "      <td>0.0</td>\n",
       "      <td>...</td>\n",
       "      <td>0.583333</td>\n",
       "      <td>0.221491</td>\n",
       "      <td>0.000000</td>\n",
       "      <td>0.991304</td>\n",
       "      <td>0.000000</td>\n",
       "      <td>0.732323</td>\n",
       "      <td>0.570693</td>\n",
       "      <td>0.130399</td>\n",
       "      <td>0.246257</td>\n",
       "      <td>0.007523</td>\n",
       "    </tr>\n",
       "    <tr>\n",
       "      <th>21610</th>\n",
       "      <td>3621</td>\n",
       "      <td>52</td>\n",
       "      <td>402101.0</td>\n",
       "      <td>0.060606</td>\n",
       "      <td>0.09375</td>\n",
       "      <td>0.055094</td>\n",
       "      <td>0.000503</td>\n",
       "      <td>0.4</td>\n",
       "      <td>0.0</td>\n",
       "      <td>0.0</td>\n",
       "      <td>...</td>\n",
       "      <td>0.500000</td>\n",
       "      <td>0.080044</td>\n",
       "      <td>0.000000</td>\n",
       "      <td>0.947826</td>\n",
       "      <td>0.000000</td>\n",
       "      <td>0.722222</td>\n",
       "      <td>0.705324</td>\n",
       "      <td>0.182724</td>\n",
       "      <td>0.106866</td>\n",
       "      <td>0.001558</td>\n",
       "    </tr>\n",
       "    <tr>\n",
       "      <th>21611</th>\n",
       "      <td>629</td>\n",
       "      <td>252</td>\n",
       "      <td>400000.0</td>\n",
       "      <td>0.090909</td>\n",
       "      <td>0.31250</td>\n",
       "      <td>0.098868</td>\n",
       "      <td>0.001132</td>\n",
       "      <td>0.4</td>\n",
       "      <td>0.0</td>\n",
       "      <td>0.0</td>\n",
       "      <td>...</td>\n",
       "      <td>0.583333</td>\n",
       "      <td>0.143640</td>\n",
       "      <td>0.000000</td>\n",
       "      <td>0.904348</td>\n",
       "      <td>0.000000</td>\n",
       "      <td>0.131313</td>\n",
       "      <td>0.608975</td>\n",
       "      <td>0.373754</td>\n",
       "      <td>0.173980</td>\n",
       "      <td>0.000731</td>\n",
       "    </tr>\n",
       "    <tr>\n",
       "      <th>21612</th>\n",
       "      <td>3622</td>\n",
       "      <td>166</td>\n",
       "      <td>325000.0</td>\n",
       "      <td>0.060606</td>\n",
       "      <td>0.09375</td>\n",
       "      <td>0.055094</td>\n",
       "      <td>0.000337</td>\n",
       "      <td>0.4</td>\n",
       "      <td>0.0</td>\n",
       "      <td>0.0</td>\n",
       "      <td>...</td>\n",
       "      <td>0.500000</td>\n",
       "      <td>0.080044</td>\n",
       "      <td>0.000000</td>\n",
       "      <td>0.939130</td>\n",
       "      <td>0.000000</td>\n",
       "      <td>0.722222</td>\n",
       "      <td>0.704842</td>\n",
       "      <td>0.182724</td>\n",
       "      <td>0.106866</td>\n",
       "      <td>0.000811</td>\n",
       "    </tr>\n",
       "  </tbody>\n",
       "</table>\n",
       "<p>21613 rows × 21 columns</p>\n",
       "</div>"
      ],
      "text/plain": [
       "          id  date     price  bedrooms  bathrooms  sqft_living  sqft_lot  \\\n",
       "0      15339   164  221900.0  0.090909    0.12500     0.067170  0.003108   \n",
       "1      14466   220  538000.0  0.090909    0.28125     0.172075  0.004072   \n",
       "2      13503   290  180000.0  0.060606    0.12500     0.036226  0.005743   \n",
       "3       6371   220  604000.0  0.121212    0.37500     0.126038  0.002714   \n",
       "4       4955   283  510000.0  0.090909    0.25000     0.104906  0.004579   \n",
       "...      ...   ...       ...       ...        ...          ...       ...   \n",
       "21608    574    19  360000.0  0.090909    0.31250     0.093585  0.000370   \n",
       "21609  14564   288  400000.0  0.121212    0.31250     0.152453  0.003206   \n",
       "21610   3621    52  402101.0  0.060606    0.09375     0.055094  0.000503   \n",
       "21611    629   252  400000.0  0.090909    0.31250     0.098868  0.001132   \n",
       "21612   3622   166  325000.0  0.060606    0.09375     0.055094  0.000337   \n",
       "\n",
       "       floors  waterfront  view  ...     grade  sqft_above  sqft_basement  \\\n",
       "0         0.0         0.0   0.0  ...  0.500000    0.097588       0.000000   \n",
       "1         0.4         0.0   0.0  ...  0.500000    0.206140       0.082988   \n",
       "2         0.0         0.0   0.0  ...  0.416667    0.052632       0.000000   \n",
       "3         0.0         0.0   0.0  ...  0.500000    0.083333       0.188797   \n",
       "4         0.0         0.0   0.0  ...  0.583333    0.152412       0.000000   \n",
       "...       ...         ...   ...  ...       ...         ...            ...   \n",
       "21608     0.8         0.0   0.0  ...  0.583333    0.135965       0.000000   \n",
       "21609     0.4         0.0   0.0  ...  0.583333    0.221491       0.000000   \n",
       "21610     0.4         0.0   0.0  ...  0.500000    0.080044       0.000000   \n",
       "21611     0.4         0.0   0.0  ...  0.583333    0.143640       0.000000   \n",
       "21612     0.4         0.0   0.0  ...  0.500000    0.080044       0.000000   \n",
       "\n",
       "       yr_built  yr_renovated   zipcode       lat      long  sqft_living15  \\\n",
       "0      0.478261      0.000000  0.893939  0.571498  0.217608       0.161934   \n",
       "1      0.443478      0.988089  0.626263  0.908959  0.166113       0.222165   \n",
       "2      0.286957      0.000000  0.136364  0.936143  0.237542       0.399415   \n",
       "3      0.565217      0.000000  0.681818  0.586939  0.104651       0.165376   \n",
       "4      0.756522      0.000000  0.368687  0.741354  0.393688       0.241094   \n",
       "...         ...           ...       ...       ...       ...            ...   \n",
       "21608  0.947826      0.000000  0.515152  0.874055  0.143688       0.194631   \n",
       "21609  0.991304      0.000000  0.732323  0.570693  0.130399       0.246257   \n",
       "21610  0.947826      0.000000  0.722222  0.705324  0.182724       0.106866   \n",
       "21611  0.904348      0.000000  0.131313  0.608975  0.373754       0.173980   \n",
       "21612  0.939130      0.000000  0.722222  0.704842  0.182724       0.106866   \n",
       "\n",
       "       sqft_lot15  \n",
       "0        0.005742  \n",
       "1        0.008027  \n",
       "2        0.008513  \n",
       "3        0.004996  \n",
       "4        0.007871  \n",
       "...           ...  \n",
       "21608    0.000986  \n",
       "21609    0.007523  \n",
       "21610    0.001558  \n",
       "21611    0.000731  \n",
       "21612    0.000811  \n",
       "\n",
       "[21613 rows x 21 columns]"
      ]
     },
     "execution_count": 12,
     "metadata": {},
     "output_type": "execute_result"
    }
   ],
   "source": [
    "encoder = LabelEncoder()\n",
    "for i in categorical:\n",
    "    df_house[i] = encoder.fit_transform(df_house[i])\n",
    "df_house"
   ]
  },
  {
   "cell_type": "markdown",
   "metadata": {},
   "source": [
    "## Задание 5"
   ]
  },
  {
   "cell_type": "code",
   "execution_count": 13,
   "metadata": {},
   "outputs": [
    {
     "data": {
      "text/plain": [
       "id              -0.016534\n",
       "date            -0.004649\n",
       "price            1.000000\n",
       "bedrooms         0.308350\n",
       "bathrooms        0.525138\n",
       "sqft_living      0.702035\n",
       "sqft_lot         0.089661\n",
       "floors           0.256794\n",
       "waterfront       0.266369\n",
       "view             0.397293\n",
       "condition        0.036362\n",
       "grade            0.667434\n",
       "sqft_above       0.605567\n",
       "sqft_basement    0.323816\n",
       "yr_built         0.054012\n",
       "yr_renovated     0.126434\n",
       "zipcode         -0.053203\n",
       "lat              0.307003\n",
       "long             0.021626\n",
       "sqft_living15    0.585379\n",
       "sqft_lot15       0.082447\n",
       "Name: price, dtype: float64"
      ]
     },
     "execution_count": 13,
     "metadata": {},
     "output_type": "execute_result"
    },
    {
     "data": {
      "image/png": "[encoded data removed]",
      "text/plain": [
       "<Figure size 720x504 with 2 Axes>"
      ]
     },
     "metadata": {
      "needs_background": "light"
     },
     "output_type": "display_data"
    }
   ],
   "source": [
    "sn.heatmap(df_house.corr())\n",
    "df_house.corr()['price']"
   ]
  },
  {
   "cell_type": "code",
   "execution_count": 14,
   "metadata": {},
   "outputs": [
    {
     "name": "stdout",
     "output_type": "stream",
     "text": [
      "id                            : weak corr!!!\n",
      "date                          : weak corr!!!\n",
      "price                         :   1.000000\n",
      "bedrooms                      :   0.308350\n",
      "bathrooms                     :   0.525138\n",
      "sqft_living                   :   0.702035\n",
      "sqft_lot                      : weak corr!!!\n",
      "floors                        :   0.256794\n",
      "waterfront                    :   0.266369\n",
      "view                          :   0.397293\n",
      "condition                     : weak corr!!!\n",
      "grade                         :   0.667434\n",
      "sqft_above                    :   0.605567\n",
      "sqft_basement                 :   0.323816\n",
      "yr_built                      : weak corr!!!\n",
      "yr_renovated                  : weak corr!!!\n",
      "zipcode                       : weak corr!!!\n",
      "lat                           :   0.307003\n",
      "long                          : weak corr!!!\n",
      "sqft_living15                 :   0.585379\n",
      "sqft_lot15                    : weak corr!!!\n"
     ]
    }
   ],
   "source": [
    "for name, val in zip(df_house.columns, df_house.corr()['price']):\n",
    "    print(f\"{name:<30}: \", end='')\n",
    "    print(f'{val:>10.6f}') if abs(val) > 0.25 else print('weak corr!!!')"
   ]
  },
  {
   "cell_type": "code",
   "execution_count": 15,
   "metadata": {},
   "outputs": [
    {
     "name": "stdout",
     "output_type": "stream",
     "text": [
      "id                            :  -0.016534\n",
      "date                          :  -0.004649\n",
      "price                         : strong corr!!!\n",
      "bedrooms                      : strong corr!!!\n",
      "bathrooms                     : strong corr!!!\n",
      "sqft_living                   : strong corr!!!\n",
      "sqft_lot                      :   0.089661\n",
      "floors                        : strong corr!!!\n",
      "waterfront                    : strong corr!!!\n",
      "view                          : strong corr!!!\n",
      "condition                     :   0.036362\n",
      "grade                         : strong corr!!!\n",
      "sqft_above                    : strong corr!!!\n",
      "sqft_basement                 : strong corr!!!\n",
      "yr_built                      :   0.054012\n",
      "yr_renovated                  :   0.126434\n",
      "zipcode                       :  -0.053203\n",
      "lat                           : strong corr!!!\n",
      "long                          :   0.021626\n",
      "sqft_living15                 : strong corr!!!\n",
      "sqft_lot15                    :   0.082447\n",
      "['id', 'date', 'sqft_lot', 'condition', 'yr_built', 'yr_renovated', 'zipcode', 'long', 'sqft_lot15']\n"
     ]
    }
   ],
   "source": [
    "cols = []\n",
    "for name, val in zip(df_house.columns, df_house.corr()['price']):\n",
    "    print(f\"{name:<30}: \", end='')\n",
    "    print(f'{val:>10.6f}') if abs(val) < 0.25 else print('strong corr!!!')\n",
    "    \n",
    "    cols.append(name) if abs(val) < 0.25 else \"\"\n",
    "#cols=cols[1:]\n",
    "print(cols)"
   ]
  },
  {
   "cell_type": "code",
   "execution_count": 16,
   "metadata": {},
   "outputs": [
    {
     "data": {
      "text/html": [
       "<div>\n",
       "<style scoped>\n",
       "    .dataframe tbody tr th:only-of-type {\n",
       "        vertical-align: middle;\n",
       "    }\n",
       "\n",
       "    .dataframe tbody tr th {\n",
       "        vertical-align: top;\n",
       "    }\n",
       "\n",
       "    .dataframe thead th {\n",
       "        text-align: right;\n",
       "    }\n",
       "</style>\n",
       "<table border=\"1\" class=\"dataframe\">\n",
       "  <thead>\n",
       "    <tr style=\"text-align: right;\">\n",
       "      <th></th>\n",
       "      <th>price</th>\n",
       "      <th>bedrooms</th>\n",
       "      <th>bathrooms</th>\n",
       "      <th>sqft_living</th>\n",
       "      <th>floors</th>\n",
       "      <th>waterfront</th>\n",
       "      <th>view</th>\n",
       "      <th>grade</th>\n",
       "      <th>sqft_above</th>\n",
       "      <th>sqft_basement</th>\n",
       "      <th>lat</th>\n",
       "      <th>sqft_living15</th>\n",
       "    </tr>\n",
       "  </thead>\n",
       "  <tbody>\n",
       "    <tr>\n",
       "      <th>0</th>\n",
       "      <td>221900.0</td>\n",
       "      <td>0.090909</td>\n",
       "      <td>0.12500</td>\n",
       "      <td>0.067170</td>\n",
       "      <td>0.0</td>\n",
       "      <td>0.0</td>\n",
       "      <td>0.0</td>\n",
       "      <td>0.500000</td>\n",
       "      <td>0.097588</td>\n",
       "      <td>0.000000</td>\n",
       "      <td>0.571498</td>\n",
       "      <td>0.161934</td>\n",
       "    </tr>\n",
       "    <tr>\n",
       "      <th>1</th>\n",
       "      <td>538000.0</td>\n",
       "      <td>0.090909</td>\n",
       "      <td>0.28125</td>\n",
       "      <td>0.172075</td>\n",
       "      <td>0.4</td>\n",
       "      <td>0.0</td>\n",
       "      <td>0.0</td>\n",
       "      <td>0.500000</td>\n",
       "      <td>0.206140</td>\n",
       "      <td>0.082988</td>\n",
       "      <td>0.908959</td>\n",
       "      <td>0.222165</td>\n",
       "    </tr>\n",
       "    <tr>\n",
       "      <th>2</th>\n",
       "      <td>180000.0</td>\n",
       "      <td>0.060606</td>\n",
       "      <td>0.12500</td>\n",
       "      <td>0.036226</td>\n",
       "      <td>0.0</td>\n",
       "      <td>0.0</td>\n",
       "      <td>0.0</td>\n",
       "      <td>0.416667</td>\n",
       "      <td>0.052632</td>\n",
       "      <td>0.000000</td>\n",
       "      <td>0.936143</td>\n",
       "      <td>0.399415</td>\n",
       "    </tr>\n",
       "    <tr>\n",
       "      <th>3</th>\n",
       "      <td>604000.0</td>\n",
       "      <td>0.121212</td>\n",
       "      <td>0.37500</td>\n",
       "      <td>0.126038</td>\n",
       "      <td>0.0</td>\n",
       "      <td>0.0</td>\n",
       "      <td>0.0</td>\n",
       "      <td>0.500000</td>\n",
       "      <td>0.083333</td>\n",
       "      <td>0.188797</td>\n",
       "      <td>0.586939</td>\n",
       "      <td>0.165376</td>\n",
       "    </tr>\n",
       "    <tr>\n",
       "      <th>4</th>\n",
       "      <td>510000.0</td>\n",
       "      <td>0.090909</td>\n",
       "      <td>0.25000</td>\n",
       "      <td>0.104906</td>\n",
       "      <td>0.0</td>\n",
       "      <td>0.0</td>\n",
       "      <td>0.0</td>\n",
       "      <td>0.583333</td>\n",
       "      <td>0.152412</td>\n",
       "      <td>0.000000</td>\n",
       "      <td>0.741354</td>\n",
       "      <td>0.241094</td>\n",
       "    </tr>\n",
       "    <tr>\n",
       "      <th>...</th>\n",
       "      <td>...</td>\n",
       "      <td>...</td>\n",
       "      <td>...</td>\n",
       "      <td>...</td>\n",
       "      <td>...</td>\n",
       "      <td>...</td>\n",
       "      <td>...</td>\n",
       "      <td>...</td>\n",
       "      <td>...</td>\n",
       "      <td>...</td>\n",
       "      <td>...</td>\n",
       "      <td>...</td>\n",
       "    </tr>\n",
       "    <tr>\n",
       "      <th>21608</th>\n",
       "      <td>360000.0</td>\n",
       "      <td>0.090909</td>\n",
       "      <td>0.31250</td>\n",
       "      <td>0.093585</td>\n",
       "      <td>0.8</td>\n",
       "      <td>0.0</td>\n",
       "      <td>0.0</td>\n",
       "      <td>0.583333</td>\n",
       "      <td>0.135965</td>\n",
       "      <td>0.000000</td>\n",
       "      <td>0.874055</td>\n",
       "      <td>0.194631</td>\n",
       "    </tr>\n",
       "    <tr>\n",
       "      <th>21609</th>\n",
       "      <td>400000.0</td>\n",
       "      <td>0.121212</td>\n",
       "      <td>0.31250</td>\n",
       "      <td>0.152453</td>\n",
       "      <td>0.4</td>\n",
       "      <td>0.0</td>\n",
       "      <td>0.0</td>\n",
       "      <td>0.583333</td>\n",
       "      <td>0.221491</td>\n",
       "      <td>0.000000</td>\n",
       "      <td>0.570693</td>\n",
       "      <td>0.246257</td>\n",
       "    </tr>\n",
       "    <tr>\n",
       "      <th>21610</th>\n",
       "      <td>402101.0</td>\n",
       "      <td>0.060606</td>\n",
       "      <td>0.09375</td>\n",
       "      <td>0.055094</td>\n",
       "      <td>0.4</td>\n",
       "      <td>0.0</td>\n",
       "      <td>0.0</td>\n",
       "      <td>0.500000</td>\n",
       "      <td>0.080044</td>\n",
       "      <td>0.000000</td>\n",
       "      <td>0.705324</td>\n",
       "      <td>0.106866</td>\n",
       "    </tr>\n",
       "    <tr>\n",
       "      <th>21611</th>\n",
       "      <td>400000.0</td>\n",
       "      <td>0.090909</td>\n",
       "      <td>0.31250</td>\n",
       "      <td>0.098868</td>\n",
       "      <td>0.4</td>\n",
       "      <td>0.0</td>\n",
       "      <td>0.0</td>\n",
       "      <td>0.583333</td>\n",
       "      <td>0.143640</td>\n",
       "      <td>0.000000</td>\n",
       "      <td>0.608975</td>\n",
       "      <td>0.173980</td>\n",
       "    </tr>\n",
       "    <tr>\n",
       "      <th>21612</th>\n",
       "      <td>325000.0</td>\n",
       "      <td>0.060606</td>\n",
       "      <td>0.09375</td>\n",
       "      <td>0.055094</td>\n",
       "      <td>0.4</td>\n",
       "      <td>0.0</td>\n",
       "      <td>0.0</td>\n",
       "      <td>0.500000</td>\n",
       "      <td>0.080044</td>\n",
       "      <td>0.000000</td>\n",
       "      <td>0.704842</td>\n",
       "      <td>0.106866</td>\n",
       "    </tr>\n",
       "  </tbody>\n",
       "</table>\n",
       "<p>21613 rows × 12 columns</p>\n",
       "</div>"
      ],
      "text/plain": [
       "          price  bedrooms  bathrooms  sqft_living  floors  waterfront  view  \\\n",
       "0      221900.0  0.090909    0.12500     0.067170     0.0         0.0   0.0   \n",
       "1      538000.0  0.090909    0.28125     0.172075     0.4         0.0   0.0   \n",
       "2      180000.0  0.060606    0.12500     0.036226     0.0         0.0   0.0   \n",
       "3      604000.0  0.121212    0.37500     0.126038     0.0         0.0   0.0   \n",
       "4      510000.0  0.090909    0.25000     0.104906     0.0         0.0   0.0   \n",
       "...         ...       ...        ...          ...     ...         ...   ...   \n",
       "21608  360000.0  0.090909    0.31250     0.093585     0.8         0.0   0.0   \n",
       "21609  400000.0  0.121212    0.31250     0.152453     0.4         0.0   0.0   \n",
       "21610  402101.0  0.060606    0.09375     0.055094     0.4         0.0   0.0   \n",
       "21611  400000.0  0.090909    0.31250     0.098868     0.4         0.0   0.0   \n",
       "21612  325000.0  0.060606    0.09375     0.055094     0.4         0.0   0.0   \n",
       "\n",
       "          grade  sqft_above  sqft_basement       lat  sqft_living15  \n",
       "0      0.500000    0.097588       0.000000  0.571498       0.161934  \n",
       "1      0.500000    0.206140       0.082988  0.908959       0.222165  \n",
       "2      0.416667    0.052632       0.000000  0.936143       0.399415  \n",
       "3      0.500000    0.083333       0.188797  0.586939       0.165376  \n",
       "4      0.583333    0.152412       0.000000  0.741354       0.241094  \n",
       "...         ...         ...            ...       ...            ...  \n",
       "21608  0.583333    0.135965       0.000000  0.874055       0.194631  \n",
       "21609  0.583333    0.221491       0.000000  0.570693       0.246257  \n",
       "21610  0.500000    0.080044       0.000000  0.705324       0.106866  \n",
       "21611  0.583333    0.143640       0.000000  0.608975       0.173980  \n",
       "21612  0.500000    0.080044       0.000000  0.704842       0.106866  \n",
       "\n",
       "[21613 rows x 12 columns]"
      ]
     },
     "execution_count": 16,
     "metadata": {},
     "output_type": "execute_result"
    }
   ],
   "source": [
    "df_house.drop(cols, axis=1, inplace=True)\n",
    "df_house"
   ]
  },
  {
   "cell_type": "markdown",
   "metadata": {},
   "source": [
    "## Задание 6"
   ]
  },
  {
   "cell_type": "code",
   "execution_count": 17,
   "metadata": {},
   "outputs": [
    {
     "data": {
      "text/plain": [
       "price            0\n",
       "bedrooms         0\n",
       "bathrooms        0\n",
       "sqft_living      0\n",
       "floors           0\n",
       "waterfront       0\n",
       "view             0\n",
       "grade            0\n",
       "sqft_above       0\n",
       "sqft_basement    0\n",
       "lat              0\n",
       "sqft_living15    0\n",
       "dtype: int64"
      ]
     },
     "execution_count": 17,
     "metadata": {},
     "output_type": "execute_result"
    }
   ],
   "source": [
    "df_house.isna().sum()"
   ]
  },
  {
   "cell_type": "markdown",
   "metadata": {},
   "source": [
    "## Задание 7"
   ]
  },
  {
   "cell_type": "code",
   "execution_count": 18,
   "metadata": {},
   "outputs": [
    {
     "name": "stderr",
     "output_type": "stream",
     "text": [
      "F:\\WinPython\\WPy64-3870\\python-3.8.7.amd64\\lib\\site-packages\\sklearn\\linear_model\\_coordinate_descent.py:530: ConvergenceWarning: Objective did not converge. You might want to increase the number of iterations. Duality gap: 167442564649777.6, tolerance: 203235081382.9628\n",
      "  model = cd_fast.enet_coordinate_descent(\n"
     ]
    },
    {
     "data": {
      "text/plain": [
       "Lasso(alpha=0.1)"
      ]
     },
     "execution_count": 18,
     "metadata": {},
     "output_type": "execute_result"
    }
   ],
   "source": [
    "from  sklearn import linear_model\n",
    "# линейная регрессия, LASSO регуляризатор.\n",
    "X, y = df_house.drop(['price'], axis=1), df_house['price']\n",
    "X_train, X_test, y_train, y_test = train_test_split(X, y, test_size = 0.3, random_state = 123)\n",
    "\n",
    "reg = linear_model.Lasso (alpha = 0.1)\n",
    "reg.fit (X_train, y_train)"
   ]
  },
  {
   "cell_type": "code",
   "execution_count": 19,
   "metadata": {},
   "outputs": [
    {
     "data": {
      "text/plain": [
       "array([-785502.90644833,  -50318.18009765, 3777912.81426837,\n",
       "        -81580.85565107,  647047.21665007,  265237.47060461,\n",
       "       1039244.18786881, -846932.26249688, -455021.41157276,\n",
       "        421550.36831476,   11468.60426463])"
      ]
     },
     "execution_count": 19,
     "metadata": {},
     "output_type": "execute_result"
    }
   ],
   "source": [
    "reg.coef_"
   ]
  },
  {
   "cell_type": "code",
   "execution_count": 20,
   "metadata": {},
   "outputs": [
    {
     "name": "stdout",
     "output_type": "stream",
     "text": [
      "[ 617138.50800786  486228.81089753  999351.70613512 1161860.17627272\n",
      "  297906.40269078  218101.00368056  661531.68499286  426083.44681623\n",
      "  690978.84325228  731186.23032607]\n"
     ]
    }
   ],
   "source": [
    "xt = reg.predict(X_test)\n",
    "print(xt[:10])"
   ]
  },
  {
   "cell_type": "code",
   "execution_count": 21,
   "metadata": {},
   "outputs": [
    {
     "name": "stdout",
     "output_type": "stream",
     "text": [
      "5506     532500.0\n",
      "9279     410000.0\n",
      "16034    782500.0\n",
      "6608     995000.0\n",
      "20359    279000.0\n",
      "8798     175000.0\n",
      "10035    689000.0\n",
      "13321    275000.0\n",
      "15842    465000.0\n",
      "12119    506000.0\n",
      "Name: price, dtype: float64\n"
     ]
    }
   ],
   "source": [
    "print(y_test[:10])"
   ]
  },
  {
   "cell_type": "code",
   "execution_count": 22,
   "metadata": {},
   "outputs": [
    {
     "name": "stdout",
     "output_type": "stream",
     "text": [
      "5506      84638.508008\n",
      "9279      76228.810898\n",
      "16034    216851.706135\n",
      "6608     166860.176273\n",
      "20359     18906.402691\n",
      "8798      43101.003681\n",
      "10035    -27468.315007\n",
      "13321    151083.446816\n",
      "15842    225978.843252\n",
      "12119    225186.230326\n",
      "Name: price, dtype: float64\n"
     ]
    }
   ],
   "source": [
    "print(xt[:10]-y_test[:10])"
   ]
  },
  {
   "cell_type": "code",
   "execution_count": 23,
   "metadata": {},
   "outputs": [
    {
     "data": {
      "text/plain": [
       "-567643.1744641074"
      ]
     },
     "execution_count": 23,
     "metadata": {},
     "output_type": "execute_result"
    }
   ],
   "source": [
    "reg.intercept_"
   ]
  },
  {
   "cell_type": "code",
   "execution_count": 24,
   "metadata": {},
   "outputs": [
    {
     "data": {
      "text/plain": [
       "LinearRegression()"
      ]
     },
     "execution_count": 24,
     "metadata": {},
     "output_type": "execute_result"
    }
   ],
   "source": [
    "from  sklearn import linear_model\n",
    "# линейная регрессия без использования регуляризаторов;\n",
    "\n",
    "X, y = df_house.drop(['price'], axis=1), df_house['price']\n",
    "X_train, X_test, y_train, y_test = train_test_split(X, y, test_size = 0.3, random_state = 123)\n",
    "\n",
    "reg = linear_model.LinearRegression()\n",
    "\n",
    "reg.fit(X_train,y_train)"
   ]
  },
  {
   "cell_type": "code",
   "execution_count": 25,
   "metadata": {},
   "outputs": [
    {
     "data": {
      "text/plain": [
       "array([-785652.96904846,  -50293.28919456,  959642.61718094,\n",
       "        -81589.46299167,  647060.76138152,  265232.64272675,\n",
       "       1039217.74931489, 1092875.08475049,  570175.0839674 ,\n",
       "        421553.49219836,   11508.78073303])"
      ]
     },
     "execution_count": 25,
     "metadata": {},
     "output_type": "execute_result"
    }
   ],
   "source": [
    "reg.coef_"
   ]
  },
  {
   "cell_type": "code",
   "execution_count": 26,
   "metadata": {},
   "outputs": [
    {
     "data": {
      "text/plain": [
       "-567627.7515628281"
      ]
     },
     "execution_count": 26,
     "metadata": {},
     "output_type": "execute_result"
    }
   ],
   "source": [
    "reg.intercept_"
   ]
  },
  {
   "cell_type": "code",
   "execution_count": 27,
   "metadata": {},
   "outputs": [
    {
     "name": "stdout",
     "output_type": "stream",
     "text": [
      "0.8186107179472711\n",
      "0.839618444840542\n"
     ]
    }
   ],
   "source": [
    "from scipy.stats import *\n",
    "corr={}\n",
    "corr['pearson'], _ = stats.pearsonr(xt,y_test)\n",
    "corr['spearman'], _ = stats.spearmanr(xt,y_test)\n",
    "print(corr['pearson'])\n",
    "print(corr['spearman'])"
   ]
  },
  {
   "cell_type": "code",
   "execution_count": null,
   "metadata": {},
   "outputs": [],
   "source": []
  }
 ],
 "metadata": {
  "kernelspec": {
   "display_name": "Python 3",
   "language": "python",
   "name": "python3"
  },
  "language_info": {
   "codemirror_mode": {
    "name": "ipython",
    "version": 3
   },
   "file_extension": ".py",
   "mimetype": "text/x-python",
   "name": "python",
   "nbconvert_exporter": "python",
   "pygments_lexer": "ipython3",
   "version": "3.8.7"
  }
 },
 "nbformat": 4,
 "nbformat_minor": 4
}
