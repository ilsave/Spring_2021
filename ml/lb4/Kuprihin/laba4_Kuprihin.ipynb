{
 "cells": [
  {
   "cell_type": "markdown",
   "metadata": {},
   "source": [
    "## Куприхин Дмитрий Альбертович\n",
    "### 19-ИВТ-2\n",
    "#### Лабораторная работа 4\n",
    "#### Вариант 14"
   ]
  },
  {
   "cell_type": "code",
   "execution_count": 92,
   "metadata": {},
   "outputs": [],
   "source": [
    "import numpy as np\n",
    "import pandas as pd\n",
    "import sklearn as sk\n",
    "import seaborn as sns\n",
    "import matplotlib.pyplot as plt\n",
    "\n",
    "from sklearn.linear_model import Lasso, Ridge\n",
    "from sklearn import preprocessing\n",
    "from sklearn import linear_model\n",
    "from sklearn.preprocessing import LabelEncoder\n",
    "from sklearn.preprocessing import MinMaxScaler\n",
    "from sklearn.model_selection import GridSearchCV\n",
    "from sklearn.model_selection import train_test_split\n",
    "from scipy.stats import pearsonr, spearmanr\n",
    "from sklearn.linear_model import LogisticRegression, LogisticRegressionCV\n",
    "import warnings\n",
    "warnings.filterwarnings(\"ignore\")\n",
    "\n",
    "from scipy.stats import pearsonr, spearmanr\n",
    "%matplotlib inline\n"
   ]
  },
  {
   "cell_type": "code",
   "execution_count": 93,
   "metadata": {},
   "outputs": [
    {
     "data": {
      "text/html": [
       "<div>\n",
       "<style scoped>\n",
       "    .dataframe tbody tr th:only-of-type {\n",
       "        vertical-align: middle;\n",
       "    }\n",
       "\n",
       "    .dataframe tbody tr th {\n",
       "        vertical-align: top;\n",
       "    }\n",
       "\n",
       "    .dataframe thead th {\n",
       "        text-align: right;\n",
       "    }\n",
       "</style>\n",
       "<table border=\"1\" class=\"dataframe\">\n",
       "  <thead>\n",
       "    <tr style=\"text-align: right;\">\n",
       "      <th></th>\n",
       "      <th>dateCrawled</th>\n",
       "      <th>name</th>\n",
       "      <th>seller</th>\n",
       "      <th>offerType</th>\n",
       "      <th>price</th>\n",
       "      <th>abtest</th>\n",
       "      <th>vehicleType</th>\n",
       "      <th>yearOfRegistration</th>\n",
       "      <th>gearbox</th>\n",
       "      <th>powerPS</th>\n",
       "      <th>model</th>\n",
       "      <th>kilometer</th>\n",
       "      <th>monthOfRegistration</th>\n",
       "      <th>fuelType</th>\n",
       "      <th>brand</th>\n",
       "      <th>notRepairedDamage</th>\n",
       "      <th>dateCreated</th>\n",
       "      <th>nrOfPictures</th>\n",
       "      <th>postalCode</th>\n",
       "      <th>lastSeen</th>\n",
       "    </tr>\n",
       "  </thead>\n",
       "  <tbody>\n",
       "    <tr>\n",
       "      <th>0</th>\n",
       "      <td>2016-03-24 11:52:17</td>\n",
       "      <td>Golf_3_1.6</td>\n",
       "      <td>privat</td>\n",
       "      <td>Angebot</td>\n",
       "      <td>480</td>\n",
       "      <td>test</td>\n",
       "      <td>NaN</td>\n",
       "      <td>1993</td>\n",
       "      <td>manuell</td>\n",
       "      <td>0</td>\n",
       "      <td>golf</td>\n",
       "      <td>150000</td>\n",
       "      <td>0</td>\n",
       "      <td>benzin</td>\n",
       "      <td>volkswagen</td>\n",
       "      <td>NaN</td>\n",
       "      <td>2016-03-24 00:00:00</td>\n",
       "      <td>0</td>\n",
       "      <td>70435</td>\n",
       "      <td>2016-04-07 03:16:57</td>\n",
       "    </tr>\n",
       "    <tr>\n",
       "      <th>1</th>\n",
       "      <td>2016-03-24 10:58:45</td>\n",
       "      <td>A5_Sportback_2.7_Tdi</td>\n",
       "      <td>privat</td>\n",
       "      <td>Angebot</td>\n",
       "      <td>18300</td>\n",
       "      <td>test</td>\n",
       "      <td>coupe</td>\n",
       "      <td>2011</td>\n",
       "      <td>manuell</td>\n",
       "      <td>190</td>\n",
       "      <td>NaN</td>\n",
       "      <td>125000</td>\n",
       "      <td>5</td>\n",
       "      <td>diesel</td>\n",
       "      <td>audi</td>\n",
       "      <td>ja</td>\n",
       "      <td>2016-03-24 00:00:00</td>\n",
       "      <td>0</td>\n",
       "      <td>66954</td>\n",
       "      <td>2016-04-07 01:46:50</td>\n",
       "    </tr>\n",
       "    <tr>\n",
       "      <th>2</th>\n",
       "      <td>2016-03-14 12:52:21</td>\n",
       "      <td>Jeep_Grand_Cherokee_\"Overland\"</td>\n",
       "      <td>privat</td>\n",
       "      <td>Angebot</td>\n",
       "      <td>9800</td>\n",
       "      <td>test</td>\n",
       "      <td>suv</td>\n",
       "      <td>2004</td>\n",
       "      <td>automatik</td>\n",
       "      <td>163</td>\n",
       "      <td>grand</td>\n",
       "      <td>125000</td>\n",
       "      <td>8</td>\n",
       "      <td>diesel</td>\n",
       "      <td>jeep</td>\n",
       "      <td>NaN</td>\n",
       "      <td>2016-03-14 00:00:00</td>\n",
       "      <td>0</td>\n",
       "      <td>90480</td>\n",
       "      <td>2016-04-05 12:47:46</td>\n",
       "    </tr>\n",
       "    <tr>\n",
       "      <th>3</th>\n",
       "      <td>2016-03-17 16:54:04</td>\n",
       "      <td>GOLF_4_1_4__3TÜRER</td>\n",
       "      <td>privat</td>\n",
       "      <td>Angebot</td>\n",
       "      <td>1500</td>\n",
       "      <td>test</td>\n",
       "      <td>kleinwagen</td>\n",
       "      <td>2001</td>\n",
       "      <td>manuell</td>\n",
       "      <td>75</td>\n",
       "      <td>golf</td>\n",
       "      <td>150000</td>\n",
       "      <td>6</td>\n",
       "      <td>benzin</td>\n",
       "      <td>volkswagen</td>\n",
       "      <td>nein</td>\n",
       "      <td>2016-03-17 00:00:00</td>\n",
       "      <td>0</td>\n",
       "      <td>91074</td>\n",
       "      <td>2016-03-17 17:40:17</td>\n",
       "    </tr>\n",
       "    <tr>\n",
       "      <th>4</th>\n",
       "      <td>2016-03-31 17:25:20</td>\n",
       "      <td>Skoda_Fabia_1.4_TDI_PD_Classic</td>\n",
       "      <td>privat</td>\n",
       "      <td>Angebot</td>\n",
       "      <td>3600</td>\n",
       "      <td>test</td>\n",
       "      <td>kleinwagen</td>\n",
       "      <td>2008</td>\n",
       "      <td>manuell</td>\n",
       "      <td>69</td>\n",
       "      <td>fabia</td>\n",
       "      <td>90000</td>\n",
       "      <td>7</td>\n",
       "      <td>diesel</td>\n",
       "      <td>skoda</td>\n",
       "      <td>nein</td>\n",
       "      <td>2016-03-31 00:00:00</td>\n",
       "      <td>0</td>\n",
       "      <td>60437</td>\n",
       "      <td>2016-04-06 10:17:21</td>\n",
       "    </tr>\n",
       "    <tr>\n",
       "      <th>5</th>\n",
       "      <td>2016-04-04 17:36:23</td>\n",
       "      <td>BMW_316i___e36_Limousine___Bastlerfahrzeug__Ex...</td>\n",
       "      <td>privat</td>\n",
       "      <td>Angebot</td>\n",
       "      <td>650</td>\n",
       "      <td>test</td>\n",
       "      <td>limousine</td>\n",
       "      <td>1995</td>\n",
       "      <td>manuell</td>\n",
       "      <td>102</td>\n",
       "      <td>3er</td>\n",
       "      <td>150000</td>\n",
       "      <td>10</td>\n",
       "      <td>benzin</td>\n",
       "      <td>bmw</td>\n",
       "      <td>ja</td>\n",
       "      <td>2016-04-04 00:00:00</td>\n",
       "      <td>0</td>\n",
       "      <td>33775</td>\n",
       "      <td>2016-04-06 19:17:07</td>\n",
       "    </tr>\n",
       "    <tr>\n",
       "      <th>6</th>\n",
       "      <td>2016-04-01 20:48:51</td>\n",
       "      <td>Peugeot_206_CC_110_Platinum</td>\n",
       "      <td>privat</td>\n",
       "      <td>Angebot</td>\n",
       "      <td>2200</td>\n",
       "      <td>test</td>\n",
       "      <td>cabrio</td>\n",
       "      <td>2004</td>\n",
       "      <td>manuell</td>\n",
       "      <td>109</td>\n",
       "      <td>2_reihe</td>\n",
       "      <td>150000</td>\n",
       "      <td>8</td>\n",
       "      <td>benzin</td>\n",
       "      <td>peugeot</td>\n",
       "      <td>nein</td>\n",
       "      <td>2016-04-01 00:00:00</td>\n",
       "      <td>0</td>\n",
       "      <td>67112</td>\n",
       "      <td>2016-04-05 18:18:39</td>\n",
       "    </tr>\n",
       "    <tr>\n",
       "      <th>7</th>\n",
       "      <td>2016-03-21 18:54:38</td>\n",
       "      <td>VW_Derby_Bj_80__Scheunenfund</td>\n",
       "      <td>privat</td>\n",
       "      <td>Angebot</td>\n",
       "      <td>0</td>\n",
       "      <td>test</td>\n",
       "      <td>limousine</td>\n",
       "      <td>1980</td>\n",
       "      <td>manuell</td>\n",
       "      <td>50</td>\n",
       "      <td>andere</td>\n",
       "      <td>40000</td>\n",
       "      <td>7</td>\n",
       "      <td>benzin</td>\n",
       "      <td>volkswagen</td>\n",
       "      <td>nein</td>\n",
       "      <td>2016-03-21 00:00:00</td>\n",
       "      <td>0</td>\n",
       "      <td>19348</td>\n",
       "      <td>2016-03-25 16:47:58</td>\n",
       "    </tr>\n",
       "    <tr>\n",
       "      <th>8</th>\n",
       "      <td>2016-04-04 23:42:13</td>\n",
       "      <td>Ford_C___Max_Titanium_1_0_L_EcoBoost</td>\n",
       "      <td>privat</td>\n",
       "      <td>Angebot</td>\n",
       "      <td>14500</td>\n",
       "      <td>control</td>\n",
       "      <td>bus</td>\n",
       "      <td>2014</td>\n",
       "      <td>manuell</td>\n",
       "      <td>125</td>\n",
       "      <td>c_max</td>\n",
       "      <td>30000</td>\n",
       "      <td>8</td>\n",
       "      <td>benzin</td>\n",
       "      <td>ford</td>\n",
       "      <td>NaN</td>\n",
       "      <td>2016-04-04 00:00:00</td>\n",
       "      <td>0</td>\n",
       "      <td>94505</td>\n",
       "      <td>2016-04-04 23:42:13</td>\n",
       "    </tr>\n",
       "    <tr>\n",
       "      <th>9</th>\n",
       "      <td>2016-03-17 10:53:50</td>\n",
       "      <td>VW_Golf_4_5_tuerig_zu_verkaufen_mit_Anhaengerk...</td>\n",
       "      <td>privat</td>\n",
       "      <td>Angebot</td>\n",
       "      <td>999</td>\n",
       "      <td>test</td>\n",
       "      <td>kleinwagen</td>\n",
       "      <td>1998</td>\n",
       "      <td>manuell</td>\n",
       "      <td>101</td>\n",
       "      <td>golf</td>\n",
       "      <td>150000</td>\n",
       "      <td>0</td>\n",
       "      <td>NaN</td>\n",
       "      <td>volkswagen</td>\n",
       "      <td>NaN</td>\n",
       "      <td>2016-03-17 00:00:00</td>\n",
       "      <td>0</td>\n",
       "      <td>27472</td>\n",
       "      <td>2016-03-31 17:17:06</td>\n",
       "    </tr>\n",
       "  </tbody>\n",
       "</table>\n",
       "</div>"
      ],
      "text/plain": [
       "           dateCrawled                                               name  \\\n",
       "0  2016-03-24 11:52:17                                         Golf_3_1.6   \n",
       "1  2016-03-24 10:58:45                               A5_Sportback_2.7_Tdi   \n",
       "2  2016-03-14 12:52:21                     Jeep_Grand_Cherokee_\"Overland\"   \n",
       "3  2016-03-17 16:54:04                                 GOLF_4_1_4__3TÜRER   \n",
       "4  2016-03-31 17:25:20                     Skoda_Fabia_1.4_TDI_PD_Classic   \n",
       "5  2016-04-04 17:36:23  BMW_316i___e36_Limousine___Bastlerfahrzeug__Ex...   \n",
       "6  2016-04-01 20:48:51                        Peugeot_206_CC_110_Platinum   \n",
       "7  2016-03-21 18:54:38                       VW_Derby_Bj_80__Scheunenfund   \n",
       "8  2016-04-04 23:42:13               Ford_C___Max_Titanium_1_0_L_EcoBoost   \n",
       "9  2016-03-17 10:53:50  VW_Golf_4_5_tuerig_zu_verkaufen_mit_Anhaengerk...   \n",
       "\n",
       "   seller offerType  price   abtest vehicleType  yearOfRegistration  \\\n",
       "0  privat   Angebot    480     test         NaN                1993   \n",
       "1  privat   Angebot  18300     test       coupe                2011   \n",
       "2  privat   Angebot   9800     test         suv                2004   \n",
       "3  privat   Angebot   1500     test  kleinwagen                2001   \n",
       "4  privat   Angebot   3600     test  kleinwagen                2008   \n",
       "5  privat   Angebot    650     test   limousine                1995   \n",
       "6  privat   Angebot   2200     test      cabrio                2004   \n",
       "7  privat   Angebot      0     test   limousine                1980   \n",
       "8  privat   Angebot  14500  control         bus                2014   \n",
       "9  privat   Angebot    999     test  kleinwagen                1998   \n",
       "\n",
       "     gearbox  powerPS    model  kilometer  monthOfRegistration fuelType  \\\n",
       "0    manuell        0     golf     150000                    0   benzin   \n",
       "1    manuell      190      NaN     125000                    5   diesel   \n",
       "2  automatik      163    grand     125000                    8   diesel   \n",
       "3    manuell       75     golf     150000                    6   benzin   \n",
       "4    manuell       69    fabia      90000                    7   diesel   \n",
       "5    manuell      102      3er     150000                   10   benzin   \n",
       "6    manuell      109  2_reihe     150000                    8   benzin   \n",
       "7    manuell       50   andere      40000                    7   benzin   \n",
       "8    manuell      125    c_max      30000                    8   benzin   \n",
       "9    manuell      101     golf     150000                    0      NaN   \n",
       "\n",
       "        brand notRepairedDamage          dateCreated  nrOfPictures  \\\n",
       "0  volkswagen               NaN  2016-03-24 00:00:00             0   \n",
       "1        audi                ja  2016-03-24 00:00:00             0   \n",
       "2        jeep               NaN  2016-03-14 00:00:00             0   \n",
       "3  volkswagen              nein  2016-03-17 00:00:00             0   \n",
       "4       skoda              nein  2016-03-31 00:00:00             0   \n",
       "5         bmw                ja  2016-04-04 00:00:00             0   \n",
       "6     peugeot              nein  2016-04-01 00:00:00             0   \n",
       "7  volkswagen              nein  2016-03-21 00:00:00             0   \n",
       "8        ford               NaN  2016-04-04 00:00:00             0   \n",
       "9  volkswagen               NaN  2016-03-17 00:00:00             0   \n",
       "\n",
       "   postalCode             lastSeen  \n",
       "0       70435  2016-04-07 03:16:57  \n",
       "1       66954  2016-04-07 01:46:50  \n",
       "2       90480  2016-04-05 12:47:46  \n",
       "3       91074  2016-03-17 17:40:17  \n",
       "4       60437  2016-04-06 10:17:21  \n",
       "5       33775  2016-04-06 19:17:07  \n",
       "6       67112  2016-04-05 18:18:39  \n",
       "7       19348  2016-03-25 16:47:58  \n",
       "8       94505  2016-04-04 23:42:13  \n",
       "9       27472  2016-03-31 17:17:06  "
      ]
     },
     "execution_count": 93,
     "metadata": {},
     "output_type": "execute_result"
    }
   ],
   "source": [
    "at = pd.read_csv('autos.csv', encoding = 'latin1')\n",
    "\n",
    "at.head(10)"
   ]
  },
  {
   "cell_type": "code",
   "execution_count": 94,
   "metadata": {},
   "outputs": [
    {
     "data": {
      "text/plain": [
       "dateCrawled            280500\n",
       "name                   233531\n",
       "seller                      2\n",
       "offerType                   2\n",
       "price                    5597\n",
       "abtest                      2\n",
       "vehicleType                 8\n",
       "yearOfRegistration        155\n",
       "gearbox                     2\n",
       "powerPS                   794\n",
       "model                     251\n",
       "kilometer                  13\n",
       "monthOfRegistration        13\n",
       "fuelType                    7\n",
       "brand                      40\n",
       "notRepairedDamage           2\n",
       "dateCreated               114\n",
       "nrOfPictures                1\n",
       "postalCode               8150\n",
       "lastSeen               182806\n",
       "dtype: int64"
      ]
     },
     "execution_count": 94,
     "metadata": {},
     "output_type": "execute_result"
    }
   ],
   "source": [
    "at.nunique()"
   ]
  },
  {
   "cell_type": "code",
   "execution_count": 95,
   "metadata": {},
   "outputs": [],
   "source": [
    "#удаляем столбец nrOfPictures т.к он содержит только значение 0\n",
    "at.drop(['nrOfPictures'], axis=1, inplace=True)"
   ]
  },
  {
   "cell_type": "markdown",
   "metadata": {},
   "source": [
    "### 1.\tИзучить набор данных. Создать описание набора данных на русском языке. Описать признаки, используемые в наборе данных (включить полученные описания в отчёт)."
   ]
  },
  {
   "cell_type": "markdown",
   "metadata": {},
   "source": [
    "1. dateCrawled -дата сканирования \n",
    "2. name - марка машины\n",
    "3. seller - продавец\n",
    "4. offerType - тип предложения \n",
    "5. price стоимость\n",
    "6. abtest тест\n",
    "7. vehicleType тип машины\n",
    "8. yearOfRegistration - год регистрации\n",
    "9. gearbox - коробка передач \n",
    "10. powerPS - мощность машины\n",
    "11. model - модель\n",
    "12. kilometer - пробег\n",
    "13. monthOfRegistration - месяц регистрации\n",
    "14. fuelType - тип топлива\n",
    "15. notRepairedDamage - не отремонтированный ущерб\n",
    "16. dateCreated - дата создания\n",
    "17. nrOfPictures - количество изображения \n",
    "18. postalCode - почтовый индекс\n",
    "19. lastSeen - последняя запись\n"
   ]
  },
  {
   "cell_type": "markdown",
   "metadata": {},
   "source": [
    "### 2.\tУдалите дубликаты строк в наборе данных; приведите размер набора данных до и после данной операции."
   ]
  },
  {
   "cell_type": "code",
   "execution_count": 96,
   "metadata": {},
   "outputs": [
    {
     "data": {
      "text/plain": [
       "(371528, 19)"
      ]
     },
     "execution_count": 96,
     "metadata": {},
     "output_type": "execute_result"
    }
   ],
   "source": [
    "at.shape # до удаления"
   ]
  },
  {
   "cell_type": "code",
   "execution_count": 97,
   "metadata": {},
   "outputs": [
    {
     "data": {
      "text/plain": [
       "(371524, 19)"
      ]
     },
     "execution_count": 97,
     "metadata": {},
     "output_type": "execute_result"
    }
   ],
   "source": [
    "at.drop_duplicates(keep = 'first', inplace = True)\n",
    "at.shape # после удаления "
   ]
  },
  {
   "cell_type": "markdown",
   "metadata": {},
   "source": [
    "### 3.\tВыполните масштабирование количественных признаков; Постройте диаграммы BoxPlot для признаков до и после масштабирования. Выберите способ масштабирования (например, нормализацию или стандартизацию);"
   ]
  },
  {
   "cell_type": "code",
   "execution_count": 98,
   "metadata": {},
   "outputs": [
    {
     "name": "stdout",
     "output_type": "stream",
     "text": [
      "Numerical: ['price', 'yearOfRegistration', 'powerPS', 'kilometer', 'monthOfRegistration']\n"
     ]
    }
   ],
   "source": [
    "#удаляем столбцы, которые не относятся ни к каким признакам \n",
    "at.drop(['name', 'dateCrawled', 'postalCode', 'lastSeen', 'dateCreated', 'model'],axis=1, inplace=True)\n",
    "\n",
    "#поиск количественных признаков \n",
    "numerical = [i for i in at.columns if at[i].dtype.name != 'object']\n",
    "print(f\"Numerical: {numerical}\")"
   ]
  },
  {
   "cell_type": "code",
   "execution_count": 99,
   "metadata": {},
   "outputs": [
    {
     "data": {
      "image/png": "[encoded data removed]",
      "text/plain": [
       "<Figure size 1080x720 with 1 Axes>"
      ]
     },
     "metadata": {
      "needs_background": "light"
     },
     "output_type": "display_data"
    }
   ],
   "source": [
    "plt.figure(figsize=(15,10))\n",
    "sns.boxplot(data=at[numerical])\n",
    "plt.show()#до масштабирования "
   ]
  },
  {
   "cell_type": "code",
   "execution_count": 100,
   "metadata": {},
   "outputs": [
    {
     "data": {
      "text/plain": [
       "<AxesSubplot:>"
      ]
     },
     "execution_count": 100,
     "metadata": {},
     "output_type": "execute_result"
    },
    {
     "data": {
      "image/png": "[encoded data removed]",
      "text/plain": [
       "<Figure size 1080x720 with 1 Axes>"
      ]
     },
     "metadata": {
      "needs_background": "light"
     },
     "output_type": "display_data"
    }
   ],
   "source": [
    "#масштабирование стандартизацией\n",
    "standart = preprocessing.MinMaxScaler()\n",
    "plt.figure(figsize=(15,10))\n",
    "\n",
    "at[numerical] = standart.fit_transform(at[numerical].values.astype(float))\n",
    "sns.boxplot(data=at[numerical])"
   ]
  },
  {
   "cell_type": "markdown",
   "metadata": {},
   "source": [
    "## 4.\tВыполните замену категориальных признаков; выберите и обоснуйте способ замены;"
   ]
  },
  {
   "cell_type": "code",
   "execution_count": 101,
   "metadata": {},
   "outputs": [
    {
     "name": "stdout",
     "output_type": "stream",
     "text": [
      "categorial:  ['seller', 'offerType', 'abtest', 'vehicleType', 'gearbox', 'fuelType', 'brand', 'notRepairedDamage']\n"
     ]
    }
   ],
   "source": [
    "#поиск категориальных признаков\n",
    "categorial = [i for i in at.columns if at[i].dtype.name == 'object']\n",
    "print('categorial: ', categorial)"
   ]
  },
  {
   "cell_type": "code",
   "execution_count": 102,
   "metadata": {},
   "outputs": [
    {
     "name": "stdout",
     "output_type": "stream",
     "text": [
      "binary:  ['seller', 'offerType', 'abtest']\n",
      "nonbinary:  ['vehicleType', 'gearbox', 'fuelType', 'brand', 'notRepairedDamage']\n"
     ]
    }
   ],
   "source": [
    "#Разделение категориальных признаков на бинарные и небинарные\n",
    "binary = [c for c in categorial if len(at[c].unique()) == 2]\n",
    "nonbinary = [c for c in categorial if len(at[c].unique()) > 2]\n",
    "print('binary: ', binary)\n",
    "print('nonbinary: ', nonbinary)"
   ]
  },
  {
   "cell_type": "code",
   "execution_count": 103,
   "metadata": {},
   "outputs": [],
   "source": [
    "at = at.dropna()\n",
    "#Замена бинарных категориальных признаков \n",
    "for columns in [columns for columns in categorial if len(at[columns].unique()) == 2]:\n",
    "    for i, unic_item in enumerate(at[columns].unique()):\n",
    "        at[columns] = at[columns].replace(to_replace=[unic_item], value=[i])"
   ]
  },
  {
   "cell_type": "code",
   "execution_count": 104,
   "metadata": {},
   "outputs": [
    {
     "data": {
      "text/html": [
       "<div>\n",
       "<style scoped>\n",
       "    .dataframe tbody tr th:only-of-type {\n",
       "        vertical-align: middle;\n",
       "    }\n",
       "\n",
       "    .dataframe tbody tr th {\n",
       "        vertical-align: top;\n",
       "    }\n",
       "\n",
       "    .dataframe thead th {\n",
       "        text-align: right;\n",
       "    }\n",
       "</style>\n",
       "<table border=\"1\" class=\"dataframe\">\n",
       "  <thead>\n",
       "    <tr style=\"text-align: right;\">\n",
       "      <th></th>\n",
       "      <th>seller</th>\n",
       "      <th>offerType</th>\n",
       "      <th>price</th>\n",
       "      <th>abtest</th>\n",
       "      <th>yearOfRegistration</th>\n",
       "      <th>powerPS</th>\n",
       "      <th>kilometer</th>\n",
       "      <th>monthOfRegistration</th>\n",
       "      <th>gearbox</th>\n",
       "      <th>notRepairedDamage</th>\n",
       "      <th>...</th>\n",
       "      <th>brand_seat</th>\n",
       "      <th>brand_skoda</th>\n",
       "      <th>brand_smart</th>\n",
       "      <th>brand_sonstige_autos</th>\n",
       "      <th>brand_subaru</th>\n",
       "      <th>brand_suzuki</th>\n",
       "      <th>brand_toyota</th>\n",
       "      <th>brand_trabant</th>\n",
       "      <th>brand_volkswagen</th>\n",
       "      <th>brand_volvo</th>\n",
       "    </tr>\n",
       "  </thead>\n",
       "  <tbody>\n",
       "    <tr>\n",
       "      <th>1</th>\n",
       "      <td>0</td>\n",
       "      <td>0</td>\n",
       "      <td>8.521602e-06</td>\n",
       "      <td>0</td>\n",
       "      <td>0.112346</td>\n",
       "      <td>0.00950</td>\n",
       "      <td>0.827586</td>\n",
       "      <td>0.416667</td>\n",
       "      <td>0</td>\n",
       "      <td>0</td>\n",
       "      <td>...</td>\n",
       "      <td>0</td>\n",
       "      <td>0</td>\n",
       "      <td>0</td>\n",
       "      <td>0</td>\n",
       "      <td>0</td>\n",
       "      <td>0</td>\n",
       "      <td>0</td>\n",
       "      <td>0</td>\n",
       "      <td>0</td>\n",
       "      <td>0</td>\n",
       "    </tr>\n",
       "    <tr>\n",
       "      <th>3</th>\n",
       "      <td>0</td>\n",
       "      <td>0</td>\n",
       "      <td>6.984919e-07</td>\n",
       "      <td>0</td>\n",
       "      <td>0.111235</td>\n",
       "      <td>0.00375</td>\n",
       "      <td>1.000000</td>\n",
       "      <td>0.500000</td>\n",
       "      <td>0</td>\n",
       "      <td>1</td>\n",
       "      <td>...</td>\n",
       "      <td>0</td>\n",
       "      <td>0</td>\n",
       "      <td>0</td>\n",
       "      <td>0</td>\n",
       "      <td>0</td>\n",
       "      <td>0</td>\n",
       "      <td>0</td>\n",
       "      <td>0</td>\n",
       "      <td>1</td>\n",
       "      <td>0</td>\n",
       "    </tr>\n",
       "    <tr>\n",
       "      <th>4</th>\n",
       "      <td>0</td>\n",
       "      <td>0</td>\n",
       "      <td>1.676381e-06</td>\n",
       "      <td>0</td>\n",
       "      <td>0.112012</td>\n",
       "      <td>0.00345</td>\n",
       "      <td>0.586207</td>\n",
       "      <td>0.583333</td>\n",
       "      <td>0</td>\n",
       "      <td>1</td>\n",
       "      <td>...</td>\n",
       "      <td>0</td>\n",
       "      <td>1</td>\n",
       "      <td>0</td>\n",
       "      <td>0</td>\n",
       "      <td>0</td>\n",
       "      <td>0</td>\n",
       "      <td>0</td>\n",
       "      <td>0</td>\n",
       "      <td>0</td>\n",
       "      <td>0</td>\n",
       "    </tr>\n",
       "    <tr>\n",
       "      <th>5</th>\n",
       "      <td>0</td>\n",
       "      <td>0</td>\n",
       "      <td>3.026798e-07</td>\n",
       "      <td>0</td>\n",
       "      <td>0.110568</td>\n",
       "      <td>0.00510</td>\n",
       "      <td>1.000000</td>\n",
       "      <td>0.833333</td>\n",
       "      <td>0</td>\n",
       "      <td>0</td>\n",
       "      <td>...</td>\n",
       "      <td>0</td>\n",
       "      <td>0</td>\n",
       "      <td>0</td>\n",
       "      <td>0</td>\n",
       "      <td>0</td>\n",
       "      <td>0</td>\n",
       "      <td>0</td>\n",
       "      <td>0</td>\n",
       "      <td>0</td>\n",
       "      <td>0</td>\n",
       "    </tr>\n",
       "    <tr>\n",
       "      <th>6</th>\n",
       "      <td>0</td>\n",
       "      <td>0</td>\n",
       "      <td>1.024455e-06</td>\n",
       "      <td>0</td>\n",
       "      <td>0.111568</td>\n",
       "      <td>0.00545</td>\n",
       "      <td>1.000000</td>\n",
       "      <td>0.666667</td>\n",
       "      <td>0</td>\n",
       "      <td>1</td>\n",
       "      <td>...</td>\n",
       "      <td>0</td>\n",
       "      <td>0</td>\n",
       "      <td>0</td>\n",
       "      <td>0</td>\n",
       "      <td>0</td>\n",
       "      <td>0</td>\n",
       "      <td>0</td>\n",
       "      <td>0</td>\n",
       "      <td>0</td>\n",
       "      <td>0</td>\n",
       "    </tr>\n",
       "  </tbody>\n",
       "</table>\n",
       "<p>5 rows × 65 columns</p>\n",
       "</div>"
      ],
      "text/plain": [
       "   seller  offerType         price  abtest  yearOfRegistration  powerPS  \\\n",
       "1       0          0  8.521602e-06       0            0.112346  0.00950   \n",
       "3       0          0  6.984919e-07       0            0.111235  0.00375   \n",
       "4       0          0  1.676381e-06       0            0.112012  0.00345   \n",
       "5       0          0  3.026798e-07       0            0.110568  0.00510   \n",
       "6       0          0  1.024455e-06       0            0.111568  0.00545   \n",
       "\n",
       "   kilometer  monthOfRegistration  gearbox  notRepairedDamage  ...  \\\n",
       "1   0.827586             0.416667        0                  0  ...   \n",
       "3   1.000000             0.500000        0                  1  ...   \n",
       "4   0.586207             0.583333        0                  1  ...   \n",
       "5   1.000000             0.833333        0                  0  ...   \n",
       "6   1.000000             0.666667        0                  1  ...   \n",
       "\n",
       "   brand_seat  brand_skoda  brand_smart  brand_sonstige_autos  brand_subaru  \\\n",
       "1           0            0            0                     0             0   \n",
       "3           0            0            0                     0             0   \n",
       "4           0            1            0                     0             0   \n",
       "5           0            0            0                     0             0   \n",
       "6           0            0            0                     0             0   \n",
       "\n",
       "   brand_suzuki  brand_toyota  brand_trabant  brand_volkswagen  brand_volvo  \n",
       "1             0             0              0                 0            0  \n",
       "3             0             0              0                 1            0  \n",
       "4             0             0              0                 0            0  \n",
       "5             0             0              0                 0            0  \n",
       "6             0             0              0                 0            0  \n",
       "\n",
       "[5 rows x 65 columns]"
      ]
     },
     "execution_count": 104,
     "metadata": {},
     "output_type": "execute_result"
    }
   ],
   "source": [
    "at_nonbinary = pd.get_dummies(at[nonbinary])#Замена небинарных категориальных признаков\n",
    "at.drop(nonbinary, axis=1, inplace=True)#удаляем старые столбцы\n",
    "at = pd.concat([at, at_nonbinary], axis=1)#добавляем новые\n",
    "at.head()"
   ]
  },
  {
   "cell_type": "markdown",
   "metadata": {},
   "source": [
    "## 5.Оцените корреляцию между признаков и удалите те признаки, которые коррелируют с наибольшим числом других"
   ]
  },
  {
   "cell_type": "code",
   "execution_count": 105,
   "metadata": {},
   "outputs": [
    {
     "name": "stdout",
     "output_type": "stream",
     "text": [
      "                      seller  offerType     price    abtest  \\\n",
      "seller              1.000000  -0.000011 -0.000008  0.000105   \n",
      "offerType          -0.000011   1.000000 -0.000015  0.000149   \n",
      "price              -0.000008  -0.000015  1.000000 -0.001821   \n",
      "abtest              0.000105   0.000149 -0.001821  1.000000   \n",
      "yearOfRegistration -0.006792  -0.000106 -0.001951  0.001596   \n",
      "...                      ...        ...       ...       ...   \n",
      "brand_suzuki       -0.000220  -0.000311 -0.000226  0.001047   \n",
      "brand_toyota       -0.000326  -0.000461 -0.000318 -0.001161   \n",
      "brand_trabant      -0.000079  -0.000112 -0.000100 -0.002366   \n",
      "brand_volkswagen   -0.001391  -0.001968 -0.001269 -0.001729   \n",
      "brand_volvo        -0.000271  -0.000384 -0.000262  0.002721   \n",
      "\n",
      "                    yearOfRegistration   powerPS  kilometer  \\\n",
      "seller                       -0.006792 -0.001002  -0.000953   \n",
      "offerType                    -0.000106 -0.001671   0.002514   \n",
      "price                        -0.001951  0.010033   0.000150   \n",
      "abtest                        0.001596  0.001291   0.003833   \n",
      "yearOfRegistration            1.000000  0.090962  -0.364623   \n",
      "...                                ...       ...        ...   \n",
      "brand_suzuki                  0.007552 -0.020629  -0.037172   \n",
      "brand_toyota                  0.020308 -0.014554  -0.023503   \n",
      "brand_trabant                -0.086072 -0.019238  -0.048999   \n",
      "brand_volkswagen             -0.028054 -0.064109   0.030609   \n",
      "brand_volvo                  -0.026456  0.013004   0.033998   \n",
      "\n",
      "                    monthOfRegistration   gearbox  notRepairedDamage  ...  \\\n",
      "seller                         0.002226  0.001712           0.000957  ...   \n",
      "offerType                     -0.000740 -0.002138          -0.001741  ...   \n",
      "price                         -0.002426 -0.000234          -0.005270  ...   \n",
      "abtest                        -0.000097 -0.000716          -0.001467  ...   \n",
      "yearOfRegistration             0.037286  0.108662           0.139436  ...   \n",
      "...                                 ...       ...                ...  ...   \n",
      "brand_suzuki                  -0.002046 -0.028514          -0.003146  ...   \n",
      "brand_toyota                   0.002853 -0.026505           0.010556  ...   \n",
      "brand_trabant                 -0.007012 -0.015433          -0.007183  ...   \n",
      "brand_volkswagen              -0.000740 -0.101679           0.014512  ...   \n",
      "brand_volvo                   -0.003757  0.020413          -0.008707  ...   \n",
      "\n",
      "                    brand_seat  brand_skoda  brand_smart  \\\n",
      "seller               -0.000380    -0.000361    -0.000311   \n",
      "offerType            -0.000538    -0.000510    -0.000439   \n",
      "price                -0.000390    -0.000309    -0.000348   \n",
      "abtest               -0.002080     0.000502    -0.004201   \n",
      "yearOfRegistration    0.037217     0.077066     0.039816   \n",
      "...                        ...          ...          ...   \n",
      "brand_suzuki         -0.011215    -0.010633    -0.009164   \n",
      "brand_toyota         -0.016601    -0.015738    -0.013564   \n",
      "brand_trabant        -0.004036    -0.003826    -0.003298   \n",
      "brand_volkswagen     -0.070916    -0.067231    -0.057946   \n",
      "brand_volvo          -0.013830    -0.013112    -0.011301   \n",
      "\n",
      "                    brand_sonstige_autos  brand_subaru  brand_suzuki  \\\n",
      "seller                         -0.000246     -0.000125     -0.000220   \n",
      "offerType                      -0.000348     -0.000177     -0.000311   \n",
      "price                           0.022664     -0.000129     -0.000226   \n",
      "abtest                         -0.000454      0.003151      0.001047   \n",
      "yearOfRegistration             -0.115371     -0.012323      0.007552   \n",
      "...                                  ...           ...           ...   \n",
      "brand_suzuki                   -0.007265     -0.003689      1.000000   \n",
      "brand_toyota                   -0.010753     -0.005461     -0.009605   \n",
      "brand_trabant                  -0.002614     -0.001328     -0.002335   \n",
      "brand_volkswagen               -0.045935     -0.023329     -0.041033   \n",
      "brand_volvo                    -0.008959     -0.004550     -0.008003   \n",
      "\n",
      "                    brand_toyota  brand_trabant  brand_volkswagen  brand_volvo  \n",
      "seller                 -0.000326      -0.000079         -0.001391    -0.000271  \n",
      "offerType              -0.000461      -0.000112         -0.001968    -0.000384  \n",
      "price                  -0.000318      -0.000100         -0.001269    -0.000262  \n",
      "abtest                 -0.001161      -0.002366         -0.001729     0.002721  \n",
      "yearOfRegistration      0.020308      -0.086072         -0.028054    -0.026456  \n",
      "...                          ...            ...               ...          ...  \n",
      "brand_suzuki           -0.009605      -0.002335         -0.041033    -0.008003  \n",
      "brand_toyota            1.000000      -0.003456         -0.060736    -0.011845  \n",
      "brand_trabant          -0.003456       1.000000         -0.014765    -0.002880  \n",
      "brand_volkswagen       -0.060736      -0.014765          1.000000    -0.050601  \n",
      "brand_volvo            -0.011845      -0.002880         -0.050601     1.000000  \n",
      "\n",
      "[65 rows x 65 columns]\n"
     ]
    },
    {
     "data": {
      "image/png": "[encoded data removed]",
      "text/plain": [
       "<Figure size 432x288 with 2 Axes>"
      ]
     },
     "metadata": {
      "needs_background": "light"
     },
     "output_type": "display_data"
    }
   ],
   "source": [
    "corr_matrix = at.corr()\n",
    "sns.heatmap(corr_matrix);\n",
    "print(corr_matrix)"
   ]
  },
  {
   "cell_type": "markdown",
   "metadata": {},
   "source": [
    "## 6.\tЗаполните пропущенные значения в данных;"
   ]
  },
  {
   "cell_type": "code",
   "execution_count": 106,
   "metadata": {},
   "outputs": [
    {
     "data": {
      "text/plain": [
       "seller                0\n",
       "offerType             0\n",
       "price                 0\n",
       "abtest                0\n",
       "yearOfRegistration    0\n",
       "                     ..\n",
       "brand_suzuki          0\n",
       "brand_toyota          0\n",
       "brand_trabant         0\n",
       "brand_volkswagen      0\n",
       "brand_volvo           0\n",
       "Length: 65, dtype: int64"
      ]
     },
     "execution_count": 106,
     "metadata": {},
     "output_type": "execute_result"
    }
   ],
   "source": [
    "at.isnull().sum()"
   ]
  },
  {
   "cell_type": "code",
   "execution_count": 107,
   "metadata": {},
   "outputs": [
    {
     "name": "stdout",
     "output_type": "stream",
     "text": [
      "<class 'pandas.core.frame.DataFrame'>\n",
      "Int64Index: 268008 entries, 1 to 371527\n",
      "Data columns (total 65 columns):\n",
      " #   Column                  Non-Null Count   Dtype  \n",
      "---  ------                  --------------   -----  \n",
      " 0   seller                  268008 non-null  int64  \n",
      " 1   offerType               268008 non-null  int64  \n",
      " 2   price                   268008 non-null  float64\n",
      " 3   abtest                  268008 non-null  int64  \n",
      " 4   yearOfRegistration      268008 non-null  float64\n",
      " 5   powerPS                 268008 non-null  float64\n",
      " 6   kilometer               268008 non-null  float64\n",
      " 7   monthOfRegistration     268008 non-null  float64\n",
      " 8   gearbox                 268008 non-null  int64  \n",
      " 9   notRepairedDamage       268008 non-null  int64  \n",
      " 10  vehicleType_andere      268008 non-null  uint8  \n",
      " 11  vehicleType_bus         268008 non-null  uint8  \n",
      " 12  vehicleType_cabrio      268008 non-null  uint8  \n",
      " 13  vehicleType_coupe       268008 non-null  uint8  \n",
      " 14  vehicleType_kleinwagen  268008 non-null  uint8  \n",
      " 15  vehicleType_kombi       268008 non-null  uint8  \n",
      " 16  vehicleType_limousine   268008 non-null  uint8  \n",
      " 17  vehicleType_suv         268008 non-null  uint8  \n",
      " 18  fuelType_andere         268008 non-null  uint8  \n",
      " 19  fuelType_benzin         268008 non-null  uint8  \n",
      " 20  fuelType_cng            268008 non-null  uint8  \n",
      " 21  fuelType_diesel         268008 non-null  uint8  \n",
      " 22  fuelType_elektro        268008 non-null  uint8  \n",
      " 23  fuelType_hybrid         268008 non-null  uint8  \n",
      " 24  fuelType_lpg            268008 non-null  uint8  \n",
      " 25  brand_alfa_romeo        268008 non-null  uint8  \n",
      " 26  brand_audi              268008 non-null  uint8  \n",
      " 27  brand_bmw               268008 non-null  uint8  \n",
      " 28  brand_chevrolet         268008 non-null  uint8  \n",
      " 29  brand_chrysler          268008 non-null  uint8  \n",
      " 30  brand_citroen           268008 non-null  uint8  \n",
      " 31  brand_dacia             268008 non-null  uint8  \n",
      " 32  brand_daewoo            268008 non-null  uint8  \n",
      " 33  brand_daihatsu          268008 non-null  uint8  \n",
      " 34  brand_fiat              268008 non-null  uint8  \n",
      " 35  brand_ford              268008 non-null  uint8  \n",
      " 36  brand_honda             268008 non-null  uint8  \n",
      " 37  brand_hyundai           268008 non-null  uint8  \n",
      " 38  brand_jaguar            268008 non-null  uint8  \n",
      " 39  brand_jeep              268008 non-null  uint8  \n",
      " 40  brand_kia               268008 non-null  uint8  \n",
      " 41  brand_lada              268008 non-null  uint8  \n",
      " 42  brand_lancia            268008 non-null  uint8  \n",
      " 43  brand_land_rover        268008 non-null  uint8  \n",
      " 44  brand_mazda             268008 non-null  uint8  \n",
      " 45  brand_mercedes_benz     268008 non-null  uint8  \n",
      " 46  brand_mini              268008 non-null  uint8  \n",
      " 47  brand_mitsubishi        268008 non-null  uint8  \n",
      " 48  brand_nissan            268008 non-null  uint8  \n",
      " 49  brand_opel              268008 non-null  uint8  \n",
      " 50  brand_peugeot           268008 non-null  uint8  \n",
      " 51  brand_porsche           268008 non-null  uint8  \n",
      " 52  brand_renault           268008 non-null  uint8  \n",
      " 53  brand_rover             268008 non-null  uint8  \n",
      " 54  brand_saab              268008 non-null  uint8  \n",
      " 55  brand_seat              268008 non-null  uint8  \n",
      " 56  brand_skoda             268008 non-null  uint8  \n",
      " 57  brand_smart             268008 non-null  uint8  \n",
      " 58  brand_sonstige_autos    268008 non-null  uint8  \n",
      " 59  brand_subaru            268008 non-null  uint8  \n",
      " 60  brand_suzuki            268008 non-null  uint8  \n",
      " 61  brand_toyota            268008 non-null  uint8  \n",
      " 62  brand_trabant           268008 non-null  uint8  \n",
      " 63  brand_volkswagen        268008 non-null  uint8  \n",
      " 64  brand_volvo             268008 non-null  uint8  \n",
      "dtypes: float64(5), int64(5), uint8(55)\n",
      "memory usage: 36.5 MB\n"
     ]
    }
   ],
   "source": [
    "at.info()"
   ]
  },
  {
   "cell_type": "markdown",
   "metadata": {},
   "source": [
    "## 7.\tРешите поставленную задачу регрессии в соответствии с заданием. При подборе параметров метода принятия решения (метода регрессии) используйте перекрёстную проверку (изучите возможные для изменения параметры метода регрессии).  Вычислите точность решения задачи, вычислив разницу между реальным значением и предсказанным. Вычислите коэффициент корреляции (Пирсона, Спирмена) между реальным значением и предсказанным с учётом p-value. "
   ]
  },
  {
   "cell_type": "markdown",
   "metadata": {},
   "source": [
    "### 2 – линейная регрессия, LASSO регуляризатор;"
   ]
  },
  {
   "cell_type": "code",
   "execution_count": 108,
   "metadata": {},
   "outputs": [],
   "source": [
    "X, y = at.drop(['price'], axis=1), at['price']\n",
    "X_train, X_test, y_train, y_test = train_test_split(X, y, test_size=0.3, random_state=123)#разбиваем массив на обучающий подмножества"
   ]
  },
  {
   "cell_type": "code",
   "execution_count": 109,
   "metadata": {},
   "outputs": [
    {
     "name": "stdout",
     "output_type": "stream",
     "text": [
      "Best alpha: 0.0\n"
     ]
    }
   ],
   "source": [
    "lasso = Lasso()\n",
    "params = {'alpha': np.arange(0, 4, 0.1)}\n",
    "lasso_grid = GridSearchCV(lasso, params)\n",
    "lasso_grid.fit(X_train, y_train)#обучаем\n",
    "best_alpha = lasso_grid.best_estimator_.alpha #поиск лучшего значения\n",
    "print('Best alpha:', best_alpha)"
   ]
  },
  {
   "cell_type": "code",
   "execution_count": 110,
   "metadata": {},
   "outputs": [
    {
     "name": "stdout",
     "output_type": "stream",
     "text": [
      "corr Pearson:  0.004765522142233299\n",
      "corr Spearman:  0.7445551283527948\n",
      "P_VALUSE_P : 0.17660876168524245\n",
      "P_VALUSE_S : 0.0\n",
      "177550    1.848350e-06\n",
      "8164      6.414397e-07\n",
      "5300      4.269065e-07\n",
      "199977    5.586835e-07\n",
      "196815   -9.299750e-07\n",
      "174651    7.373823e-06\n",
      "45849    -7.160788e-07\n",
      "203652    2.127882e-06\n",
      "72317    -1.687553e-06\n",
      "326486   -1.490959e-07\n",
      "300497    2.256472e-06\n",
      "183333    1.704335e-06\n",
      "128759    6.050288e-07\n",
      "12081    -2.966057e-07\n",
      "75046    -1.006840e-06\n",
      "Name: price, dtype: float64\n"
     ]
    }
   ],
   "source": [
    "lasso = Lasso(alpha=best_alpha)\n",
    "lasso.fit(X_train,y_train)\n",
    "pred_las = lasso.predict(X_test)\n",
    "P, p_value_P = pearsonr(pred_las, y_test)\n",
    "print(\"corr Pearson: \", P)\n",
    "S, p_value_S = spearmanr(pred_las, y_test)\n",
    "print(\"corr Spearman: \", S)\n",
    "print(\"P_VALUSE_P :\", p_value_P)\n",
    "print(\"P_VALUSE_S :\", p_value_S)\n",
    "print(pred_las[:15] - y_test[:15])"
   ]
  },
  {
   "cell_type": "markdown",
   "metadata": {},
   "source": [
    "### 3 – линейная регрессия, RIDGE регуляризатор;"
   ]
  },
  {
   "cell_type": "code",
   "execution_count": 111,
   "metadata": {},
   "outputs": [
    {
     "name": "stdout",
     "output_type": "stream",
     "text": [
      "best alpha: 0.1\n"
     ]
    }
   ],
   "source": [
    "ridge = Ridge()\n",
    "params = {'alpha': np.arange(0, 4, 0.1)}\n",
    "ridge_grid = GridSearchCV(ridge, params)\n",
    "ridge_grid.fit(X_train, y_train)\n",
    "best_alpha = ridge_grid.best_estimator_.alpha\n",
    "print('best alpha:', best_alpha)"
   ]
  },
  {
   "cell_type": "code",
   "execution_count": 112,
   "metadata": {},
   "outputs": [
    {
     "name": "stdout",
     "output_type": "stream",
     "text": [
      "corr Pearson:  0.004468441451237886\n",
      "corr Spearman:  0.7217017470085723\n",
      "P_VALUSE_P : 0.20514381557999045\n",
      "P_VALUSE_S : 0.0\n",
      "177550    1.699509e-06\n",
      "8164      4.841207e-07\n",
      "5300      2.728085e-07\n",
      "199977    5.756119e-07\n",
      "196815   -7.847303e-07\n",
      "174651    7.470019e-06\n",
      "45849    -5.906485e-07\n",
      "203652    2.319097e-06\n",
      "72317    -1.675308e-06\n",
      "326486   -3.984765e-07\n",
      "300497    2.637234e-06\n",
      "183333    1.791690e-06\n",
      "128759    5.531124e-07\n",
      "12081    -2.231846e-07\n",
      "75046    -1.023387e-06\n",
      "Name: price, dtype: float64\n"
     ]
    }
   ],
   "source": [
    "ridge = Ridge(alpha=best_alpha)\n",
    "ridge.fit(X_train, y_train)\n",
    "pred_rid = ridge.predict(X_test)\n",
    "P, p_value_P = pearsonr(pred_rid, y_test)\n",
    "print(\"corr Pearson: \", P)\n",
    "S, p_value_S = spearmanr(pred_rid, y_test)\n",
    "print(\"corr Spearman: \", S)\n",
    "print(\"P_VALUSE_P :\", p_value_P)\n",
    "print(\"P_VALUSE_S :\", p_value_S)\n",
    "print(pred_rid[:15] - y_test[:15])"
   ]
  },
  {
   "cell_type": "code",
   "execution_count": null,
   "metadata": {},
   "outputs": [],
   "source": []
  }
 ],
 "metadata": {
  "kernelspec": {
   "display_name": "Python 3",
   "language": "python",
   "name": "python3"
  },
  "language_info": {
   "codemirror_mode": {
    "name": "ipython",
    "version": 3
   },
   "file_extension": ".py",
   "mimetype": "text/x-python",
   "name": "python",
   "nbconvert_exporter": "python",
   "pygments_lexer": "ipython3",
   "version": "3.8.7"
  }
 },
 "nbformat": 4,
 "nbformat_minor": 4
}
